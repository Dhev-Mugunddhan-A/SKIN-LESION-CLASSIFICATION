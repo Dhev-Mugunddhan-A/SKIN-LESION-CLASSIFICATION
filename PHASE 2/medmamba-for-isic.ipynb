{
 "cells": [
  {
   "cell_type": "code",
   "execution_count": 1,
   "id": "d7d23fb2",
   "metadata": {
    "_cell_guid": "b1076dfc-b9ad-4769-8c92-a6c4dae69d19",
    "_uuid": "8f2839f25d086af736a60e9eeb907d3b93b6e0e5",
    "execution": {
     "iopub.execute_input": "2025-03-10T10:36:41.879977Z",
     "iopub.status.busy": "2025-03-10T10:36:41.879737Z",
     "iopub.status.idle": "2025-03-10T10:36:41.883921Z",
     "shell.execute_reply": "2025-03-10T10:36:41.883277Z"
    },
    "papermill": {
     "duration": 0.019313,
     "end_time": "2025-03-10T10:36:41.885129",
     "exception": false,
     "start_time": "2025-03-10T10:36:41.865816",
     "status": "completed"
    },
    "tags": []
   },
   "outputs": [],
   "source": [
    "# This Python 3 environment comes with many helpful analytics libraries installed\n",
    "# It is defined by the kaggle/python Docker image: https://github.com/kaggle/docker-python\n",
    "# For example, here's several helpful packages to load\n",
    "\n",
    "# import numpy as np # linear algebra\n",
    "# import pandas as pd # data processing, CSV file I/O (e.g. pd.read_csv)\n",
    "\n",
    "# # Input data files are available in the read-only \"../input/\" directory\n",
    "# # For example, running this (by clicking run or pressing Shift+Enter) will list all files under the input directory\n",
    "\n",
    "# import os\n",
    "# current_dir = \"/kaggle/input/isic-2024-challenge\"\n",
    "\n",
    "# # List all files in the current directory (excluding subdirectories)\n",
    "# files_in_dir = [f for f in os.listdir(current_dir)]\n",
    "# for file in files_in_dir:\n",
    "#     print(file)\n",
    "\n",
    "    \n",
    "# You can write up to 20GB to the current directory (/kaggle/working/) that gets preserved as output when you create a version using \"Save & Run All\" \n",
    "# You can also write temporary files to /kaggle/temp/, but they won't be saved outside of the current session"
   ]
  },
  {
   "cell_type": "markdown",
   "id": "8d40c809",
   "metadata": {
    "papermill": {
     "duration": 0.011751,
     "end_time": "2025-03-10T10:36:41.908930",
     "exception": false,
     "start_time": "2025-03-10T10:36:41.897179",
     "status": "completed"
    },
    "tags": []
   },
   "source": [
    "## Libraries and dependencies"
   ]
  },
  {
   "cell_type": "code",
   "execution_count": 2,
   "id": "87a1b034",
   "metadata": {
    "execution": {
     "iopub.execute_input": "2025-03-10T10:36:41.933423Z",
     "iopub.status.busy": "2025-03-10T10:36:41.933221Z",
     "iopub.status.idle": "2025-03-10T10:39:26.592788Z",
     "shell.execute_reply": "2025-03-10T10:39:26.591612Z"
    },
    "papermill": {
     "duration": 164.673605,
     "end_time": "2025-03-10T10:39:26.594304",
     "exception": false,
     "start_time": "2025-03-10T10:36:41.920699",
     "status": "completed"
    },
    "tags": []
   },
   "outputs": [
    {
     "name": "stdout",
     "output_type": "stream",
     "text": [
      "Looking in indexes: https://pypi.org/simple, https://download.pytorch.org/whl/cu117\r\n",
      "Collecting torch==1.13.0\r\n",
      "  Downloading https://download.pytorch.org/whl/cu117/torch-1.13.0%2Bcu117-cp310-cp310-linux_x86_64.whl (1806.8 MB)\r\n",
      "\u001b[2K     \u001b[90m━━━━━━━━━━━━━━━━━━━━━━━━━━━━━━━━━━━━━━━━\u001b[0m \u001b[32m1.8/1.8 GB\u001b[0m \u001b[31m562.9 kB/s\u001b[0m eta \u001b[36m0:00:00\u001b[0m\r\n",
      "\u001b[?25hCollecting torchvision==0.14.0\r\n",
      "  Downloading https://download.pytorch.org/whl/cu117/torchvision-0.14.0%2Bcu117-cp310-cp310-linux_x86_64.whl (24.3 MB)\r\n",
      "\u001b[2K     \u001b[90m━━━━━━━━━━━━━━━━━━━━━━━━━━━━━━━━━━━━━━━━\u001b[0m \u001b[32m24.3/24.3 MB\u001b[0m \u001b[31m75.9 MB/s\u001b[0m eta \u001b[36m0:00:00\u001b[0m\r\n",
      "\u001b[?25hCollecting torchaudio==0.13.0\r\n",
      "  Downloading https://download.pytorch.org/whl/cu117/torchaudio-0.13.0%2Bcu117-cp310-cp310-linux_x86_64.whl (4.2 MB)\r\n",
      "\u001b[2K     \u001b[90m━━━━━━━━━━━━━━━━━━━━━━━━━━━━━━━━━━━━━━━━\u001b[0m \u001b[32m4.2/4.2 MB\u001b[0m \u001b[31m19.5 MB/s\u001b[0m eta \u001b[36m0:00:00\u001b[0m\r\n",
      "\u001b[?25hRequirement already satisfied: typing-extensions in /usr/local/lib/python3.10/dist-packages (from torch==1.13.0) (4.12.2)\r\n",
      "Requirement already satisfied: numpy in /usr/local/lib/python3.10/dist-packages (from torchvision==0.14.0) (1.26.4)\r\n",
      "Requirement already satisfied: requests in /usr/local/lib/python3.10/dist-packages (from torchvision==0.14.0) (2.32.3)\r\n",
      "Requirement already satisfied: pillow!=8.3.*,>=5.3.0 in /usr/local/lib/python3.10/dist-packages (from torchvision==0.14.0) (11.0.0)\r\n",
      "Requirement already satisfied: mkl_fft in /usr/local/lib/python3.10/dist-packages (from numpy->torchvision==0.14.0) (1.3.8)\r\n",
      "Requirement already satisfied: mkl_random in /usr/local/lib/python3.10/dist-packages (from numpy->torchvision==0.14.0) (1.2.4)\r\n",
      "Requirement already satisfied: mkl_umath in /usr/local/lib/python3.10/dist-packages (from numpy->torchvision==0.14.0) (0.1.1)\r\n",
      "Requirement already satisfied: mkl in /usr/local/lib/python3.10/dist-packages (from numpy->torchvision==0.14.0) (2025.0.1)\r\n",
      "Requirement already satisfied: tbb4py in /usr/local/lib/python3.10/dist-packages (from numpy->torchvision==0.14.0) (2022.0.0)\r\n",
      "Requirement already satisfied: mkl-service in /usr/local/lib/python3.10/dist-packages (from numpy->torchvision==0.14.0) (2.4.1)\r\n",
      "Requirement already satisfied: charset-normalizer<4,>=2 in /usr/local/lib/python3.10/dist-packages (from requests->torchvision==0.14.0) (3.4.1)\r\n",
      "Requirement already satisfied: idna<4,>=2.5 in /usr/local/lib/python3.10/dist-packages (from requests->torchvision==0.14.0) (3.10)\r\n",
      "Requirement already satisfied: urllib3<3,>=1.21.1 in /usr/local/lib/python3.10/dist-packages (from requests->torchvision==0.14.0) (2.3.0)\r\n",
      "Requirement already satisfied: certifi>=2017.4.17 in /usr/local/lib/python3.10/dist-packages (from requests->torchvision==0.14.0) (2025.1.31)\r\n",
      "Requirement already satisfied: intel-openmp>=2024 in /usr/local/lib/python3.10/dist-packages (from mkl->numpy->torchvision==0.14.0) (2024.2.0)\r\n",
      "Requirement already satisfied: tbb==2022.* in /usr/local/lib/python3.10/dist-packages (from mkl->numpy->torchvision==0.14.0) (2022.0.0)\r\n",
      "Requirement already satisfied: tcmlib==1.* in /usr/local/lib/python3.10/dist-packages (from tbb==2022.*->mkl->numpy->torchvision==0.14.0) (1.2.0)\r\n",
      "Requirement already satisfied: intel-cmplr-lib-rt in /usr/local/lib/python3.10/dist-packages (from mkl_umath->numpy->torchvision==0.14.0) (2024.2.0)\r\n",
      "Requirement already satisfied: intel-cmplr-lib-ur==2024.2.0 in /usr/local/lib/python3.10/dist-packages (from intel-openmp>=2024->mkl->numpy->torchvision==0.14.0) (2024.2.0)\r\n",
      "Installing collected packages: torch, torchaudio, torchvision\r\n",
      "  Attempting uninstall: torch\r\n",
      "    Found existing installation: torch 2.5.1+cu121\r\n",
      "    Uninstalling torch-2.5.1+cu121:\r\n",
      "      Successfully uninstalled torch-2.5.1+cu121\r\n",
      "  Attempting uninstall: torchaudio\r\n",
      "    Found existing installation: torchaudio 2.5.1+cu121\r\n",
      "    Uninstalling torchaudio-2.5.1+cu121:\r\n",
      "      Successfully uninstalled torchaudio-2.5.1+cu121\r\n",
      "  Attempting uninstall: torchvision\r\n",
      "    Found existing installation: torchvision 0.20.1+cu121\r\n",
      "    Uninstalling torchvision-0.20.1+cu121:\r\n",
      "      Successfully uninstalled torchvision-0.20.1+cu121\r\n",
      "\u001b[31mERROR: pip's dependency resolver does not currently take into account all the packages that are installed. This behaviour is the source of the following dependency conflicts.\r\n",
      "pytorch-lightning 2.5.0.post0 requires torch>=2.1.0, but you have torch 1.13.0+cu117 which is incompatible.\r\n",
      "torchmetrics 1.6.1 requires torch>=2.0.0, but you have torch 1.13.0+cu117 which is incompatible.\u001b[0m\u001b[31m\r\n",
      "\u001b[0mSuccessfully installed torch-1.13.0+cu117 torchaudio-0.13.0+cu117 torchvision-0.14.0+cu117\r\n",
      "Requirement already satisfied: packaging in /usr/local/lib/python3.10/dist-packages (24.2)\r\n",
      "Collecting timm==0.4.12\r\n",
      "  Downloading timm-0.4.12-py3-none-any.whl.metadata (30 kB)\r\n",
      "Requirement already satisfied: torch>=1.4 in /usr/local/lib/python3.10/dist-packages (from timm==0.4.12) (1.13.0+cu117)\r\n",
      "Requirement already satisfied: torchvision in /usr/local/lib/python3.10/dist-packages (from timm==0.4.12) (0.14.0+cu117)\r\n",
      "Requirement already satisfied: typing-extensions in /usr/local/lib/python3.10/dist-packages (from torch>=1.4->timm==0.4.12) (4.12.2)\r\n",
      "Requirement already satisfied: numpy in /usr/local/lib/python3.10/dist-packages (from torchvision->timm==0.4.12) (1.26.4)\r\n",
      "Requirement already satisfied: requests in /usr/local/lib/python3.10/dist-packages (from torchvision->timm==0.4.12) (2.32.3)\r\n",
      "Requirement already satisfied: pillow!=8.3.*,>=5.3.0 in /usr/local/lib/python3.10/dist-packages (from torchvision->timm==0.4.12) (11.0.0)\r\n",
      "Requirement already satisfied: mkl_fft in /usr/local/lib/python3.10/dist-packages (from numpy->torchvision->timm==0.4.12) (1.3.8)\r\n",
      "Requirement already satisfied: mkl_random in /usr/local/lib/python3.10/dist-packages (from numpy->torchvision->timm==0.4.12) (1.2.4)\r\n",
      "Requirement already satisfied: mkl_umath in /usr/local/lib/python3.10/dist-packages (from numpy->torchvision->timm==0.4.12) (0.1.1)\r\n",
      "Requirement already satisfied: mkl in /usr/local/lib/python3.10/dist-packages (from numpy->torchvision->timm==0.4.12) (2025.0.1)\r\n",
      "Requirement already satisfied: tbb4py in /usr/local/lib/python3.10/dist-packages (from numpy->torchvision->timm==0.4.12) (2022.0.0)\r\n",
      "Requirement already satisfied: mkl-service in /usr/local/lib/python3.10/dist-packages (from numpy->torchvision->timm==0.4.12) (2.4.1)\r\n",
      "Requirement already satisfied: charset-normalizer<4,>=2 in /usr/local/lib/python3.10/dist-packages (from requests->torchvision->timm==0.4.12) (3.4.1)\r\n",
      "Requirement already satisfied: idna<4,>=2.5 in /usr/local/lib/python3.10/dist-packages (from requests->torchvision->timm==0.4.12) (3.10)\r\n",
      "Requirement already satisfied: urllib3<3,>=1.21.1 in /usr/local/lib/python3.10/dist-packages (from requests->torchvision->timm==0.4.12) (2.3.0)\r\n",
      "Requirement already satisfied: certifi>=2017.4.17 in /usr/local/lib/python3.10/dist-packages (from requests->torchvision->timm==0.4.12) (2025.1.31)\r\n",
      "Requirement already satisfied: intel-openmp>=2024 in /usr/local/lib/python3.10/dist-packages (from mkl->numpy->torchvision->timm==0.4.12) (2024.2.0)\r\n",
      "Requirement already satisfied: tbb==2022.* in /usr/local/lib/python3.10/dist-packages (from mkl->numpy->torchvision->timm==0.4.12) (2022.0.0)\r\n",
      "Requirement already satisfied: tcmlib==1.* in /usr/local/lib/python3.10/dist-packages (from tbb==2022.*->mkl->numpy->torchvision->timm==0.4.12) (1.2.0)\r\n",
      "Requirement already satisfied: intel-cmplr-lib-rt in /usr/local/lib/python3.10/dist-packages (from mkl_umath->numpy->torchvision->timm==0.4.12) (2024.2.0)\r\n",
      "Requirement already satisfied: intel-cmplr-lib-ur==2024.2.0 in /usr/local/lib/python3.10/dist-packages (from intel-openmp>=2024->mkl->numpy->torchvision->timm==0.4.12) (2024.2.0)\r\n",
      "Downloading timm-0.4.12-py3-none-any.whl (376 kB)\r\n",
      "\u001b[2K   \u001b[90m━━━━━━━━━━━━━━━━━━━━━━━━━━━━━━━━━━━━━━━━\u001b[0m \u001b[32m377.0/377.0 kB\u001b[0m \u001b[31m8.5 MB/s\u001b[0m eta \u001b[36m0:00:00\u001b[0m\r\n",
      "\u001b[?25hInstalling collected packages: timm\r\n",
      "  Attempting uninstall: timm\r\n",
      "    Found existing installation: timm 1.0.12\r\n",
      "    Uninstalling timm-1.0.12:\r\n",
      "      Successfully uninstalled timm-1.0.12\r\n",
      "Successfully installed timm-0.4.12\r\n",
      "Requirement already satisfied: pytest in /usr/local/lib/python3.10/dist-packages (8.3.4)\r\n",
      "Requirement already satisfied: chardet in /usr/local/lib/python3.10/dist-packages (5.2.0)\r\n",
      "Collecting yacs\r\n",
      "  Downloading yacs-0.1.8-py3-none-any.whl.metadata (639 bytes)\r\n",
      "Requirement already satisfied: termcolor in /usr/local/lib/python3.10/dist-packages (2.5.0)\r\n",
      "Requirement already satisfied: exceptiongroup>=1.0.0rc8 in /usr/local/lib/python3.10/dist-packages (from pytest) (1.2.2)\r\n",
      "Requirement already satisfied: iniconfig in /usr/local/lib/python3.10/dist-packages (from pytest) (2.0.0)\r\n",
      "Requirement already satisfied: packaging in /usr/local/lib/python3.10/dist-packages (from pytest) (24.2)\r\n",
      "Requirement already satisfied: pluggy<2,>=1.5 in /usr/local/lib/python3.10/dist-packages (from pytest) (1.5.0)\r\n",
      "Requirement already satisfied: tomli>=1 in /usr/local/lib/python3.10/dist-packages (from pytest) (2.2.1)\r\n",
      "Requirement already satisfied: PyYAML in /usr/local/lib/python3.10/dist-packages (from yacs) (6.0.2)\r\n",
      "Downloading yacs-0.1.8-py3-none-any.whl (14 kB)\r\n",
      "Installing collected packages: yacs\r\n",
      "Successfully installed yacs-0.1.8\r\n",
      "Collecting submitit\r\n",
      "  Downloading submitit-1.5.2-py3-none-any.whl.metadata (7.9 kB)\r\n",
      "Collecting tensorboardX\r\n",
      "  Downloading tensorboardX-2.6.2.2-py2.py3-none-any.whl.metadata (5.8 kB)\r\n",
      "Requirement already satisfied: cloudpickle>=1.2.1 in /usr/local/lib/python3.10/dist-packages (from submitit) (3.1.0)\r\n",
      "Requirement already satisfied: typing_extensions>=3.7.4.2 in /usr/local/lib/python3.10/dist-packages (from submitit) (4.12.2)\r\n",
      "Requirement already satisfied: numpy in /usr/local/lib/python3.10/dist-packages (from tensorboardX) (1.26.4)\r\n",
      "Requirement already satisfied: packaging in /usr/local/lib/python3.10/dist-packages (from tensorboardX) (24.2)\r\n",
      "Requirement already satisfied: protobuf>=3.20 in /usr/local/lib/python3.10/dist-packages (from tensorboardX) (3.20.3)\r\n",
      "Requirement already satisfied: mkl_fft in /usr/local/lib/python3.10/dist-packages (from numpy->tensorboardX) (1.3.8)\r\n",
      "Requirement already satisfied: mkl_random in /usr/local/lib/python3.10/dist-packages (from numpy->tensorboardX) (1.2.4)\r\n",
      "Requirement already satisfied: mkl_umath in /usr/local/lib/python3.10/dist-packages (from numpy->tensorboardX) (0.1.1)\r\n",
      "Requirement already satisfied: mkl in /usr/local/lib/python3.10/dist-packages (from numpy->tensorboardX) (2025.0.1)\r\n",
      "Requirement already satisfied: tbb4py in /usr/local/lib/python3.10/dist-packages (from numpy->tensorboardX) (2022.0.0)\r\n",
      "Requirement already satisfied: mkl-service in /usr/local/lib/python3.10/dist-packages (from numpy->tensorboardX) (2.4.1)\r\n",
      "Requirement already satisfied: intel-openmp>=2024 in /usr/local/lib/python3.10/dist-packages (from mkl->numpy->tensorboardX) (2024.2.0)\r\n",
      "Requirement already satisfied: tbb==2022.* in /usr/local/lib/python3.10/dist-packages (from mkl->numpy->tensorboardX) (2022.0.0)\r\n",
      "Requirement already satisfied: tcmlib==1.* in /usr/local/lib/python3.10/dist-packages (from tbb==2022.*->mkl->numpy->tensorboardX) (1.2.0)\r\n",
      "Requirement already satisfied: intel-cmplr-lib-rt in /usr/local/lib/python3.10/dist-packages (from mkl_umath->numpy->tensorboardX) (2024.2.0)\r\n",
      "Requirement already satisfied: intel-cmplr-lib-ur==2024.2.0 in /usr/local/lib/python3.10/dist-packages (from intel-openmp>=2024->mkl->numpy->tensorboardX) (2024.2.0)\r\n",
      "Downloading submitit-1.5.2-py3-none-any.whl (74 kB)\r\n",
      "\u001b[2K   \u001b[90m━━━━━━━━━━━━━━━━━━━━━━━━━━━━━━━━━━━━━━━━\u001b[0m \u001b[32m74.9/74.9 kB\u001b[0m \u001b[31m2.3 MB/s\u001b[0m eta \u001b[36m0:00:00\u001b[0m\r\n",
      "\u001b[?25hDownloading tensorboardX-2.6.2.2-py2.py3-none-any.whl (101 kB)\r\n",
      "\u001b[2K   \u001b[90m━━━━━━━━━━━━━━━━━━━━━━━━━━━━━━━━━━━━━━━━\u001b[0m \u001b[32m101.7/101.7 kB\u001b[0m \u001b[31m5.8 MB/s\u001b[0m eta \u001b[36m0:00:00\u001b[0m\r\n",
      "\u001b[?25hInstalling collected packages: submitit, tensorboardX\r\n",
      "Successfully installed submitit-1.5.2 tensorboardX-2.6.2.2\r\n",
      "Collecting triton==2.0.0\r\n",
      "  Downloading triton-2.0.0-1-cp310-cp310-manylinux2014_x86_64.manylinux_2_17_x86_64.whl.metadata (1.0 kB)\r\n",
      "Requirement already satisfied: cmake in /usr/local/lib/python3.10/dist-packages (from triton==2.0.0) (3.31.2)\r\n",
      "Requirement already satisfied: filelock in /usr/local/lib/python3.10/dist-packages (from triton==2.0.0) (3.17.0)\r\n",
      "Requirement already satisfied: torch in /usr/local/lib/python3.10/dist-packages (from triton==2.0.0) (1.13.0+cu117)\r\n",
      "Collecting lit (from triton==2.0.0)\r\n",
      "  Downloading lit-18.1.8-py3-none-any.whl.metadata (2.5 kB)\r\n",
      "Requirement already satisfied: typing-extensions in /usr/local/lib/python3.10/dist-packages (from torch->triton==2.0.0) (4.12.2)\r\n",
      "Downloading triton-2.0.0-1-cp310-cp310-manylinux2014_x86_64.manylinux_2_17_x86_64.whl (63.3 MB)\r\n",
      "\u001b[2K   \u001b[90m━━━━━━━━━━━━━━━━━━━━━━━━━━━━━━━━━━━━━━━━\u001b[0m \u001b[32m63.3/63.3 MB\u001b[0m \u001b[31m28.4 MB/s\u001b[0m eta \u001b[36m0:00:00\u001b[0m\r\n",
      "\u001b[?25hDownloading lit-18.1.8-py3-none-any.whl (96 kB)\r\n",
      "\u001b[2K   \u001b[90m━━━━━━━━━━━━━━━━━━━━━━━━━━━━━━━━━━━━━━━━\u001b[0m \u001b[32m96.4/96.4 kB\u001b[0m \u001b[31m6.8 MB/s\u001b[0m eta \u001b[36m0:00:00\u001b[0m\r\n",
      "\u001b[?25hInstalling collected packages: lit, triton\r\n",
      "Successfully installed lit-18.1.8 triton-2.0.0\r\n",
      "Collecting causal_conv1d==1.0.0\r\n",
      "  Downloading causal_conv1d-1.0.0.tar.gz (6.4 kB)\r\n",
      "  Preparing metadata (setup.py) ... \u001b[?25l\u001b[?25hdone\r\n",
      "Requirement already satisfied: torch in /usr/local/lib/python3.10/dist-packages (from causal_conv1d==1.0.0) (1.13.0+cu117)\r\n",
      "Requirement already satisfied: packaging in /usr/local/lib/python3.10/dist-packages (from causal_conv1d==1.0.0) (24.2)\r\n",
      "Requirement already satisfied: ninja in /usr/local/lib/python3.10/dist-packages (from causal_conv1d==1.0.0) (1.11.1.3)\r\n",
      "Requirement already satisfied: typing-extensions in /usr/local/lib/python3.10/dist-packages (from torch->causal_conv1d==1.0.0) (4.12.2)\r\n",
      "Building wheels for collected packages: causal_conv1d\r\n",
      "  Building wheel for causal_conv1d (setup.py) ... \u001b[?25l\u001b[?25hdone\r\n",
      "  Created wheel for causal_conv1d: filename=causal_conv1d-1.0.0-cp310-cp310-linux_x86_64.whl size=8965723 sha256=2f3c2b5707b38fecdc6021ebf73e07d669127266fe7c8d1e46e536727bcedafc\r\n",
      "  Stored in directory: /root/.cache/pip/wheels/9a/48/f5/eb0c6d6d8e00131eaa57927b537a23832b37e2f01b801d9c5d\r\n",
      "Successfully built causal_conv1d\r\n",
      "Installing collected packages: causal_conv1d\r\n",
      "Successfully installed causal_conv1d-1.0.0\r\n",
      "Collecting mamba_ssm==1.0.1\r\n",
      "  Downloading mamba_ssm-1.0.1.tar.gz (28 kB)\r\n",
      "  Preparing metadata (setup.py) ... \u001b[?25l\u001b[?25hdone\r\n",
      "Requirement already satisfied: torch in /usr/local/lib/python3.10/dist-packages (from mamba_ssm==1.0.1) (1.13.0+cu117)\r\n",
      "Requirement already satisfied: packaging in /usr/local/lib/python3.10/dist-packages (from mamba_ssm==1.0.1) (24.2)\r\n",
      "Requirement already satisfied: ninja in /usr/local/lib/python3.10/dist-packages (from mamba_ssm==1.0.1) (1.11.1.3)\r\n",
      "Requirement already satisfied: einops in /usr/local/lib/python3.10/dist-packages (from mamba_ssm==1.0.1) (0.8.0)\r\n",
      "Requirement already satisfied: triton in /usr/local/lib/python3.10/dist-packages (from mamba_ssm==1.0.1) (2.0.0)\r\n",
      "Requirement already satisfied: transformers in /usr/local/lib/python3.10/dist-packages (from mamba_ssm==1.0.1) (4.47.0)\r\n",
      "Requirement already satisfied: causal_conv1d in /usr/local/lib/python3.10/dist-packages (from mamba_ssm==1.0.1) (1.0.0)\r\n",
      "Requirement already satisfied: typing-extensions in /usr/local/lib/python3.10/dist-packages (from torch->mamba_ssm==1.0.1) (4.12.2)\r\n",
      "Requirement already satisfied: filelock in /usr/local/lib/python3.10/dist-packages (from transformers->mamba_ssm==1.0.1) (3.17.0)\r\n",
      "Requirement already satisfied: huggingface-hub<1.0,>=0.24.0 in /usr/local/lib/python3.10/dist-packages (from transformers->mamba_ssm==1.0.1) (0.29.0)\r\n",
      "Requirement already satisfied: numpy>=1.17 in /usr/local/lib/python3.10/dist-packages (from transformers->mamba_ssm==1.0.1) (1.26.4)\r\n",
      "Requirement already satisfied: pyyaml>=5.1 in /usr/local/lib/python3.10/dist-packages (from transformers->mamba_ssm==1.0.1) (6.0.2)\r\n",
      "Requirement already satisfied: regex!=2019.12.17 in /usr/local/lib/python3.10/dist-packages (from transformers->mamba_ssm==1.0.1) (2024.11.6)\r\n",
      "Requirement already satisfied: requests in /usr/local/lib/python3.10/dist-packages (from transformers->mamba_ssm==1.0.1) (2.32.3)\r\n",
      "Requirement already satisfied: tokenizers<0.22,>=0.21 in /usr/local/lib/python3.10/dist-packages (from transformers->mamba_ssm==1.0.1) (0.21.0)\r\n",
      "Requirement already satisfied: safetensors>=0.4.1 in /usr/local/lib/python3.10/dist-packages (from transformers->mamba_ssm==1.0.1) (0.4.5)\r\n",
      "Requirement already satisfied: tqdm>=4.27 in /usr/local/lib/python3.10/dist-packages (from transformers->mamba_ssm==1.0.1) (4.67.1)\r\n",
      "Requirement already satisfied: cmake in /usr/local/lib/python3.10/dist-packages (from triton->mamba_ssm==1.0.1) (3.31.2)\r\n",
      "Requirement already satisfied: lit in /usr/local/lib/python3.10/dist-packages (from triton->mamba_ssm==1.0.1) (18.1.8)\r\n",
      "Requirement already satisfied: fsspec>=2023.5.0 in /usr/local/lib/python3.10/dist-packages (from huggingface-hub<1.0,>=0.24.0->transformers->mamba_ssm==1.0.1) (2024.12.0)\r\n",
      "Requirement already satisfied: mkl_fft in /usr/local/lib/python3.10/dist-packages (from numpy>=1.17->transformers->mamba_ssm==1.0.1) (1.3.8)\r\n",
      "Requirement already satisfied: mkl_random in /usr/local/lib/python3.10/dist-packages (from numpy>=1.17->transformers->mamba_ssm==1.0.1) (1.2.4)\r\n",
      "Requirement already satisfied: mkl_umath in /usr/local/lib/python3.10/dist-packages (from numpy>=1.17->transformers->mamba_ssm==1.0.1) (0.1.1)\r\n",
      "Requirement already satisfied: mkl in /usr/local/lib/python3.10/dist-packages (from numpy>=1.17->transformers->mamba_ssm==1.0.1) (2025.0.1)\r\n",
      "Requirement already satisfied: tbb4py in /usr/local/lib/python3.10/dist-packages (from numpy>=1.17->transformers->mamba_ssm==1.0.1) (2022.0.0)\r\n",
      "Requirement already satisfied: mkl-service in /usr/local/lib/python3.10/dist-packages (from numpy>=1.17->transformers->mamba_ssm==1.0.1) (2.4.1)\r\n",
      "Requirement already satisfied: charset-normalizer<4,>=2 in /usr/local/lib/python3.10/dist-packages (from requests->transformers->mamba_ssm==1.0.1) (3.4.1)\r\n",
      "Requirement already satisfied: idna<4,>=2.5 in /usr/local/lib/python3.10/dist-packages (from requests->transformers->mamba_ssm==1.0.1) (3.10)\r\n",
      "Requirement already satisfied: urllib3<3,>=1.21.1 in /usr/local/lib/python3.10/dist-packages (from requests->transformers->mamba_ssm==1.0.1) (2.3.0)\r\n",
      "Requirement already satisfied: certifi>=2017.4.17 in /usr/local/lib/python3.10/dist-packages (from requests->transformers->mamba_ssm==1.0.1) (2025.1.31)\r\n",
      "Requirement already satisfied: intel-openmp>=2024 in /usr/local/lib/python3.10/dist-packages (from mkl->numpy>=1.17->transformers->mamba_ssm==1.0.1) (2024.2.0)\r\n",
      "Requirement already satisfied: tbb==2022.* in /usr/local/lib/python3.10/dist-packages (from mkl->numpy>=1.17->transformers->mamba_ssm==1.0.1) (2022.0.0)\r\n",
      "Requirement already satisfied: tcmlib==1.* in /usr/local/lib/python3.10/dist-packages (from tbb==2022.*->mkl->numpy>=1.17->transformers->mamba_ssm==1.0.1) (1.2.0)\r\n",
      "Requirement already satisfied: intel-cmplr-lib-rt in /usr/local/lib/python3.10/dist-packages (from mkl_umath->numpy>=1.17->transformers->mamba_ssm==1.0.1) (2024.2.0)\r\n",
      "Requirement already satisfied: intel-cmplr-lib-ur==2024.2.0 in /usr/local/lib/python3.10/dist-packages (from intel-openmp>=2024->mkl->numpy>=1.17->transformers->mamba_ssm==1.0.1) (2024.2.0)\r\n",
      "Building wheels for collected packages: mamba_ssm\r\n",
      "  Building wheel for mamba_ssm (setup.py) ... \u001b[?25l\u001b[?25hdone\r\n",
      "  Created wheel for mamba_ssm: filename=mamba_ssm-1.0.1-cp310-cp310-linux_x86_64.whl size=152100816 sha256=70fdf9edb1fe07e07efa07f1363218cb696ed7a626dd917018ec6b3cdb33f17b\r\n",
      "  Stored in directory: /root/.cache/pip/wheels/08/cf/65/cc589985f9689241fe2c154ce1c60738f58a24e76ce474cc20\r\n",
      "Successfully built mamba_ssm\r\n",
      "Installing collected packages: mamba_ssm\r\n",
      "Successfully installed mamba_ssm-1.0.1\r\n",
      "Requirement already satisfied: scikit-learn in /usr/local/lib/python3.10/dist-packages (1.2.2)\r\n",
      "Requirement already satisfied: matplotlib in /usr/local/lib/python3.10/dist-packages (3.7.5)\r\n",
      "Collecting thop\r\n",
      "  Downloading thop-0.1.1.post2209072238-py3-none-any.whl.metadata (2.7 kB)\r\n",
      "Requirement already satisfied: h5py in /usr/local/lib/python3.10/dist-packages (3.12.1)\r\n",
      "Requirement already satisfied: SimpleITK in /usr/local/lib/python3.10/dist-packages (2.4.1)\r\n",
      "Requirement already satisfied: scikit-image in /usr/local/lib/python3.10/dist-packages (0.25.0)\r\n",
      "Collecting medpy\r\n",
      "  Downloading medpy-0.5.2.tar.gz (156 kB)\r\n",
      "\u001b[2K     \u001b[90m━━━━━━━━━━━━━━━━━━━━━━━━━━━━━━━━━━━━━━━━\u001b[0m \u001b[32m156.3/156.3 kB\u001b[0m \u001b[31m3.9 MB/s\u001b[0m eta \u001b[36m0:00:00\u001b[0m\r\n",
      "\u001b[?25h  Preparing metadata (setup.py) ... \u001b[?25l\u001b[?25hdone\r\n",
      "Requirement already satisfied: yacs in /usr/local/lib/python3.10/dist-packages (0.1.8)\r\n",
      "Requirement already satisfied: numpy>=1.17.3 in /usr/local/lib/python3.10/dist-packages (from scikit-learn) (1.26.4)\r\n",
      "Requirement already satisfied: scipy>=1.3.2 in /usr/local/lib/python3.10/dist-packages (from scikit-learn) (1.13.1)\r\n",
      "Requirement already satisfied: joblib>=1.1.1 in /usr/local/lib/python3.10/dist-packages (from scikit-learn) (1.4.2)\r\n",
      "Requirement already satisfied: threadpoolctl>=2.0.0 in /usr/local/lib/python3.10/dist-packages (from scikit-learn) (3.5.0)\r\n",
      "Requirement already satisfied: contourpy>=1.0.1 in /usr/local/lib/python3.10/dist-packages (from matplotlib) (1.3.1)\r\n",
      "Requirement already satisfied: cycler>=0.10 in /usr/local/lib/python3.10/dist-packages (from matplotlib) (0.12.1)\r\n",
      "Requirement already satisfied: fonttools>=4.22.0 in /usr/local/lib/python3.10/dist-packages (from matplotlib) (4.55.3)\r\n",
      "Requirement already satisfied: kiwisolver>=1.0.1 in /usr/local/lib/python3.10/dist-packages (from matplotlib) (1.4.7)\r\n",
      "Requirement already satisfied: packaging>=20.0 in /usr/local/lib/python3.10/dist-packages (from matplotlib) (24.2)\r\n",
      "Requirement already satisfied: pillow>=6.2.0 in /usr/local/lib/python3.10/dist-packages (from matplotlib) (11.0.0)\r\n",
      "Requirement already satisfied: pyparsing>=2.3.1 in /usr/local/lib/python3.10/dist-packages (from matplotlib) (3.2.0)\r\n",
      "Requirement already satisfied: python-dateutil>=2.7 in /usr/local/lib/python3.10/dist-packages (from matplotlib) (2.9.0.post0)\r\n",
      "Requirement already satisfied: torch in /usr/local/lib/python3.10/dist-packages (from thop) (1.13.0+cu117)\r\n",
      "Requirement already satisfied: networkx>=3.0 in /usr/local/lib/python3.10/dist-packages (from scikit-image) (3.4.2)\r\n",
      "Requirement already satisfied: imageio!=2.35.0,>=2.33 in /usr/local/lib/python3.10/dist-packages (from scikit-image) (2.36.1)\r\n",
      "Requirement already satisfied: tifffile>=2022.8.12 in /usr/local/lib/python3.10/dist-packages (from scikit-image) (2024.12.12)\r\n",
      "Requirement already satisfied: lazy-loader>=0.4 in /usr/local/lib/python3.10/dist-packages (from scikit-image) (0.4)\r\n",
      "Requirement already satisfied: PyYAML in /usr/local/lib/python3.10/dist-packages (from yacs) (6.0.2)\r\n",
      "Requirement already satisfied: mkl_fft in /usr/local/lib/python3.10/dist-packages (from numpy>=1.17.3->scikit-learn) (1.3.8)\r\n",
      "Requirement already satisfied: mkl_random in /usr/local/lib/python3.10/dist-packages (from numpy>=1.17.3->scikit-learn) (1.2.4)\r\n",
      "Requirement already satisfied: mkl_umath in /usr/local/lib/python3.10/dist-packages (from numpy>=1.17.3->scikit-learn) (0.1.1)\r\n",
      "Requirement already satisfied: mkl in /usr/local/lib/python3.10/dist-packages (from numpy>=1.17.3->scikit-learn) (2025.0.1)\r\n",
      "Requirement already satisfied: tbb4py in /usr/local/lib/python3.10/dist-packages (from numpy>=1.17.3->scikit-learn) (2022.0.0)\r\n",
      "Requirement already satisfied: mkl-service in /usr/local/lib/python3.10/dist-packages (from numpy>=1.17.3->scikit-learn) (2.4.1)\r\n",
      "Requirement already satisfied: six>=1.5 in /usr/local/lib/python3.10/dist-packages (from python-dateutil>=2.7->matplotlib) (1.17.0)\r\n",
      "Requirement already satisfied: typing-extensions in /usr/local/lib/python3.10/dist-packages (from torch->thop) (4.12.2)\r\n",
      "Requirement already satisfied: intel-openmp>=2024 in /usr/local/lib/python3.10/dist-packages (from mkl->numpy>=1.17.3->scikit-learn) (2024.2.0)\r\n",
      "Requirement already satisfied: tbb==2022.* in /usr/local/lib/python3.10/dist-packages (from mkl->numpy>=1.17.3->scikit-learn) (2022.0.0)\r\n",
      "Requirement already satisfied: tcmlib==1.* in /usr/local/lib/python3.10/dist-packages (from tbb==2022.*->mkl->numpy>=1.17.3->scikit-learn) (1.2.0)\r\n",
      "Requirement already satisfied: intel-cmplr-lib-rt in /usr/local/lib/python3.10/dist-packages (from mkl_umath->numpy>=1.17.3->scikit-learn) (2024.2.0)\r\n",
      "Requirement already satisfied: intel-cmplr-lib-ur==2024.2.0 in /usr/local/lib/python3.10/dist-packages (from intel-openmp>=2024->mkl->numpy>=1.17.3->scikit-learn) (2024.2.0)\r\n",
      "Downloading thop-0.1.1.post2209072238-py3-none-any.whl (15 kB)\r\n",
      "Building wheels for collected packages: medpy\r\n",
      "  Building wheel for medpy (setup.py) ... \u001b[?25l\u001b[?25hdone\r\n",
      "  Created wheel for medpy: filename=MedPy-0.5.2-cp310-cp310-linux_x86_64.whl size=762836 sha256=1dc036a42aa64b3a9c89b5b8612c57e76af12a1f06023fb8a344cd4c68cd801c\r\n",
      "  Stored in directory: /root/.cache/pip/wheels/a1/b8/63/bdf557940ec60d1b8822e73ff9fbe7727ac19f009d46b5d175\r\n",
      "Successfully built medpy\r\n",
      "Installing collected packages: thop, medpy\r\n",
      "Successfully installed medpy-0.5.2 thop-0.1.1.post2209072238\r\n",
      "CPU times: user 2.69 s, sys: 635 ms, total: 3.33 s\n",
      "Wall time: 2min 44s\n"
     ]
    }
   ],
   "source": [
    "%%time\n",
    "\n",
    "!pip install torch==1.13.0 torchvision==0.14.0 torchaudio==0.13.0 --extra-index-url https://download.pytorch.org/whl/cu117\n",
    "!pip install packaging\n",
    "!pip install timm==0.4.12\n",
    "!pip install pytest chardet yacs termcolor\n",
    "!pip install submitit tensorboardX\n",
    "!pip install triton==2.0.0\n",
    "!pip install causal_conv1d==1.0.0  # causal_conv1d-1.0.0+cu118torch1.13cxx11abiFALSE-cp38-cp38-linux_x86_64.whl\n",
    "!pip install mamba_ssm==1.0.1  # mmamba_ssm-1.0.1+cu118torch1.13cxx11abiFALSE-cp38-cp38-linux_x86_64.whl\n",
    "!pip install scikit-learn matplotlib thop h5py SimpleITK scikit-image medpy yacs"
   ]
  },
  {
   "cell_type": "code",
   "execution_count": 3,
   "id": "97128da5",
   "metadata": {
    "execution": {
     "iopub.execute_input": "2025-03-10T10:39:26.677502Z",
     "iopub.status.busy": "2025-03-10T10:39:26.677167Z",
     "iopub.status.idle": "2025-03-10T10:39:30.603655Z",
     "shell.execute_reply": "2025-03-10T10:39:30.602722Z"
    },
    "papermill": {
     "duration": 3.969665,
     "end_time": "2025-03-10T10:39:30.605550",
     "exception": false,
     "start_time": "2025-03-10T10:39:26.635885",
     "status": "completed"
    },
    "tags": []
   },
   "outputs": [],
   "source": [
    "import numpy as np \n",
    "import pandas as pd \n",
    "import matplotlib.pyplot as plt\n",
    "import os \n",
    "import h5py\n",
    "import cv2\n",
    "import sys\n",
    "from tqdm.notebook import tqdm\n",
    "from concurrent.futures import ThreadPoolExecutor,ProcessPoolExecutor, as_completed\n",
    "from google.colab.patches import cv2_imshow\n",
    "from IPython.display import display, Javascript\n",
    "import plotly.express as px\n",
    "from sklearn.model_selection import train_test_split,cross_val_score\n",
    "from sklearn.compose import ColumnTransformer\n",
    "from sklearn.pipeline import Pipeline\n",
    "from sklearn.experimental import enable_iterative_imputer\n",
    "from sklearn.impute import IterativeImputer,SimpleImputer,KNNImputer\n",
    "from sklearn.preprocessing import MinMaxScaler, OneHotEncoder, FunctionTransformer\n",
    "from sklearn.feature_extraction import FeatureHasher\n",
    "from sklearn.ensemble import RandomForestClassifier, RandomForestRegressor\n",
    "from sklearn.neighbors import NearestNeighbors\n",
    "from sklearn.metrics import accuracy_score, mean_squared_error,get_scorer_names\n",
    "from sklearn.preprocessing import LabelEncoder,MinMaxScaler,StandardScaler\n",
    "from sklearn.linear_model import LogisticRegression, LinearRegression,SGDClassifier\n",
    "from sklearn.utils import resample\n",
    "from sklearn.utils import shuffle\n",
    "from sklearn.utils.class_weight import compute_class_weight\n",
    "from imblearn.combine import *\n",
    "from imblearn.under_sampling import *\n",
    "from imblearn.over_sampling import *\n",
    "from imblearn.pipeline import Pipeline\n",
    "import plotly.graph_objects as go\n",
    "from plotly.subplots import make_subplots\n",
    "import random\n",
    "import warnings\n",
    "warnings.filterwarnings(\"ignore\")"
   ]
  },
  {
   "cell_type": "code",
   "execution_count": 4,
   "id": "5b3f97da",
   "metadata": {
    "execution": {
     "iopub.execute_input": "2025-03-10T10:39:30.695911Z",
     "iopub.status.busy": "2025-03-10T10:39:30.695384Z",
     "iopub.status.idle": "2025-03-10T10:39:42.905687Z",
     "shell.execute_reply": "2025-03-10T10:39:42.904970Z"
    },
    "papermill": {
     "duration": 12.252461,
     "end_time": "2025-03-10T10:39:42.907144",
     "exception": false,
     "start_time": "2025-03-10T10:39:30.654683",
     "status": "completed"
    },
    "tags": []
   },
   "outputs": [
    {
     "name": "stdout",
     "output_type": "stream",
     "text": [
      "3.5.0\n"
     ]
    }
   ],
   "source": [
    "# Deep learning keras libraries\n",
    "import keras\n",
    "print(keras.__version__)\n",
    "from keras import backend\n",
    "from keras.losses import Loss\n",
    "import tensorflow as tf\n",
    "from keras.layers import Input, Conv2D, MaxPooling2D,GlobalAveragePooling2D, Flatten, Dense, Dropout, BatchNormalization, Concatenate\n",
    "from keras import ops\n",
    "import keras_hub\n",
    "from keras.callbacks import EarlyStopping, ReduceLROnPlateau, ModelCheckpoint\n",
    "import math\n",
    "from keras import ops\n",
    "from keras import layers\n",
    "from keras.saving import register_keras_serializable"
   ]
  },
  {
   "cell_type": "code",
   "execution_count": 5,
   "id": "adb94c7e",
   "metadata": {
    "execution": {
     "iopub.execute_input": "2025-03-10T10:39:42.989669Z",
     "iopub.status.busy": "2025-03-10T10:39:42.989104Z",
     "iopub.status.idle": "2025-03-10T10:39:47.485817Z",
     "shell.execute_reply": "2025-03-10T10:39:47.485088Z"
    },
    "papermill": {
     "duration": 4.539117,
     "end_time": "2025-03-10T10:39:47.487364",
     "exception": false,
     "start_time": "2025-03-10T10:39:42.948247",
     "status": "completed"
    },
    "tags": []
   },
   "outputs": [],
   "source": [
    "import time\n",
    "import math\n",
    "from functools import partial\n",
    "from typing import Optional, Callable\n",
    "from torch import Tensor\n",
    "import torch\n",
    "import torch.nn as nn\n",
    "import torch.nn.functional as F\n",
    "import torch.utils.checkpoint as checkpoint\n",
    "import torch.optim as optim\n",
    "from einops import rearrange, repeat\n",
    "from timm.models.layers import DropPath, to_2tuple, trunc_normal_\n",
    "from torch.utils.data import Dataset, DataLoader\n",
    "import torchvision.transforms as transforms\n",
    "from tqdm import tqdm\n",
    "try:\n",
    "    from mamba_ssm.ops.selective_scan_interface import selective_scan_fn, selective_scan_ref\n",
    "except:\n",
    "    pass\n",
    "\n",
    "# an alternative for mamba_ssm (in which causal_conv1d is needed)\n",
    "try:\n",
    "    from selective_scan import selective_scan_fn as selective_scan_fn_v1\n",
    "    from selective_scan import selective_scan_ref as selective_scan_ref_v1\n",
    "except:\n",
    "    pass\n",
    "\n",
    "\n",
    "DropPath.__repr__ = lambda self: f\"timm.DropPath({self.drop_prob})\""
   ]
  },
  {
   "cell_type": "code",
   "execution_count": 6,
   "id": "0debfc84",
   "metadata": {
    "execution": {
     "iopub.execute_input": "2025-03-10T10:39:47.609297Z",
     "iopub.status.busy": "2025-03-10T10:39:47.608611Z",
     "iopub.status.idle": "2025-03-10T10:40:03.511497Z",
     "shell.execute_reply": "2025-03-10T10:40:03.510601Z"
    },
    "papermill": {
     "duration": 15.984034,
     "end_time": "2025-03-10T10:40:03.512885",
     "exception": false,
     "start_time": "2025-03-10T10:39:47.528851",
     "status": "completed"
    },
    "tags": []
   },
   "outputs": [
    {
     "name": "stdout",
     "output_type": "stream",
     "text": [
      "torch version mismatch: Installed 1.13.0+cu117, Expected 1.13.0.\n",
      "torchvision version mismatch: Installed 0.14.0+cu117, Expected 0.14.0.\n",
      "torchaudio version mismatch: Installed 0.13.0+cu117, Expected 0.13.0.\n",
      "packaging is installed.\n",
      "timm 0.4.12 is installed.\n",
      "pytest is installed.\n",
      "chardet is installed.\n",
      "yacs is installed.\n",
      "termcolor is installed.\n",
      "submitit is installed.\n",
      "tensorboardX is installed.\n",
      "triton 2.0.0 is installed.\n",
      "causal_conv1d 1.0.0 is installed.\n",
      "mamba_ssm 1.0.1 is installed.\n",
      "sklearn is installed.\n",
      "matplotlib is installed.\n",
      "thop is installed.\n",
      "h5py is installed.\n",
      "SimpleITK is installed.\n",
      "scikit-image is NOT installed.\n",
      "medpy is installed.\n"
     ]
    }
   ],
   "source": [
    "import importlib\n",
    "import pkg_resources\n",
    "\n",
    "def check_package(package_name, version=None):\n",
    "    try:\n",
    "        pkg = importlib.import_module(package_name)\n",
    "        if version:\n",
    "            installed_version = pkg_resources.get_distribution(package_name).version\n",
    "            if installed_version == version:\n",
    "                print(f\"{package_name} {version} is installed.\")\n",
    "            else:\n",
    "                print(f\"{package_name} version mismatch: Installed {installed_version}, Expected {version}.\")\n",
    "        else:\n",
    "            print(f\"{package_name} is installed.\")\n",
    "    except ImportError:\n",
    "        print(f\"{package_name} is NOT installed.\")\n",
    "    except pkg_resources.DistributionNotFound:\n",
    "        print(f\"{package_name} is NOT installed (distribution not found).\")\n",
    "\n",
    "# Define packages with versions\n",
    "packages = {\n",
    "    \"torch\": \"1.13.0\",\n",
    "    \"torchvision\": \"0.14.0\",\n",
    "    \"torchaudio\": \"0.13.0\",\n",
    "    \"packaging\": None,\n",
    "    \"timm\": \"0.4.12\",\n",
    "    \"pytest\": None,\n",
    "    \"chardet\": None,\n",
    "    \"yacs\": None,\n",
    "    \"termcolor\": None,\n",
    "    \"submitit\": None,\n",
    "    \"tensorboardX\": None,\n",
    "    \"triton\": \"2.0.0\",\n",
    "    \"causal_conv1d\": \"1.0.0\",\n",
    "    \"mamba_ssm\": \"1.0.1\",\n",
    "    \"sklearn\": None,\n",
    "    \"matplotlib\": None,\n",
    "    \"thop\": None,\n",
    "    \"h5py\": None,\n",
    "    \"SimpleITK\": None,\n",
    "    \"scikit-image\": None,\n",
    "    \"medpy\": None\n",
    "}\n",
    "\n",
    "# Check all packages\n",
    "for pkg, ver in packages.items():\n",
    "    check_package(pkg, ver)\n"
   ]
  },
  {
   "cell_type": "markdown",
   "id": "0a6db59f",
   "metadata": {
    "papermill": {
     "duration": 0.040472,
     "end_time": "2025-03-10T10:40:03.594713",
     "exception": false,
     "start_time": "2025-03-10T10:40:03.554241",
     "status": "completed"
    },
    "tags": []
   },
   "source": [
    "We need to install the following packages apart from the built-in installations\n",
    "\n",
    "- yacs\n",
    "- submitit\n",
    "- tensorboardX\n",
    "- triton\n",
    "- casual_conv1d\n",
    "- mamba_ssm\n",
    "- thop\n",
    "- medpy"
   ]
  },
  {
   "cell_type": "code",
   "execution_count": 7,
   "id": "ec9bf5c7",
   "metadata": {
    "execution": {
     "iopub.execute_input": "2025-03-10T10:40:03.676820Z",
     "iopub.status.busy": "2025-03-10T10:40:03.676128Z",
     "iopub.status.idle": "2025-03-10T10:40:03.679566Z",
     "shell.execute_reply": "2025-03-10T10:40:03.678897Z"
    },
    "papermill": {
     "duration": 0.045438,
     "end_time": "2025-03-10T10:40:03.680790",
     "exception": false,
     "start_time": "2025-03-10T10:40:03.635352",
     "status": "completed"
    },
    "tags": []
   },
   "outputs": [],
   "source": [
    "# %%capture\n",
    "# # Install required packages in Kaggle\n",
    "# !pip install yacs\n",
    "# !pip install submitit\n",
    "# !pip install tensorboardX\n",
    "# !pip install triton\n",
    "# !pip install causal_conv1d  # Ensure correct package name \n",
    "# !pip install thop\n",
    "# !pip install medpy\n",
    "# !pip install mamba_ssm # mamba ssm and casual conv1d can only be installed with GPU. Not with CPU.\n"
   ]
  },
  {
   "cell_type": "code",
   "execution_count": 8,
   "id": "1a8b47e2",
   "metadata": {
    "execution": {
     "iopub.execute_input": "2025-03-10T10:40:03.762117Z",
     "iopub.status.busy": "2025-03-10T10:40:03.761908Z",
     "iopub.status.idle": "2025-03-10T10:40:03.764699Z",
     "shell.execute_reply": "2025-03-10T10:40:03.763989Z"
    },
    "papermill": {
     "duration": 0.044525,
     "end_time": "2025-03-10T10:40:03.765842",
     "exception": false,
     "start_time": "2025-03-10T10:40:03.721317",
     "status": "completed"
    },
    "tags": []
   },
   "outputs": [],
   "source": [
    "# # Verify installation\n",
    "# import importlib\n",
    "# packages = [\"yacs\", \"submitit\", \"tensorboardX\", \"triton\", \"causal_conv1d\",\"thop\", \"medpy\", \"mamba_ssm\"]\n",
    "\n",
    "# for pkg in packages:\n",
    "#     try:\n",
    "#         importlib.import_module(pkg)\n",
    "#         print(f\"{pkg} is installed successfully.\")\n",
    "#     except ImportError:\n",
    "#         print(f\"Failed to install {pkg}.\")"
   ]
  },
  {
   "cell_type": "code",
   "execution_count": 9,
   "id": "80654c07",
   "metadata": {
    "execution": {
     "iopub.execute_input": "2025-03-10T10:40:03.847747Z",
     "iopub.status.busy": "2025-03-10T10:40:03.847530Z",
     "iopub.status.idle": "2025-03-10T10:40:03.850213Z",
     "shell.execute_reply": "2025-03-10T10:40:03.849622Z"
    },
    "papermill": {
     "duration": 0.045083,
     "end_time": "2025-03-10T10:40:03.851313",
     "exception": false,
     "start_time": "2025-03-10T10:40:03.806230",
     "status": "completed"
    },
    "tags": []
   },
   "outputs": [],
   "source": [
    "# import time\n",
    "# import math\n",
    "# from functools import partial\n",
    "# from typing import Optional, Callable\n",
    "# from torch import Tensor\n",
    "# import torch\n",
    "# import torch.nn as nn\n",
    "# import torch.nn.functional as F\n",
    "# import torch.utils.checkpoint as checkpoint\n",
    "# from einops import rearrange, repeat\n",
    "# from timm.layers import DropPath, to_2tuple, trunc_normal_\n",
    "# try:\n",
    "#     from mamba_ssm.ops.selective_scan_interface import selective_scan_fn, selective_scan_ref\n",
    "# except:\n",
    "#     pass\n",
    "\n",
    "# # an alternative for mamba_ssm (in which causal_conv1d is needed)\n",
    "# try:\n",
    "#     from selective_scan import selective_scan_fn as selective_scan_fn_v1\n",
    "#     from selective_scan import selective_scan_ref as selective_scan_ref_v1\n",
    "# except:\n",
    "#     pass\n"
   ]
  },
  {
   "cell_type": "code",
   "execution_count": 10,
   "id": "e6da6ba9",
   "metadata": {
    "execution": {
     "iopub.execute_input": "2025-03-10T10:40:03.933828Z",
     "iopub.status.busy": "2025-03-10T10:40:03.933611Z",
     "iopub.status.idle": "2025-03-10T10:40:03.984541Z",
     "shell.execute_reply": "2025-03-10T10:40:03.983818Z"
    },
    "papermill": {
     "duration": 0.093798,
     "end_time": "2025-03-10T10:40:03.985741",
     "exception": false,
     "start_time": "2025-03-10T10:40:03.891943",
     "status": "completed"
    },
    "tags": []
   },
   "outputs": [
    {
     "name": "stdout",
     "output_type": "stream",
     "text": [
      "11.7\n",
      "True\n",
      "Tesla P100-PCIE-16GB\n"
     ]
    }
   ],
   "source": [
    "import torch\n",
    "print(torch.version.cuda)\n",
    "print(torch.cuda.is_available())\n",
    "print(torch.cuda.get_device_name(0))"
   ]
  },
  {
   "cell_type": "code",
   "execution_count": 11,
   "id": "e1676560",
   "metadata": {
    "execution": {
     "iopub.execute_input": "2025-03-10T10:40:04.068840Z",
     "iopub.status.busy": "2025-03-10T10:40:04.068618Z",
     "iopub.status.idle": "2025-03-10T10:40:04.072135Z",
     "shell.execute_reply": "2025-03-10T10:40:04.071327Z"
    },
    "papermill": {
     "duration": 0.046441,
     "end_time": "2025-03-10T10:40:04.073280",
     "exception": false,
     "start_time": "2025-03-10T10:40:04.026839",
     "status": "completed"
    },
    "tags": []
   },
   "outputs": [
    {
     "name": "stdout",
     "output_type": "stream",
     "text": [
      "1.13.0+cu117\n"
     ]
    }
   ],
   "source": [
    "print(torch.__version__)"
   ]
  },
  {
   "cell_type": "code",
   "execution_count": 12,
   "id": "a0cf5c3b",
   "metadata": {
    "execution": {
     "iopub.execute_input": "2025-03-10T10:40:04.155738Z",
     "iopub.status.busy": "2025-03-10T10:40:04.155521Z",
     "iopub.status.idle": "2025-03-10T10:40:04.158935Z",
     "shell.execute_reply": "2025-03-10T10:40:04.158311Z"
    },
    "papermill": {
     "duration": 0.045365,
     "end_time": "2025-03-10T10:40:04.160098",
     "exception": false,
     "start_time": "2025-03-10T10:40:04.114733",
     "status": "completed"
    },
    "tags": []
   },
   "outputs": [],
   "source": [
    "# CONFIG VARIABLES AND PARAMETERS\n",
    "IMAGE_HEIGHT = 224\n",
    "IMAGE_WIDTH = 224\n",
    "\n",
    "# DATA\n",
    "BUFFER_SIZE = 512\n",
    "BATCH_SIZE = 64\n",
    "keras.utils.set_random_seed(48)"
   ]
  },
  {
   "cell_type": "markdown",
   "id": "14ff5b93",
   "metadata": {
    "execution": {
     "iopub.execute_input": "2025-01-05T09:46:53.328913Z",
     "iopub.status.busy": "2025-01-05T09:46:53.328514Z",
     "iopub.status.idle": "2025-01-05T09:46:53.34364Z",
     "shell.execute_reply": "2025-01-05T09:46:53.34165Z",
     "shell.execute_reply.started": "2025-01-05T09:46:53.328878Z"
    },
    "papermill": {
     "duration": 0.040628,
     "end_time": "2025-03-10T10:40:04.241126",
     "exception": false,
     "start_time": "2025-03-10T10:40:04.200498",
     "status": "completed"
    },
    "tags": []
   },
   "source": [
    "## Data loading\n"
   ]
  },
  {
   "cell_type": "code",
   "execution_count": 13,
   "id": "7d7023e9",
   "metadata": {
    "execution": {
     "iopub.execute_input": "2025-03-10T10:40:04.329791Z",
     "iopub.status.busy": "2025-03-10T10:40:04.329538Z",
     "iopub.status.idle": "2025-03-10T10:40:04.370893Z",
     "shell.execute_reply": "2025-03-10T10:40:04.369964Z"
    },
    "papermill": {
     "duration": 0.090421,
     "end_time": "2025-03-10T10:40:04.372188",
     "exception": false,
     "start_time": "2025-03-10T10:40:04.281767",
     "status": "completed"
    },
    "tags": []
   },
   "outputs": [
    {
     "name": "stdout",
     "output_type": "stream",
     "text": [
      "<class 'pandas.core.frame.DataFrame'>\n",
      "RangeIndex: 3 entries, 0 to 2\n",
      "Data columns (total 2 columns):\n",
      " #   Column   Non-Null Count  Dtype  \n",
      "---  ------   --------------  -----  \n",
      " 0   isic_id  3 non-null      object \n",
      " 1   target   3 non-null      float64\n",
      "dtypes: float64(1), object(1)\n",
      "memory usage: 176.0+ bytes\n"
     ]
    }
   ],
   "source": [
    "current_dir = \"/kaggle/input/isic-2024-challenge\"\n",
    "sample_submission = pd.read_csv(os.path.join(current_dir,'sample_submission.csv'))\n",
    "sample_submission.info()"
   ]
  },
  {
   "cell_type": "code",
   "execution_count": 14,
   "id": "06665e2e",
   "metadata": {
    "execution": {
     "iopub.execute_input": "2025-03-10T10:40:04.454807Z",
     "iopub.status.busy": "2025-03-10T10:40:04.454559Z",
     "iopub.status.idle": "2025-03-10T10:40:04.472462Z",
     "shell.execute_reply": "2025-03-10T10:40:04.471723Z"
    },
    "papermill": {
     "duration": 0.060666,
     "end_time": "2025-03-10T10:40:04.473738",
     "exception": false,
     "start_time": "2025-03-10T10:40:04.413072",
     "status": "completed"
    },
    "tags": []
   },
   "outputs": [
    {
     "data": {
      "text/html": [
       "<div>\n",
       "<style scoped>\n",
       "    .dataframe tbody tr th:only-of-type {\n",
       "        vertical-align: middle;\n",
       "    }\n",
       "\n",
       "    .dataframe tbody tr th {\n",
       "        vertical-align: top;\n",
       "    }\n",
       "\n",
       "    .dataframe thead th {\n",
       "        text-align: right;\n",
       "    }\n",
       "</style>\n",
       "<table border=\"1\" class=\"dataframe\">\n",
       "  <thead>\n",
       "    <tr style=\"text-align: right;\">\n",
       "      <th></th>\n",
       "      <th>isic_id</th>\n",
       "      <th>target</th>\n",
       "    </tr>\n",
       "  </thead>\n",
       "  <tbody>\n",
       "    <tr>\n",
       "      <th>0</th>\n",
       "      <td>ISIC_0015657</td>\n",
       "      <td>0.3</td>\n",
       "    </tr>\n",
       "    <tr>\n",
       "      <th>1</th>\n",
       "      <td>ISIC_0015729</td>\n",
       "      <td>0.3</td>\n",
       "    </tr>\n",
       "    <tr>\n",
       "      <th>2</th>\n",
       "      <td>ISIC_0015740</td>\n",
       "      <td>0.3</td>\n",
       "    </tr>\n",
       "  </tbody>\n",
       "</table>\n",
       "</div>"
      ],
      "text/plain": [
       "        isic_id  target\n",
       "0  ISIC_0015657     0.3\n",
       "1  ISIC_0015729     0.3\n",
       "2  ISIC_0015740     0.3"
      ]
     },
     "execution_count": 14,
     "metadata": {},
     "output_type": "execute_result"
    }
   ],
   "source": [
    "sample_submission.head()"
   ]
  },
  {
   "cell_type": "code",
   "execution_count": 15,
   "id": "44f54a25",
   "metadata": {
    "execution": {
     "iopub.execute_input": "2025-03-10T10:40:04.556419Z",
     "iopub.status.busy": "2025-03-10T10:40:04.556203Z",
     "iopub.status.idle": "2025-03-10T10:40:13.618252Z",
     "shell.execute_reply": "2025-03-10T10:40:13.617359Z"
    },
    "papermill": {
     "duration": 9.104822,
     "end_time": "2025-03-10T10:40:13.619825",
     "exception": false,
     "start_time": "2025-03-10T10:40:04.515003",
     "status": "completed"
    },
    "tags": []
   },
   "outputs": [
    {
     "name": "stdout",
     "output_type": "stream",
     "text": [
      "<class 'pandas.core.frame.DataFrame'>\n",
      "RangeIndex: 401059 entries, 0 to 401058\n",
      "Data columns (total 55 columns):\n",
      " #   Column                        Non-Null Count   Dtype  \n",
      "---  ------                        --------------   -----  \n",
      " 0   isic_id                       401059 non-null  object \n",
      " 1   target                        401059 non-null  int64  \n",
      " 2   patient_id                    401059 non-null  object \n",
      " 3   age_approx                    398261 non-null  float64\n",
      " 4   sex                           389542 non-null  object \n",
      " 5   anatom_site_general           395303 non-null  object \n",
      " 6   clin_size_long_diam_mm        401059 non-null  float64\n",
      " 7   image_type                    401059 non-null  object \n",
      " 8   tbp_tile_type                 401059 non-null  object \n",
      " 9   tbp_lv_A                      401059 non-null  float64\n",
      " 10  tbp_lv_Aext                   401059 non-null  float64\n",
      " 11  tbp_lv_B                      401059 non-null  float64\n",
      " 12  tbp_lv_Bext                   401059 non-null  float64\n",
      " 13  tbp_lv_C                      401059 non-null  float64\n",
      " 14  tbp_lv_Cext                   401059 non-null  float64\n",
      " 15  tbp_lv_H                      401059 non-null  float64\n",
      " 16  tbp_lv_Hext                   401059 non-null  float64\n",
      " 17  tbp_lv_L                      401059 non-null  float64\n",
      " 18  tbp_lv_Lext                   401059 non-null  float64\n",
      " 19  tbp_lv_areaMM2                401059 non-null  float64\n",
      " 20  tbp_lv_area_perim_ratio       401059 non-null  float64\n",
      " 21  tbp_lv_color_std_mean         401059 non-null  float64\n",
      " 22  tbp_lv_deltaA                 401059 non-null  float64\n",
      " 23  tbp_lv_deltaB                 401059 non-null  float64\n",
      " 24  tbp_lv_deltaL                 401059 non-null  float64\n",
      " 25  tbp_lv_deltaLB                401059 non-null  float64\n",
      " 26  tbp_lv_deltaLBnorm            401059 non-null  float64\n",
      " 27  tbp_lv_eccentricity           401059 non-null  float64\n",
      " 28  tbp_lv_location               401059 non-null  object \n",
      " 29  tbp_lv_location_simple        401059 non-null  object \n",
      " 30  tbp_lv_minorAxisMM            401059 non-null  float64\n",
      " 31  tbp_lv_nevi_confidence        401059 non-null  float64\n",
      " 32  tbp_lv_norm_border            401059 non-null  float64\n",
      " 33  tbp_lv_norm_color             401059 non-null  float64\n",
      " 34  tbp_lv_perimeterMM            401059 non-null  float64\n",
      " 35  tbp_lv_radial_color_std_max   401059 non-null  float64\n",
      " 36  tbp_lv_stdL                   401059 non-null  float64\n",
      " 37  tbp_lv_stdLExt                401059 non-null  float64\n",
      " 38  tbp_lv_symm_2axis             401059 non-null  float64\n",
      " 39  tbp_lv_symm_2axis_angle       401059 non-null  int64  \n",
      " 40  tbp_lv_x                      401059 non-null  float64\n",
      " 41  tbp_lv_y                      401059 non-null  float64\n",
      " 42  tbp_lv_z                      401059 non-null  float64\n",
      " 43  attribution                   401059 non-null  object \n",
      " 44  copyright_license             401059 non-null  object \n",
      " 45  lesion_id                     22058 non-null   object \n",
      " 46  iddx_full                     401059 non-null  object \n",
      " 47  iddx_1                        401059 non-null  object \n",
      " 48  iddx_2                        1068 non-null    object \n",
      " 49  iddx_3                        1065 non-null    object \n",
      " 50  iddx_4                        551 non-null     object \n",
      " 51  iddx_5                        1 non-null       object \n",
      " 52  mel_mitotic_index             53 non-null      object \n",
      " 53  mel_thick_mm                  63 non-null      float64\n",
      " 54  tbp_lv_dnn_lesion_confidence  401059 non-null  float64\n",
      "dtypes: float64(35), int64(2), object(18)\n",
      "memory usage: 168.3+ MB\n"
     ]
    }
   ],
   "source": [
    "train_metadata = pd.read_csv(os.path.join(current_dir,'train-metadata.csv'),low_memory=False)\n",
    "train_metadata.info()"
   ]
  },
  {
   "cell_type": "code",
   "execution_count": 16,
   "id": "e1972626",
   "metadata": {
    "execution": {
     "iopub.execute_input": "2025-03-10T10:40:13.703877Z",
     "iopub.status.busy": "2025-03-10T10:40:13.703603Z",
     "iopub.status.idle": "2025-03-10T10:40:13.723288Z",
     "shell.execute_reply": "2025-03-10T10:40:13.722466Z"
    },
    "papermill": {
     "duration": 0.062379,
     "end_time": "2025-03-10T10:40:13.724453",
     "exception": false,
     "start_time": "2025-03-10T10:40:13.662074",
     "status": "completed"
    },
    "tags": []
   },
   "outputs": [
    {
     "data": {
      "text/html": [
       "<div>\n",
       "<style scoped>\n",
       "    .dataframe tbody tr th:only-of-type {\n",
       "        vertical-align: middle;\n",
       "    }\n",
       "\n",
       "    .dataframe tbody tr th {\n",
       "        vertical-align: top;\n",
       "    }\n",
       "\n",
       "    .dataframe thead th {\n",
       "        text-align: right;\n",
       "    }\n",
       "</style>\n",
       "<table border=\"1\" class=\"dataframe\">\n",
       "  <thead>\n",
       "    <tr style=\"text-align: right;\">\n",
       "      <th></th>\n",
       "      <th>isic_id</th>\n",
       "      <th>target</th>\n",
       "      <th>patient_id</th>\n",
       "      <th>age_approx</th>\n",
       "      <th>sex</th>\n",
       "      <th>anatom_site_general</th>\n",
       "      <th>clin_size_long_diam_mm</th>\n",
       "      <th>image_type</th>\n",
       "      <th>tbp_tile_type</th>\n",
       "      <th>tbp_lv_A</th>\n",
       "      <th>...</th>\n",
       "      <th>lesion_id</th>\n",
       "      <th>iddx_full</th>\n",
       "      <th>iddx_1</th>\n",
       "      <th>iddx_2</th>\n",
       "      <th>iddx_3</th>\n",
       "      <th>iddx_4</th>\n",
       "      <th>iddx_5</th>\n",
       "      <th>mel_mitotic_index</th>\n",
       "      <th>mel_thick_mm</th>\n",
       "      <th>tbp_lv_dnn_lesion_confidence</th>\n",
       "    </tr>\n",
       "  </thead>\n",
       "  <tbody>\n",
       "    <tr>\n",
       "      <th>0</th>\n",
       "      <td>ISIC_0015670</td>\n",
       "      <td>0</td>\n",
       "      <td>IP_1235828</td>\n",
       "      <td>60.0</td>\n",
       "      <td>male</td>\n",
       "      <td>lower extremity</td>\n",
       "      <td>3.04</td>\n",
       "      <td>TBP tile: close-up</td>\n",
       "      <td>3D: white</td>\n",
       "      <td>20.244422</td>\n",
       "      <td>...</td>\n",
       "      <td>NaN</td>\n",
       "      <td>Benign</td>\n",
       "      <td>Benign</td>\n",
       "      <td>NaN</td>\n",
       "      <td>NaN</td>\n",
       "      <td>NaN</td>\n",
       "      <td>NaN</td>\n",
       "      <td>NaN</td>\n",
       "      <td>NaN</td>\n",
       "      <td>97.517282</td>\n",
       "    </tr>\n",
       "    <tr>\n",
       "      <th>1</th>\n",
       "      <td>ISIC_0015845</td>\n",
       "      <td>0</td>\n",
       "      <td>IP_8170065</td>\n",
       "      <td>60.0</td>\n",
       "      <td>male</td>\n",
       "      <td>head/neck</td>\n",
       "      <td>1.10</td>\n",
       "      <td>TBP tile: close-up</td>\n",
       "      <td>3D: white</td>\n",
       "      <td>31.712570</td>\n",
       "      <td>...</td>\n",
       "      <td>IL_6727506</td>\n",
       "      <td>Benign</td>\n",
       "      <td>Benign</td>\n",
       "      <td>NaN</td>\n",
       "      <td>NaN</td>\n",
       "      <td>NaN</td>\n",
       "      <td>NaN</td>\n",
       "      <td>NaN</td>\n",
       "      <td>NaN</td>\n",
       "      <td>3.141455</td>\n",
       "    </tr>\n",
       "    <tr>\n",
       "      <th>2</th>\n",
       "      <td>ISIC_0015864</td>\n",
       "      <td>0</td>\n",
       "      <td>IP_6724798</td>\n",
       "      <td>60.0</td>\n",
       "      <td>male</td>\n",
       "      <td>posterior torso</td>\n",
       "      <td>3.40</td>\n",
       "      <td>TBP tile: close-up</td>\n",
       "      <td>3D: XP</td>\n",
       "      <td>22.575830</td>\n",
       "      <td>...</td>\n",
       "      <td>NaN</td>\n",
       "      <td>Benign</td>\n",
       "      <td>Benign</td>\n",
       "      <td>NaN</td>\n",
       "      <td>NaN</td>\n",
       "      <td>NaN</td>\n",
       "      <td>NaN</td>\n",
       "      <td>NaN</td>\n",
       "      <td>NaN</td>\n",
       "      <td>99.804040</td>\n",
       "    </tr>\n",
       "    <tr>\n",
       "      <th>3</th>\n",
       "      <td>ISIC_0015902</td>\n",
       "      <td>0</td>\n",
       "      <td>IP_4111386</td>\n",
       "      <td>65.0</td>\n",
       "      <td>male</td>\n",
       "      <td>anterior torso</td>\n",
       "      <td>3.22</td>\n",
       "      <td>TBP tile: close-up</td>\n",
       "      <td>3D: XP</td>\n",
       "      <td>14.242329</td>\n",
       "      <td>...</td>\n",
       "      <td>NaN</td>\n",
       "      <td>Benign</td>\n",
       "      <td>Benign</td>\n",
       "      <td>NaN</td>\n",
       "      <td>NaN</td>\n",
       "      <td>NaN</td>\n",
       "      <td>NaN</td>\n",
       "      <td>NaN</td>\n",
       "      <td>NaN</td>\n",
       "      <td>99.989998</td>\n",
       "    </tr>\n",
       "    <tr>\n",
       "      <th>4</th>\n",
       "      <td>ISIC_0024200</td>\n",
       "      <td>0</td>\n",
       "      <td>IP_8313778</td>\n",
       "      <td>55.0</td>\n",
       "      <td>male</td>\n",
       "      <td>anterior torso</td>\n",
       "      <td>2.73</td>\n",
       "      <td>TBP tile: close-up</td>\n",
       "      <td>3D: white</td>\n",
       "      <td>24.725520</td>\n",
       "      <td>...</td>\n",
       "      <td>NaN</td>\n",
       "      <td>Benign</td>\n",
       "      <td>Benign</td>\n",
       "      <td>NaN</td>\n",
       "      <td>NaN</td>\n",
       "      <td>NaN</td>\n",
       "      <td>NaN</td>\n",
       "      <td>NaN</td>\n",
       "      <td>NaN</td>\n",
       "      <td>70.442510</td>\n",
       "    </tr>\n",
       "  </tbody>\n",
       "</table>\n",
       "<p>5 rows × 55 columns</p>\n",
       "</div>"
      ],
      "text/plain": [
       "        isic_id  target  patient_id  age_approx   sex anatom_site_general  \\\n",
       "0  ISIC_0015670       0  IP_1235828        60.0  male     lower extremity   \n",
       "1  ISIC_0015845       0  IP_8170065        60.0  male           head/neck   \n",
       "2  ISIC_0015864       0  IP_6724798        60.0  male     posterior torso   \n",
       "3  ISIC_0015902       0  IP_4111386        65.0  male      anterior torso   \n",
       "4  ISIC_0024200       0  IP_8313778        55.0  male      anterior torso   \n",
       "\n",
       "   clin_size_long_diam_mm          image_type tbp_tile_type   tbp_lv_A  ...  \\\n",
       "0                    3.04  TBP tile: close-up     3D: white  20.244422  ...   \n",
       "1                    1.10  TBP tile: close-up     3D: white  31.712570  ...   \n",
       "2                    3.40  TBP tile: close-up        3D: XP  22.575830  ...   \n",
       "3                    3.22  TBP tile: close-up        3D: XP  14.242329  ...   \n",
       "4                    2.73  TBP tile: close-up     3D: white  24.725520  ...   \n",
       "\n",
       "    lesion_id  iddx_full  iddx_1  iddx_2  iddx_3  iddx_4  iddx_5  \\\n",
       "0         NaN     Benign  Benign     NaN     NaN     NaN     NaN   \n",
       "1  IL_6727506     Benign  Benign     NaN     NaN     NaN     NaN   \n",
       "2         NaN     Benign  Benign     NaN     NaN     NaN     NaN   \n",
       "3         NaN     Benign  Benign     NaN     NaN     NaN     NaN   \n",
       "4         NaN     Benign  Benign     NaN     NaN     NaN     NaN   \n",
       "\n",
       "   mel_mitotic_index  mel_thick_mm  tbp_lv_dnn_lesion_confidence  \n",
       "0                NaN           NaN                     97.517282  \n",
       "1                NaN           NaN                      3.141455  \n",
       "2                NaN           NaN                     99.804040  \n",
       "3                NaN           NaN                     99.989998  \n",
       "4                NaN           NaN                     70.442510  \n",
       "\n",
       "[5 rows x 55 columns]"
      ]
     },
     "execution_count": 16,
     "metadata": {},
     "output_type": "execute_result"
    }
   ],
   "source": [
    "train_metadata.head()"
   ]
  },
  {
   "cell_type": "code",
   "execution_count": 17,
   "id": "9bc77e55",
   "metadata": {
    "execution": {
     "iopub.execute_input": "2025-03-10T10:40:13.807508Z",
     "iopub.status.busy": "2025-03-10T10:40:13.807232Z",
     "iopub.status.idle": "2025-03-10T10:40:13.822235Z",
     "shell.execute_reply": "2025-03-10T10:40:13.821464Z"
    },
    "papermill": {
     "duration": 0.057807,
     "end_time": "2025-03-10T10:40:13.823478",
     "exception": false,
     "start_time": "2025-03-10T10:40:13.765671",
     "status": "completed"
    },
    "tags": []
   },
   "outputs": [
    {
     "name": "stdout",
     "output_type": "stream",
     "text": [
      "<class 'pandas.core.frame.DataFrame'>\n",
      "RangeIndex: 3 entries, 0 to 2\n",
      "Data columns (total 44 columns):\n",
      " #   Column                       Non-Null Count  Dtype  \n",
      "---  ------                       --------------  -----  \n",
      " 0   isic_id                      3 non-null      object \n",
      " 1   patient_id                   3 non-null      object \n",
      " 2   age_approx                   3 non-null      float64\n",
      " 3   sex                          3 non-null      object \n",
      " 4   anatom_site_general          3 non-null      object \n",
      " 5   clin_size_long_diam_mm       3 non-null      float64\n",
      " 6   image_type                   3 non-null      object \n",
      " 7   tbp_tile_type                3 non-null      object \n",
      " 8   tbp_lv_A                     3 non-null      float64\n",
      " 9   tbp_lv_Aext                  3 non-null      float64\n",
      " 10  tbp_lv_B                     3 non-null      float64\n",
      " 11  tbp_lv_Bext                  3 non-null      float64\n",
      " 12  tbp_lv_C                     3 non-null      float64\n",
      " 13  tbp_lv_Cext                  3 non-null      float64\n",
      " 14  tbp_lv_H                     3 non-null      float64\n",
      " 15  tbp_lv_Hext                  3 non-null      float64\n",
      " 16  tbp_lv_L                     3 non-null      float64\n",
      " 17  tbp_lv_Lext                  3 non-null      float64\n",
      " 18  tbp_lv_areaMM2               3 non-null      float64\n",
      " 19  tbp_lv_area_perim_ratio      3 non-null      float64\n",
      " 20  tbp_lv_color_std_mean        3 non-null      float64\n",
      " 21  tbp_lv_deltaA                3 non-null      float64\n",
      " 22  tbp_lv_deltaB                3 non-null      float64\n",
      " 23  tbp_lv_deltaL                3 non-null      float64\n",
      " 24  tbp_lv_deltaLB               3 non-null      float64\n",
      " 25  tbp_lv_deltaLBnorm           3 non-null      float64\n",
      " 26  tbp_lv_eccentricity          3 non-null      float64\n",
      " 27  tbp_lv_location              3 non-null      object \n",
      " 28  tbp_lv_location_simple       3 non-null      object \n",
      " 29  tbp_lv_minorAxisMM           3 non-null      float64\n",
      " 30  tbp_lv_nevi_confidence       3 non-null      float64\n",
      " 31  tbp_lv_norm_border           3 non-null      float64\n",
      " 32  tbp_lv_norm_color            3 non-null      float64\n",
      " 33  tbp_lv_perimeterMM           3 non-null      float64\n",
      " 34  tbp_lv_radial_color_std_max  3 non-null      float64\n",
      " 35  tbp_lv_stdL                  3 non-null      float64\n",
      " 36  tbp_lv_stdLExt               3 non-null      float64\n",
      " 37  tbp_lv_symm_2axis            3 non-null      float64\n",
      " 38  tbp_lv_symm_2axis_angle      3 non-null      int64  \n",
      " 39  tbp_lv_x                     3 non-null      float64\n",
      " 40  tbp_lv_y                     3 non-null      float64\n",
      " 41  tbp_lv_z                     3 non-null      float64\n",
      " 42  attribution                  3 non-null      object \n",
      " 43  copyright_license            3 non-null      object \n",
      "dtypes: float64(33), int64(1), object(10)\n",
      "memory usage: 1.2+ KB\n"
     ]
    }
   ],
   "source": [
    "test_metadata = pd.read_csv(os.path.join(current_dir,'test-metadata.csv'),low_memory=False)\n",
    "test_metadata.info()"
   ]
  },
  {
   "cell_type": "code",
   "execution_count": 18,
   "id": "3d50715a",
   "metadata": {
    "execution": {
     "iopub.execute_input": "2025-03-10T10:40:13.907083Z",
     "iopub.status.busy": "2025-03-10T10:40:13.906862Z",
     "iopub.status.idle": "2025-03-10T10:40:13.922485Z",
     "shell.execute_reply": "2025-03-10T10:40:13.921760Z"
    },
    "papermill": {
     "duration": 0.058473,
     "end_time": "2025-03-10T10:40:13.923785",
     "exception": false,
     "start_time": "2025-03-10T10:40:13.865312",
     "status": "completed"
    },
    "tags": []
   },
   "outputs": [
    {
     "data": {
      "text/html": [
       "<div>\n",
       "<style scoped>\n",
       "    .dataframe tbody tr th:only-of-type {\n",
       "        vertical-align: middle;\n",
       "    }\n",
       "\n",
       "    .dataframe tbody tr th {\n",
       "        vertical-align: top;\n",
       "    }\n",
       "\n",
       "    .dataframe thead th {\n",
       "        text-align: right;\n",
       "    }\n",
       "</style>\n",
       "<table border=\"1\" class=\"dataframe\">\n",
       "  <thead>\n",
       "    <tr style=\"text-align: right;\">\n",
       "      <th></th>\n",
       "      <th>isic_id</th>\n",
       "      <th>patient_id</th>\n",
       "      <th>age_approx</th>\n",
       "      <th>sex</th>\n",
       "      <th>anatom_site_general</th>\n",
       "      <th>clin_size_long_diam_mm</th>\n",
       "      <th>image_type</th>\n",
       "      <th>tbp_tile_type</th>\n",
       "      <th>tbp_lv_A</th>\n",
       "      <th>tbp_lv_Aext</th>\n",
       "      <th>...</th>\n",
       "      <th>tbp_lv_radial_color_std_max</th>\n",
       "      <th>tbp_lv_stdL</th>\n",
       "      <th>tbp_lv_stdLExt</th>\n",
       "      <th>tbp_lv_symm_2axis</th>\n",
       "      <th>tbp_lv_symm_2axis_angle</th>\n",
       "      <th>tbp_lv_x</th>\n",
       "      <th>tbp_lv_y</th>\n",
       "      <th>tbp_lv_z</th>\n",
       "      <th>attribution</th>\n",
       "      <th>copyright_license</th>\n",
       "    </tr>\n",
       "  </thead>\n",
       "  <tbody>\n",
       "    <tr>\n",
       "      <th>0</th>\n",
       "      <td>ISIC_0015657</td>\n",
       "      <td>IP_6074337</td>\n",
       "      <td>45.0</td>\n",
       "      <td>male</td>\n",
       "      <td>posterior torso</td>\n",
       "      <td>2.70</td>\n",
       "      <td>TBP tile: close-up</td>\n",
       "      <td>3D: XP</td>\n",
       "      <td>22.80433</td>\n",
       "      <td>20.007270</td>\n",
       "      <td>...</td>\n",
       "      <td>0.304827</td>\n",
       "      <td>1.281532</td>\n",
       "      <td>2.299935</td>\n",
       "      <td>0.479339</td>\n",
       "      <td>20</td>\n",
       "      <td>-155.06510</td>\n",
       "      <td>1511.222000</td>\n",
       "      <td>113.980100</td>\n",
       "      <td>Memorial Sloan Kettering Cancer Center</td>\n",
       "      <td>CC-BY</td>\n",
       "    </tr>\n",
       "    <tr>\n",
       "      <th>1</th>\n",
       "      <td>ISIC_0015729</td>\n",
       "      <td>IP_1664139</td>\n",
       "      <td>35.0</td>\n",
       "      <td>female</td>\n",
       "      <td>lower extremity</td>\n",
       "      <td>2.52</td>\n",
       "      <td>TBP tile: close-up</td>\n",
       "      <td>3D: XP</td>\n",
       "      <td>16.64867</td>\n",
       "      <td>9.657964</td>\n",
       "      <td>...</td>\n",
       "      <td>0.000000</td>\n",
       "      <td>1.271940</td>\n",
       "      <td>2.011223</td>\n",
       "      <td>0.426230</td>\n",
       "      <td>25</td>\n",
       "      <td>-112.36924</td>\n",
       "      <td>629.535889</td>\n",
       "      <td>-15.019287</td>\n",
       "      <td>Frazer Institute, The University of Queensland...</td>\n",
       "      <td>CC-BY</td>\n",
       "    </tr>\n",
       "    <tr>\n",
       "      <th>2</th>\n",
       "      <td>ISIC_0015740</td>\n",
       "      <td>IP_7142616</td>\n",
       "      <td>65.0</td>\n",
       "      <td>male</td>\n",
       "      <td>posterior torso</td>\n",
       "      <td>3.16</td>\n",
       "      <td>TBP tile: close-up</td>\n",
       "      <td>3D: XP</td>\n",
       "      <td>24.25384</td>\n",
       "      <td>19.937380</td>\n",
       "      <td>...</td>\n",
       "      <td>0.230742</td>\n",
       "      <td>1.080308</td>\n",
       "      <td>2.705857</td>\n",
       "      <td>0.366071</td>\n",
       "      <td>110</td>\n",
       "      <td>-84.29282</td>\n",
       "      <td>1303.978000</td>\n",
       "      <td>-28.576050</td>\n",
       "      <td>FNQH Cairns</td>\n",
       "      <td>CC-BY</td>\n",
       "    </tr>\n",
       "  </tbody>\n",
       "</table>\n",
       "<p>3 rows × 44 columns</p>\n",
       "</div>"
      ],
      "text/plain": [
       "        isic_id  patient_id  age_approx     sex anatom_site_general  \\\n",
       "0  ISIC_0015657  IP_6074337        45.0    male     posterior torso   \n",
       "1  ISIC_0015729  IP_1664139        35.0  female     lower extremity   \n",
       "2  ISIC_0015740  IP_7142616        65.0    male     posterior torso   \n",
       "\n",
       "   clin_size_long_diam_mm          image_type tbp_tile_type  tbp_lv_A  \\\n",
       "0                    2.70  TBP tile: close-up        3D: XP  22.80433   \n",
       "1                    2.52  TBP tile: close-up        3D: XP  16.64867   \n",
       "2                    3.16  TBP tile: close-up        3D: XP  24.25384   \n",
       "\n",
       "   tbp_lv_Aext  ...  tbp_lv_radial_color_std_max  tbp_lv_stdL  tbp_lv_stdLExt  \\\n",
       "0    20.007270  ...                     0.304827     1.281532        2.299935   \n",
       "1     9.657964  ...                     0.000000     1.271940        2.011223   \n",
       "2    19.937380  ...                     0.230742     1.080308        2.705857   \n",
       "\n",
       "   tbp_lv_symm_2axis  tbp_lv_symm_2axis_angle   tbp_lv_x     tbp_lv_y  \\\n",
       "0           0.479339                       20 -155.06510  1511.222000   \n",
       "1           0.426230                       25 -112.36924   629.535889   \n",
       "2           0.366071                      110  -84.29282  1303.978000   \n",
       "\n",
       "     tbp_lv_z                                        attribution  \\\n",
       "0  113.980100             Memorial Sloan Kettering Cancer Center   \n",
       "1  -15.019287  Frazer Institute, The University of Queensland...   \n",
       "2  -28.576050                                        FNQH Cairns   \n",
       "\n",
       "   copyright_license  \n",
       "0              CC-BY  \n",
       "1              CC-BY  \n",
       "2              CC-BY  \n",
       "\n",
       "[3 rows x 44 columns]"
      ]
     },
     "execution_count": 18,
     "metadata": {},
     "output_type": "execute_result"
    }
   ],
   "source": [
    "test_metadata.head()"
   ]
  },
  {
   "cell_type": "markdown",
   "id": "7263bc69",
   "metadata": {
    "papermill": {
     "duration": 0.040997,
     "end_time": "2025-03-10T10:40:14.006319",
     "exception": false,
     "start_time": "2025-03-10T10:40:13.965322",
     "status": "completed"
    },
    "tags": []
   },
   "source": [
    "#### Load Image Byte String\n",
    "\n",
    "In this competition, images are provided as byte strings. The following code snippet demonstrates how to load these images into memory. One might wonder why the provided jpeg images aren't being used in the /train-image folder for training. This is because testing images are not provided as JPEG images; instead, they are provided as byte strings. Why use byte strings? They occupy significantly less memory compared to np.array representations.\n"
   ]
  },
  {
   "cell_type": "code",
   "execution_count": 19,
   "id": "0af8c2b9",
   "metadata": {
    "execution": {
     "iopub.execute_input": "2025-03-10T10:40:14.090125Z",
     "iopub.status.busy": "2025-03-10T10:40:14.089877Z",
     "iopub.status.idle": "2025-03-10T10:40:14.106595Z",
     "shell.execute_reply": "2025-03-10T10:40:14.105791Z"
    },
    "papermill": {
     "duration": 0.060331,
     "end_time": "2025-03-10T10:40:14.107822",
     "exception": false,
     "start_time": "2025-03-10T10:40:14.047491",
     "status": "completed"
    },
    "tags": []
   },
   "outputs": [],
   "source": [
    "# image sample visualization\n",
    "training_validation_hdf5 = h5py.File(f\"{current_dir}/train-image.hdf5\", 'r')\n",
    "testing_hdf5 = h5py.File(f\"{current_dir}/test-image.hdf5\", 'r')"
   ]
  },
  {
   "cell_type": "code",
   "execution_count": 20,
   "id": "5bf7fcbc",
   "metadata": {
    "execution": {
     "iopub.execute_input": "2025-03-10T10:40:14.191987Z",
     "iopub.status.busy": "2025-03-10T10:40:14.191773Z",
     "iopub.status.idle": "2025-03-10T10:40:14.337559Z",
     "shell.execute_reply": "2025-03-10T10:40:14.336706Z"
    },
    "papermill": {
     "duration": 0.189186,
     "end_time": "2025-03-10T10:40:14.338810",
     "exception": false,
     "start_time": "2025-03-10T10:40:14.149624",
     "status": "completed"
    },
    "tags": []
   },
   "outputs": [
    {
     "name": "stdout",
     "output_type": "stream",
     "text": [
      "Image ISIC_1472148:\n",
      "Shape:(117, 117, 3)\n"
     ]
    },
    {
     "data": {
      "image/jpeg": "[encoded data removed]",
      "image/png": "[encoded data removed]",
      "text/plain": [
       "<PIL.Image.Image image mode=RGB size=117x117>"
      ]
     },
     "metadata": {},
     "output_type": "display_data"
    },
    {
     "name": "stdout",
     "output_type": "stream",
     "text": [
      "Image ISIC_2153690:\n",
      "Shape:(131, 131, 3)\n"
     ]
    },
    {
     "data": {
      "image/jpeg": "[encoded data removed]",
      "image/png": "[encoded data removed]",
      "text/plain": [
       "<PIL.Image.Image image mode=RGB size=131x131>"
      ]
     },
     "metadata": {},
     "output_type": "display_data"
    }
   ],
   "source": [
    "# sample randomly two images from the train dataset\n",
    "img_sample = train_metadata['isic_id'].sample(n=2).to_list()\n",
    "\n",
    "# load the image from byte arrays, \n",
    "byte_str = [training_validation_hdf5[isic_id][()] for isic_id in img_sample]\n",
    "\n",
    "# convert byte str to numpy array\n",
    "img_arr = [np.frombuffer(byte, np.uint8) for byte in byte_str]\n",
    "\n",
    "# convert cv2 image\n",
    "img_cv2 = [cv2.imdecode(nparr, cv2.IMREAD_COLOR) for nparr in img_arr] \n",
    "for ind,val in enumerate(img_cv2):\n",
    "    print(f\"Image {img_sample[ind]}:\")\n",
    "    print(f\"Shape:{val.shape}\")\n",
    "    cv2_imshow(val)"
   ]
  },
  {
   "cell_type": "code",
   "execution_count": 21,
   "id": "b4980684",
   "metadata": {
    "execution": {
     "iopub.execute_input": "2025-03-10T10:40:14.428411Z",
     "iopub.status.busy": "2025-03-10T10:40:14.428121Z",
     "iopub.status.idle": "2025-03-10T10:40:14.449815Z",
     "shell.execute_reply": "2025-03-10T10:40:14.449040Z"
    },
    "papermill": {
     "duration": 0.066806,
     "end_time": "2025-03-10T10:40:14.451068",
     "exception": false,
     "start_time": "2025-03-10T10:40:14.384262",
     "status": "completed"
    },
    "tags": []
   },
   "outputs": [
    {
     "name": "stdout",
     "output_type": "stream",
     "text": [
      "Image ISIC_0015729:\n",
      "Shape:(125, 125, 3)\n"
     ]
    },
    {
     "data": {
      "image/jpeg": "[encoded data removed]",
      "image/png": "[encoded data removed]",
      "text/plain": [
       "<PIL.Image.Image image mode=RGB size=125x125>"
      ]
     },
     "metadata": {},
     "output_type": "display_data"
    },
    {
     "name": "stdout",
     "output_type": "stream",
     "text": [
      "Image ISIC_0015657:\n",
      "Shape:(141, 141, 3)\n"
     ]
    },
    {
     "data": {
      "image/jpeg": "[encoded data removed]",
      "image/png": "[encoded data removed]",
      "text/plain": [
       "<PIL.Image.Image image mode=RGB size=141x141>"
      ]
     },
     "metadata": {},
     "output_type": "display_data"
    },
    {
     "name": "stdout",
     "output_type": "stream",
     "text": [
      "Image ISIC_0015740:\n",
      "Shape:(119, 119, 3)\n"
     ]
    },
    {
     "data": {
      "image/jpeg": "[encoded data removed]",
      "image/png": "[encoded data removed]",
      "text/plain": [
       "<PIL.Image.Image image mode=RGB size=119x119>"
      ]
     },
     "metadata": {},
     "output_type": "display_data"
    }
   ],
   "source": [
    "# sample randomly two images from the train dataset\n",
    "img_sample = test_metadata['isic_id'].sample(n=3).to_list()\n",
    "\n",
    "# load the image from byte arrays, \n",
    "byte_str = [testing_hdf5[isic_id][()] for isic_id in img_sample]\n",
    "\n",
    "# convert byte str to numpy array\n",
    "img_arr = [np.frombuffer(byte, np.uint8) for byte in byte_str]\n",
    "\n",
    "# convert cv2 image\n",
    "img_cv2 = [cv2.imdecode(nparr, cv2.IMREAD_COLOR) for nparr in img_arr] \n",
    "for ind,val in enumerate(img_cv2):\n",
    "    print(f\"Image {img_sample[ind]}:\")\n",
    "    print(f\"Shape:{val.shape}\")\n",
    "    cv2_imshow(val)"
   ]
  },
  {
   "cell_type": "markdown",
   "id": "e73fb94b",
   "metadata": {
    "papermill": {
     "duration": 0.044555,
     "end_time": "2025-03-10T10:40:14.541029",
     "exception": false,
     "start_time": "2025-03-10T10:40:14.496474",
     "status": "completed"
    },
    "tags": []
   },
   "source": [
    "## Preprocessing "
   ]
  },
  {
   "cell_type": "code",
   "execution_count": 22,
   "id": "fa0126e5",
   "metadata": {
    "execution": {
     "iopub.execute_input": "2025-03-10T10:40:14.631856Z",
     "iopub.status.busy": "2025-03-10T10:40:14.631538Z",
     "iopub.status.idle": "2025-03-10T10:40:14.641769Z",
     "shell.execute_reply": "2025-03-10T10:40:14.640949Z"
    },
    "papermill": {
     "duration": 0.056911,
     "end_time": "2025-03-10T10:40:14.642995",
     "exception": false,
     "start_time": "2025-03-10T10:40:14.586084",
     "status": "completed"
    },
    "tags": []
   },
   "outputs": [],
   "source": [
    "class DataPreprocessor:\n",
    "    def __init__(self):\n",
    "        self.preprocessor = None\n",
    "        self.train_columns = None\n",
    "\n",
    "    def fit_transform(self, df):\n",
    "        \"\"\"Preprocess training data and store transformations.\"\"\"\n",
    "        df = df.copy()\n",
    "        df = self._drop_irrelevant_columns(df)\n",
    "        df = self._drop_train_only_columns(df)\n",
    "        categorical_cols, numerical_cols = self._identify_column_types(df)\n",
    "        \n",
    "        # Define preprocessing pipelines\n",
    "        numerical_pipeline = Pipeline([\n",
    "            (\"imputer\", KNNImputer()),\n",
    "            (\"scaler\", StandardScaler())\n",
    "        ])\n",
    "        \n",
    "        categorical_pipeline = Pipeline([\n",
    "            (\"onehot\", OneHotEncoder(handle_unknown=\"ignore\"))\n",
    "        ])\n",
    "        \n",
    "        self.preprocessor = ColumnTransformer([\n",
    "            (\"num\", numerical_pipeline, numerical_cols),\n",
    "            (\"cat\", categorical_pipeline, categorical_cols)\n",
    "        ])\n",
    "        \n",
    "        transformed_data = self.preprocessor.fit_transform(df)\n",
    "        \n",
    "        cat_feature_names = self.preprocessor.named_transformers_[\"cat\"].named_steps[\"onehot\"].get_feature_names_out(categorical_cols)\n",
    "        all_columns = numerical_cols + list(cat_feature_names)\n",
    "        \n",
    "        df_processed = pd.DataFrame(transformed_data, columns=all_columns)\n",
    "        df_processed[\"isic_id\"] = df[\"isic_id\"].values\n",
    "        df_processed[\"target\"] = df[\"target\"].values\n",
    "        \n",
    "        self.train_columns = df_processed.columns  # Store train columns\n",
    "        return df_processed\n",
    "\n",
    "    def transform(self, df):\n",
    "        \"\"\"Preprocess test data using stored transformations from training.\"\"\"\n",
    "        df = df.copy()\n",
    "        df = self._drop_irrelevant_columns(df)\n",
    "        \n",
    "        transformed_data = self.preprocessor.transform(df)\n",
    "        cat_feature_names = self.preprocessor.named_transformers_[\"cat\"].named_steps[\"onehot\"].get_feature_names_out()\n",
    "        all_columns = self.train_columns[:-2]  # Exclude 'isic_id' and 'target'\n",
    "        \n",
    "        df_processed = pd.DataFrame(transformed_data, columns=all_columns)\n",
    "        df_processed[\"isic_id\"] = df[\"isic_id\"].values\n",
    "        # df_processed[\"target\"] = df[\"target\"].values\n",
    "        \n",
    "        # Align test dataset with train columns\n",
    "        df_processed = self._align_train_test_columns(df_processed)\n",
    "        return df_processed\n",
    "\n",
    "    def _drop_irrelevant_columns(self, df):\n",
    "        \"\"\"Remove unnecessary columns.\"\"\"\n",
    "        return df.drop(columns=['patient_id','image_type', 'tbp_tile_type', 'attribution', 'copyright_license'], errors=\"ignore\")\n",
    "\n",
    "    def _drop_train_only_columns(self,df):\n",
    "        \"\"\"Remove columns that are present only in the train set and not in the test set\"\"\"\n",
    "        drop_train_only_columns = [\n",
    "            'lesion_id', 'iddx_full', 'iddx_1', 'iddx_2', 'iddx_3', 'iddx_4', 'iddx_5',\n",
    "            'mel_mitotic_index', 'mel_thick_mm', 'tbp_lv_dnn_lesion_confidence'\n",
    "            ]\n",
    "        return df.drop(columns=drop_train_only_columns,errors='ignore')\n",
    "        \n",
    "\n",
    "    def _identify_column_types(self, df):\n",
    "        \"\"\"Identify categorical and numerical columns, excluding 'isic_id' and 'target'.\"\"\"\n",
    "        categorical_cols = df.select_dtypes(include=['object']).columns.tolist()\n",
    "        numerical_cols = df.select_dtypes(include=['int64', 'float64']).columns.tolist()\n",
    "        categorical_cols = [col for col in categorical_cols if col != \"isic_id\"]\n",
    "        numerical_cols = [col for col in numerical_cols if col != \"target\"]\n",
    "        return categorical_cols, numerical_cols\n",
    "    \n",
    "    def _align_train_test_columns(self, df):\n",
    "        \"\"\"Ensure test data has the same columns as train data.\"\"\"\n",
    "        train_cols = list(self.train_columns)\n",
    "        train_cols.remove('target')\n",
    "        missing_cols = set(train_cols) - set(df.columns)\n",
    "        for col in missing_cols:\n",
    "            df[col] = 0\n",
    "        return df[train_cols]\n"
   ]
  },
  {
   "cell_type": "code",
   "execution_count": 23,
   "id": "aafaef9b",
   "metadata": {
    "execution": {
     "iopub.execute_input": "2025-03-10T10:40:14.733305Z",
     "iopub.status.busy": "2025-03-10T10:40:14.733079Z",
     "iopub.status.idle": "2025-03-10T10:40:21.084993Z",
     "shell.execute_reply": "2025-03-10T10:40:21.084169Z"
    },
    "papermill": {
     "duration": 6.398799,
     "end_time": "2025-03-10T10:40:21.086625",
     "exception": false,
     "start_time": "2025-03-10T10:40:14.687826",
     "status": "completed"
    },
    "tags": []
   },
   "outputs": [],
   "source": [
    "train_metadata = pd.read_csv(os.path.join(current_dir, 'train-metadata.csv'), low_memory=False)\n",
    "test_metadata = pd.read_csv(os.path.join(current_dir, 'test-metadata.csv'), low_memory=False)"
   ]
  },
  {
   "cell_type": "code",
   "execution_count": 24,
   "id": "c8ba854d",
   "metadata": {
    "execution": {
     "iopub.execute_input": "2025-03-10T10:40:21.181808Z",
     "iopub.status.busy": "2025-03-10T10:40:21.181470Z",
     "iopub.status.idle": "2025-03-10T10:42:21.245287Z",
     "shell.execute_reply": "2025-03-10T10:42:21.244518Z"
    },
    "papermill": {
     "duration": 120.112657,
     "end_time": "2025-03-10T10:42:21.246980",
     "exception": false,
     "start_time": "2025-03-10T10:40:21.134323",
     "status": "completed"
    },
    "tags": []
   },
   "outputs": [],
   "source": [
    "data_object = DataPreprocessor()\n",
    "train_metadata_processed = data_object.fit_transform(train_metadata)\n",
    "test_metadata_processed = data_object.transform(test_metadata)\n",
    "# train_metadata_processed = train_metadata.ffill().bfill()\n",
    "# test_metadata_processed = test_metadata.ffill().bfill()"
   ]
  },
  {
   "cell_type": "code",
   "execution_count": 25,
   "id": "010c9fde",
   "metadata": {
    "execution": {
     "iopub.execute_input": "2025-03-10T10:42:21.341326Z",
     "iopub.status.busy": "2025-03-10T10:42:21.341047Z",
     "iopub.status.idle": "2025-03-10T10:42:21.426209Z",
     "shell.execute_reply": "2025-03-10T10:42:21.425522Z"
    },
    "papermill": {
     "duration": 0.133829,
     "end_time": "2025-03-10T10:42:21.427645",
     "exception": false,
     "start_time": "2025-03-10T10:42:21.293816",
     "status": "completed"
    },
    "tags": []
   },
   "outputs": [],
   "source": [
    "X_train = train_metadata_processed.drop(columns=['target'])\n",
    "y_train = train_metadata_processed['target']\n",
    "X_test = test_metadata_processed.copy()"
   ]
  },
  {
   "cell_type": "code",
   "execution_count": 26,
   "id": "8d2a794f",
   "metadata": {
    "execution": {
     "iopub.execute_input": "2025-03-10T10:42:21.519849Z",
     "iopub.status.busy": "2025-03-10T10:42:21.519532Z",
     "iopub.status.idle": "2025-03-10T10:42:21.808470Z",
     "shell.execute_reply": "2025-03-10T10:42:21.807521Z"
    },
    "papermill": {
     "duration": 0.336433,
     "end_time": "2025-03-10T10:42:21.810036",
     "exception": false,
     "start_time": "2025-03-10T10:42:21.473603",
     "status": "completed"
    },
    "tags": []
   },
   "outputs": [],
   "source": [
    "X_train_final = X_train.copy()\n",
    "y_train_final = y_train.copy()"
   ]
  },
  {
   "cell_type": "code",
   "execution_count": 27,
   "id": "41f55145",
   "metadata": {
    "execution": {
     "iopub.execute_input": "2025-03-10T10:42:21.904559Z",
     "iopub.status.busy": "2025-03-10T10:42:21.904230Z",
     "iopub.status.idle": "2025-03-10T10:42:22.018080Z",
     "shell.execute_reply": "2025-03-10T10:42:22.017077Z"
    },
    "papermill": {
     "duration": 0.162497,
     "end_time": "2025-03-10T10:42:22.019509",
     "exception": false,
     "start_time": "2025-03-10T10:42:21.857012",
     "status": "completed"
    },
    "tags": []
   },
   "outputs": [
    {
     "name": "stdout",
     "output_type": "stream",
     "text": [
      "<class 'pandas.core.frame.DataFrame'>\n",
      "RangeIndex: 401059 entries, 0 to 401058\n",
      "Data columns (total 73 columns):\n",
      " #   Column                                   Non-Null Count   Dtype  \n",
      "---  ------                                   --------------   -----  \n",
      " 0   age_approx                               401059 non-null  float64\n",
      " 1   clin_size_long_diam_mm                   401059 non-null  float64\n",
      " 2   tbp_lv_A                                 401059 non-null  float64\n",
      " 3   tbp_lv_Aext                              401059 non-null  float64\n",
      " 4   tbp_lv_B                                 401059 non-null  float64\n",
      " 5   tbp_lv_Bext                              401059 non-null  float64\n",
      " 6   tbp_lv_C                                 401059 non-null  float64\n",
      " 7   tbp_lv_Cext                              401059 non-null  float64\n",
      " 8   tbp_lv_H                                 401059 non-null  float64\n",
      " 9   tbp_lv_Hext                              401059 non-null  float64\n",
      " 10  tbp_lv_L                                 401059 non-null  float64\n",
      " 11  tbp_lv_Lext                              401059 non-null  float64\n",
      " 12  tbp_lv_areaMM2                           401059 non-null  float64\n",
      " 13  tbp_lv_area_perim_ratio                  401059 non-null  float64\n",
      " 14  tbp_lv_color_std_mean                    401059 non-null  float64\n",
      " 15  tbp_lv_deltaA                            401059 non-null  float64\n",
      " 16  tbp_lv_deltaB                            401059 non-null  float64\n",
      " 17  tbp_lv_deltaL                            401059 non-null  float64\n",
      " 18  tbp_lv_deltaLB                           401059 non-null  float64\n",
      " 19  tbp_lv_deltaLBnorm                       401059 non-null  float64\n",
      " 20  tbp_lv_eccentricity                      401059 non-null  float64\n",
      " 21  tbp_lv_minorAxisMM                       401059 non-null  float64\n",
      " 22  tbp_lv_nevi_confidence                   401059 non-null  float64\n",
      " 23  tbp_lv_norm_border                       401059 non-null  float64\n",
      " 24  tbp_lv_norm_color                        401059 non-null  float64\n",
      " 25  tbp_lv_perimeterMM                       401059 non-null  float64\n",
      " 26  tbp_lv_radial_color_std_max              401059 non-null  float64\n",
      " 27  tbp_lv_stdL                              401059 non-null  float64\n",
      " 28  tbp_lv_stdLExt                           401059 non-null  float64\n",
      " 29  tbp_lv_symm_2axis                        401059 non-null  float64\n",
      " 30  tbp_lv_symm_2axis_angle                  401059 non-null  float64\n",
      " 31  tbp_lv_x                                 401059 non-null  float64\n",
      " 32  tbp_lv_y                                 401059 non-null  float64\n",
      " 33  tbp_lv_z                                 401059 non-null  float64\n",
      " 34  sex_female                               401059 non-null  float64\n",
      " 35  sex_male                                 401059 non-null  float64\n",
      " 36  sex_nan                                  401059 non-null  float64\n",
      " 37  anatom_site_general_anterior torso       401059 non-null  float64\n",
      " 38  anatom_site_general_head/neck            401059 non-null  float64\n",
      " 39  anatom_site_general_lower extremity      401059 non-null  float64\n",
      " 40  anatom_site_general_posterior torso      401059 non-null  float64\n",
      " 41  anatom_site_general_upper extremity      401059 non-null  float64\n",
      " 42  anatom_site_general_nan                  401059 non-null  float64\n",
      " 43  tbp_lv_location_Head & Neck              401059 non-null  float64\n",
      " 44  tbp_lv_location_Left Arm                 401059 non-null  float64\n",
      " 45  tbp_lv_location_Left Arm - Lower         401059 non-null  float64\n",
      " 46  tbp_lv_location_Left Arm - Upper         401059 non-null  float64\n",
      " 47  tbp_lv_location_Left Leg                 401059 non-null  float64\n",
      " 48  tbp_lv_location_Left Leg - Lower         401059 non-null  float64\n",
      " 49  tbp_lv_location_Left Leg - Upper         401059 non-null  float64\n",
      " 50  tbp_lv_location_Right Arm                401059 non-null  float64\n",
      " 51  tbp_lv_location_Right Arm - Lower        401059 non-null  float64\n",
      " 52  tbp_lv_location_Right Arm - Upper        401059 non-null  float64\n",
      " 53  tbp_lv_location_Right Leg                401059 non-null  float64\n",
      " 54  tbp_lv_location_Right Leg - Lower        401059 non-null  float64\n",
      " 55  tbp_lv_location_Right Leg - Upper        401059 non-null  float64\n",
      " 56  tbp_lv_location_Torso Back               401059 non-null  float64\n",
      " 57  tbp_lv_location_Torso Back Bottom Third  401059 non-null  float64\n",
      " 58  tbp_lv_location_Torso Back Middle Third  401059 non-null  float64\n",
      " 59  tbp_lv_location_Torso Back Top Third     401059 non-null  float64\n",
      " 60  tbp_lv_location_Torso Front              401059 non-null  float64\n",
      " 61  tbp_lv_location_Torso Front Bottom Half  401059 non-null  float64\n",
      " 62  tbp_lv_location_Torso Front Top Half     401059 non-null  float64\n",
      " 63  tbp_lv_location_Unknown                  401059 non-null  float64\n",
      " 64  tbp_lv_location_simple_Head & Neck       401059 non-null  float64\n",
      " 65  tbp_lv_location_simple_Left Arm          401059 non-null  float64\n",
      " 66  tbp_lv_location_simple_Left Leg          401059 non-null  float64\n",
      " 67  tbp_lv_location_simple_Right Arm         401059 non-null  float64\n",
      " 68  tbp_lv_location_simple_Right Leg         401059 non-null  float64\n",
      " 69  tbp_lv_location_simple_Torso Back        401059 non-null  float64\n",
      " 70  tbp_lv_location_simple_Torso Front       401059 non-null  float64\n",
      " 71  tbp_lv_location_simple_Unknown           401059 non-null  float64\n",
      " 72  isic_id                                  401059 non-null  object \n",
      "dtypes: float64(72), object(1)\n",
      "memory usage: 223.4+ MB\n"
     ]
    }
   ],
   "source": [
    "X_train_final.info()"
   ]
  },
  {
   "cell_type": "code",
   "execution_count": 28,
   "id": "dfbbca05",
   "metadata": {
    "execution": {
     "iopub.execute_input": "2025-03-10T10:42:22.154233Z",
     "iopub.status.busy": "2025-03-10T10:42:22.153949Z",
     "iopub.status.idle": "2025-03-10T10:42:22.162144Z",
     "shell.execute_reply": "2025-03-10T10:42:22.161394Z"
    },
    "papermill": {
     "duration": 0.097527,
     "end_time": "2025-03-10T10:42:22.163365",
     "exception": false,
     "start_time": "2025-03-10T10:42:22.065838",
     "status": "completed"
    },
    "tags": []
   },
   "outputs": [
    {
     "name": "stdout",
     "output_type": "stream",
     "text": [
      "<class 'pandas.core.series.Series'>\n",
      "RangeIndex: 401059 entries, 0 to 401058\n",
      "Series name: target\n",
      "Non-Null Count   Dtype\n",
      "--------------   -----\n",
      "401059 non-null  int64\n",
      "dtypes: int64(1)\n",
      "memory usage: 3.1 MB\n"
     ]
    }
   ],
   "source": [
    "y_train_final.info()"
   ]
  },
  {
   "cell_type": "code",
   "execution_count": 29,
   "id": "fffac6c5",
   "metadata": {
    "execution": {
     "iopub.execute_input": "2025-03-10T10:42:22.256244Z",
     "iopub.status.busy": "2025-03-10T10:42:22.255971Z",
     "iopub.status.idle": "2025-03-10T10:42:22.266890Z",
     "shell.execute_reply": "2025-03-10T10:42:22.265986Z"
    },
    "papermill": {
     "duration": 0.057925,
     "end_time": "2025-03-10T10:42:22.268057",
     "exception": false,
     "start_time": "2025-03-10T10:42:22.210132",
     "status": "completed"
    },
    "tags": []
   },
   "outputs": [
    {
     "name": "stdout",
     "output_type": "stream",
     "text": [
      "<class 'pandas.core.frame.DataFrame'>\n",
      "RangeIndex: 3 entries, 0 to 2\n",
      "Data columns (total 73 columns):\n",
      " #   Column                                   Non-Null Count  Dtype  \n",
      "---  ------                                   --------------  -----  \n",
      " 0   age_approx                               3 non-null      float64\n",
      " 1   clin_size_long_diam_mm                   3 non-null      float64\n",
      " 2   tbp_lv_A                                 3 non-null      float64\n",
      " 3   tbp_lv_Aext                              3 non-null      float64\n",
      " 4   tbp_lv_B                                 3 non-null      float64\n",
      " 5   tbp_lv_Bext                              3 non-null      float64\n",
      " 6   tbp_lv_C                                 3 non-null      float64\n",
      " 7   tbp_lv_Cext                              3 non-null      float64\n",
      " 8   tbp_lv_H                                 3 non-null      float64\n",
      " 9   tbp_lv_Hext                              3 non-null      float64\n",
      " 10  tbp_lv_L                                 3 non-null      float64\n",
      " 11  tbp_lv_Lext                              3 non-null      float64\n",
      " 12  tbp_lv_areaMM2                           3 non-null      float64\n",
      " 13  tbp_lv_area_perim_ratio                  3 non-null      float64\n",
      " 14  tbp_lv_color_std_mean                    3 non-null      float64\n",
      " 15  tbp_lv_deltaA                            3 non-null      float64\n",
      " 16  tbp_lv_deltaB                            3 non-null      float64\n",
      " 17  tbp_lv_deltaL                            3 non-null      float64\n",
      " 18  tbp_lv_deltaLB                           3 non-null      float64\n",
      " 19  tbp_lv_deltaLBnorm                       3 non-null      float64\n",
      " 20  tbp_lv_eccentricity                      3 non-null      float64\n",
      " 21  tbp_lv_minorAxisMM                       3 non-null      float64\n",
      " 22  tbp_lv_nevi_confidence                   3 non-null      float64\n",
      " 23  tbp_lv_norm_border                       3 non-null      float64\n",
      " 24  tbp_lv_norm_color                        3 non-null      float64\n",
      " 25  tbp_lv_perimeterMM                       3 non-null      float64\n",
      " 26  tbp_lv_radial_color_std_max              3 non-null      float64\n",
      " 27  tbp_lv_stdL                              3 non-null      float64\n",
      " 28  tbp_lv_stdLExt                           3 non-null      float64\n",
      " 29  tbp_lv_symm_2axis                        3 non-null      float64\n",
      " 30  tbp_lv_symm_2axis_angle                  3 non-null      float64\n",
      " 31  tbp_lv_x                                 3 non-null      float64\n",
      " 32  tbp_lv_y                                 3 non-null      float64\n",
      " 33  tbp_lv_z                                 3 non-null      float64\n",
      " 34  sex_female                               3 non-null      float64\n",
      " 35  sex_male                                 3 non-null      float64\n",
      " 36  sex_nan                                  3 non-null      float64\n",
      " 37  anatom_site_general_anterior torso       3 non-null      float64\n",
      " 38  anatom_site_general_head/neck            3 non-null      float64\n",
      " 39  anatom_site_general_lower extremity      3 non-null      float64\n",
      " 40  anatom_site_general_posterior torso      3 non-null      float64\n",
      " 41  anatom_site_general_upper extremity      3 non-null      float64\n",
      " 42  anatom_site_general_nan                  3 non-null      float64\n",
      " 43  tbp_lv_location_Head & Neck              3 non-null      float64\n",
      " 44  tbp_lv_location_Left Arm                 3 non-null      float64\n",
      " 45  tbp_lv_location_Left Arm - Lower         3 non-null      float64\n",
      " 46  tbp_lv_location_Left Arm - Upper         3 non-null      float64\n",
      " 47  tbp_lv_location_Left Leg                 3 non-null      float64\n",
      " 48  tbp_lv_location_Left Leg - Lower         3 non-null      float64\n",
      " 49  tbp_lv_location_Left Leg - Upper         3 non-null      float64\n",
      " 50  tbp_lv_location_Right Arm                3 non-null      float64\n",
      " 51  tbp_lv_location_Right Arm - Lower        3 non-null      float64\n",
      " 52  tbp_lv_location_Right Arm - Upper        3 non-null      float64\n",
      " 53  tbp_lv_location_Right Leg                3 non-null      float64\n",
      " 54  tbp_lv_location_Right Leg - Lower        3 non-null      float64\n",
      " 55  tbp_lv_location_Right Leg - Upper        3 non-null      float64\n",
      " 56  tbp_lv_location_Torso Back               3 non-null      float64\n",
      " 57  tbp_lv_location_Torso Back Bottom Third  3 non-null      float64\n",
      " 58  tbp_lv_location_Torso Back Middle Third  3 non-null      float64\n",
      " 59  tbp_lv_location_Torso Back Top Third     3 non-null      float64\n",
      " 60  tbp_lv_location_Torso Front              3 non-null      float64\n",
      " 61  tbp_lv_location_Torso Front Bottom Half  3 non-null      float64\n",
      " 62  tbp_lv_location_Torso Front Top Half     3 non-null      float64\n",
      " 63  tbp_lv_location_Unknown                  3 non-null      float64\n",
      " 64  tbp_lv_location_simple_Head & Neck       3 non-null      float64\n",
      " 65  tbp_lv_location_simple_Left Arm          3 non-null      float64\n",
      " 66  tbp_lv_location_simple_Left Leg          3 non-null      float64\n",
      " 67  tbp_lv_location_simple_Right Arm         3 non-null      float64\n",
      " 68  tbp_lv_location_simple_Right Leg         3 non-null      float64\n",
      " 69  tbp_lv_location_simple_Torso Back        3 non-null      float64\n",
      " 70  tbp_lv_location_simple_Torso Front       3 non-null      float64\n",
      " 71  tbp_lv_location_simple_Unknown           3 non-null      float64\n",
      " 72  isic_id                                  3 non-null      object \n",
      "dtypes: float64(72), object(1)\n",
      "memory usage: 1.8+ KB\n"
     ]
    }
   ],
   "source": [
    "X_test.info()"
   ]
  },
  {
   "cell_type": "code",
   "execution_count": 30,
   "id": "10079221",
   "metadata": {
    "execution": {
     "iopub.execute_input": "2025-03-10T10:42:22.359598Z",
     "iopub.status.busy": "2025-03-10T10:42:22.359296Z",
     "iopub.status.idle": "2025-03-10T10:42:22.378164Z",
     "shell.execute_reply": "2025-03-10T10:42:22.377422Z"
    },
    "papermill": {
     "duration": 0.065983,
     "end_time": "2025-03-10T10:42:22.379368",
     "exception": false,
     "start_time": "2025-03-10T10:42:22.313385",
     "status": "completed"
    },
    "tags": []
   },
   "outputs": [
    {
     "data": {
      "text/html": [
       "<div>\n",
       "<style scoped>\n",
       "    .dataframe tbody tr th:only-of-type {\n",
       "        vertical-align: middle;\n",
       "    }\n",
       "\n",
       "    .dataframe tbody tr th {\n",
       "        vertical-align: top;\n",
       "    }\n",
       "\n",
       "    .dataframe thead th {\n",
       "        text-align: right;\n",
       "    }\n",
       "</style>\n",
       "<table border=\"1\" class=\"dataframe\">\n",
       "  <thead>\n",
       "    <tr style=\"text-align: right;\">\n",
       "      <th></th>\n",
       "      <th>age_approx</th>\n",
       "      <th>clin_size_long_diam_mm</th>\n",
       "      <th>tbp_lv_A</th>\n",
       "      <th>tbp_lv_Aext</th>\n",
       "      <th>tbp_lv_B</th>\n",
       "      <th>tbp_lv_Bext</th>\n",
       "      <th>tbp_lv_C</th>\n",
       "      <th>tbp_lv_Cext</th>\n",
       "      <th>tbp_lv_H</th>\n",
       "      <th>tbp_lv_Hext</th>\n",
       "      <th>...</th>\n",
       "      <th>tbp_lv_location_Unknown</th>\n",
       "      <th>tbp_lv_location_simple_Head &amp; Neck</th>\n",
       "      <th>tbp_lv_location_simple_Left Arm</th>\n",
       "      <th>tbp_lv_location_simple_Left Leg</th>\n",
       "      <th>tbp_lv_location_simple_Right Arm</th>\n",
       "      <th>tbp_lv_location_simple_Right Leg</th>\n",
       "      <th>tbp_lv_location_simple_Torso Back</th>\n",
       "      <th>tbp_lv_location_simple_Torso Front</th>\n",
       "      <th>tbp_lv_location_simple_Unknown</th>\n",
       "      <th>isic_id</th>\n",
       "    </tr>\n",
       "  </thead>\n",
       "  <tbody>\n",
       "    <tr>\n",
       "      <th>0</th>\n",
       "      <td>-0.959062</td>\n",
       "      <td>-0.706128</td>\n",
       "      <td>0.707672</td>\n",
       "      <td>1.441620</td>\n",
       "      <td>0.019401</td>\n",
       "      <td>0.029138</td>\n",
       "      <td>0.284448</td>\n",
       "      <td>0.562959</td>\n",
       "      <td>-0.621776</td>\n",
       "      <td>-1.330179</td>\n",
       "      <td>...</td>\n",
       "      <td>0.0</td>\n",
       "      <td>0.0</td>\n",
       "      <td>0.0</td>\n",
       "      <td>0.0</td>\n",
       "      <td>0.0</td>\n",
       "      <td>0.0</td>\n",
       "      <td>1.0</td>\n",
       "      <td>0.0</td>\n",
       "      <td>0.0</td>\n",
       "      <td>ISIC_0015657</td>\n",
       "    </tr>\n",
       "    <tr>\n",
       "      <th>1</th>\n",
       "      <td>-1.696232</td>\n",
       "      <td>-0.809394</td>\n",
       "      <td>-0.831441</td>\n",
       "      <td>-1.490710</td>\n",
       "      <td>0.575110</td>\n",
       "      <td>0.136361</td>\n",
       "      <td>0.119378</td>\n",
       "      <td>-0.362720</td>\n",
       "      <td>1.331464</td>\n",
       "      <td>1.716605</td>\n",
       "      <td>...</td>\n",
       "      <td>0.0</td>\n",
       "      <td>0.0</td>\n",
       "      <td>0.0</td>\n",
       "      <td>1.0</td>\n",
       "      <td>0.0</td>\n",
       "      <td>0.0</td>\n",
       "      <td>0.0</td>\n",
       "      <td>0.0</td>\n",
       "      <td>0.0</td>\n",
       "      <td>ISIC_0015729</td>\n",
       "    </tr>\n",
       "    <tr>\n",
       "      <th>2</th>\n",
       "      <td>0.515280</td>\n",
       "      <td>-0.442225</td>\n",
       "      <td>1.070096</td>\n",
       "      <td>1.421817</td>\n",
       "      <td>0.413357</td>\n",
       "      <td>0.328180</td>\n",
       "      <td>0.727544</td>\n",
       "      <td>0.779689</td>\n",
       "      <td>-0.575811</td>\n",
       "      <td>-1.079823</td>\n",
       "      <td>...</td>\n",
       "      <td>0.0</td>\n",
       "      <td>0.0</td>\n",
       "      <td>0.0</td>\n",
       "      <td>0.0</td>\n",
       "      <td>0.0</td>\n",
       "      <td>0.0</td>\n",
       "      <td>1.0</td>\n",
       "      <td>0.0</td>\n",
       "      <td>0.0</td>\n",
       "      <td>ISIC_0015740</td>\n",
       "    </tr>\n",
       "  </tbody>\n",
       "</table>\n",
       "<p>3 rows × 73 columns</p>\n",
       "</div>"
      ],
      "text/plain": [
       "   age_approx  clin_size_long_diam_mm  tbp_lv_A  tbp_lv_Aext  tbp_lv_B  \\\n",
       "0   -0.959062               -0.706128  0.707672     1.441620  0.019401   \n",
       "1   -1.696232               -0.809394 -0.831441    -1.490710  0.575110   \n",
       "2    0.515280               -0.442225  1.070096     1.421817  0.413357   \n",
       "\n",
       "   tbp_lv_Bext  tbp_lv_C  tbp_lv_Cext  tbp_lv_H  tbp_lv_Hext  ...  \\\n",
       "0     0.029138  0.284448     0.562959 -0.621776    -1.330179  ...   \n",
       "1     0.136361  0.119378    -0.362720  1.331464     1.716605  ...   \n",
       "2     0.328180  0.727544     0.779689 -0.575811    -1.079823  ...   \n",
       "\n",
       "   tbp_lv_location_Unknown  tbp_lv_location_simple_Head & Neck  \\\n",
       "0                      0.0                                 0.0   \n",
       "1                      0.0                                 0.0   \n",
       "2                      0.0                                 0.0   \n",
       "\n",
       "   tbp_lv_location_simple_Left Arm  tbp_lv_location_simple_Left Leg  \\\n",
       "0                              0.0                              0.0   \n",
       "1                              0.0                              1.0   \n",
       "2                              0.0                              0.0   \n",
       "\n",
       "   tbp_lv_location_simple_Right Arm  tbp_lv_location_simple_Right Leg  \\\n",
       "0                               0.0                               0.0   \n",
       "1                               0.0                               0.0   \n",
       "2                               0.0                               0.0   \n",
       "\n",
       "   tbp_lv_location_simple_Torso Back  tbp_lv_location_simple_Torso Front  \\\n",
       "0                                1.0                                 0.0   \n",
       "1                                0.0                                 0.0   \n",
       "2                                1.0                                 0.0   \n",
       "\n",
       "   tbp_lv_location_simple_Unknown       isic_id  \n",
       "0                             0.0  ISIC_0015657  \n",
       "1                             0.0  ISIC_0015729  \n",
       "2                             0.0  ISIC_0015740  \n",
       "\n",
       "[3 rows x 73 columns]"
      ]
     },
     "execution_count": 30,
     "metadata": {},
     "output_type": "execute_result"
    }
   ],
   "source": [
    "X_test.head()"
   ]
  },
  {
   "cell_type": "code",
   "execution_count": 31,
   "id": "8f579e5f",
   "metadata": {
    "execution": {
     "iopub.execute_input": "2025-03-10T10:42:22.474138Z",
     "iopub.status.busy": "2025-03-10T10:42:22.473864Z",
     "iopub.status.idle": "2025-03-10T10:42:22.484750Z",
     "shell.execute_reply": "2025-03-10T10:42:22.484048Z"
    },
    "papermill": {
     "duration": 0.059243,
     "end_time": "2025-03-10T10:42:22.485873",
     "exception": false,
     "start_time": "2025-03-10T10:42:22.426630",
     "status": "completed"
    },
    "tags": []
   },
   "outputs": [
    {
     "name": "stdout",
     "output_type": "stream",
     "text": [
      "original_ratio: 0.0009808668566836218\n"
     ]
    }
   ],
   "source": [
    "print(\"original_ratio:\",y_train_final.value_counts()[1]/y_train_final.value_counts()[0])"
   ]
  },
  {
   "cell_type": "markdown",
   "id": "606016a5",
   "metadata": {
    "papermill": {
     "duration": 0.045709,
     "end_time": "2025-03-10T10:42:22.577897",
     "exception": false,
     "start_time": "2025-03-10T10:42:22.532188",
     "status": "completed"
    },
    "tags": []
   },
   "source": [
    "## Handling class imbalance"
   ]
  },
  {
   "cell_type": "code",
   "execution_count": 32,
   "id": "a0e9b616",
   "metadata": {
    "execution": {
     "iopub.execute_input": "2025-03-10T10:42:22.671578Z",
     "iopub.status.busy": "2025-03-10T10:42:22.671237Z",
     "iopub.status.idle": "2025-03-10T10:42:22.675577Z",
     "shell.execute_reply": "2025-03-10T10:42:22.674748Z"
    },
    "papermill": {
     "duration": 0.052962,
     "end_time": "2025-03-10T10:42:22.676852",
     "exception": false,
     "start_time": "2025-03-10T10:42:22.623890",
     "status": "completed"
    },
    "tags": []
   },
   "outputs": [],
   "source": [
    "def resampler_data(X, Y):\n",
    "    \n",
    "    # Apply undersampling only on numerical data\n",
    "    resampler = RandomUnderSampler(sampling_strategy=0.1,)\n",
    "    X_resampled, Y_resampled = resampler.fit_resample(X,Y)\n",
    "    \n",
    "    # now apply over sampling for the minorit class\n",
    "    resampler = RandomOverSampler(sampling_strategy=0.2)\n",
    "    X_resampled, Y_resampled = resampler.fit_resample(X_resampled, Y_resampled)\n",
    "\n",
    "    print(\"X_final shape;\",X_resampled.shape)\n",
    "    print(\"Y_final shape:\",Y_resampled.shape)\n",
    "    \n",
    "    return X_resampled, Y_resampled"
   ]
  },
  {
   "cell_type": "code",
   "execution_count": 33,
   "id": "d603ffdd",
   "metadata": {
    "execution": {
     "iopub.execute_input": "2025-03-10T10:42:22.771760Z",
     "iopub.status.busy": "2025-03-10T10:42:22.771443Z",
     "iopub.status.idle": "2025-03-10T10:42:22.954233Z",
     "shell.execute_reply": "2025-03-10T10:42:22.953269Z"
    },
    "papermill": {
     "duration": 0.231275,
     "end_time": "2025-03-10T10:42:22.955573",
     "exception": false,
     "start_time": "2025-03-10T10:42:22.724298",
     "status": "completed"
    },
    "tags": []
   },
   "outputs": [
    {
     "name": "stdout",
     "output_type": "stream",
     "text": [
      "X_final shape; (4716, 73)\n",
      "Y_final shape: (4716,)\n"
     ]
    }
   ],
   "source": [
    "X_train_final, y_train_final = resampler_data(X_train_final, y_train_final)"
   ]
  },
  {
   "cell_type": "code",
   "execution_count": 34,
   "id": "2aac5132",
   "metadata": {
    "execution": {
     "iopub.execute_input": "2025-03-10T10:42:23.050681Z",
     "iopub.status.busy": "2025-03-10T10:42:23.050331Z",
     "iopub.status.idle": "2025-03-10T10:42:23.063810Z",
     "shell.execute_reply": "2025-03-10T10:42:23.063177Z"
    },
    "papermill": {
     "duration": 0.062428,
     "end_time": "2025-03-10T10:42:23.065029",
     "exception": false,
     "start_time": "2025-03-10T10:42:23.002601",
     "status": "completed"
    },
    "tags": []
   },
   "outputs": [],
   "source": [
    "X_train_final, X_val, y_train_final, y_val = train_test_split(\n",
    "    X_train_final, y_train_final, test_size=0.1, stratify=y_train_final, random_state = 63\n",
    ")"
   ]
  },
  {
   "cell_type": "markdown",
   "id": "e8a2236f",
   "metadata": {
    "papermill": {
     "duration": 0.047179,
     "end_time": "2025-03-10T10:42:23.158728",
     "exception": false,
     "start_time": "2025-03-10T10:42:23.111549",
     "status": "completed"
    },
    "tags": []
   },
   "source": [
    "## Dataset input pipeline"
   ]
  },
  {
   "cell_type": "code",
   "execution_count": 35,
   "id": "094a2df8",
   "metadata": {
    "execution": {
     "iopub.execute_input": "2025-03-10T10:42:23.253503Z",
     "iopub.status.busy": "2025-03-10T10:42:23.253174Z",
     "iopub.status.idle": "2025-03-10T10:42:23.256317Z",
     "shell.execute_reply": "2025-03-10T10:42:23.255720Z"
    },
    "papermill": {
     "duration": 0.05284,
     "end_time": "2025-03-10T10:42:23.257655",
     "exception": false,
     "start_time": "2025-03-10T10:42:23.204815",
     "status": "completed"
    },
    "tags": []
   },
   "outputs": [],
   "source": [
    "# Path to images\n",
    "image_dir = '/kaggle/input/isic-2024-challenge/train-image/image'\n",
    "# # Separate features and target\n",
    "# tabular_features = tr_v2.drop(columns=['isic_id', 'target'])\n",
    "# targets = tr_v2['target']"
   ]
  },
  {
   "cell_type": "code",
   "execution_count": 36,
   "id": "935182c8",
   "metadata": {
    "execution": {
     "iopub.execute_input": "2025-03-10T10:42:23.351141Z",
     "iopub.status.busy": "2025-03-10T10:42:23.350853Z",
     "iopub.status.idle": "2025-03-10T10:42:23.354045Z",
     "shell.execute_reply": "2025-03-10T10:42:23.353391Z"
    },
    "papermill": {
     "duration": 0.051401,
     "end_time": "2025-03-10T10:42:23.355254",
     "exception": false,
     "start_time": "2025-03-10T10:42:23.303853",
     "status": "completed"
    },
    "tags": []
   },
   "outputs": [],
   "source": [
    "# # generating the train and val data\n",
    "\n",
    "# def stratified_split(X, y, patient_col='patient_id', test_size=0.2, random_state=42):\n",
    "#     \"\"\"Create stratified split ensuring no patient_id overlap between sets\"\"\"\n",
    "#     patient_targets = pd.DataFrame({\n",
    "#         'patient_id': X[patient_col],\n",
    "#         'target': y\n",
    "#     }).drop_duplicates()\n",
    "    \n",
    "#     train_patients, val_patients = train_test_split(\n",
    "#         patient_targets['patient_id'].unique(),\n",
    "#         test_size=test_size,\n",
    "#         random_state=random_state,\n",
    "#         stratify=patient_targets.groupby('patient_id')['target'].first()\n",
    "#     )\n",
    "    \n",
    "#     train_mask = X[patient_col].isin(train_patients)\n",
    "#     val_mask = X[patient_col].isin(val_patients)\n",
    "    \n",
    "#     return X[train_mask], X[val_mask], y[train_mask], y[val_mask]"
   ]
  },
  {
   "cell_type": "code",
   "execution_count": 37,
   "id": "c07b7198",
   "metadata": {
    "execution": {
     "iopub.execute_input": "2025-03-10T10:42:23.450098Z",
     "iopub.status.busy": "2025-03-10T10:42:23.449810Z",
     "iopub.status.idle": "2025-03-10T10:42:23.452975Z",
     "shell.execute_reply": "2025-03-10T10:42:23.452160Z"
    },
    "papermill": {
     "duration": 0.051945,
     "end_time": "2025-03-10T10:42:23.454106",
     "exception": false,
     "start_time": "2025-03-10T10:42:23.402161",
     "status": "completed"
    },
    "tags": []
   },
   "outputs": [],
   "source": [
    "# # Perform the split\n",
    "# X_train_final, X_val, y_train_final, y_val = stratified_split(\n",
    "#     X_train_resampled, Y_train_resampled\n",
    "# )"
   ]
  },
  {
   "cell_type": "code",
   "execution_count": 38,
   "id": "701c398a",
   "metadata": {
    "execution": {
     "iopub.execute_input": "2025-03-10T10:42:23.547743Z",
     "iopub.status.busy": "2025-03-10T10:42:23.547404Z",
     "iopub.status.idle": "2025-03-10T10:42:23.562952Z",
     "shell.execute_reply": "2025-03-10T10:42:23.562016Z"
    },
    "papermill": {
     "duration": 0.063491,
     "end_time": "2025-03-10T10:42:23.564111",
     "exception": false,
     "start_time": "2025-03-10T10:42:23.500620",
     "status": "completed"
    },
    "tags": []
   },
   "outputs": [
    {
     "name": "stdout",
     "output_type": "stream",
     "text": [
      "<class 'pandas.core.frame.DataFrame'>\n",
      "Index: 4244 entries, 296 to 3741\n",
      "Data columns (total 73 columns):\n",
      " #   Column                                   Non-Null Count  Dtype  \n",
      "---  ------                                   --------------  -----  \n",
      " 0   age_approx                               4244 non-null   float64\n",
      " 1   clin_size_long_diam_mm                   4244 non-null   float64\n",
      " 2   tbp_lv_A                                 4244 non-null   float64\n",
      " 3   tbp_lv_Aext                              4244 non-null   float64\n",
      " 4   tbp_lv_B                                 4244 non-null   float64\n",
      " 5   tbp_lv_Bext                              4244 non-null   float64\n",
      " 6   tbp_lv_C                                 4244 non-null   float64\n",
      " 7   tbp_lv_Cext                              4244 non-null   float64\n",
      " 8   tbp_lv_H                                 4244 non-null   float64\n",
      " 9   tbp_lv_Hext                              4244 non-null   float64\n",
      " 10  tbp_lv_L                                 4244 non-null   float64\n",
      " 11  tbp_lv_Lext                              4244 non-null   float64\n",
      " 12  tbp_lv_areaMM2                           4244 non-null   float64\n",
      " 13  tbp_lv_area_perim_ratio                  4244 non-null   float64\n",
      " 14  tbp_lv_color_std_mean                    4244 non-null   float64\n",
      " 15  tbp_lv_deltaA                            4244 non-null   float64\n",
      " 16  tbp_lv_deltaB                            4244 non-null   float64\n",
      " 17  tbp_lv_deltaL                            4244 non-null   float64\n",
      " 18  tbp_lv_deltaLB                           4244 non-null   float64\n",
      " 19  tbp_lv_deltaLBnorm                       4244 non-null   float64\n",
      " 20  tbp_lv_eccentricity                      4244 non-null   float64\n",
      " 21  tbp_lv_minorAxisMM                       4244 non-null   float64\n",
      " 22  tbp_lv_nevi_confidence                   4244 non-null   float64\n",
      " 23  tbp_lv_norm_border                       4244 non-null   float64\n",
      " 24  tbp_lv_norm_color                        4244 non-null   float64\n",
      " 25  tbp_lv_perimeterMM                       4244 non-null   float64\n",
      " 26  tbp_lv_radial_color_std_max              4244 non-null   float64\n",
      " 27  tbp_lv_stdL                              4244 non-null   float64\n",
      " 28  tbp_lv_stdLExt                           4244 non-null   float64\n",
      " 29  tbp_lv_symm_2axis                        4244 non-null   float64\n",
      " 30  tbp_lv_symm_2axis_angle                  4244 non-null   float64\n",
      " 31  tbp_lv_x                                 4244 non-null   float64\n",
      " 32  tbp_lv_y                                 4244 non-null   float64\n",
      " 33  tbp_lv_z                                 4244 non-null   float64\n",
      " 34  sex_female                               4244 non-null   float64\n",
      " 35  sex_male                                 4244 non-null   float64\n",
      " 36  sex_nan                                  4244 non-null   float64\n",
      " 37  anatom_site_general_anterior torso       4244 non-null   float64\n",
      " 38  anatom_site_general_head/neck            4244 non-null   float64\n",
      " 39  anatom_site_general_lower extremity      4244 non-null   float64\n",
      " 40  anatom_site_general_posterior torso      4244 non-null   float64\n",
      " 41  anatom_site_general_upper extremity      4244 non-null   float64\n",
      " 42  anatom_site_general_nan                  4244 non-null   float64\n",
      " 43  tbp_lv_location_Head & Neck              4244 non-null   float64\n",
      " 44  tbp_lv_location_Left Arm                 4244 non-null   float64\n",
      " 45  tbp_lv_location_Left Arm - Lower         4244 non-null   float64\n",
      " 46  tbp_lv_location_Left Arm - Upper         4244 non-null   float64\n",
      " 47  tbp_lv_location_Left Leg                 4244 non-null   float64\n",
      " 48  tbp_lv_location_Left Leg - Lower         4244 non-null   float64\n",
      " 49  tbp_lv_location_Left Leg - Upper         4244 non-null   float64\n",
      " 50  tbp_lv_location_Right Arm                4244 non-null   float64\n",
      " 51  tbp_lv_location_Right Arm - Lower        4244 non-null   float64\n",
      " 52  tbp_lv_location_Right Arm - Upper        4244 non-null   float64\n",
      " 53  tbp_lv_location_Right Leg                4244 non-null   float64\n",
      " 54  tbp_lv_location_Right Leg - Lower        4244 non-null   float64\n",
      " 55  tbp_lv_location_Right Leg - Upper        4244 non-null   float64\n",
      " 56  tbp_lv_location_Torso Back               4244 non-null   float64\n",
      " 57  tbp_lv_location_Torso Back Bottom Third  4244 non-null   float64\n",
      " 58  tbp_lv_location_Torso Back Middle Third  4244 non-null   float64\n",
      " 59  tbp_lv_location_Torso Back Top Third     4244 non-null   float64\n",
      " 60  tbp_lv_location_Torso Front              4244 non-null   float64\n",
      " 61  tbp_lv_location_Torso Front Bottom Half  4244 non-null   float64\n",
      " 62  tbp_lv_location_Torso Front Top Half     4244 non-null   float64\n",
      " 63  tbp_lv_location_Unknown                  4244 non-null   float64\n",
      " 64  tbp_lv_location_simple_Head & Neck       4244 non-null   float64\n",
      " 65  tbp_lv_location_simple_Left Arm          4244 non-null   float64\n",
      " 66  tbp_lv_location_simple_Left Leg          4244 non-null   float64\n",
      " 67  tbp_lv_location_simple_Right Arm         4244 non-null   float64\n",
      " 68  tbp_lv_location_simple_Right Leg         4244 non-null   float64\n",
      " 69  tbp_lv_location_simple_Torso Back        4244 non-null   float64\n",
      " 70  tbp_lv_location_simple_Torso Front       4244 non-null   float64\n",
      " 71  tbp_lv_location_simple_Unknown           4244 non-null   float64\n",
      " 72  isic_id                                  4244 non-null   object \n",
      "dtypes: float64(72), object(1)\n",
      "memory usage: 2.4+ MB\n"
     ]
    }
   ],
   "source": [
    "X_train_final.info()"
   ]
  },
  {
   "cell_type": "code",
   "execution_count": 39,
   "id": "c7de964d",
   "metadata": {
    "execution": {
     "iopub.execute_input": "2025-03-10T10:42:23.658286Z",
     "iopub.status.busy": "2025-03-10T10:42:23.658011Z",
     "iopub.status.idle": "2025-03-10T10:42:23.663669Z",
     "shell.execute_reply": "2025-03-10T10:42:23.662868Z"
    },
    "papermill": {
     "duration": 0.05416,
     "end_time": "2025-03-10T10:42:23.664904",
     "exception": false,
     "start_time": "2025-03-10T10:42:23.610744",
     "status": "completed"
    },
    "tags": []
   },
   "outputs": [
    {
     "data": {
      "text/plain": [
       "target\n",
       "0    3537\n",
       "1     707\n",
       "Name: count, dtype: int64"
      ]
     },
     "execution_count": 39,
     "metadata": {},
     "output_type": "execute_result"
    }
   ],
   "source": [
    "y_train_final.value_counts()"
   ]
  },
  {
   "cell_type": "code",
   "execution_count": 40,
   "id": "d8ae3c3e",
   "metadata": {
    "execution": {
     "iopub.execute_input": "2025-03-10T10:42:23.761051Z",
     "iopub.status.busy": "2025-03-10T10:42:23.760728Z",
     "iopub.status.idle": "2025-03-10T10:42:23.775233Z",
     "shell.execute_reply": "2025-03-10T10:42:23.774147Z"
    },
    "papermill": {
     "duration": 0.063871,
     "end_time": "2025-03-10T10:42:23.776457",
     "exception": false,
     "start_time": "2025-03-10T10:42:23.712586",
     "status": "completed"
    },
    "tags": []
   },
   "outputs": [
    {
     "name": "stdout",
     "output_type": "stream",
     "text": [
      "<class 'pandas.core.frame.DataFrame'>\n",
      "Index: 472 entries, 3622 to 3887\n",
      "Data columns (total 73 columns):\n",
      " #   Column                                   Non-Null Count  Dtype  \n",
      "---  ------                                   --------------  -----  \n",
      " 0   age_approx                               472 non-null    float64\n",
      " 1   clin_size_long_diam_mm                   472 non-null    float64\n",
      " 2   tbp_lv_A                                 472 non-null    float64\n",
      " 3   tbp_lv_Aext                              472 non-null    float64\n",
      " 4   tbp_lv_B                                 472 non-null    float64\n",
      " 5   tbp_lv_Bext                              472 non-null    float64\n",
      " 6   tbp_lv_C                                 472 non-null    float64\n",
      " 7   tbp_lv_Cext                              472 non-null    float64\n",
      " 8   tbp_lv_H                                 472 non-null    float64\n",
      " 9   tbp_lv_Hext                              472 non-null    float64\n",
      " 10  tbp_lv_L                                 472 non-null    float64\n",
      " 11  tbp_lv_Lext                              472 non-null    float64\n",
      " 12  tbp_lv_areaMM2                           472 non-null    float64\n",
      " 13  tbp_lv_area_perim_ratio                  472 non-null    float64\n",
      " 14  tbp_lv_color_std_mean                    472 non-null    float64\n",
      " 15  tbp_lv_deltaA                            472 non-null    float64\n",
      " 16  tbp_lv_deltaB                            472 non-null    float64\n",
      " 17  tbp_lv_deltaL                            472 non-null    float64\n",
      " 18  tbp_lv_deltaLB                           472 non-null    float64\n",
      " 19  tbp_lv_deltaLBnorm                       472 non-null    float64\n",
      " 20  tbp_lv_eccentricity                      472 non-null    float64\n",
      " 21  tbp_lv_minorAxisMM                       472 non-null    float64\n",
      " 22  tbp_lv_nevi_confidence                   472 non-null    float64\n",
      " 23  tbp_lv_norm_border                       472 non-null    float64\n",
      " 24  tbp_lv_norm_color                        472 non-null    float64\n",
      " 25  tbp_lv_perimeterMM                       472 non-null    float64\n",
      " 26  tbp_lv_radial_color_std_max              472 non-null    float64\n",
      " 27  tbp_lv_stdL                              472 non-null    float64\n",
      " 28  tbp_lv_stdLExt                           472 non-null    float64\n",
      " 29  tbp_lv_symm_2axis                        472 non-null    float64\n",
      " 30  tbp_lv_symm_2axis_angle                  472 non-null    float64\n",
      " 31  tbp_lv_x                                 472 non-null    float64\n",
      " 32  tbp_lv_y                                 472 non-null    float64\n",
      " 33  tbp_lv_z                                 472 non-null    float64\n",
      " 34  sex_female                               472 non-null    float64\n",
      " 35  sex_male                                 472 non-null    float64\n",
      " 36  sex_nan                                  472 non-null    float64\n",
      " 37  anatom_site_general_anterior torso       472 non-null    float64\n",
      " 38  anatom_site_general_head/neck            472 non-null    float64\n",
      " 39  anatom_site_general_lower extremity      472 non-null    float64\n",
      " 40  anatom_site_general_posterior torso      472 non-null    float64\n",
      " 41  anatom_site_general_upper extremity      472 non-null    float64\n",
      " 42  anatom_site_general_nan                  472 non-null    float64\n",
      " 43  tbp_lv_location_Head & Neck              472 non-null    float64\n",
      " 44  tbp_lv_location_Left Arm                 472 non-null    float64\n",
      " 45  tbp_lv_location_Left Arm - Lower         472 non-null    float64\n",
      " 46  tbp_lv_location_Left Arm - Upper         472 non-null    float64\n",
      " 47  tbp_lv_location_Left Leg                 472 non-null    float64\n",
      " 48  tbp_lv_location_Left Leg - Lower         472 non-null    float64\n",
      " 49  tbp_lv_location_Left Leg - Upper         472 non-null    float64\n",
      " 50  tbp_lv_location_Right Arm                472 non-null    float64\n",
      " 51  tbp_lv_location_Right Arm - Lower        472 non-null    float64\n",
      " 52  tbp_lv_location_Right Arm - Upper        472 non-null    float64\n",
      " 53  tbp_lv_location_Right Leg                472 non-null    float64\n",
      " 54  tbp_lv_location_Right Leg - Lower        472 non-null    float64\n",
      " 55  tbp_lv_location_Right Leg - Upper        472 non-null    float64\n",
      " 56  tbp_lv_location_Torso Back               472 non-null    float64\n",
      " 57  tbp_lv_location_Torso Back Bottom Third  472 non-null    float64\n",
      " 58  tbp_lv_location_Torso Back Middle Third  472 non-null    float64\n",
      " 59  tbp_lv_location_Torso Back Top Third     472 non-null    float64\n",
      " 60  tbp_lv_location_Torso Front              472 non-null    float64\n",
      " 61  tbp_lv_location_Torso Front Bottom Half  472 non-null    float64\n",
      " 62  tbp_lv_location_Torso Front Top Half     472 non-null    float64\n",
      " 63  tbp_lv_location_Unknown                  472 non-null    float64\n",
      " 64  tbp_lv_location_simple_Head & Neck       472 non-null    float64\n",
      " 65  tbp_lv_location_simple_Left Arm          472 non-null    float64\n",
      " 66  tbp_lv_location_simple_Left Leg          472 non-null    float64\n",
      " 67  tbp_lv_location_simple_Right Arm         472 non-null    float64\n",
      " 68  tbp_lv_location_simple_Right Leg         472 non-null    float64\n",
      " 69  tbp_lv_location_simple_Torso Back        472 non-null    float64\n",
      " 70  tbp_lv_location_simple_Torso Front       472 non-null    float64\n",
      " 71  tbp_lv_location_simple_Unknown           472 non-null    float64\n",
      " 72  isic_id                                  472 non-null    object \n",
      "dtypes: float64(72), object(1)\n",
      "memory usage: 272.9+ KB\n"
     ]
    }
   ],
   "source": [
    "X_val.info()"
   ]
  },
  {
   "cell_type": "code",
   "execution_count": 41,
   "id": "33dc66ba",
   "metadata": {
    "execution": {
     "iopub.execute_input": "2025-03-10T10:42:23.872001Z",
     "iopub.status.busy": "2025-03-10T10:42:23.871716Z",
     "iopub.status.idle": "2025-03-10T10:42:23.877405Z",
     "shell.execute_reply": "2025-03-10T10:42:23.876746Z"
    },
    "papermill": {
     "duration": 0.054859,
     "end_time": "2025-03-10T10:42:23.878735",
     "exception": false,
     "start_time": "2025-03-10T10:42:23.823876",
     "status": "completed"
    },
    "tags": []
   },
   "outputs": [
    {
     "data": {
      "text/plain": [
       "target\n",
       "0    393\n",
       "1     79\n",
       "Name: count, dtype: int64"
      ]
     },
     "execution_count": 41,
     "metadata": {},
     "output_type": "execute_result"
    }
   ],
   "source": [
    "y_val.value_counts()"
   ]
  },
  {
   "cell_type": "markdown",
   "id": "b0161185",
   "metadata": {
    "papermill": {
     "duration": 0.046961,
     "end_time": "2025-03-10T10:42:23.972724",
     "exception": false,
     "start_time": "2025-03-10T10:42:23.925763",
     "status": "completed"
    },
    "tags": []
   },
   "source": [
    "## Pytorch dataloader"
   ]
  },
  {
   "cell_type": "code",
   "execution_count": 42,
   "id": "be3d1f66",
   "metadata": {
    "execution": {
     "iopub.execute_input": "2025-03-10T10:42:24.068419Z",
     "iopub.status.busy": "2025-03-10T10:42:24.068126Z",
     "iopub.status.idle": "2025-03-10T10:42:24.077167Z",
     "shell.execute_reply": "2025-03-10T10:42:24.076501Z"
    },
    "papermill": {
     "duration": 0.058229,
     "end_time": "2025-03-10T10:42:24.078394",
     "exception": false,
     "start_time": "2025-03-10T10:42:24.020165",
     "status": "completed"
    },
    "tags": []
   },
   "outputs": [],
   "source": [
    "\n",
    "# Image transformation pipeline\n",
    "transform = transforms.Compose([\n",
    "    transforms.ToPILImage(),\n",
    "    transforms.Resize((IMAGE_HEIGHT, IMAGE_WIDTH)),\n",
    "    transforms.RandomHorizontalFlip(),\n",
    "    transforms.ToTensor(),\n",
    "])\n",
    "\n",
    "# Function to load image bytes from HDF5\n",
    "def load_image_bytes(isic_id):\n",
    "    with h5py.File('/kaggle/input/isic-2024-challenge/train-image.hdf5', \"r\") as hdf5_file:\n",
    "        return hdf5_file[isic_id][()]\n",
    "\n",
    "# Custom PyTorch Dataset class\n",
    "class ISICDataset(Dataset):\n",
    "    def __init__(self, X, Y, hdf5_path):\n",
    "        self.tabular_data = X.drop(columns=['isic_id']).values.astype(np.float32)\n",
    "        self.targets = Y.values.astype(np.int32).reshape(-1, 1)\n",
    "        self.isic_ids = X['isic_id'].astype(str).values\n",
    "        self.hdf5_path = hdf5_path\n",
    "        \n",
    "        # Preload images in parallel\n",
    "        self.imgs = [None] * len(self.isic_ids)\n",
    "        with ProcessPoolExecutor(max_workers=8) as executor:\n",
    "            future_to_index = {executor.submit(load_image_bytes, isic_id): i for i, isic_id in enumerate(self.isic_ids)}\n",
    "            for future in tqdm(future_to_index, desc=\"Loading training images\"):\n",
    "                i = future_to_index[future]\n",
    "                self.imgs[i] = future.result()\n",
    "    \n",
    "    def __len__(self):\n",
    "        return len(self.isic_ids)\n",
    "    \n",
    "    def __getitem__(self, idx):\n",
    "        # Load image from preloaded bytes\n",
    "        img_array = np.frombuffer(self.imgs[idx], dtype=np.uint8)\n",
    "        img = cv2.imdecode(img_array, cv2.IMREAD_COLOR)  # Decode as a 3-channel image (H, W, C)\n",
    "        img = cv2.cvtColor(img, cv2.COLOR_BGR2RGB)  # Convert from BGR to RGB\n",
    "        img = transform(img)\n",
    "        \n",
    "        # Tabular data\n",
    "        tabular = torch.tensor(self.tabular_data[idx], dtype=torch.float32)\n",
    "        \n",
    "        # Target label\n",
    "        target = torch.tensor(self.targets[idx], dtype=torch.int64)\n",
    "        \n",
    "        return {\"images\": img, \"tabular\": tabular}, target\n",
    "\n",
    "# Function to create DataLoader\n",
    "def create_dataloader(X, Y, batch_size=32, num_workers=4):\n",
    "    dataset = ISICDataset(X, Y, '/kaggle/input/isic-2024-challenge/train-image.hdf5')\n",
    "    return DataLoader(dataset, batch_size=batch_size, shuffle=True, num_workers=num_workers, pin_memory=True)\n"
   ]
  },
  {
   "cell_type": "code",
   "execution_count": 43,
   "id": "8eb2e18f",
   "metadata": {
    "execution": {
     "iopub.execute_input": "2025-03-10T10:42:24.173668Z",
     "iopub.status.busy": "2025-03-10T10:42:24.173337Z",
     "iopub.status.idle": "2025-03-10T10:42:28.369370Z",
     "shell.execute_reply": "2025-03-10T10:42:28.368239Z"
    },
    "papermill": {
     "duration": 4.245313,
     "end_time": "2025-03-10T10:42:28.371012",
     "exception": false,
     "start_time": "2025-03-10T10:42:24.125699",
     "status": "completed"
    },
    "tags": []
   },
   "outputs": [
    {
     "name": "stderr",
     "output_type": "stream",
     "text": [
      "Loading training images: 100%|██████████| 4244/4244 [00:03<00:00, 1399.15it/s]\n",
      "Loading training images: 100%|██████████| 472/472 [00:00<00:00, 1757.02it/s]\n"
     ]
    }
   ],
   "source": [
    "train_dataloader = create_dataloader(X_train_final,y_train_final,BATCH_SIZE)\n",
    "val_dataloader = create_dataloader(X_val,y_val,BATCH_SIZE)"
   ]
  },
  {
   "cell_type": "code",
   "execution_count": 44,
   "id": "69a749f3",
   "metadata": {
    "execution": {
     "iopub.execute_input": "2025-03-10T10:42:28.469048Z",
     "iopub.status.busy": "2025-03-10T10:42:28.468737Z",
     "iopub.status.idle": "2025-03-10T10:42:28.477141Z",
     "shell.execute_reply": "2025-03-10T10:42:28.476303Z"
    },
    "papermill": {
     "duration": 0.058091,
     "end_time": "2025-03-10T10:42:28.478412",
     "exception": false,
     "start_time": "2025-03-10T10:42:28.420321",
     "status": "completed"
    },
    "tags": []
   },
   "outputs": [],
   "source": [
    "# Image transformation pipeline\n",
    "transform_test = transforms.Compose([\n",
    "    transforms.ToPILImage(),\n",
    "    transforms.Resize((IMAGE_HEIGHT, IMAGE_WIDTH)),\n",
    "    transforms.ToTensor(),\n",
    "])\n",
    "\n",
    "# Function to load image bytes from HDF5\n",
    "def load_image_bytes(isic_id):\n",
    "    with h5py.File('/kaggle/input/isic-2024-challenge/test-image.hdf5', \"r\") as hdf5_file:\n",
    "        return hdf5_file[isic_id][()]\n",
    "\n",
    "# Custom PyTorch Dataset class for test data\n",
    "class ISICTestDataset(Dataset):\n",
    "    def __init__(self, df, hdf5_path):\n",
    "        self.tabular_data = df.drop(columns=['isic_id']).values.astype(np.float32)\n",
    "        self.isic_ids = df['isic_id'].astype(str).values\n",
    "        self.hdf5_path = hdf5_path\n",
    "        \n",
    "        # Preload images in parallel\n",
    "        self.imgs = [None] * len(self.isic_ids)\n",
    "        with ProcessPoolExecutor(max_workers=8) as executor:\n",
    "            future_to_index = {executor.submit(load_image_bytes, isic_id): i for i, isic_id in enumerate(self.isic_ids)}\n",
    "            for future in tqdm(future_to_index, desc=\"Loading testing images\"):\n",
    "                i = future_to_index[future]\n",
    "                self.imgs[i] = future.result()\n",
    "    \n",
    "    def __len__(self):\n",
    "        return len(self.isic_ids)\n",
    "    \n",
    "    def __getitem__(self, idx):\n",
    "        # Load image from preloaded bytes\n",
    "        img_array = np.frombuffer(self.imgs[idx], dtype=np.uint8)\n",
    "        img = cv2.imdecode(img_array, cv2.IMREAD_COLOR)  # Decode as a 3-channel image (H, W, C)\n",
    "        img = cv2.cvtColor(img, cv2.COLOR_BGR2RGB)  # Convert from BGR to RGB\n",
    "        img = transform_test(img)\n",
    "        \n",
    "        # Tabular data\n",
    "        tabular = torch.tensor(self.tabular_data[idx], dtype=torch.float32)\n",
    "        \n",
    "        return {\"images\": img, \"tabular\": tabular}\n",
    "\n",
    "# Function to create DataLoader for test data\n",
    "def create_test_dataloader(df, batch_size=32, num_workers=4):\n",
    "    dataset = ISICTestDataset(df, '/kaggle/input/isic-2024-challenge/test-image.hdf5')\n",
    "    return DataLoader(dataset, batch_size=batch_size, shuffle=False, num_workers=num_workers, pin_memory=True)"
   ]
  },
  {
   "cell_type": "code",
   "execution_count": 45,
   "id": "cfaa7b06",
   "metadata": {
    "execution": {
     "iopub.execute_input": "2025-03-10T10:42:28.574686Z",
     "iopub.status.busy": "2025-03-10T10:42:28.574389Z",
     "iopub.status.idle": "2025-03-10T10:42:28.884291Z",
     "shell.execute_reply": "2025-03-10T10:42:28.883059Z"
    },
    "papermill": {
     "duration": 0.359341,
     "end_time": "2025-03-10T10:42:28.885747",
     "exception": false,
     "start_time": "2025-03-10T10:42:28.526406",
     "status": "completed"
    },
    "tags": []
   },
   "outputs": [
    {
     "name": "stderr",
     "output_type": "stream",
     "text": [
      "Loading testing images: 100%|██████████| 3/3 [00:00<00:00, 360.40it/s]\n"
     ]
    }
   ],
   "source": [
    "test_dataloader = create_test_dataloader(X_test,BATCH_SIZE)"
   ]
  },
  {
   "cell_type": "code",
   "execution_count": 46,
   "id": "5b1961eb",
   "metadata": {
    "execution": {
     "iopub.execute_input": "2025-03-10T10:42:28.984620Z",
     "iopub.status.busy": "2025-03-10T10:42:28.984296Z",
     "iopub.status.idle": "2025-03-10T10:42:28.990486Z",
     "shell.execute_reply": "2025-03-10T10:42:28.989822Z"
    },
    "papermill": {
     "duration": 0.05666,
     "end_time": "2025-03-10T10:42:28.991784",
     "exception": false,
     "start_time": "2025-03-10T10:42:28.935124",
     "status": "completed"
    },
    "tags": []
   },
   "outputs": [],
   "source": [
    "def inspect_batch(dataloader,train=True):\n",
    "    if(train):\n",
    "        for batch in dataloader:\n",
    "            dict1,labels = batch\n",
    "            images = dict1['images']\n",
    "            tabular = dict1['tabular']\n",
    "            \n",
    "            print(f\"Image batch shape: {images.shape}\")\n",
    "            print(f\"Tabular data shape: {tabular.shape}\")\n",
    "            print(f\"Labels shape: {labels.shape}\")\n",
    "            print(f\"\\nData types:\")\n",
    "            print(f\"Images dtype: {images.dtype}\")\n",
    "            print(f\"Tabular dtype: {tabular.dtype}\")\n",
    "            \n",
    "            print(f\"\\nValue ranges:\")\n",
    "            print(f\"Images: (min={images.min().item():.2f}, max={images.max().item():.2f})\")\n",
    "            print(f\"Tabular: (min={tabular.min().item():.2f}, max={tabular.max().item():.2f})\")\n",
    "            \n",
    "            break\n",
    "\n",
    "    else:\n",
    "        for batch in dataloader:\n",
    "            dict1 = batch[\"images\"]\n",
    "            tabular = batch[\"tabular\"]\n",
    "            \n",
    "            print(f\"Image batch shape: {dict1.shape}\")\n",
    "            print(f\"Tabular data shape: {tabular.shape}\")\n",
    "            \n",
    "            print(f\"\\nData types:\")\n",
    "            print(f\"Images dtype: {dict1.dtype}\")\n",
    "            print(f\"Tabular dtype: {tabular.dtype}\")\n",
    "            \n",
    "            print(f\"\\nValue ranges:\")\n",
    "            print(f\"Images: (min={dict1.min().item():.2f}, max={dict1.max().item():.2f})\")\n",
    "            print(f\"Tabular: (min={tabular.min().item():.2f}, max={tabular.max().item():.2f})\")\n",
    "            \n",
    "            break"
   ]
  },
  {
   "cell_type": "code",
   "execution_count": 47,
   "id": "f008db1b",
   "metadata": {
    "execution": {
     "iopub.execute_input": "2025-03-10T10:42:29.090141Z",
     "iopub.status.busy": "2025-03-10T10:42:29.089884Z",
     "iopub.status.idle": "2025-03-10T10:42:30.936707Z",
     "shell.execute_reply": "2025-03-10T10:42:30.935845Z"
    },
    "papermill": {
     "duration": 1.897117,
     "end_time": "2025-03-10T10:42:30.938011",
     "exception": false,
     "start_time": "2025-03-10T10:42:29.040894",
     "status": "completed"
    },
    "tags": []
   },
   "outputs": [
    {
     "name": "stdout",
     "output_type": "stream",
     "text": [
      "Image batch shape: torch.Size([64, 3, 224, 224])\n",
      "Tabular data shape: torch.Size([64, 72])\n",
      "Labels shape: torch.Size([64, 1])\n",
      "\n",
      "Data types:\n",
      "Images dtype: torch.float32\n",
      "Tabular dtype: torch.float32\n",
      "\n",
      "Value ranges:\n",
      "Images: (min=0.00, max=1.00)\n",
      "Tabular: (min=-4.22, max=8.57)\n"
     ]
    }
   ],
   "source": [
    "inspect_batch(train_dataloader)"
   ]
  },
  {
   "cell_type": "code",
   "execution_count": 48,
   "id": "614c6c02",
   "metadata": {
    "execution": {
     "iopub.execute_input": "2025-03-10T10:42:31.037838Z",
     "iopub.status.busy": "2025-03-10T10:42:31.037521Z",
     "iopub.status.idle": "2025-03-10T10:42:31.274273Z",
     "shell.execute_reply": "2025-03-10T10:42:31.273098Z"
    },
    "papermill": {
     "duration": 0.287279,
     "end_time": "2025-03-10T10:42:31.275748",
     "exception": false,
     "start_time": "2025-03-10T10:42:30.988469",
     "status": "completed"
    },
    "tags": []
   },
   "outputs": [
    {
     "name": "stdout",
     "output_type": "stream",
     "text": [
      "Image batch shape: torch.Size([3, 3, 224, 224])\n",
      "Tabular data shape: torch.Size([3, 72])\n",
      "\n",
      "Data types:\n",
      "Images dtype: torch.float32\n",
      "Tabular dtype: torch.float32\n",
      "\n",
      "Value ranges:\n",
      "Images: (min=0.01, max=0.98)\n",
      "Tabular: (min=-1.70, max=1.72)\n"
     ]
    }
   ],
   "source": [
    "inspect_batch(test_dataloader,False)"
   ]
  },
  {
   "cell_type": "markdown",
   "id": "a5bfec46",
   "metadata": {
    "papermill": {
     "duration": 0.048098,
     "end_time": "2025-03-10T10:42:31.373275",
     "exception": false,
     "start_time": "2025-03-10T10:42:31.325177",
     "status": "completed"
    },
    "tags": []
   },
   "source": [
    "## Model definition  "
   ]
  },
  {
   "cell_type": "code",
   "execution_count": 49,
   "id": "5428d33b",
   "metadata": {
    "execution": {
     "iopub.execute_input": "2025-03-10T10:42:31.471926Z",
     "iopub.status.busy": "2025-03-10T10:42:31.471593Z",
     "iopub.status.idle": "2025-03-10T10:42:31.475638Z",
     "shell.execute_reply": "2025-03-10T10:42:31.474908Z"
    },
    "papermill": {
     "duration": 0.054347,
     "end_time": "2025-03-10T10:42:31.476875",
     "exception": false,
     "start_time": "2025-03-10T10:42:31.422528",
     "status": "completed"
    },
    "tags": []
   },
   "outputs": [],
   "source": [
    "os.environ[\"KERAS_BACKEND\"] = \"torch\""
   ]
  },
  {
   "cell_type": "code",
   "execution_count": 50,
   "id": "c8d81dc2",
   "metadata": {
    "execution": {
     "iopub.execute_input": "2025-03-10T10:42:31.577383Z",
     "iopub.status.busy": "2025-03-10T10:42:31.577072Z",
     "iopub.status.idle": "2025-03-10T10:42:31.585641Z",
     "shell.execute_reply": "2025-03-10T10:42:31.584779Z"
    },
    "papermill": {
     "duration": 0.059701,
     "end_time": "2025-03-10T10:42:31.586978",
     "exception": false,
     "start_time": "2025-03-10T10:42:31.527277",
     "status": "completed"
    },
    "tags": []
   },
   "outputs": [],
   "source": [
    "def flops_selective_scan_ref(B=1, L=256, D=768, N=16, with_D=True, with_Z=False, with_Group=True, with_complex=False):\n",
    "    \"\"\"\n",
    "    u: r(B D L)\n",
    "    delta: r(B D L)\n",
    "    A: r(D N)\n",
    "    B: r(B N L)\n",
    "    C: r(B N L)\n",
    "    D: r(D)\n",
    "    z: r(B D L)\n",
    "    delta_bias: r(D), fp32\n",
    "    \n",
    "    ignores:\n",
    "        [.float(), +, .softplus, .shape, new_zeros, repeat, stack, to(dtype), silu] \n",
    "    \"\"\"\n",
    "    import numpy as np\n",
    "    \n",
    "    # fvcore.nn.jit_handles\n",
    "    def get_flops_einsum(input_shapes, equation):\n",
    "        np_arrs = [np.zeros(s) for s in input_shapes]\n",
    "        optim = np.einsum_path(equation, *np_arrs, optimize=\"optimal\")[1]\n",
    "        for line in optim.split(\"\\n\"):\n",
    "            if \"optimized flop\" in line.lower():\n",
    "                # divided by 2 because we count MAC (multiply-add counted as one flop)\n",
    "                flop = float(np.floor(float(line.split(\":\")[-1]) / 2))\n",
    "                return flop\n",
    "    \n",
    "\n",
    "    assert not with_complex\n",
    "\n",
    "    flops = 0 # below code flops = 0\n",
    "    if False:\n",
    "        ...\n",
    "        \"\"\"\n",
    "        dtype_in = u.dtype\n",
    "        u = u.float()\n",
    "        delta = delta.float()\n",
    "        if delta_bias is not None:\n",
    "            delta = delta + delta_bias[..., None].float()\n",
    "        if delta_softplus:\n",
    "            delta = F.softplus(delta)\n",
    "        batch, dim, dstate = u.shape[0], A.shape[0], A.shape[1]\n",
    "        is_variable_B = B.dim() >= 3\n",
    "        is_variable_C = C.dim() >= 3\n",
    "        if A.is_complex():\n",
    "            if is_variable_B:\n",
    "                B = torch.view_as_complex(rearrange(B.float(), \"... (L two) -> ... L two\", two=2))\n",
    "            if is_variable_C:\n",
    "                C = torch.view_as_complex(rearrange(C.float(), \"... (L two) -> ... L two\", two=2))\n",
    "        else:\n",
    "            B = B.float()\n",
    "            C = C.float()\n",
    "        x = A.new_zeros((batch, dim, dstate))\n",
    "        ys = []\n",
    "        \"\"\"\n",
    "\n",
    "    flops += get_flops_einsum([[B, D, L], [D, N]], \"bdl,dn->bdln\")\n",
    "    if with_Group:\n",
    "        flops += get_flops_einsum([[B, D, L], [B, N, L], [B, D, L]], \"bdl,bnl,bdl->bdln\")\n",
    "    else:\n",
    "        flops += get_flops_einsum([[B, D, L], [B, D, N, L], [B, D, L]], \"bdl,bdnl,bdl->bdln\")\n",
    "    if False:\n",
    "        ...\n",
    "        \"\"\"\n",
    "        deltaA = torch.exp(torch.einsum('bdl,dn->bdln', delta, A))\n",
    "        if not is_variable_B:\n",
    "            deltaB_u = torch.einsum('bdl,dn,bdl->bdln', delta, B, u)\n",
    "        else:\n",
    "            if B.dim() == 3:\n",
    "                deltaB_u = torch.einsum('bdl,bnl,bdl->bdln', delta, B, u)\n",
    "            else:\n",
    "                B = repeat(B, \"B G N L -> B (G H) N L\", H=dim // B.shape[1])\n",
    "                deltaB_u = torch.einsum('bdl,bdnl,bdl->bdln', delta, B, u)\n",
    "        if is_variable_C and C.dim() == 4:\n",
    "            C = repeat(C, \"B G N L -> B (G H) N L\", H=dim // C.shape[1])\n",
    "        last_state = None\n",
    "        \"\"\"\n",
    "    \n",
    "    in_for_flops = B * D * N   \n",
    "    if with_Group:\n",
    "        in_for_flops += get_flops_einsum([[B, D, N], [B, D, N]], \"bdn,bdn->bd\")\n",
    "    else:\n",
    "        in_for_flops += get_flops_einsum([[B, D, N], [B, N]], \"bdn,bn->bd\")\n",
    "    flops += L * in_for_flops \n",
    "    if False:\n",
    "        ...\n",
    "        \"\"\"\n",
    "        for i in range(u.shape[2]):\n",
    "            x = deltaA[:, :, i] * x + deltaB_u[:, :, i]\n",
    "            if not is_variable_C:\n",
    "                y = torch.einsum('bdn,dn->bd', x, C)\n",
    "            else:\n",
    "                if C.dim() == 3:\n",
    "                    y = torch.einsum('bdn,bn->bd', x, C[:, :, i])\n",
    "                else:\n",
    "                    y = torch.einsum('bdn,bdn->bd', x, C[:, :, :, i])\n",
    "            if i == u.shape[2] - 1:\n",
    "                last_state = x\n",
    "            if y.is_complex():\n",
    "                y = y.real * 2\n",
    "            ys.append(y)\n",
    "        y = torch.stack(ys, dim=2) # (batch dim L)\n",
    "        \"\"\"\n",
    "\n",
    "    if with_D:\n",
    "        flops += B * D * L\n",
    "    if with_Z:\n",
    "        flops += B * D * L\n",
    "    if False:\n",
    "        ...\n",
    "        \"\"\"\n",
    "        out = y if D is None else y + u * rearrange(D, \"d -> d 1\")\n",
    "        if z is not None:\n",
    "            out = out * F.silu(z)\n",
    "        out = out.to(dtype=dtype_in)\n",
    "        \"\"\"\n",
    "    \n",
    "    return flops\n"
   ]
  },
  {
   "cell_type": "code",
   "execution_count": 51,
   "id": "33e6ba40",
   "metadata": {
    "execution": {
     "iopub.execute_input": "2025-03-10T10:42:31.684931Z",
     "iopub.status.busy": "2025-03-10T10:42:31.684633Z",
     "iopub.status.idle": "2025-03-10T10:42:31.689770Z",
     "shell.execute_reply": "2025-03-10T10:42:31.689086Z"
    },
    "papermill": {
     "duration": 0.055414,
     "end_time": "2025-03-10T10:42:31.690990",
     "exception": false,
     "start_time": "2025-03-10T10:42:31.635576",
     "status": "completed"
    },
    "tags": []
   },
   "outputs": [],
   "source": [
    "\n",
    "class PatchEmbed2D(nn.Module):\n",
    "    r\"\"\" Image to Patch Embedding\n",
    "    Args:\n",
    "        patch_size (int): Patch token size. Default: 4.\n",
    "        in_chans (int): Number of input image channels. Default: 3.\n",
    "        embed_dim (int): Number of linear projection output channels. Default: 96.\n",
    "        norm_layer (nn.Module, optional): Normalization layer. Default: None\n",
    "    \"\"\"\n",
    "    def __init__(self, patch_size=4, in_chans=3, embed_dim=96, norm_layer=None, **kwargs):\n",
    "        super().__init__()\n",
    "        if isinstance(patch_size, int):\n",
    "            patch_size = (patch_size, patch_size)\n",
    "        self.proj = nn.Conv2d(in_chans, embed_dim, kernel_size=patch_size, stride=patch_size)\n",
    "        if norm_layer is not None:\n",
    "            self.norm = norm_layer(embed_dim)\n",
    "        else:\n",
    "            self.norm = None\n",
    "\n",
    "    def forward(self, x):\n",
    "        x = self.proj(x).permute(0, 2, 3, 1)\n",
    "        if self.norm is not None:\n",
    "            x = self.norm(x)\n",
    "        return x\n"
   ]
  },
  {
   "cell_type": "code",
   "execution_count": 52,
   "id": "ba3ab32f",
   "metadata": {
    "execution": {
     "iopub.execute_input": "2025-03-10T10:42:31.790927Z",
     "iopub.status.busy": "2025-03-10T10:42:31.790633Z",
     "iopub.status.idle": "2025-03-10T10:42:31.797726Z",
     "shell.execute_reply": "2025-03-10T10:42:31.797019Z"
    },
    "papermill": {
     "duration": 0.057593,
     "end_time": "2025-03-10T10:42:31.798925",
     "exception": false,
     "start_time": "2025-03-10T10:42:31.741332",
     "status": "completed"
    },
    "tags": []
   },
   "outputs": [],
   "source": [
    "\n",
    "class PatchMerging2D(nn.Module):\n",
    "    r\"\"\" Patch Merging Layer.\n",
    "    Args:\n",
    "        input_resolution (tuple[int]): Resolution of input feature.\n",
    "        dim (int): Number of input channels.\n",
    "        norm_layer (nn.Module, optional): Normalization layer.  Default: nn.LayerNorm\n",
    "    \"\"\"\n",
    "\n",
    "    def __init__(self, dim, norm_layer=nn.LayerNorm):\n",
    "        super().__init__()\n",
    "        self.dim = dim\n",
    "        self.reduction = nn.Linear(4 * dim, 2 * dim, bias=False)\n",
    "        self.norm = norm_layer(4 * dim)\n",
    "\n",
    "    def forward(self, x):\n",
    "        B, H, W, C = x.shape\n",
    "\n",
    "        SHAPE_FIX = [-1, -1]\n",
    "        if (W % 2 != 0) or (H % 2 != 0):\n",
    "            print(f\"Warning, x.shape {x.shape} is not match even ===========\", flush=True)\n",
    "            SHAPE_FIX[0] = H // 2\n",
    "            SHAPE_FIX[1] = W // 2\n",
    "\n",
    "        x0 = x[:, 0::2, 0::2, :]  # B H/2 W/2 C\n",
    "        x1 = x[:, 1::2, 0::2, :]  # B H/2 W/2 C\n",
    "        x2 = x[:, 0::2, 1::2, :]  # B H/2 W/2 C\n",
    "        x3 = x[:, 1::2, 1::2, :]  # B H/2 W/2 C\n",
    "\n",
    "        if SHAPE_FIX[0] > 0:\n",
    "            x0 = x0[:, :SHAPE_FIX[0], :SHAPE_FIX[1], :]\n",
    "            x1 = x1[:, :SHAPE_FIX[0], :SHAPE_FIX[1], :]\n",
    "            x2 = x2[:, :SHAPE_FIX[0], :SHAPE_FIX[1], :]\n",
    "            x3 = x3[:, :SHAPE_FIX[0], :SHAPE_FIX[1], :]\n",
    "        \n",
    "        x = torch.cat([x0, x1, x2, x3], -1)  # B H/2 W/2 4*C\n",
    "        x = x.view(B, H//2, W//2, 4 * C)  # B H/2*W/2 4*C\n",
    "\n",
    "        x = self.norm(x)\n",
    "        x = self.reduction(x)\n",
    "\n",
    "        return x\n"
   ]
  },
  {
   "cell_type": "code",
   "execution_count": 53,
   "id": "5f7e2292",
   "metadata": {
    "execution": {
     "iopub.execute_input": "2025-03-10T10:42:31.896740Z",
     "iopub.status.busy": "2025-03-10T10:42:31.896405Z",
     "iopub.status.idle": "2025-03-10T10:42:31.901525Z",
     "shell.execute_reply": "2025-03-10T10:42:31.900809Z"
    },
    "papermill": {
     "duration": 0.055476,
     "end_time": "2025-03-10T10:42:31.902863",
     "exception": false,
     "start_time": "2025-03-10T10:42:31.847387",
     "status": "completed"
    },
    "tags": []
   },
   "outputs": [],
   "source": [
    "\n",
    "class PatchExpand2D(nn.Module):\n",
    "    def __init__(self, dim, dim_scale=2, norm_layer=nn.LayerNorm):\n",
    "        super().__init__()\n",
    "        self.dim = dim*2\n",
    "        self.dim_scale = dim_scale\n",
    "        self.expand = nn.Linear(self.dim, dim_scale*self.dim, bias=False)\n",
    "        self.norm = norm_layer(self.dim // dim_scale)\n",
    "\n",
    "    def forward(self, x):\n",
    "        B, H, W, C = x.shape\n",
    "        x = self.expand(x)\n",
    "\n",
    "        x = rearrange(x, 'b h w (p1 p2 c)-> b (h p1) (w p2) c', p1=self.dim_scale, p2=self.dim_scale, c=C//self.dim_scale)\n",
    "        x= self.norm(x)\n",
    "\n",
    "        return x\n"
   ]
  },
  {
   "cell_type": "code",
   "execution_count": 54,
   "id": "8cb0f8cf",
   "metadata": {
    "execution": {
     "iopub.execute_input": "2025-03-10T10:42:32.000273Z",
     "iopub.status.busy": "2025-03-10T10:42:31.999997Z",
     "iopub.status.idle": "2025-03-10T10:42:32.004778Z",
     "shell.execute_reply": "2025-03-10T10:42:32.004089Z"
    },
    "papermill": {
     "duration": 0.055129,
     "end_time": "2025-03-10T10:42:32.006126",
     "exception": false,
     "start_time": "2025-03-10T10:42:31.950997",
     "status": "completed"
    },
    "tags": []
   },
   "outputs": [],
   "source": [
    "class Final_PatchExpand2D(nn.Module):\n",
    "    def __init__(self, dim, dim_scale=4, norm_layer=nn.LayerNorm):\n",
    "        super().__init__()\n",
    "        self.dim = dim\n",
    "        self.dim_scale = dim_scale\n",
    "        self.expand = nn.Linear(self.dim, dim_scale*self.dim, bias=False)\n",
    "        self.norm = norm_layer(self.dim // dim_scale)\n",
    "\n",
    "    def forward(self, x):\n",
    "        B, H, W, C = x.shape\n",
    "        x = self.expand(x)\n",
    "\n",
    "        x = rearrange(x, 'b h w (p1 p2 c)-> b (h p1) (w p2) c', p1=self.dim_scale, p2=self.dim_scale, c=C//self.dim_scale)\n",
    "        x= self.norm(x)\n",
    "\n",
    "        return x\n"
   ]
  },
  {
   "cell_type": "code",
   "execution_count": 55,
   "id": "4bfda2c6",
   "metadata": {
    "execution": {
     "iopub.execute_input": "2025-03-10T10:42:32.105699Z",
     "iopub.status.busy": "2025-03-10T10:42:32.105360Z",
     "iopub.status.idle": "2025-03-10T10:42:32.133634Z",
     "shell.execute_reply": "2025-03-10T10:42:32.132761Z"
    },
    "papermill": {
     "duration": 0.080082,
     "end_time": "2025-03-10T10:42:32.135041",
     "exception": false,
     "start_time": "2025-03-10T10:42:32.054959",
     "status": "completed"
    },
    "tags": []
   },
   "outputs": [],
   "source": [
    "\n",
    "class SS2D(nn.Module):\n",
    "    def __init__(\n",
    "        self,\n",
    "        d_model,\n",
    "        d_state=16,\n",
    "        # d_state=\"auto\", # 20240109\n",
    "        d_conv=3,\n",
    "        expand=2,\n",
    "        dt_rank=\"auto\",\n",
    "        dt_min=0.001,\n",
    "        dt_max=0.1,\n",
    "        dt_init=\"random\",\n",
    "        dt_scale=1.0,\n",
    "        dt_init_floor=1e-4,\n",
    "        dropout=0.,\n",
    "        conv_bias=True,\n",
    "        bias=False,\n",
    "        device=None,\n",
    "        dtype=None,\n",
    "        **kwargs,\n",
    "    ):\n",
    "        factory_kwargs = {\"device\": device, \"dtype\": dtype}\n",
    "        super().__init__()\n",
    "        self.d_model = d_model\n",
    "        self.d_state = d_state\n",
    "        # self.d_state = math.ceil(self.d_model / 6) if d_state == \"auto\" else d_model # 20240109\n",
    "        self.d_conv = d_conv\n",
    "        self.expand = expand\n",
    "        self.d_inner = int(self.expand * self.d_model)\n",
    "        self.dt_rank = math.ceil(self.d_model / 16) if dt_rank == \"auto\" else dt_rank\n",
    "\n",
    "        self.in_proj = nn.Linear(self.d_model, self.d_inner * 2, bias=bias, **factory_kwargs)\n",
    "        self.conv2d = nn.Conv2d(\n",
    "            in_channels=self.d_inner,\n",
    "            out_channels=self.d_inner,\n",
    "            groups=self.d_inner,\n",
    "            bias=conv_bias,\n",
    "            kernel_size=d_conv,\n",
    "            padding=(d_conv - 1) // 2,\n",
    "            **factory_kwargs,\n",
    "        )\n",
    "        self.act = nn.SiLU()\n",
    "\n",
    "        self.x_proj = (\n",
    "            nn.Linear(self.d_inner, (self.dt_rank + self.d_state * 2), bias=False, **factory_kwargs), \n",
    "            nn.Linear(self.d_inner, (self.dt_rank + self.d_state * 2), bias=False, **factory_kwargs), \n",
    "            nn.Linear(self.d_inner, (self.dt_rank + self.d_state * 2), bias=False, **factory_kwargs), \n",
    "            nn.Linear(self.d_inner, (self.dt_rank + self.d_state * 2), bias=False, **factory_kwargs), \n",
    "        )\n",
    "        self.x_proj_weight = nn.Parameter(torch.stack([t.weight for t in self.x_proj], dim=0)) # (K=4, N, inner)\n",
    "        del self.x_proj\n",
    "\n",
    "        self.dt_projs = (\n",
    "            self.dt_init(self.dt_rank, self.d_inner, dt_scale, dt_init, dt_min, dt_max, dt_init_floor, **factory_kwargs),\n",
    "            self.dt_init(self.dt_rank, self.d_inner, dt_scale, dt_init, dt_min, dt_max, dt_init_floor, **factory_kwargs),\n",
    "            self.dt_init(self.dt_rank, self.d_inner, dt_scale, dt_init, dt_min, dt_max, dt_init_floor, **factory_kwargs),\n",
    "            self.dt_init(self.dt_rank, self.d_inner, dt_scale, dt_init, dt_min, dt_max, dt_init_floor, **factory_kwargs),\n",
    "        )\n",
    "        self.dt_projs_weight = nn.Parameter(torch.stack([t.weight for t in self.dt_projs], dim=0)) # (K=4, inner, rank)\n",
    "        self.dt_projs_bias = nn.Parameter(torch.stack([t.bias for t in self.dt_projs], dim=0)) # (K=4, inner)\n",
    "        del self.dt_projs\n",
    "        \n",
    "        self.A_logs = self.A_log_init(self.d_state, self.d_inner, copies=4, merge=True) # (K=4, D, N)\n",
    "        self.Ds = self.D_init(self.d_inner, copies=4, merge=True) # (K=4, D, N)\n",
    "\n",
    "        # self.selective_scan = selective_scan_fn\n",
    "        self.forward_core = self.forward_corev0\n",
    "\n",
    "        self.out_norm = nn.LayerNorm(self.d_inner)\n",
    "        self.out_proj = nn.Linear(self.d_inner, self.d_model, bias=bias, **factory_kwargs)\n",
    "        self.dropout = nn.Dropout(dropout) if dropout > 0. else None\n",
    "\n",
    "    @staticmethod\n",
    "    def dt_init(dt_rank, d_inner, dt_scale=1.0, dt_init=\"random\", dt_min=0.001, dt_max=0.1, dt_init_floor=1e-4, **factory_kwargs):\n",
    "        dt_proj = nn.Linear(dt_rank, d_inner, bias=True, **factory_kwargs)\n",
    "\n",
    "        # Initialize special dt projection to preserve variance at initialization\n",
    "        dt_init_std = dt_rank**-0.5 * dt_scale\n",
    "        if dt_init == \"constant\":\n",
    "            nn.init.constant_(dt_proj.weight, dt_init_std)\n",
    "        elif dt_init == \"random\":\n",
    "            nn.init.uniform_(dt_proj.weight, -dt_init_std, dt_init_std)\n",
    "        else:\n",
    "            raise NotImplementedError\n",
    "\n",
    "        # Initialize dt bias so that F.softplus(dt_bias) is between dt_min and dt_max\n",
    "        dt = torch.exp(\n",
    "            torch.rand(d_inner, **factory_kwargs) * (math.log(dt_max) - math.log(dt_min))\n",
    "            + math.log(dt_min)\n",
    "        ).clamp(min=dt_init_floor)\n",
    "        # Inverse of softplus: https://github.com/pytorch/pytorch/issues/72759\n",
    "        inv_dt = dt + torch.log(-torch.expm1(-dt))\n",
    "        with torch.no_grad():\n",
    "            dt_proj.bias.copy_(inv_dt)\n",
    "        # Our initialization would set all Linear.bias to zero, need to mark this one as _no_reinit\n",
    "        dt_proj.bias._no_reinit = True\n",
    "        \n",
    "        return dt_proj\n",
    "\n",
    "    @staticmethod\n",
    "    def A_log_init(d_state, d_inner, copies=1, device=None, merge=True):\n",
    "        # S4D real initialization\n",
    "        A = repeat(\n",
    "            torch.arange(1, d_state + 1, dtype=torch.float32, device=device),\n",
    "            \"n -> d n\",\n",
    "            d=d_inner,\n",
    "        ).contiguous()\n",
    "        A_log = torch.log(A)  # Keep A_log in fp32\n",
    "        if copies > 1:\n",
    "            A_log = repeat(A_log, \"d n -> r d n\", r=copies)\n",
    "            if merge:\n",
    "                A_log = A_log.flatten(0, 1)\n",
    "        A_log = nn.Parameter(A_log)\n",
    "        A_log._no_weight_decay = True\n",
    "        return A_log\n",
    "\n",
    "    @staticmethod\n",
    "    def D_init(d_inner, copies=1, device=None, merge=True):\n",
    "        # D \"skip\" parameter\n",
    "        D = torch.ones(d_inner, device=device)\n",
    "        if copies > 1:\n",
    "            D = repeat(D, \"n1 -> r n1\", r=copies)\n",
    "            if merge:\n",
    "                D = D.flatten(0, 1)\n",
    "        D = nn.Parameter(D)  # Keep in fp32\n",
    "        D._no_weight_decay = True\n",
    "        return D\n",
    "\n",
    "    def forward_corev0(self, x: torch.Tensor):\n",
    "        self.selective_scan = selective_scan_fn\n",
    "        \n",
    "        B, C, H, W = x.shape\n",
    "        L = H * W\n",
    "        K = 4\n",
    "\n",
    "        x_hwwh = torch.stack([x.view(B, -1, L), torch.transpose(x, dim0=2, dim1=3).contiguous().view(B, -1, L)], dim=1).view(B, 2, -1, L)\n",
    "        xs = torch.cat([x_hwwh, torch.flip(x_hwwh, dims=[-1])], dim=1) # (b, k, d, l)\n",
    "\n",
    "        x_dbl = torch.einsum(\"b k d l, k c d -> b k c l\", xs.view(B, K, -1, L), self.x_proj_weight)\n",
    "        # x_dbl = x_dbl + self.x_proj_bias.view(1, K, -1, 1)\n",
    "        dts, Bs, Cs = torch.split(x_dbl, [self.dt_rank, self.d_state, self.d_state], dim=2)\n",
    "        dts = torch.einsum(\"b k r l, k d r -> b k d l\", dts.view(B, K, -1, L), self.dt_projs_weight)\n",
    "        # dts = dts + self.dt_projs_bias.view(1, K, -1, 1)\n",
    "\n",
    "        xs = xs.float().view(B, -1, L) # (b, k * d, l)\n",
    "        dts = dts.contiguous().float().view(B, -1, L) # (b, k * d, l)\n",
    "        Bs = Bs.float().view(B, K, -1, L) # (b, k, d_state, l)\n",
    "        Cs = Cs.float().view(B, K, -1, L) # (b, k, d_state, l)\n",
    "        Ds = self.Ds.float().view(-1) # (k * d)\n",
    "        As = -torch.exp(self.A_logs.float()).view(-1, self.d_state)  # (k * d, d_state)\n",
    "        dt_projs_bias = self.dt_projs_bias.float().view(-1) # (k * d)\n",
    "\n",
    "        out_y = self.selective_scan(\n",
    "            xs, dts, \n",
    "            As, Bs, Cs, Ds, z=None,\n",
    "            delta_bias=dt_projs_bias,\n",
    "            delta_softplus=True,\n",
    "            return_last_state=False,\n",
    "        ).view(B, K, -1, L)\n",
    "        assert out_y.dtype == torch.float\n",
    "\n",
    "        inv_y = torch.flip(out_y[:, 2:4], dims=[-1]).view(B, 2, -1, L)\n",
    "        wh_y = torch.transpose(out_y[:, 1].view(B, -1, W, H), dim0=2, dim1=3).contiguous().view(B, -1, L)\n",
    "        invwh_y = torch.transpose(inv_y[:, 1].view(B, -1, W, H), dim0=2, dim1=3).contiguous().view(B, -1, L)\n",
    "\n",
    "        return out_y[:, 0], inv_y[:, 0], wh_y, invwh_y\n",
    "\n",
    "    # an alternative to forward_corev1\n",
    "    def forward_corev1(self, x: torch.Tensor):\n",
    "        self.selective_scan = selective_scan_fn_v1\n",
    "\n",
    "        B, C, H, W = x.shape\n",
    "        L = H * W\n",
    "        K = 4\n",
    "\n",
    "        x_hwwh = torch.stack([x.view(B, -1, L), torch.transpose(x, dim0=2, dim1=3).contiguous().view(B, -1, L)], dim=1).view(B, 2, -1, L)\n",
    "        xs = torch.cat([x_hwwh, torch.flip(x_hwwh, dims=[-1])], dim=1) # (b, k, d, l)\n",
    "\n",
    "        x_dbl = torch.einsum(\"b k d l, k c d -> b k c l\", xs.view(B, K, -1, L), self.x_proj_weight)\n",
    "        # x_dbl = x_dbl + self.x_proj_bias.view(1, K, -1, 1)\n",
    "        dts, Bs, Cs = torch.split(x_dbl, [self.dt_rank, self.d_state, self.d_state], dim=2)\n",
    "        dts = torch.einsum(\"b k r l, k d r -> b k d l\", dts.view(B, K, -1, L), self.dt_projs_weight)\n",
    "        # dts = dts + self.dt_projs_bias.view(1, K, -1, 1)\n",
    "\n",
    "        xs = xs.float().view(B, -1, L) # (b, k * d, l)\n",
    "        dts = dts.contiguous().float().view(B, -1, L) # (b, k * d, l)\n",
    "        Bs = Bs.float().view(B, K, -1, L) # (b, k, d_state, l)\n",
    "        Cs = Cs.float().view(B, K, -1, L) # (b, k, d_state, l)\n",
    "        Ds = self.Ds.float().view(-1) # (k * d)\n",
    "        As = -torch.exp(self.A_logs.float()).view(-1, self.d_state)  # (k * d, d_state)\n",
    "        dt_projs_bias = self.dt_projs_bias.float().view(-1) # (k * d)\n",
    "\n",
    "        out_y = self.selective_scan(\n",
    "            xs, dts, \n",
    "            As, Bs, Cs, Ds,\n",
    "            delta_bias=dt_projs_bias,\n",
    "            delta_softplus=True,\n",
    "        ).view(B, K, -1, L)\n",
    "        assert out_y.dtype == torch.float\n",
    "\n",
    "        inv_y = torch.flip(out_y[:, 2:4], dims=[-1]).view(B, 2, -1, L)\n",
    "        wh_y = torch.transpose(out_y[:, 1].view(B, -1, W, H), dim0=2, dim1=3).contiguous().view(B, -1, L)\n",
    "        invwh_y = torch.transpose(inv_y[:, 1].view(B, -1, W, H), dim0=2, dim1=3).contiguous().view(B, -1, L)\n",
    "\n",
    "        return out_y[:, 0], inv_y[:, 0], wh_y, invwh_y\n",
    "\n",
    "    def forward(self, x: torch.Tensor, **kwargs):\n",
    "        B, H, W, C = x.shape\n",
    "\n",
    "        xz = self.in_proj(x)\n",
    "        x, z = xz.chunk(2, dim=-1) # (b, h, w, d)\n",
    "\n",
    "        x = x.permute(0, 3, 1, 2).contiguous()\n",
    "        x = self.act(self.conv2d(x)) # (b, d, h, w)\n",
    "        y1, y2, y3, y4 = self.forward_core(x)\n",
    "        assert y1.dtype == torch.float32\n",
    "        y = y1 + y2 + y3 + y4\n",
    "        y = torch.transpose(y, dim0=1, dim1=2).contiguous().view(B, H, W, -1)\n",
    "        y = self.out_norm(y)\n",
    "        y = y * F.silu(z)\n",
    "        out = self.out_proj(y)\n",
    "        if self.dropout is not None:\n",
    "            out = self.dropout(out)\n",
    "        return out\n"
   ]
  },
  {
   "cell_type": "code",
   "execution_count": 56,
   "id": "2151c471",
   "metadata": {
    "execution": {
     "iopub.execute_input": "2025-03-10T10:42:32.273888Z",
     "iopub.status.busy": "2025-03-10T10:42:32.273577Z",
     "iopub.status.idle": "2025-03-10T10:42:32.277785Z",
     "shell.execute_reply": "2025-03-10T10:42:32.277119Z"
    },
    "papermill": {
     "duration": 0.094834,
     "end_time": "2025-03-10T10:42:32.279093",
     "exception": false,
     "start_time": "2025-03-10T10:42:32.184259",
     "status": "completed"
    },
    "tags": []
   },
   "outputs": [],
   "source": [
    "\n",
    "def channel_shuffle(x: Tensor, groups: int) -> Tensor:\n",
    "\n",
    "    batch_size, height, width, num_channels = x.size()\n",
    "    channels_per_group = num_channels // groups\n",
    "\n",
    "    # reshape\n",
    "    # [batch_size, num_channels, height, width] -> [batch_size, groups, channels_per_group, height, width]\n",
    "    x = x.view(batch_size, height, width, groups, channels_per_group)\n",
    "\n",
    "    x = torch.transpose(x, 3, 4).contiguous()\n",
    "\n",
    "    # flatten\n",
    "    x = x.view(batch_size, height, width, -1)\n",
    "\n",
    "    return x\n"
   ]
  },
  {
   "cell_type": "code",
   "execution_count": 57,
   "id": "dfd33f94",
   "metadata": {
    "execution": {
     "iopub.execute_input": "2025-03-10T10:42:32.379929Z",
     "iopub.status.busy": "2025-03-10T10:42:32.379635Z",
     "iopub.status.idle": "2025-03-10T10:42:32.386704Z",
     "shell.execute_reply": "2025-03-10T10:42:32.386119Z"
    },
    "papermill": {
     "duration": 0.059561,
     "end_time": "2025-03-10T10:42:32.387829",
     "exception": false,
     "start_time": "2025-03-10T10:42:32.328268",
     "status": "completed"
    },
    "tags": []
   },
   "outputs": [],
   "source": [
    "\n",
    "class SS_Conv_SSM(nn.Module):\n",
    "    def __init__(\n",
    "        self,\n",
    "        hidden_dim: int = 0,\n",
    "        drop_path: float = 0,\n",
    "        norm_layer: Callable[..., torch.nn.Module] = partial(nn.LayerNorm, eps=1e-6),\n",
    "        attn_drop_rate: float = 0,\n",
    "        d_state: int = 16,\n",
    "        **kwargs,\n",
    "    ):\n",
    "        super().__init__()\n",
    "        self.ln_1 = norm_layer(hidden_dim//2)\n",
    "        self.self_attention = SS2D(d_model=hidden_dim//2, dropout=attn_drop_rate, d_state=d_state, **kwargs)\n",
    "        self.drop_path = DropPath(drop_path)\n",
    "\n",
    "        self.conv33conv33conv11 = nn.Sequential(\n",
    "            nn.BatchNorm2d(hidden_dim // 2),\n",
    "            nn.Conv2d(in_channels=hidden_dim//2,out_channels=hidden_dim//2,kernel_size=3,stride=1,padding=1),\n",
    "            nn.BatchNorm2d(hidden_dim//2),\n",
    "            nn.ReLU(),\n",
    "            nn.Conv2d(in_channels=hidden_dim // 2, out_channels=hidden_dim // 2, kernel_size=3, stride=1, padding=1),\n",
    "            nn.BatchNorm2d(hidden_dim // 2),\n",
    "            nn.ReLU(),\n",
    "            nn.Conv2d(in_channels=hidden_dim // 2, out_channels=hidden_dim // 2, kernel_size=1, stride=1),\n",
    "            nn.ReLU()\n",
    "        )\n",
    "        # self.finalconv11 = nn.Conv2d(in_channels=hidden_dim, out_channels=hidden_dim, kernel_size=1, stride=1)\n",
    "    def forward(self, input: torch.Tensor):\n",
    "        input_left, input_right = input.chunk(2,dim=-1)\n",
    "        x = self.drop_path(self.self_attention(self.ln_1(input_right)))\n",
    "        input_left = input_left.permute(0,3,1,2).contiguous()\n",
    "        input_left = self.conv33conv33conv11(input_left)\n",
    "        input_left = input_left.permute(0,2,3,1).contiguous()\n",
    "        output = torch.cat((input_left,x),dim=-1)\n",
    "        output = channel_shuffle(output,groups=2)\n",
    "        return output+input\n"
   ]
  },
  {
   "cell_type": "code",
   "execution_count": 58,
   "id": "9cf0fcaa",
   "metadata": {
    "execution": {
     "iopub.execute_input": "2025-03-10T10:42:32.493534Z",
     "iopub.status.busy": "2025-03-10T10:42:32.493180Z",
     "iopub.status.idle": "2025-03-10T10:42:32.505334Z",
     "shell.execute_reply": "2025-03-10T10:42:32.504510Z"
    },
    "papermill": {
     "duration": 0.06548,
     "end_time": "2025-03-10T10:42:32.506615",
     "exception": false,
     "start_time": "2025-03-10T10:42:32.441135",
     "status": "completed"
    },
    "tags": []
   },
   "outputs": [],
   "source": [
    "\n",
    "class VSSLayer(nn.Module):\n",
    "    \"\"\" A basic Swin Transformer layer for one stage.\n",
    "    Args:\n",
    "        dim (int): Number of input channels.\n",
    "        depth (int): Number of blocks.\n",
    "        drop (float, optional): Dropout rate. Default: 0.0\n",
    "        attn_drop (float, optional): Attention dropout rate. Default: 0.0\n",
    "        drop_path (float | tuple[float], optional): Stochastic depth rate. Default: 0.0\n",
    "        norm_layer (nn.Module, optional): Normalization layer. Default: nn.LayerNorm\n",
    "        downsample (nn.Module | None, optional): Downsample layer at the end of the layer. Default: None\n",
    "        use_checkpoint (bool): Whether to use checkpointing to save memory. Default: False.\n",
    "    \"\"\"\n",
    "\n",
    "    def __init__(\n",
    "        self, \n",
    "        dim, \n",
    "        depth, \n",
    "        attn_drop=0.,\n",
    "        drop_path=0., \n",
    "        norm_layer=nn.LayerNorm, \n",
    "        downsample=None, \n",
    "        use_checkpoint=False, \n",
    "        d_state=16,\n",
    "        **kwargs,\n",
    "    ):\n",
    "        super().__init__()\n",
    "        self.dim = dim\n",
    "        self.use_checkpoint = use_checkpoint\n",
    "\n",
    "        self.blocks = nn.ModuleList([\n",
    "            SS_Conv_SSM(\n",
    "                hidden_dim=dim,\n",
    "                drop_path=drop_path[i] if isinstance(drop_path, list) else drop_path,\n",
    "                norm_layer=norm_layer,\n",
    "                attn_drop_rate=attn_drop,\n",
    "                d_state=d_state,\n",
    "            )\n",
    "            for i in range(depth)])\n",
    "        \n",
    "        if True: # is this really applied? Yes, but been overriden later in VSSM!\n",
    "            def _init_weights(module: nn.Module):\n",
    "                for name, p in module.named_parameters():\n",
    "                    if name in [\"out_proj.weight\"]:\n",
    "                        p = p.clone().detach_() # fake init, just to keep the seed ....\n",
    "                        nn.init.kaiming_uniform_(p, a=math.sqrt(5))\n",
    "            self.apply(_init_weights)\n",
    "\n",
    "        if downsample is not None:\n",
    "            self.downsample = downsample(dim=dim, norm_layer=norm_layer)\n",
    "        else:\n",
    "            self.downsample = None\n",
    "\n",
    "\n",
    "    def forward(self, x):\n",
    "        for blk in self.blocks:\n",
    "            if self.use_checkpoint:\n",
    "                x = checkpoint.checkpoint(blk, x)\n",
    "            else:\n",
    "                x = blk(x)\n",
    "        \n",
    "        if self.downsample is not None:\n",
    "            x = self.downsample(x)\n",
    "\n",
    "        return x\n",
    "    \n",
    "\n",
    "\n",
    "class VSSLayer_up(nn.Module):\n",
    "    \"\"\" A basic Swin Transformer layer for one stage.\n",
    "    Args:\n",
    "        dim (int): Number of input channels.\n",
    "        depth (int): Number of blocks.\n",
    "        drop (float, optional): Dropout rate. Default: 0.0\n",
    "        attn_drop (float, optional): Attention dropout rate. Default: 0.0\n",
    "        drop_path (float | tuple[float], optional): Stochastic depth rate. Default: 0.0\n",
    "        norm_layer (nn.Module, optional): Normalization layer. Default: nn.LayerNorm\n",
    "        downsample (nn.Module | None, optional): Downsample layer at the end of the layer. Default: None\n",
    "        use_checkpoint (bool): Whether to use checkpointing to save memory. Default: False.\n",
    "    \"\"\"\n",
    "\n",
    "    def __init__(\n",
    "        self, \n",
    "        dim, \n",
    "        depth, \n",
    "        attn_drop=0.,\n",
    "        drop_path=0., \n",
    "        norm_layer=nn.LayerNorm, \n",
    "        upsample=None, \n",
    "        use_checkpoint=False, \n",
    "        d_state=16,\n",
    "        **kwargs,\n",
    "    ):\n",
    "        super().__init__()\n",
    "        self.dim = dim\n",
    "        self.use_checkpoint = use_checkpoint\n",
    "\n",
    "        self.blocks = nn.ModuleList([\n",
    "            SS_Conv_SSM(\n",
    "                hidden_dim=dim,\n",
    "                drop_path=drop_path[i] if isinstance(drop_path, list) else drop_path,\n",
    "                norm_layer=norm_layer,\n",
    "                attn_drop_rate=attn_drop,\n",
    "                d_state=d_state,\n",
    "            )\n",
    "            for i in range(depth)])\n",
    "        \n",
    "        if True: # is this really applied? Yes, but been overriden later in VSSM!\n",
    "            def _init_weights(module: nn.Module):\n",
    "                for name, p in module.named_parameters():\n",
    "                    if name in [\"out_proj.weight\"]:\n",
    "                        p = p.clone().detach_() # fake init, just to keep the seed ....\n",
    "                        nn.init.kaiming_uniform_(p, a=math.sqrt(5))\n",
    "            self.apply(_init_weights)\n",
    "\n",
    "        if upsample is not None:\n",
    "            self.upsample = upsample(dim=dim, norm_layer=norm_layer)\n",
    "        else:\n",
    "            self.upsample = None\n",
    "\n",
    "\n",
    "    def forward(self, x):\n",
    "        if self.upsample is not None:\n",
    "            x = self.upsample(x)\n",
    "        for blk in self.blocks:\n",
    "            if self.use_checkpoint:\n",
    "                x = checkpoint.checkpoint(blk, x)\n",
    "            else:\n",
    "                x = blk(x)\n",
    "        return x\n"
   ]
  },
  {
   "cell_type": "code",
   "execution_count": 59,
   "id": "00ae9a62",
   "metadata": {
    "execution": {
     "iopub.execute_input": "2025-03-10T10:42:32.605383Z",
     "iopub.status.busy": "2025-03-10T10:42:32.605095Z",
     "iopub.status.idle": "2025-03-10T10:42:32.618188Z",
     "shell.execute_reply": "2025-03-10T10:42:32.617314Z"
    },
    "papermill": {
     "duration": 0.06416,
     "end_time": "2025-03-10T10:42:32.619571",
     "exception": false,
     "start_time": "2025-03-10T10:42:32.555411",
     "status": "completed"
    },
    "tags": []
   },
   "outputs": [],
   "source": [
    "\n",
    "class VSSM(nn.Module):\n",
    "    def __init__(self, patch_size=4, in_chans=3, num_classes=1000, depths=[2, 2, 4, 2], depths_decoder=[2, 9, 2, 2],\n",
    "                 dims=[96,192,384,768], dims_decoder=[768, 384, 192, 96], d_state=16, drop_rate=0., attn_drop_rate=0., drop_path_rate=0.1,\n",
    "                 norm_layer=nn.LayerNorm, patch_norm=True,\n",
    "                 use_checkpoint=False, **kwargs):\n",
    "        super().__init__()\n",
    "        self.num_classes = num_classes\n",
    "        self.num_layers = len(depths)\n",
    "        if isinstance(dims, int):\n",
    "            dims = [int(dims * 2 ** i_layer) for i_layer in range(self.num_layers)]\n",
    "        self.embed_dim = dims[0]\n",
    "        self.num_features = dims[-1]\n",
    "        self.dims = dims\n",
    "\n",
    "        self.patch_embed = PatchEmbed2D(patch_size=patch_size, in_chans=in_chans, embed_dim=self.embed_dim,\n",
    "            norm_layer=norm_layer if patch_norm else None)\n",
    "\n",
    "        # WASTED absolute position embedding ======================\n",
    "        self.ape = False\n",
    "        # self.ape = False\n",
    "        # drop_rate = 0.0\n",
    "        if self.ape:\n",
    "            self.patches_resolution = self.patch_embed.patches_resolution\n",
    "            self.absolute_pos_embed = nn.Parameter(torch.zeros(1, *self.patches_resolution, self.embed_dim))\n",
    "            trunc_normal_(self.absolute_pos_embed, std=.02)\n",
    "        self.pos_drop = nn.Dropout(p=drop_rate)\n",
    "\n",
    "        dpr = [x.item() for x in torch.linspace(0, drop_path_rate, sum(depths))]  # stochastic depth decay rule\n",
    "        dpr_decoder = [x.item() for x in torch.linspace(0, drop_path_rate, sum(depths_decoder))][::-1]\n",
    "\n",
    "        self.layers = nn.ModuleList()\n",
    "        for i_layer in range(self.num_layers):\n",
    "            layer = VSSLayer(\n",
    "                dim=dims[i_layer],\n",
    "                depth=depths[i_layer],\n",
    "                d_state=math.ceil(dims[0] / 6) if d_state is None else d_state, # 20240109\n",
    "                drop=drop_rate, \n",
    "                attn_drop=attn_drop_rate,\n",
    "                drop_path=dpr[sum(depths[:i_layer]):sum(depths[:i_layer + 1])],\n",
    "                norm_layer=norm_layer,\n",
    "                downsample=PatchMerging2D if (i_layer < self.num_layers - 1) else None,\n",
    "                use_checkpoint=use_checkpoint,\n",
    "            )\n",
    "            self.layers.append(layer)\n",
    "\n",
    "\n",
    "        # self.norm = norm_layer(self.num_features)\n",
    "        self.avgpool = nn.AdaptiveAvgPool2d(1)\n",
    "        self.head = nn.Linear(self.num_features, num_classes) if num_classes > 0 else nn.Identity()\n",
    "\n",
    "        self.apply(self._init_weights)\n",
    "        for m in self.modules():\n",
    "            if isinstance(m, nn.Conv2d):\n",
    "                nn.init.kaiming_normal_(m.weight, mode='fan_out', nonlinearity='relu')\n",
    "    def _init_weights(self, m: nn.Module):\n",
    "        \"\"\"\n",
    "        out_proj.weight which is previously initilized in SS_Conv_SSM, would be cleared in nn.Linear\n",
    "        no fc.weight found in the any of the model parameters\n",
    "        no nn.Embedding found in the any of the model parameters\n",
    "        so the thing is, SS_Conv_SSM initialization is useless\n",
    "        \n",
    "        Conv2D is not intialized !!!\n",
    "        \"\"\"\n",
    "        if isinstance(m, nn.Linear):\n",
    "            trunc_normal_(m.weight, std=.02)\n",
    "            if isinstance(m, nn.Linear) and m.bias is not None:\n",
    "                nn.init.constant_(m.bias, 0)\n",
    "        elif isinstance(m, nn.LayerNorm):\n",
    "            nn.init.constant_(m.bias, 0)\n",
    "            nn.init.constant_(m.weight, 1.0)\n",
    "\n",
    "    @torch.jit.ignore\n",
    "    def no_weight_decay(self):\n",
    "        return {'absolute_pos_embed'}\n",
    "\n",
    "    @torch.jit.ignore\n",
    "    def no_weight_decay_keywords(self):\n",
    "        return {'relative_position_bias_table'}\n",
    "\n",
    "    def forward_backbone(self, x):\n",
    "        x = self.patch_embed(x)\n",
    "        if self.ape:\n",
    "            x = x + self.absolute_pos_embed\n",
    "        x = self.pos_drop(x)\n",
    "\n",
    "        for layer in self.layers:\n",
    "            x = layer(x)\n",
    "        return x\n",
    "\n",
    "    def forward(self, x):\n",
    "        x = self.forward_backbone(x)\n",
    "        x = x.permute(0,3,1,2)\n",
    "        x = self.avgpool(x)\n",
    "        x = torch.flatten(x,start_dim=1)\n",
    "        x = self.head(x)\n",
    "        return x\n"
   ]
  },
  {
   "cell_type": "code",
   "execution_count": null,
   "id": "549f5be7",
   "metadata": {
    "papermill": {
     "duration": 0.048531,
     "end_time": "2025-03-10T10:42:32.717646",
     "exception": false,
     "start_time": "2025-03-10T10:42:32.669115",
     "status": "completed"
    },
    "tags": []
   },
   "outputs": [],
   "source": []
  },
  {
   "cell_type": "code",
   "execution_count": null,
   "id": "b5ccbe66",
   "metadata": {
    "papermill": {
     "duration": 0.048595,
     "end_time": "2025-03-10T10:42:32.816119",
     "exception": false,
     "start_time": "2025-03-10T10:42:32.767524",
     "status": "completed"
    },
    "tags": []
   },
   "outputs": [],
   "source": []
  },
  {
   "cell_type": "markdown",
   "id": "765e0b73",
   "metadata": {
    "papermill": {
     "duration": 0.048317,
     "end_time": "2025-03-10T10:42:32.912973",
     "exception": false,
     "start_time": "2025-03-10T10:42:32.864656",
     "status": "completed"
    },
    "tags": []
   },
   "source": [
    "## model training"
   ]
  },
  {
   "cell_type": "code",
   "execution_count": 60,
   "id": "1779174c",
   "metadata": {
    "execution": {
     "iopub.execute_input": "2025-03-10T10:42:33.011694Z",
     "iopub.status.busy": "2025-03-10T10:42:33.011330Z",
     "iopub.status.idle": "2025-03-10T10:42:33.015887Z",
     "shell.execute_reply": "2025-03-10T10:42:33.015186Z"
    },
    "papermill": {
     "duration": 0.055705,
     "end_time": "2025-03-10T10:42:33.017084",
     "exception": false,
     "start_time": "2025-03-10T10:42:32.961379",
     "status": "completed"
    },
    "tags": []
   },
   "outputs": [
    {
     "name": "stdout",
     "output_type": "stream",
     "text": [
      "using cuda:0 device.\n"
     ]
    }
   ],
   "source": [
    "device = torch.device(\"cuda:0\" if torch.cuda.is_available() else \"cpu\")\n",
    "print(\"using {} device.\".format(device))\n",
    "\n",
    "# net = VSSM(depths=[2, 2, 4, 2],dims=[96,192,384,768],num_classes=2).to(device)\n",
    "# data = torch.randn(1,3,224,224).to(device)\n",
    "# print(net(data).shape)"
   ]
  },
  {
   "cell_type": "code",
   "execution_count": 61,
   "id": "b9b2d1fa",
   "metadata": {
    "execution": {
     "iopub.execute_input": "2025-03-10T10:42:33.118148Z",
     "iopub.status.busy": "2025-03-10T10:42:33.117837Z",
     "iopub.status.idle": "2025-03-10T10:42:34.119019Z",
     "shell.execute_reply": "2025-03-10T10:42:34.118220Z"
    },
    "papermill": {
     "duration": 1.052859,
     "end_time": "2025-03-10T10:42:34.120363",
     "exception": false,
     "start_time": "2025-03-10T10:42:33.067504",
     "status": "completed"
    },
    "tags": []
   },
   "outputs": [],
   "source": [
    "net = VSSM(num_classes=6).to(device)\n",
    "\n",
    "# Load the state dictionary\n",
    "state_dict = torch.load('/kaggle/input/medmamba/pytorch/pad-ufes-20/1/MedMamba.pth',map_location=device)\n",
    "net.load_state_dict(state_dict)\n",
    "\n",
    "net.head = nn.Linear(net.num_features, 2).to(device)  # 2 output classes for binary classification\n",
    "\n",
    "# # Freeze all layers except the final classification layer\n",
    "# for param in net.parameters():\n",
    "#     param.requires_grad = False  # Freeze all layers\n",
    "\n",
    "# for param in net.head.parameters():\n",
    "#     param.requires_grad = True  # Unfreeze only the final layer"
   ]
  },
  {
   "cell_type": "code",
   "execution_count": 62,
   "id": "50e828fd",
   "metadata": {
    "execution": {
     "iopub.execute_input": "2025-03-10T10:42:34.226387Z",
     "iopub.status.busy": "2025-03-10T10:42:34.226098Z",
     "iopub.status.idle": "2025-03-10T11:23:25.807513Z",
     "shell.execute_reply": "2025-03-10T11:23:25.806500Z"
    },
    "papermill": {
     "duration": 2451.638307,
     "end_time": "2025-03-10T11:23:25.809051",
     "exception": false,
     "start_time": "2025-03-10T10:42:34.170744",
     "status": "completed"
    },
    "tags": []
   },
   "outputs": [
    {
     "name": "stdout",
     "output_type": "stream",
     "text": [
      "Class Weights: {0: 0.599943454905287, 1: 3.0014144271570014}\n",
      "train epoch[1/50] loss:0.108: 100%|██████████| 67/67 [00:48<00:00,  1.37it/s]\n",
      "100%|██████████| 8/8 [00:01<00:00,  4.87it/s]\n",
      "[epoch 1] train_loss: 0.466745  val_accuracy: 44.94  val_loss: 0.563953\n",
      "train epoch[2/50] loss:0.223: 100%|██████████| 67/67 [00:47<00:00,  1.42it/s]\n",
      "100%|██████████| 8/8 [00:01<00:00,  4.56it/s]\n",
      "[epoch 2] train_loss: 0.419645  val_accuracy: 47.26  val_loss: 0.611898\n",
      "train epoch[3/50] loss:0.355: 100%|██████████| 67/67 [00:47<00:00,  1.42it/s]\n",
      "100%|██████████| 8/8 [00:01<00:00,  4.63it/s]\n",
      "[epoch 3] train_loss: 0.355026  val_accuracy: 40.49  val_loss: 0.413251\n",
      "train epoch[4/50] loss:0.148: 100%|██████████| 67/67 [00:47<00:00,  1.42it/s]\n",
      "100%|██████████| 8/8 [00:01<00:00,  4.96it/s]\n",
      "[epoch 4] train_loss: 0.310533  val_accuracy: 43.89  val_loss: 0.471690\n",
      "train epoch[5/50] loss:0.129: 100%|██████████| 67/67 [00:47<00:00,  1.42it/s]\n",
      "100%|██████████| 8/8 [00:01<00:00,  4.80it/s]\n",
      "[epoch 5] train_loss: 0.276402  val_accuracy: 43.67  val_loss: 0.412767\n",
      "train epoch[6/50] loss:0.391: 100%|██████████| 67/67 [00:47<00:00,  1.42it/s]\n",
      "100%|██████████| 8/8 [00:01<00:00,  4.83it/s]\n",
      "[epoch 6] train_loss: 0.239026  val_accuracy: 47.50  val_loss: 0.719073\n",
      "train epoch[7/50] loss:0.118: 100%|██████████| 67/67 [00:47<00:00,  1.42it/s]\n",
      "100%|██████████| 8/8 [00:01<00:00,  4.66it/s]\n",
      "[epoch 7] train_loss: 0.192750  val_accuracy: 44.96  val_loss: 0.478447\n",
      "train epoch[8/50] loss:0.309: 100%|██████████| 67/67 [00:47<00:00,  1.42it/s]\n",
      "100%|██████████| 8/8 [00:01<00:00,  4.86it/s]\n",
      "[epoch 8] train_loss: 0.185984  val_accuracy: 46.20  val_loss: 0.527567\n",
      "train epoch[9/50] loss:0.400: 100%|██████████| 67/67 [00:47<00:00,  1.42it/s]\n",
      "100%|██████████| 8/8 [00:01<00:00,  4.82it/s]\n",
      "[epoch 9] train_loss: 0.179373  val_accuracy: 35.50  val_loss: 0.508372\n",
      "train epoch[10/50] loss:0.171: 100%|██████████| 67/67 [00:47<00:00,  1.42it/s]\n",
      "100%|██████████| 8/8 [00:01<00:00,  4.68it/s]\n",
      "[epoch 10] train_loss: 0.141358  val_accuracy: 45.45  val_loss: 0.482256\n",
      "train epoch[11/50] loss:0.036: 100%|██████████| 67/67 [00:47<00:00,  1.42it/s]\n",
      "100%|██████████| 8/8 [00:01<00:00,  4.56it/s]\n",
      "[epoch 11] train_loss: 0.111725  val_accuracy: 39.01  val_loss: 0.423218\n",
      "train epoch[12/50] loss:0.181: 100%|██████████| 67/67 [00:47<00:00,  1.41it/s]\n",
      "100%|██████████| 8/8 [00:01<00:00,  4.64it/s]\n",
      "[epoch 12] train_loss: 0.144053  val_accuracy: 41.39  val_loss: 0.398421\n",
      "train epoch[13/50] loss:0.225: 100%|██████████| 67/67 [00:47<00:00,  1.42it/s]\n",
      "100%|██████████| 8/8 [00:01<00:00,  4.70it/s]\n",
      "[epoch 13] train_loss: 0.112668  val_accuracy: 47.46  val_loss: 0.664179\n",
      "train epoch[14/50] loss:0.114: 100%|██████████| 67/67 [00:47<00:00,  1.42it/s]\n",
      "100%|██████████| 8/8 [00:01<00:00,  4.72it/s]\n",
      "[epoch 14] train_loss: 0.125635  val_accuracy: 42.71  val_loss: 0.347905\n",
      "train epoch[15/50] loss:0.019: 100%|██████████| 67/67 [00:47<00:00,  1.42it/s]\n",
      "100%|██████████| 8/8 [00:01<00:00,  4.75it/s]\n",
      "[epoch 15] train_loss: 0.071750  val_accuracy: 42.55  val_loss: 0.345088\n",
      "train epoch[16/50] loss:0.362: 100%|██████████| 67/67 [00:47<00:00,  1.42it/s]\n",
      "100%|██████████| 8/8 [00:01<00:00,  4.90it/s]\n",
      "[epoch 16] train_loss: 0.084630  val_accuracy: 45.11  val_loss: 0.464414\n",
      "train epoch[17/50] loss:0.156: 100%|██████████| 67/67 [00:47<00:00,  1.42it/s]\n",
      "100%|██████████| 8/8 [00:01<00:00,  4.79it/s]\n",
      "[epoch 17] train_loss: 0.090191  val_accuracy: 43.90  val_loss: 0.444396\n",
      "train epoch[18/50] loss:0.105: 100%|██████████| 67/67 [00:47<00:00,  1.42it/s]\n",
      "100%|██████████| 8/8 [00:01<00:00,  4.56it/s]\n",
      "[epoch 18] train_loss: 0.091812  val_accuracy: 44.68  val_loss: 0.556646\n",
      "train epoch[19/50] loss:0.424: 100%|██████████| 67/67 [00:47<00:00,  1.42it/s]\n",
      "100%|██████████| 8/8 [00:01<00:00,  4.61it/s]\n",
      "[epoch 19] train_loss: 0.057554  val_accuracy: 45.50  val_loss: 0.466404\n",
      "train epoch[20/50] loss:0.088: 100%|██████████| 67/67 [00:47<00:00,  1.42it/s]\n",
      "100%|██████████| 8/8 [00:01<00:00,  4.48it/s]\n",
      "[epoch 20] train_loss: 0.039993  val_accuracy: 45.45  val_loss: 0.456257\n",
      "train epoch[21/50] loss:0.059: 100%|██████████| 67/67 [00:47<00:00,  1.41it/s]\n",
      "100%|██████████| 8/8 [00:01<00:00,  4.69it/s]\n",
      "[epoch 21] train_loss: 0.028306  val_accuracy: 45.48  val_loss: 0.682997\n",
      "train epoch[22/50] loss:0.004: 100%|██████████| 67/67 [00:47<00:00,  1.42it/s]\n",
      "100%|██████████| 8/8 [00:01<00:00,  4.81it/s]\n",
      "[epoch 22] train_loss: 0.038633  val_accuracy: 45.26  val_loss: 0.686772\n",
      "train epoch[23/50] loss:0.023: 100%|██████████| 67/67 [00:47<00:00,  1.42it/s]\n",
      "100%|██████████| 8/8 [00:01<00:00,  4.82it/s]\n",
      "[epoch 23] train_loss: 0.044039  val_accuracy: 43.88  val_loss: 0.528164\n",
      "train epoch[24/50] loss:0.595: 100%|██████████| 67/67 [00:47<00:00,  1.42it/s]\n",
      "100%|██████████| 8/8 [00:01<00:00,  4.63it/s]\n",
      "[epoch 24] train_loss: 0.072247  val_accuracy: 41.58  val_loss: 0.406421\n",
      "train epoch[25/50] loss:0.002: 100%|██████████| 67/67 [00:47<00:00,  1.42it/s]\n",
      "100%|██████████| 8/8 [00:01<00:00,  4.82it/s]\n",
      "[epoch 25] train_loss: 0.043080  val_accuracy: 44.37  val_loss: 0.480211\n",
      "train epoch[26/50] loss:0.118: 100%|██████████| 67/67 [00:47<00:00,  1.42it/s]\n",
      "100%|██████████| 8/8 [00:01<00:00,  4.87it/s]\n",
      "[epoch 26] train_loss: 0.046543  val_accuracy: 45.48  val_loss: 0.505665\n",
      "train epoch[27/50] loss:0.002: 100%|██████████| 67/67 [00:47<00:00,  1.42it/s]\n",
      "100%|██████████| 8/8 [00:01<00:00,  4.08it/s]\n",
      "[epoch 27] train_loss: 0.041363  val_accuracy: 44.42  val_loss: 0.468575\n",
      "train epoch[28/50] loss:0.055: 100%|██████████| 67/67 [00:47<00:00,  1.42it/s]\n",
      "100%|██████████| 8/8 [00:01<00:00,  4.33it/s]\n",
      "[epoch 28] train_loss: 0.023824  val_accuracy: 45.31  val_loss: 0.532640\n",
      "train epoch[29/50] loss:0.392: 100%|██████████| 67/67 [00:47<00:00,  1.42it/s]\n",
      "100%|██████████| 8/8 [00:01<00:00,  4.62it/s]\n",
      "[epoch 29] train_loss: 0.036040  val_accuracy: 45.41  val_loss: 0.456187\n",
      "train epoch[30/50] loss:0.002: 100%|██████████| 67/67 [00:47<00:00,  1.42it/s]\n",
      "100%|██████████| 8/8 [00:01<00:00,  4.49it/s]\n",
      "[epoch 30] train_loss: 0.042161  val_accuracy: 45.44  val_loss: 0.488726\n",
      "train epoch[31/50] loss:0.002: 100%|██████████| 67/67 [00:47<00:00,  1.42it/s]\n",
      "100%|██████████| 8/8 [00:01<00:00,  4.76it/s]\n",
      "[epoch 31] train_loss: 0.037043  val_accuracy: 43.77  val_loss: 0.450677\n",
      "train epoch[32/50] loss:0.028: 100%|██████████| 67/67 [00:47<00:00,  1.42it/s]\n",
      "100%|██████████| 8/8 [00:01<00:00,  4.86it/s]\n",
      "[epoch 32] train_loss: 0.039918  val_accuracy: 45.38  val_loss: 0.884033\n",
      "train epoch[33/50] loss:0.744: 100%|██████████| 67/67 [00:47<00:00,  1.42it/s]\n",
      "100%|██████████| 8/8 [00:01<00:00,  4.77it/s]\n",
      "[epoch 33] train_loss: 0.038573  val_accuracy: 44.17  val_loss: 0.466080\n",
      "train epoch[34/50] loss:0.096: 100%|██████████| 67/67 [00:47<00:00,  1.42it/s]\n",
      "100%|██████████| 8/8 [00:01<00:00,  4.66it/s]\n",
      "[epoch 34] train_loss: 0.042342  val_accuracy: 45.60  val_loss: 0.696468\n",
      "train epoch[35/50] loss:0.001: 100%|██████████| 67/67 [00:47<00:00,  1.42it/s]\n",
      "100%|██████████| 8/8 [00:01<00:00,  4.79it/s]\n",
      "[epoch 35] train_loss: 0.020805  val_accuracy: 45.29  val_loss: 0.557593\n",
      "train epoch[36/50] loss:0.188: 100%|██████████| 67/67 [00:47<00:00,  1.42it/s]\n",
      "100%|██████████| 8/8 [00:01<00:00,  4.69it/s]\n",
      "[epoch 36] train_loss: 0.021273  val_accuracy: 45.41  val_loss: 0.609626\n",
      "train epoch[37/50] loss:0.001: 100%|██████████| 67/67 [00:47<00:00,  1.42it/s]\n",
      "100%|██████████| 8/8 [00:01<00:00,  4.58it/s]\n",
      "[epoch 37] train_loss: 0.031640  val_accuracy: 44.85  val_loss: 0.458095\n",
      "train epoch[38/50] loss:0.131: 100%|██████████| 67/67 [00:47<00:00,  1.41it/s]\n",
      "100%|██████████| 8/8 [00:01<00:00,  4.62it/s]\n",
      "[epoch 38] train_loss: 0.021615  val_accuracy: 45.14  val_loss: 0.522284\n",
      "train epoch[39/50] loss:0.043: 100%|██████████| 67/67 [00:47<00:00,  1.42it/s]\n",
      "100%|██████████| 8/8 [00:01<00:00,  4.55it/s]\n",
      "[epoch 39] train_loss: 0.027812  val_accuracy: 44.54  val_loss: 0.489293\n",
      "train epoch[40/50] loss:0.003: 100%|██████████| 67/67 [00:47<00:00,  1.41it/s]\n",
      "100%|██████████| 8/8 [00:01<00:00,  4.46it/s]\n",
      "[epoch 40] train_loss: 0.028717  val_accuracy: 45.43  val_loss: 0.658693\n",
      "train epoch[41/50] loss:0.285: 100%|██████████| 67/67 [00:47<00:00,  1.42it/s]\n",
      "100%|██████████| 8/8 [00:01<00:00,  4.74it/s]\n",
      "[epoch 41] train_loss: 0.017525  val_accuracy: 45.72  val_loss: 0.693128\n",
      "train epoch[42/50] loss:0.026: 100%|██████████| 67/67 [00:47<00:00,  1.42it/s]\n",
      "100%|██████████| 8/8 [00:01<00:00,  4.65it/s]\n",
      "[epoch 42] train_loss: 0.042691  val_accuracy: 44.30  val_loss: 0.471943\n",
      "train epoch[43/50] loss:0.019: 100%|██████████| 67/67 [00:47<00:00,  1.41it/s]\n",
      "100%|██████████| 8/8 [00:01<00:00,  4.49it/s]\n",
      "[epoch 43] train_loss: 0.025474  val_accuracy: 44.47  val_loss: 0.644914\n",
      "train epoch[44/50] loss:0.012: 100%|██████████| 67/67 [00:47<00:00,  1.41it/s]\n",
      "100%|██████████| 8/8 [00:01<00:00,  4.30it/s]\n",
      "[epoch 44] train_loss: 0.036517  val_accuracy: 44.97  val_loss: 0.603669\n",
      "train epoch[45/50] loss:0.016: 100%|██████████| 67/67 [00:47<00:00,  1.41it/s]\n",
      "100%|██████████| 8/8 [00:01<00:00,  4.60it/s]\n",
      "[epoch 45] train_loss: 0.018816  val_accuracy: 46.04  val_loss: 0.650125\n",
      "train epoch[46/50] loss:0.247: 100%|██████████| 67/67 [00:47<00:00,  1.41it/s]\n",
      "100%|██████████| 8/8 [00:01<00:00,  4.37it/s]\n",
      "[epoch 46] train_loss: 0.014215  val_accuracy: 44.34  val_loss: 0.529543\n",
      "train epoch[47/50] loss:0.046: 100%|██████████| 67/67 [00:47<00:00,  1.41it/s]\n",
      "100%|██████████| 8/8 [00:01<00:00,  4.52it/s]\n",
      "[epoch 47] train_loss: 0.018824  val_accuracy: 45.69  val_loss: 0.698147\n",
      "train epoch[48/50] loss:0.169: 100%|██████████| 67/67 [00:47<00:00,  1.41it/s]\n",
      "100%|██████████| 8/8 [00:01<00:00,  4.73it/s]\n",
      "[epoch 48] train_loss: 0.014910  val_accuracy: 45.97  val_loss: 0.888161\n",
      "train epoch[49/50] loss:0.208: 100%|██████████| 67/67 [00:47<00:00,  1.41it/s]\n",
      "100%|██████████| 8/8 [00:01<00:00,  4.54it/s]\n",
      "[epoch 49] train_loss: 0.049808  val_accuracy: 45.78  val_loss: 0.737829\n",
      "train epoch[50/50] loss:0.037: 100%|██████████| 67/67 [00:47<00:00,  1.42it/s]\n",
      "100%|██████████| 8/8 [00:01<00:00,  4.54it/s]\n",
      "[epoch 50] train_loss: 0.048334  val_accuracy: 44.89  val_loss: 0.583783\n",
      "Finished Training\n",
      "CPU times: user 26min 19s, sys: 15min 8s, total: 41min 28s\n",
      "Wall time: 40min 51s\n"
     ]
    }
   ],
   "source": [
    "%%time \n",
    "class_weights = compute_class_weight('balanced', classes=np.unique(y_train_final), y=y_train_final)\n",
    "class_weights_dict = dict(enumerate(class_weights))\n",
    "# class_weights = {0:0.8,1:10.0}\n",
    "print(\"Class Weights:\", class_weights_dict)\n",
    "loss_function = nn.CrossEntropyLoss(weight=torch.tensor(class_weights).float().to(device))\n",
    "optimizer = optim.Adam(net.parameters(), lr=0.0001,weight_decay=0.00001)\n",
    "\n",
    "epochs = 50\n",
    "best_acc = 0.0\n",
    "best_val_loss = 1000.0\n",
    "save_path = './{}Net.pth'.format('isicmedmamba')\n",
    "train_steps = len(train_dataloader)\n",
    "val_num = len(y_val)\n",
    "for epoch in range(epochs):\n",
    "    # train\n",
    "    net.train()\n",
    "    running_loss = 0.0\n",
    "    train_bar = tqdm(train_dataloader, file=sys.stdout)\n",
    "    for step, data in enumerate(train_bar):\n",
    "        dict1,labels = data\n",
    "        images = dict1['images']\n",
    "        tabular = dict1['tabular']\n",
    "\n",
    "        optimizer.zero_grad()\n",
    "        outputs = net(images.to(device))\n",
    "        loss = loss_function(outputs, labels.flatten().to(device))\n",
    "        loss.backward()\n",
    "        optimizer.step()\n",
    "\n",
    "        # print statistics\n",
    "        running_loss += loss.item()\n",
    "\n",
    "        train_bar.desc = \"train epoch[{}/{}] loss:{:.3f}\".format(epoch + 1,\n",
    "                                                                 epochs,\n",
    "                                                                 loss)\n",
    "\n",
    "    # validate\n",
    "    net.eval()\n",
    "    criterion = nn.CrossEntropyLoss(weight=torch.tensor(class_weights).float().to(device))  # Define the loss function\n",
    "    acc = 0.0  # accumulate accurate number / epoch\n",
    "    val_loss = 0.0  # Accumulate validation loss\n",
    "    with torch.no_grad():\n",
    "        val_bar = tqdm(val_dataloader, file=sys.stdout)\n",
    "        for val_data in val_bar:\n",
    "            val_dict, val_labels = val_data\n",
    "            val_images = val_dict['images']\n",
    "            outputs = net(val_images.to(device))\n",
    "            # Compute loss\n",
    "            val_loss_temp = criterion(outputs, val_labels.flatten().to(device))\n",
    "            val_loss += val_loss_temp.item() * val_images.size(0)  # Multiply by batch size for total loss\n",
    "\n",
    "            predict_y = torch.argmax(outputs, dim=1)\n",
    "            acc += torch.eq(predict_y, val_labels.to(device)).sum().item()\n",
    "\n",
    "    val_accurate = acc / val_num\n",
    "    val_avg_loss = val_loss / val_num\n",
    "    print('[epoch %d] train_loss: %.6f  val_accuracy: %.2f  val_loss: %.6f' %\n",
    "          (epoch + 1, running_loss / train_steps, val_accurate, val_avg_loss))\n",
    "\n",
    "    if val_avg_loss <= best_val_loss:\n",
    "        best_val_loss = val_avg_loss\n",
    "        torch.save(net.state_dict(), save_path)\n",
    "\n",
    "print('Finished Training')\n"
   ]
  },
  {
   "cell_type": "code",
   "execution_count": 63,
   "id": "75de3acf",
   "metadata": {
    "execution": {
     "iopub.execute_input": "2025-03-10T11:23:26.298634Z",
     "iopub.status.busy": "2025-03-10T11:23:26.298259Z",
     "iopub.status.idle": "2025-03-10T11:23:26.594543Z",
     "shell.execute_reply": "2025-03-10T11:23:26.593743Z"
    },
    "papermill": {
     "duration": 0.547197,
     "end_time": "2025-03-10T11:23:26.596129",
     "exception": false,
     "start_time": "2025-03-10T11:23:26.048932",
     "status": "completed"
    },
    "tags": []
   },
   "outputs": [],
   "source": [
    "torch.cuda.empty_cache()"
   ]
  },
  {
   "cell_type": "code",
   "execution_count": 64,
   "id": "fbabb65a",
   "metadata": {
    "execution": {
     "iopub.execute_input": "2025-03-10T11:23:27.125335Z",
     "iopub.status.busy": "2025-03-10T11:23:27.124971Z",
     "iopub.status.idle": "2025-03-10T11:23:27.129864Z",
     "shell.execute_reply": "2025-03-10T11:23:27.128943Z"
    },
    "papermill": {
     "duration": 0.245143,
     "end_time": "2025-03-10T11:23:27.131276",
     "exception": false,
     "start_time": "2025-03-10T11:23:26.886133",
     "status": "completed"
    },
    "tags": []
   },
   "outputs": [],
   "source": [
    "del net"
   ]
  },
  {
   "cell_type": "code",
   "execution_count": 65,
   "id": "723d5c8e",
   "metadata": {
    "execution": {
     "iopub.execute_input": "2025-03-10T11:23:27.611591Z",
     "iopub.status.busy": "2025-03-10T11:23:27.611231Z",
     "iopub.status.idle": "2025-03-10T11:23:28.156159Z",
     "shell.execute_reply": "2025-03-10T11:23:28.155091Z"
    },
    "papermill": {
     "duration": 0.781455,
     "end_time": "2025-03-10T11:23:28.157551",
     "exception": false,
     "start_time": "2025-03-10T11:23:27.376096",
     "status": "completed"
    },
    "tags": []
   },
   "outputs": [
    {
     "data": {
      "text/plain": [
       "730"
      ]
     },
     "execution_count": 65,
     "metadata": {},
     "output_type": "execute_result"
    }
   ],
   "source": [
    "import gc\n",
    "gc.collect()"
   ]
  },
  {
   "cell_type": "markdown",
   "id": "c472397c",
   "metadata": {
    "papermill": {
     "duration": 0.231428,
     "end_time": "2025-03-10T11:23:28.623449",
     "exception": false,
     "start_time": "2025-03-10T11:23:28.392021",
     "status": "completed"
    },
    "tags": []
   },
   "source": [
    "### FUNCTIONAL API MODEL DEFINITION"
   ]
  },
  {
   "cell_type": "code",
   "execution_count": 66,
   "id": "7bbd91f1",
   "metadata": {
    "execution": {
     "iopub.execute_input": "2025-03-10T11:23:29.143203Z",
     "iopub.status.busy": "2025-03-10T11:23:29.142895Z",
     "iopub.status.idle": "2025-03-10T11:23:29.146253Z",
     "shell.execute_reply": "2025-03-10T11:23:29.145485Z"
    },
    "papermill": {
     "duration": 0.240097,
     "end_time": "2025-03-10T11:23:29.147664",
     "exception": false,
     "start_time": "2025-03-10T11:23:28.907567",
     "status": "completed"
    },
    "tags": []
   },
   "outputs": [],
   "source": [
    "# # lr_schedule = keras.optimizers.schedules.ExponentialDecay(\n",
    "# #     initial_learning_rate=1e-2,\n",
    "# #     decay_steps=5000,\n",
    "# #     decay_rate=0.9)\n",
    "# boundaries = [300,1000]\n",
    "# values = [1e-3,1e-4,1e-5]\n",
    "# lr_schedule = keras.optimizers.schedules.PiecewiseConstantDecay(\n",
    "#     boundaries, values, name=\"PiecewiseConstant\"\n",
    "# )\n",
    "# model.compile(\n",
    "#     optimizer=keras.optimizers.Adam(learning_rate=lr_schedule,weight_decay=1e-6),\n",
    "#     loss = keras.losses.BinaryFocalCrossentropy(apply_class_balancing=True,alpha=0.4,gamma=2.0,label_smoothing = 0.1),\n",
    "#     # loss = keras.losses.BinaryCrossentropy(),\n",
    "#     metrics=[keras.metrics.AUC(curve='PR', name='PR_pAUC'),keras.metrics.AUC(curve='ROC', name='ROC_pAUC')]\n",
    "# )"
   ]
  },
  {
   "cell_type": "code",
   "execution_count": 67,
   "id": "509635ce",
   "metadata": {
    "execution": {
     "iopub.execute_input": "2025-03-10T11:23:29.628978Z",
     "iopub.status.busy": "2025-03-10T11:23:29.628671Z",
     "iopub.status.idle": "2025-03-10T11:23:29.632270Z",
     "shell.execute_reply": "2025-03-10T11:23:29.631525Z"
    },
    "papermill": {
     "duration": 0.244257,
     "end_time": "2025-03-10T11:23:29.633526",
     "exception": false,
     "start_time": "2025-03-10T11:23:29.389269",
     "status": "completed"
    },
    "tags": []
   },
   "outputs": [],
   "source": [
    "# # Define callbacks\n",
    "# early_stopping = EarlyStopping(\n",
    "#     monitor='val_loss',\n",
    "#     mode='min',\n",
    "#     patience=10, \n",
    "#     restore_best_weights=True,\n",
    "#     start_from_epoch = 5\n",
    "# )\n",
    "\n",
    "# # reduce_lr = ReduceLROnPlateau(\n",
    "# #     monitor='loss', \n",
    "# #     factor=0.2, \n",
    "# #     patience=3, \n",
    "# #     min_lr=1e-6,\n",
    "# #     start_from_epoch = 2 \n",
    "# # )\n",
    "\n",
    "# checkpoint = ModelCheckpoint(\n",
    "#     filepath='best_model.keras', \n",
    "#     monitor='val_loss', \n",
    "#     save_best_only=True\n",
    "# )\n"
   ]
  },
  {
   "cell_type": "code",
   "execution_count": 68,
   "id": "1c811872",
   "metadata": {
    "execution": {
     "iopub.execute_input": "2025-03-10T11:23:30.209093Z",
     "iopub.status.busy": "2025-03-10T11:23:30.208789Z",
     "iopub.status.idle": "2025-03-10T11:23:30.212232Z",
     "shell.execute_reply": "2025-03-10T11:23:30.211542Z"
    },
    "papermill": {
     "duration": 0.317139,
     "end_time": "2025-03-10T11:23:30.213644",
     "exception": false,
     "start_time": "2025-03-10T11:23:29.896505",
     "status": "completed"
    },
    "tags": []
   },
   "outputs": [],
   "source": [
    "# class_weights = compute_class_weight('balanced', classes=np.unique(y_train_final), y=y_train_final)\n",
    "# class_weights = dict(enumerate(class_weights))\n",
    "# # class_weights = {0:0.8,1:10.0}\n",
    "# print(\"Class Weights:\", class_weights)"
   ]
  },
  {
   "cell_type": "code",
   "execution_count": 69,
   "id": "2d9c1bf5",
   "metadata": {
    "execution": {
     "iopub.execute_input": "2025-03-10T11:23:30.684528Z",
     "iopub.status.busy": "2025-03-10T11:23:30.684212Z",
     "iopub.status.idle": "2025-03-10T11:23:30.687774Z",
     "shell.execute_reply": "2025-03-10T11:23:30.686811Z"
    },
    "papermill": {
     "duration": 0.239742,
     "end_time": "2025-03-10T11:23:30.689287",
     "exception": false,
     "start_time": "2025-03-10T11:23:30.449545",
     "status": "completed"
    },
    "tags": []
   },
   "outputs": [],
   "source": [
    "# history = model.fit(\n",
    "#         train_dataset,\n",
    "#         validation_data=val_dataset,\n",
    "#         epochs=152,\n",
    "#         callbacks=[early_stopping, checkpoint],\n",
    "#         verbose=1,\n",
    "#         # class_weight=class_weights\n",
    "#     )"
   ]
  },
  {
   "cell_type": "code",
   "execution_count": 70,
   "id": "60a8f899",
   "metadata": {
    "execution": {
     "iopub.execute_input": "2025-03-10T11:23:31.158560Z",
     "iopub.status.busy": "2025-03-10T11:23:31.158204Z",
     "iopub.status.idle": "2025-03-10T11:23:31.161832Z",
     "shell.execute_reply": "2025-03-10T11:23:31.161001Z"
    },
    "papermill": {
     "duration": 0.238194,
     "end_time": "2025-03-10T11:23:31.163135",
     "exception": false,
     "start_time": "2025-03-10T11:23:30.924941",
     "status": "completed"
    },
    "tags": []
   },
   "outputs": [],
   "source": [
    "# plt.figure(figsize=(12, 8))\n",
    "\n",
    "# # Plot training and validation loss\n",
    "# plt.subplot(2, 1, 1)\n",
    "# plt.plot(history.history['loss'], label='Training Loss')\n",
    "# plt.plot(history.history['val_loss'], label='Validation Loss')\n",
    "# plt.title('Loss')\n",
    "# plt.xlabel('Epochs')\n",
    "# plt.ylabel('Loss')\n",
    "# plt.legend()\n",
    "\n",
    "# # Plot training and validation AUC\n",
    "# plt.subplot(2, 1, 2)\n",
    "# plt.plot(history.history['PR_pAUC'], label='Training PR_AUC')\n",
    "# plt.plot(history.history['val_PR_pAUC'], label='Validation PR_AUC')\n",
    "# plt.plot(history.history['ROC_pAUC'], label='Training ROC_AUC')\n",
    "# plt.plot(history.history['val_ROC_pAUC'], label='Validation ROC_AUC')\n",
    "# plt.title('AUC')\n",
    "# plt.xlabel('Epochs')\n",
    "# plt.ylabel('AUC')\n",
    "# plt.legend()\n",
    "\n",
    "# plt.tight_layout()\n",
    "# plt.show()\n"
   ]
  },
  {
   "cell_type": "markdown",
   "id": "e26993f6",
   "metadata": {
    "papermill": {
     "duration": 0.246315,
     "end_time": "2025-03-10T11:23:31.653441",
     "exception": false,
     "start_time": "2025-03-10T11:23:31.407126",
     "status": "completed"
    },
    "tags": []
   },
   "source": [
    "## Prediction for test data"
   ]
  },
  {
   "cell_type": "code",
   "execution_count": 71,
   "id": "6f40d4a1",
   "metadata": {
    "execution": {
     "iopub.execute_input": "2025-03-10T11:23:32.182195Z",
     "iopub.status.busy": "2025-03-10T11:23:32.181897Z",
     "iopub.status.idle": "2025-03-10T11:23:32.185356Z",
     "shell.execute_reply": "2025-03-10T11:23:32.184569Z"
    },
    "papermill": {
     "duration": 0.287227,
     "end_time": "2025-03-10T11:23:32.186775",
     "exception": false,
     "start_time": "2025-03-10T11:23:31.899548",
     "status": "completed"
    },
    "tags": []
   },
   "outputs": [],
   "source": [
    "# # # now load the best model\n",
    "# custom_objects = {}\n",
    "# # best_model = keras.models.load_model('best_model.keras', custom_objects=custom_objects)\n",
    "# best_model = keras.models.load_model('/kaggle/input/mobilevit/keras/v4/1/best_model_mobilevit_v4.keras')"
   ]
  },
  {
   "cell_type": "code",
   "execution_count": 72,
   "id": "b9ea3bb1",
   "metadata": {
    "execution": {
     "iopub.execute_input": "2025-03-10T11:23:32.674456Z",
     "iopub.status.busy": "2025-03-10T11:23:32.674135Z",
     "iopub.status.idle": "2025-03-10T11:23:33.088673Z",
     "shell.execute_reply": "2025-03-10T11:23:33.087761Z"
    },
    "papermill": {
     "duration": 0.658496,
     "end_time": "2025-03-10T11:23:33.089989",
     "exception": false,
     "start_time": "2025-03-10T11:23:32.431493",
     "status": "completed"
    },
    "tags": []
   },
   "outputs": [
    {
     "data": {
      "text/plain": [
       "<All keys matched successfully>"
      ]
     },
     "execution_count": 72,
     "metadata": {},
     "output_type": "execute_result"
    }
   ],
   "source": [
    "model = VSSM(num_classes=2).to(device)\n",
    "\n",
    "# Load the state dictionary\n",
    "state_dict = torch.load('/kaggle/working/isicmedmambaNet.pth')\n",
    "model.load_state_dict(state_dict)\n"
   ]
  },
  {
   "cell_type": "code",
   "execution_count": 73,
   "id": "55f8c3a8",
   "metadata": {
    "execution": {
     "iopub.execute_input": "2025-03-10T11:23:33.578076Z",
     "iopub.status.busy": "2025-03-10T11:23:33.577775Z",
     "iopub.status.idle": "2025-03-10T11:23:33.913407Z",
     "shell.execute_reply": "2025-03-10T11:23:33.912329Z"
    },
    "papermill": {
     "duration": 0.581592,
     "end_time": "2025-03-10T11:23:33.915053",
     "exception": false,
     "start_time": "2025-03-10T11:23:33.333461",
     "status": "completed"
    },
    "tags": []
   },
   "outputs": [
    {
     "name": "stdout",
     "output_type": "stream",
     "text": [
      "100%|██████████| 1/1 [00:00<00:00,  3.08it/s]\n"
     ]
    }
   ],
   "source": [
    "# Set the model to evaluation mode (if needed)\n",
    "model.eval()\n",
    "predict_y = pd.Series()\n",
    "with torch.no_grad():\n",
    "        test_bar = tqdm(test_dataloader, file=sys.stdout)\n",
    "        for test_data in test_bar:\n",
    "            test_dict = test_data\n",
    "            test_images = test_dict['images']\n",
    "            outputs = model(test_images.to(device))\n",
    "            probs = torch.softmax(outputs, dim=1)\n",
    "            # Extract class 1 probabilities\n",
    "            class_1_probs = probs[:, 1].to('cpu')\n",
    "        \n",
    "            # Append the probabilities to the Series\n",
    "            predict_y = pd.concat([predict_y,pd.Series(class_1_probs.numpy())],ignore_index=True)\n"
   ]
  },
  {
   "cell_type": "code",
   "execution_count": 74,
   "id": "64fff2fd",
   "metadata": {
    "execution": {
     "iopub.execute_input": "2025-03-10T11:23:34.454242Z",
     "iopub.status.busy": "2025-03-10T11:23:34.453924Z",
     "iopub.status.idle": "2025-03-10T11:23:34.461363Z",
     "shell.execute_reply": "2025-03-10T11:23:34.460507Z"
    },
    "papermill": {
     "duration": 0.251783,
     "end_time": "2025-03-10T11:23:34.462910",
     "exception": false,
     "start_time": "2025-03-10T11:23:34.211127",
     "status": "completed"
    },
    "tags": []
   },
   "outputs": [
    {
     "data": {
      "text/plain": [
       "0    0.004643\n",
       "1    0.010478\n",
       "2    0.003708\n",
       "dtype: float32"
      ]
     },
     "execution_count": 74,
     "metadata": {},
     "output_type": "execute_result"
    }
   ],
   "source": [
    "predict_y[:5]"
   ]
  },
  {
   "cell_type": "code",
   "execution_count": 75,
   "id": "ef655e00",
   "metadata": {
    "execution": {
     "iopub.execute_input": "2025-03-10T11:23:35.000525Z",
     "iopub.status.busy": "2025-03-10T11:23:35.000102Z",
     "iopub.status.idle": "2025-03-10T11:23:35.008091Z",
     "shell.execute_reply": "2025-03-10T11:23:35.007238Z"
    },
    "papermill": {
     "duration": 0.296527,
     "end_time": "2025-03-10T11:23:35.010048",
     "exception": false,
     "start_time": "2025-03-10T11:23:34.713521",
     "status": "completed"
    },
    "tags": []
   },
   "outputs": [],
   "source": [
    "# predictions = best_model.predict(test_dataset, verbose=1)\n",
    "# predictions_series = pd.Series(predictions.flatten(), name='Predictions')\n",
    "predictions_series = predict_y.clip(lower=1e-6, upper=0.999999)\n",
    "# prediction_series = pd.Series([np.random.rand() for i in range(len(X_test['isic_id']))])"
   ]
  },
  {
   "cell_type": "code",
   "execution_count": 76,
   "id": "4f920121",
   "metadata": {
    "execution": {
     "iopub.execute_input": "2025-03-10T11:23:35.507135Z",
     "iopub.status.busy": "2025-03-10T11:23:35.506767Z",
     "iopub.status.idle": "2025-03-10T11:23:35.517682Z",
     "shell.execute_reply": "2025-03-10T11:23:35.516650Z"
    },
    "papermill": {
     "duration": 0.255193,
     "end_time": "2025-03-10T11:23:35.519092",
     "exception": false,
     "start_time": "2025-03-10T11:23:35.263899",
     "status": "completed"
    },
    "tags": []
   },
   "outputs": [
    {
     "data": {
      "text/html": [
       "<div>\n",
       "<style scoped>\n",
       "    .dataframe tbody tr th:only-of-type {\n",
       "        vertical-align: middle;\n",
       "    }\n",
       "\n",
       "    .dataframe tbody tr th {\n",
       "        vertical-align: top;\n",
       "    }\n",
       "\n",
       "    .dataframe thead th {\n",
       "        text-align: right;\n",
       "    }\n",
       "</style>\n",
       "<table border=\"1\" class=\"dataframe\">\n",
       "  <thead>\n",
       "    <tr style=\"text-align: right;\">\n",
       "      <th></th>\n",
       "      <th>isic_id</th>\n",
       "      <th>target</th>\n",
       "    </tr>\n",
       "  </thead>\n",
       "  <tbody>\n",
       "    <tr>\n",
       "      <th>0</th>\n",
       "      <td>ISIC_0015657</td>\n",
       "      <td>0.004643</td>\n",
       "    </tr>\n",
       "    <tr>\n",
       "      <th>1</th>\n",
       "      <td>ISIC_0015729</td>\n",
       "      <td>0.010478</td>\n",
       "    </tr>\n",
       "    <tr>\n",
       "      <th>2</th>\n",
       "      <td>ISIC_0015740</td>\n",
       "      <td>0.003708</td>\n",
       "    </tr>\n",
       "  </tbody>\n",
       "</table>\n",
       "</div>"
      ],
      "text/plain": [
       "        isic_id    target\n",
       "0  ISIC_0015657  0.004643\n",
       "1  ISIC_0015729  0.010478\n",
       "2  ISIC_0015740  0.003708"
      ]
     },
     "execution_count": 76,
     "metadata": {},
     "output_type": "execute_result"
    }
   ],
   "source": [
    "sub_df = pd.concat([X_test['isic_id'],predictions_series],axis=1)\n",
    "sub_df.columns = ['isic_id','target']\n",
    "sub_df.head()"
   ]
  },
  {
   "cell_type": "code",
   "execution_count": 77,
   "id": "712db451",
   "metadata": {
    "execution": {
     "iopub.execute_input": "2025-03-10T11:23:36.055275Z",
     "iopub.status.busy": "2025-03-10T11:23:36.054943Z",
     "iopub.status.idle": "2025-03-10T11:23:36.065558Z",
     "shell.execute_reply": "2025-03-10T11:23:36.064678Z"
    },
    "papermill": {
     "duration": 0.252496,
     "end_time": "2025-03-10T11:23:36.067314",
     "exception": false,
     "start_time": "2025-03-10T11:23:35.814818",
     "status": "completed"
    },
    "tags": []
   },
   "outputs": [],
   "source": [
    " sub_df.to_csv('submission.csv', index=False)"
   ]
  },
  {
   "cell_type": "code",
   "execution_count": null,
   "id": "df97a09e",
   "metadata": {
    "papermill": {
     "duration": 0.253935,
     "end_time": "2025-03-10T11:23:36.567964",
     "exception": false,
     "start_time": "2025-03-10T11:23:36.314029",
     "status": "completed"
    },
    "tags": []
   },
   "outputs": [],
   "source": []
  }
 ],
 "metadata": {
  "kaggle": {
   "accelerator": "gpu",
   "dataSources": [
    {
     "databundleVersionId": 9094797,
     "sourceId": 63056,
     "sourceType": "competition"
    },
    {
     "modelId": 260060,
     "modelInstanceId": 238391,
     "sourceId": 278314,
     "sourceType": "modelInstanceVersion"
    }
   ],
   "dockerImageVersionId": 30919,
   "isGpuEnabled": true,
   "isInternetEnabled": true,
   "language": "python",
   "sourceType": "notebook"
  },
  "kernelspec": {
   "display_name": "Python 3",
   "language": "python",
   "name": "python3"
  },
  "language_info": {
   "codemirror_mode": {
    "name": "ipython",
    "version": 3
   },
   "file_extension": ".py",
   "mimetype": "text/x-python",
   "name": "python",
   "nbconvert_exporter": "python",
   "pygments_lexer": "ipython3",
   "version": "3.10.12"
  },
  "papermill": {
   "default_parameters": {},
   "duration": 2821.706733,
   "end_time": "2025-03-10T11:23:40.909282",
   "environment_variables": {},
   "exception": null,
   "input_path": "__notebook__.ipynb",
   "output_path": "__notebook__.ipynb",
   "parameters": {},
   "start_time": "2025-03-10T10:36:39.202549",
   "version": "2.6.0"
  }
 },
 "nbformat": 4,
 "nbformat_minor": 5
}

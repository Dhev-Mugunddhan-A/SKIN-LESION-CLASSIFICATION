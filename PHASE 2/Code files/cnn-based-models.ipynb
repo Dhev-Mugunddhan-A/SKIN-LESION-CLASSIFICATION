{
 "cells": [
  {
   "cell_type": "code",
   "execution_count": 1,
   "id": "a982fc29",
   "metadata": {
    "_cell_guid": "b1076dfc-b9ad-4769-8c92-a6c4dae69d19",
    "_uuid": "8f2839f25d086af736a60e9eeb907d3b93b6e0e5",
    "execution": {
     "iopub.execute_input": "2025-02-20T09:06:13.152036Z",
     "iopub.status.busy": "2025-02-20T09:06:13.151739Z",
     "iopub.status.idle": "2025-02-20T09:06:13.833290Z",
     "shell.execute_reply": "2025-02-20T09:06:13.832303Z"
    },
    "papermill": {
     "duration": 0.694425,
     "end_time": "2025-02-20T09:06:13.834801",
     "exception": false,
     "start_time": "2025-02-20T09:06:13.140376",
     "status": "completed"
    },
    "tags": []
   },
   "outputs": [
    {
     "name": "stdout",
     "output_type": "stream",
     "text": [
      "sample_submission.csv\n",
      "train-metadata.csv\n",
      "test-metadata.csv\n",
      "test-image.hdf5\n",
      "train-image\n",
      "train-image.hdf5\n"
     ]
    }
   ],
   "source": [
    "# This Python 3 environment comes with many helpful analytics libraries installed\n",
    "# It is defined by the kaggle/python Docker image: https://github.com/kaggle/docker-python\n",
    "# For example, here's several helpful packages to load\n",
    "\n",
    "import numpy as np # linear algebra\n",
    "import pandas as pd # data processing, CSV file I/O (e.g. pd.read_csv)\n",
    "\n",
    "# Input data files are available in the read-only \"../input/\" directory\n",
    "# For example, running this (by clicking run or pressing Shift+Enter) will list all files under the input directory\n",
    "\n",
    "import os\n",
    "current_dir = \"/kaggle/input/isic-2024-challenge\"\n",
    "\n",
    "# List all files in the current directory (excluding subdirectories)\n",
    "files_in_dir = [f for f in os.listdir(current_dir)]\n",
    "for file in files_in_dir:\n",
    "    print(file)\n",
    "\n",
    "    \n",
    "# You can write up to 20GB to the current directory (/kaggle/working/) that gets preserved as output when you create a version using \"Save & Run All\" \n",
    "# You can also write temporary files to /kaggle/temp/, but they won't be saved outside of the current session"
   ]
  },
  {
   "cell_type": "markdown",
   "id": "dffc07ce",
   "metadata": {
    "papermill": {
     "duration": 0.009331,
     "end_time": "2025-02-20T09:06:13.854444",
     "exception": false,
     "start_time": "2025-02-20T09:06:13.845113",
     "status": "completed"
    },
    "tags": []
   },
   "source": [
    "## Libraries and dependencies"
   ]
  },
  {
   "cell_type": "code",
   "execution_count": 2,
   "id": "2438345a",
   "metadata": {
    "execution": {
     "iopub.execute_input": "2025-02-20T09:06:13.874291Z",
     "iopub.status.busy": "2025-02-20T09:06:13.873967Z",
     "iopub.status.idle": "2025-02-20T09:06:16.838260Z",
     "shell.execute_reply": "2025-02-20T09:06:16.837574Z"
    },
    "papermill": {
     "duration": 2.976083,
     "end_time": "2025-02-20T09:06:16.839910",
     "exception": false,
     "start_time": "2025-02-20T09:06:13.863827",
     "status": "completed"
    },
    "tags": []
   },
   "outputs": [],
   "source": [
    "import numpy as np \n",
    "import pandas as pd \n",
    "import matplotlib.pyplot as plt\n",
    "import os \n",
    "import h5py\n",
    "import cv2\n",
    "from tqdm.notebook import tqdm\n",
    "from concurrent.futures import ThreadPoolExecutor,ProcessPoolExecutor, as_completed\n",
    "from google.colab.patches import cv2_imshow\n",
    "from IPython.display import display, Javascript\n",
    "import plotly.express as px\n",
    "from sklearn.model_selection import train_test_split,cross_val_score\n",
    "from sklearn.compose import ColumnTransformer\n",
    "from sklearn.pipeline import Pipeline\n",
    "from sklearn.experimental import enable_iterative_imputer\n",
    "from sklearn.impute import IterativeImputer,SimpleImputer,KNNImputer\n",
    "from sklearn.preprocessing import MinMaxScaler, OneHotEncoder, FunctionTransformer\n",
    "from sklearn.feature_extraction import FeatureHasher\n",
    "from sklearn.ensemble import RandomForestClassifier, RandomForestRegressor\n",
    "from sklearn.neighbors import NearestNeighbors\n",
    "from sklearn.metrics import accuracy_score, mean_squared_error,get_scorer_names\n",
    "from sklearn.preprocessing import LabelEncoder,MinMaxScaler,StandardScaler\n",
    "from sklearn.linear_model import LogisticRegression, LinearRegression,SGDClassifier\n",
    "from sklearn.utils import resample\n",
    "from sklearn.utils import shuffle\n",
    "from sklearn.utils.class_weight import compute_class_weight\n",
    "from imblearn.combine import *\n",
    "from imblearn.under_sampling import *\n",
    "from imblearn.over_sampling import *\n",
    "from imblearn.pipeline import Pipeline\n",
    "import plotly.graph_objects as go\n",
    "from plotly.subplots import make_subplots\n",
    "import random\n",
    "import warnings\n",
    "warnings.filterwarnings(\"ignore\")"
   ]
  },
  {
   "cell_type": "code",
   "execution_count": 3,
   "id": "fcd1fb7e",
   "metadata": {
    "execution": {
     "iopub.execute_input": "2025-02-20T09:06:16.860542Z",
     "iopub.status.busy": "2025-02-20T09:06:16.860151Z",
     "iopub.status.idle": "2025-02-20T09:06:29.320440Z",
     "shell.execute_reply": "2025-02-20T09:06:29.319754Z"
    },
    "papermill": {
     "duration": 12.472054,
     "end_time": "2025-02-20T09:06:29.321982",
     "exception": false,
     "start_time": "2025-02-20T09:06:16.849928",
     "status": "completed"
    },
    "tags": []
   },
   "outputs": [
    {
     "name": "stdout",
     "output_type": "stream",
     "text": [
      "3.5.0\n"
     ]
    }
   ],
   "source": [
    "# Deep learning keras libraries\n",
    "import keras\n",
    "print(keras.__version__)\n",
    "from keras import backend as K\n",
    "from keras.losses import Loss\n",
    "import tensorflow as tf\n",
    "from keras.layers import Input, Conv2D, MaxPooling2D,GlobalAveragePooling2D, Flatten, Dense, Dropout, BatchNormalization, Concatenate\n",
    "from keras import ops\n",
    "import keras_hub\n",
    "from keras.callbacks import EarlyStopping, ReduceLROnPlateau, ModelCheckpoint"
   ]
  },
  {
   "cell_type": "code",
   "execution_count": 4,
   "id": "4aaec56d",
   "metadata": {
    "execution": {
     "iopub.execute_input": "2025-02-20T09:06:29.343373Z",
     "iopub.status.busy": "2025-02-20T09:06:29.342860Z",
     "iopub.status.idle": "2025-02-20T09:06:29.346820Z",
     "shell.execute_reply": "2025-02-20T09:06:29.346005Z"
    },
    "papermill": {
     "duration": 0.015929,
     "end_time": "2025-02-20T09:06:29.348159",
     "exception": false,
     "start_time": "2025-02-20T09:06:29.332230",
     "status": "completed"
    },
    "tags": []
   },
   "outputs": [],
   "source": [
    "# CONFIG VARIABLES AND PARAMETERS\n",
    "IMAGE_HEIGHT = 224\n",
    "IMAGE_WIDTH = 224\n",
    "BATCH_SIZE = 64\n",
    "keras.utils.set_random_seed(48)"
   ]
  },
  {
   "cell_type": "markdown",
   "id": "240ca041",
   "metadata": {
    "execution": {
     "iopub.execute_input": "2025-01-05T09:46:53.328913Z",
     "iopub.status.busy": "2025-01-05T09:46:53.328514Z",
     "iopub.status.idle": "2025-01-05T09:46:53.34364Z",
     "shell.execute_reply": "2025-01-05T09:46:53.34165Z",
     "shell.execute_reply.started": "2025-01-05T09:46:53.328878Z"
    },
    "papermill": {
     "duration": 0.009384,
     "end_time": "2025-02-20T09:06:29.366926",
     "exception": false,
     "start_time": "2025-02-20T09:06:29.357542",
     "status": "completed"
    },
    "tags": []
   },
   "source": [
    "## Data loading\n"
   ]
  },
  {
   "cell_type": "code",
   "execution_count": 5,
   "id": "a6e8a6ca",
   "metadata": {
    "execution": {
     "iopub.execute_input": "2025-02-20T09:06:29.386703Z",
     "iopub.status.busy": "2025-02-20T09:06:29.386440Z",
     "iopub.status.idle": "2025-02-20T09:06:29.423445Z",
     "shell.execute_reply": "2025-02-20T09:06:29.422584Z"
    },
    "papermill": {
     "duration": 0.048425,
     "end_time": "2025-02-20T09:06:29.424946",
     "exception": false,
     "start_time": "2025-02-20T09:06:29.376521",
     "status": "completed"
    },
    "tags": []
   },
   "outputs": [
    {
     "name": "stdout",
     "output_type": "stream",
     "text": [
      "<class 'pandas.core.frame.DataFrame'>\n",
      "RangeIndex: 3 entries, 0 to 2\n",
      "Data columns (total 2 columns):\n",
      " #   Column   Non-Null Count  Dtype  \n",
      "---  ------   --------------  -----  \n",
      " 0   isic_id  3 non-null      object \n",
      " 1   target   3 non-null      float64\n",
      "dtypes: float64(1), object(1)\n",
      "memory usage: 176.0+ bytes\n"
     ]
    }
   ],
   "source": [
    "current_dir = \"/kaggle/input/isic-2024-challenge\"\n",
    "sample_submission = pd.read_csv(os.path.join(current_dir,'sample_submission.csv'))\n",
    "sample_submission.info()"
   ]
  },
  {
   "cell_type": "code",
   "execution_count": 6,
   "id": "7d0dab8c",
   "metadata": {
    "execution": {
     "iopub.execute_input": "2025-02-20T09:06:29.444959Z",
     "iopub.status.busy": "2025-02-20T09:06:29.444749Z",
     "iopub.status.idle": "2025-02-20T09:06:29.459632Z",
     "shell.execute_reply": "2025-02-20T09:06:29.458863Z"
    },
    "papermill": {
     "duration": 0.026348,
     "end_time": "2025-02-20T09:06:29.460986",
     "exception": false,
     "start_time": "2025-02-20T09:06:29.434638",
     "status": "completed"
    },
    "tags": []
   },
   "outputs": [
    {
     "data": {
      "text/html": [
       "<div>\n",
       "<style scoped>\n",
       "    .dataframe tbody tr th:only-of-type {\n",
       "        vertical-align: middle;\n",
       "    }\n",
       "\n",
       "    .dataframe tbody tr th {\n",
       "        vertical-align: top;\n",
       "    }\n",
       "\n",
       "    .dataframe thead th {\n",
       "        text-align: right;\n",
       "    }\n",
       "</style>\n",
       "<table border=\"1\" class=\"dataframe\">\n",
       "  <thead>\n",
       "    <tr style=\"text-align: right;\">\n",
       "      <th></th>\n",
       "      <th>isic_id</th>\n",
       "      <th>target</th>\n",
       "    </tr>\n",
       "  </thead>\n",
       "  <tbody>\n",
       "    <tr>\n",
       "      <th>0</th>\n",
       "      <td>ISIC_0015657</td>\n",
       "      <td>0.3</td>\n",
       "    </tr>\n",
       "    <tr>\n",
       "      <th>1</th>\n",
       "      <td>ISIC_0015729</td>\n",
       "      <td>0.3</td>\n",
       "    </tr>\n",
       "    <tr>\n",
       "      <th>2</th>\n",
       "      <td>ISIC_0015740</td>\n",
       "      <td>0.3</td>\n",
       "    </tr>\n",
       "  </tbody>\n",
       "</table>\n",
       "</div>"
      ],
      "text/plain": [
       "        isic_id  target\n",
       "0  ISIC_0015657     0.3\n",
       "1  ISIC_0015729     0.3\n",
       "2  ISIC_0015740     0.3"
      ]
     },
     "execution_count": 6,
     "metadata": {},
     "output_type": "execute_result"
    }
   ],
   "source": [
    "sample_submission.head()"
   ]
  },
  {
   "cell_type": "code",
   "execution_count": 7,
   "id": "a2c368e7",
   "metadata": {
    "execution": {
     "iopub.execute_input": "2025-02-20T09:06:29.481078Z",
     "iopub.status.busy": "2025-02-20T09:06:29.480842Z",
     "iopub.status.idle": "2025-02-20T09:06:38.840181Z",
     "shell.execute_reply": "2025-02-20T09:06:38.839052Z"
    },
    "papermill": {
     "duration": 9.370862,
     "end_time": "2025-02-20T09:06:38.841763",
     "exception": false,
     "start_time": "2025-02-20T09:06:29.470901",
     "status": "completed"
    },
    "tags": []
   },
   "outputs": [
    {
     "name": "stdout",
     "output_type": "stream",
     "text": [
      "<class 'pandas.core.frame.DataFrame'>\n",
      "RangeIndex: 401059 entries, 0 to 401058\n",
      "Data columns (total 55 columns):\n",
      " #   Column                        Non-Null Count   Dtype  \n",
      "---  ------                        --------------   -----  \n",
      " 0   isic_id                       401059 non-null  object \n",
      " 1   target                        401059 non-null  int64  \n",
      " 2   patient_id                    401059 non-null  object \n",
      " 3   age_approx                    398261 non-null  float64\n",
      " 4   sex                           389542 non-null  object \n",
      " 5   anatom_site_general           395303 non-null  object \n",
      " 6   clin_size_long_diam_mm        401059 non-null  float64\n",
      " 7   image_type                    401059 non-null  object \n",
      " 8   tbp_tile_type                 401059 non-null  object \n",
      " 9   tbp_lv_A                      401059 non-null  float64\n",
      " 10  tbp_lv_Aext                   401059 non-null  float64\n",
      " 11  tbp_lv_B                      401059 non-null  float64\n",
      " 12  tbp_lv_Bext                   401059 non-null  float64\n",
      " 13  tbp_lv_C                      401059 non-null  float64\n",
      " 14  tbp_lv_Cext                   401059 non-null  float64\n",
      " 15  tbp_lv_H                      401059 non-null  float64\n",
      " 16  tbp_lv_Hext                   401059 non-null  float64\n",
      " 17  tbp_lv_L                      401059 non-null  float64\n",
      " 18  tbp_lv_Lext                   401059 non-null  float64\n",
      " 19  tbp_lv_areaMM2                401059 non-null  float64\n",
      " 20  tbp_lv_area_perim_ratio       401059 non-null  float64\n",
      " 21  tbp_lv_color_std_mean         401059 non-null  float64\n",
      " 22  tbp_lv_deltaA                 401059 non-null  float64\n",
      " 23  tbp_lv_deltaB                 401059 non-null  float64\n",
      " 24  tbp_lv_deltaL                 401059 non-null  float64\n",
      " 25  tbp_lv_deltaLB                401059 non-null  float64\n",
      " 26  tbp_lv_deltaLBnorm            401059 non-null  float64\n",
      " 27  tbp_lv_eccentricity           401059 non-null  float64\n",
      " 28  tbp_lv_location               401059 non-null  object \n",
      " 29  tbp_lv_location_simple        401059 non-null  object \n",
      " 30  tbp_lv_minorAxisMM            401059 non-null  float64\n",
      " 31  tbp_lv_nevi_confidence        401059 non-null  float64\n",
      " 32  tbp_lv_norm_border            401059 non-null  float64\n",
      " 33  tbp_lv_norm_color             401059 non-null  float64\n",
      " 34  tbp_lv_perimeterMM            401059 non-null  float64\n",
      " 35  tbp_lv_radial_color_std_max   401059 non-null  float64\n",
      " 36  tbp_lv_stdL                   401059 non-null  float64\n",
      " 37  tbp_lv_stdLExt                401059 non-null  float64\n",
      " 38  tbp_lv_symm_2axis             401059 non-null  float64\n",
      " 39  tbp_lv_symm_2axis_angle       401059 non-null  int64  \n",
      " 40  tbp_lv_x                      401059 non-null  float64\n",
      " 41  tbp_lv_y                      401059 non-null  float64\n",
      " 42  tbp_lv_z                      401059 non-null  float64\n",
      " 43  attribution                   401059 non-null  object \n",
      " 44  copyright_license             401059 non-null  object \n",
      " 45  lesion_id                     22058 non-null   object \n",
      " 46  iddx_full                     401059 non-null  object \n",
      " 47  iddx_1                        401059 non-null  object \n",
      " 48  iddx_2                        1068 non-null    object \n",
      " 49  iddx_3                        1065 non-null    object \n",
      " 50  iddx_4                        551 non-null     object \n",
      " 51  iddx_5                        1 non-null       object \n",
      " 52  mel_mitotic_index             53 non-null      object \n",
      " 53  mel_thick_mm                  63 non-null      float64\n",
      " 54  tbp_lv_dnn_lesion_confidence  401059 non-null  float64\n",
      "dtypes: float64(35), int64(2), object(18)\n",
      "memory usage: 168.3+ MB\n"
     ]
    }
   ],
   "source": [
    "train_metadata = pd.read_csv(os.path.join(current_dir,'train-metadata.csv'),low_memory=False)\n",
    "train_metadata.info()"
   ]
  },
  {
   "cell_type": "code",
   "execution_count": 8,
   "id": "1184ab13",
   "metadata": {
    "execution": {
     "iopub.execute_input": "2025-02-20T09:06:38.862492Z",
     "iopub.status.busy": "2025-02-20T09:06:38.862244Z",
     "iopub.status.idle": "2025-02-20T09:06:38.881570Z",
     "shell.execute_reply": "2025-02-20T09:06:38.880874Z"
    },
    "papermill": {
     "duration": 0.030947,
     "end_time": "2025-02-20T09:06:38.882839",
     "exception": false,
     "start_time": "2025-02-20T09:06:38.851892",
     "status": "completed"
    },
    "tags": []
   },
   "outputs": [
    {
     "data": {
      "text/html": [
       "<div>\n",
       "<style scoped>\n",
       "    .dataframe tbody tr th:only-of-type {\n",
       "        vertical-align: middle;\n",
       "    }\n",
       "\n",
       "    .dataframe tbody tr th {\n",
       "        vertical-align: top;\n",
       "    }\n",
       "\n",
       "    .dataframe thead th {\n",
       "        text-align: right;\n",
       "    }\n",
       "</style>\n",
       "<table border=\"1\" class=\"dataframe\">\n",
       "  <thead>\n",
       "    <tr style=\"text-align: right;\">\n",
       "      <th></th>\n",
       "      <th>isic_id</th>\n",
       "      <th>target</th>\n",
       "      <th>patient_id</th>\n",
       "      <th>age_approx</th>\n",
       "      <th>sex</th>\n",
       "      <th>anatom_site_general</th>\n",
       "      <th>clin_size_long_diam_mm</th>\n",
       "      <th>image_type</th>\n",
       "      <th>tbp_tile_type</th>\n",
       "      <th>tbp_lv_A</th>\n",
       "      <th>...</th>\n",
       "      <th>lesion_id</th>\n",
       "      <th>iddx_full</th>\n",
       "      <th>iddx_1</th>\n",
       "      <th>iddx_2</th>\n",
       "      <th>iddx_3</th>\n",
       "      <th>iddx_4</th>\n",
       "      <th>iddx_5</th>\n",
       "      <th>mel_mitotic_index</th>\n",
       "      <th>mel_thick_mm</th>\n",
       "      <th>tbp_lv_dnn_lesion_confidence</th>\n",
       "    </tr>\n",
       "  </thead>\n",
       "  <tbody>\n",
       "    <tr>\n",
       "      <th>0</th>\n",
       "      <td>ISIC_0015670</td>\n",
       "      <td>0</td>\n",
       "      <td>IP_1235828</td>\n",
       "      <td>60.0</td>\n",
       "      <td>male</td>\n",
       "      <td>lower extremity</td>\n",
       "      <td>3.04</td>\n",
       "      <td>TBP tile: close-up</td>\n",
       "      <td>3D: white</td>\n",
       "      <td>20.244422</td>\n",
       "      <td>...</td>\n",
       "      <td>NaN</td>\n",
       "      <td>Benign</td>\n",
       "      <td>Benign</td>\n",
       "      <td>NaN</td>\n",
       "      <td>NaN</td>\n",
       "      <td>NaN</td>\n",
       "      <td>NaN</td>\n",
       "      <td>NaN</td>\n",
       "      <td>NaN</td>\n",
       "      <td>97.517282</td>\n",
       "    </tr>\n",
       "    <tr>\n",
       "      <th>1</th>\n",
       "      <td>ISIC_0015845</td>\n",
       "      <td>0</td>\n",
       "      <td>IP_8170065</td>\n",
       "      <td>60.0</td>\n",
       "      <td>male</td>\n",
       "      <td>head/neck</td>\n",
       "      <td>1.10</td>\n",
       "      <td>TBP tile: close-up</td>\n",
       "      <td>3D: white</td>\n",
       "      <td>31.712570</td>\n",
       "      <td>...</td>\n",
       "      <td>IL_6727506</td>\n",
       "      <td>Benign</td>\n",
       "      <td>Benign</td>\n",
       "      <td>NaN</td>\n",
       "      <td>NaN</td>\n",
       "      <td>NaN</td>\n",
       "      <td>NaN</td>\n",
       "      <td>NaN</td>\n",
       "      <td>NaN</td>\n",
       "      <td>3.141455</td>\n",
       "    </tr>\n",
       "    <tr>\n",
       "      <th>2</th>\n",
       "      <td>ISIC_0015864</td>\n",
       "      <td>0</td>\n",
       "      <td>IP_6724798</td>\n",
       "      <td>60.0</td>\n",
       "      <td>male</td>\n",
       "      <td>posterior torso</td>\n",
       "      <td>3.40</td>\n",
       "      <td>TBP tile: close-up</td>\n",
       "      <td>3D: XP</td>\n",
       "      <td>22.575830</td>\n",
       "      <td>...</td>\n",
       "      <td>NaN</td>\n",
       "      <td>Benign</td>\n",
       "      <td>Benign</td>\n",
       "      <td>NaN</td>\n",
       "      <td>NaN</td>\n",
       "      <td>NaN</td>\n",
       "      <td>NaN</td>\n",
       "      <td>NaN</td>\n",
       "      <td>NaN</td>\n",
       "      <td>99.804040</td>\n",
       "    </tr>\n",
       "    <tr>\n",
       "      <th>3</th>\n",
       "      <td>ISIC_0015902</td>\n",
       "      <td>0</td>\n",
       "      <td>IP_4111386</td>\n",
       "      <td>65.0</td>\n",
       "      <td>male</td>\n",
       "      <td>anterior torso</td>\n",
       "      <td>3.22</td>\n",
       "      <td>TBP tile: close-up</td>\n",
       "      <td>3D: XP</td>\n",
       "      <td>14.242329</td>\n",
       "      <td>...</td>\n",
       "      <td>NaN</td>\n",
       "      <td>Benign</td>\n",
       "      <td>Benign</td>\n",
       "      <td>NaN</td>\n",
       "      <td>NaN</td>\n",
       "      <td>NaN</td>\n",
       "      <td>NaN</td>\n",
       "      <td>NaN</td>\n",
       "      <td>NaN</td>\n",
       "      <td>99.989998</td>\n",
       "    </tr>\n",
       "    <tr>\n",
       "      <th>4</th>\n",
       "      <td>ISIC_0024200</td>\n",
       "      <td>0</td>\n",
       "      <td>IP_8313778</td>\n",
       "      <td>55.0</td>\n",
       "      <td>male</td>\n",
       "      <td>anterior torso</td>\n",
       "      <td>2.73</td>\n",
       "      <td>TBP tile: close-up</td>\n",
       "      <td>3D: white</td>\n",
       "      <td>24.725520</td>\n",
       "      <td>...</td>\n",
       "      <td>NaN</td>\n",
       "      <td>Benign</td>\n",
       "      <td>Benign</td>\n",
       "      <td>NaN</td>\n",
       "      <td>NaN</td>\n",
       "      <td>NaN</td>\n",
       "      <td>NaN</td>\n",
       "      <td>NaN</td>\n",
       "      <td>NaN</td>\n",
       "      <td>70.442510</td>\n",
       "    </tr>\n",
       "  </tbody>\n",
       "</table>\n",
       "<p>5 rows × 55 columns</p>\n",
       "</div>"
      ],
      "text/plain": [
       "        isic_id  target  patient_id  age_approx   sex anatom_site_general  \\\n",
       "0  ISIC_0015670       0  IP_1235828        60.0  male     lower extremity   \n",
       "1  ISIC_0015845       0  IP_8170065        60.0  male           head/neck   \n",
       "2  ISIC_0015864       0  IP_6724798        60.0  male     posterior torso   \n",
       "3  ISIC_0015902       0  IP_4111386        65.0  male      anterior torso   \n",
       "4  ISIC_0024200       0  IP_8313778        55.0  male      anterior torso   \n",
       "\n",
       "   clin_size_long_diam_mm          image_type tbp_tile_type   tbp_lv_A  ...  \\\n",
       "0                    3.04  TBP tile: close-up     3D: white  20.244422  ...   \n",
       "1                    1.10  TBP tile: close-up     3D: white  31.712570  ...   \n",
       "2                    3.40  TBP tile: close-up        3D: XP  22.575830  ...   \n",
       "3                    3.22  TBP tile: close-up        3D: XP  14.242329  ...   \n",
       "4                    2.73  TBP tile: close-up     3D: white  24.725520  ...   \n",
       "\n",
       "    lesion_id  iddx_full  iddx_1  iddx_2  iddx_3  iddx_4  iddx_5  \\\n",
       "0         NaN     Benign  Benign     NaN     NaN     NaN     NaN   \n",
       "1  IL_6727506     Benign  Benign     NaN     NaN     NaN     NaN   \n",
       "2         NaN     Benign  Benign     NaN     NaN     NaN     NaN   \n",
       "3         NaN     Benign  Benign     NaN     NaN     NaN     NaN   \n",
       "4         NaN     Benign  Benign     NaN     NaN     NaN     NaN   \n",
       "\n",
       "   mel_mitotic_index  mel_thick_mm  tbp_lv_dnn_lesion_confidence  \n",
       "0                NaN           NaN                     97.517282  \n",
       "1                NaN           NaN                      3.141455  \n",
       "2                NaN           NaN                     99.804040  \n",
       "3                NaN           NaN                     99.989998  \n",
       "4                NaN           NaN                     70.442510  \n",
       "\n",
       "[5 rows x 55 columns]"
      ]
     },
     "execution_count": 8,
     "metadata": {},
     "output_type": "execute_result"
    }
   ],
   "source": [
    "train_metadata.head()"
   ]
  },
  {
   "cell_type": "code",
   "execution_count": 9,
   "id": "7f7eac23",
   "metadata": {
    "execution": {
     "iopub.execute_input": "2025-02-20T09:06:38.904022Z",
     "iopub.status.busy": "2025-02-20T09:06:38.903821Z",
     "iopub.status.idle": "2025-02-20T09:06:38.921604Z",
     "shell.execute_reply": "2025-02-20T09:06:38.920575Z"
    },
    "papermill": {
     "duration": 0.030322,
     "end_time": "2025-02-20T09:06:38.923046",
     "exception": false,
     "start_time": "2025-02-20T09:06:38.892724",
     "status": "completed"
    },
    "tags": []
   },
   "outputs": [
    {
     "name": "stdout",
     "output_type": "stream",
     "text": [
      "<class 'pandas.core.frame.DataFrame'>\n",
      "RangeIndex: 3 entries, 0 to 2\n",
      "Data columns (total 44 columns):\n",
      " #   Column                       Non-Null Count  Dtype  \n",
      "---  ------                       --------------  -----  \n",
      " 0   isic_id                      3 non-null      object \n",
      " 1   patient_id                   3 non-null      object \n",
      " 2   age_approx                   3 non-null      float64\n",
      " 3   sex                          3 non-null      object \n",
      " 4   anatom_site_general          3 non-null      object \n",
      " 5   clin_size_long_diam_mm       3 non-null      float64\n",
      " 6   image_type                   3 non-null      object \n",
      " 7   tbp_tile_type                3 non-null      object \n",
      " 8   tbp_lv_A                     3 non-null      float64\n",
      " 9   tbp_lv_Aext                  3 non-null      float64\n",
      " 10  tbp_lv_B                     3 non-null      float64\n",
      " 11  tbp_lv_Bext                  3 non-null      float64\n",
      " 12  tbp_lv_C                     3 non-null      float64\n",
      " 13  tbp_lv_Cext                  3 non-null      float64\n",
      " 14  tbp_lv_H                     3 non-null      float64\n",
      " 15  tbp_lv_Hext                  3 non-null      float64\n",
      " 16  tbp_lv_L                     3 non-null      float64\n",
      " 17  tbp_lv_Lext                  3 non-null      float64\n",
      " 18  tbp_lv_areaMM2               3 non-null      float64\n",
      " 19  tbp_lv_area_perim_ratio      3 non-null      float64\n",
      " 20  tbp_lv_color_std_mean        3 non-null      float64\n",
      " 21  tbp_lv_deltaA                3 non-null      float64\n",
      " 22  tbp_lv_deltaB                3 non-null      float64\n",
      " 23  tbp_lv_deltaL                3 non-null      float64\n",
      " 24  tbp_lv_deltaLB               3 non-null      float64\n",
      " 25  tbp_lv_deltaLBnorm           3 non-null      float64\n",
      " 26  tbp_lv_eccentricity          3 non-null      float64\n",
      " 27  tbp_lv_location              3 non-null      object \n",
      " 28  tbp_lv_location_simple       3 non-null      object \n",
      " 29  tbp_lv_minorAxisMM           3 non-null      float64\n",
      " 30  tbp_lv_nevi_confidence       3 non-null      float64\n",
      " 31  tbp_lv_norm_border           3 non-null      float64\n",
      " 32  tbp_lv_norm_color            3 non-null      float64\n",
      " 33  tbp_lv_perimeterMM           3 non-null      float64\n",
      " 34  tbp_lv_radial_color_std_max  3 non-null      float64\n",
      " 35  tbp_lv_stdL                  3 non-null      float64\n",
      " 36  tbp_lv_stdLExt               3 non-null      float64\n",
      " 37  tbp_lv_symm_2axis            3 non-null      float64\n",
      " 38  tbp_lv_symm_2axis_angle      3 non-null      int64  \n",
      " 39  tbp_lv_x                     3 non-null      float64\n",
      " 40  tbp_lv_y                     3 non-null      float64\n",
      " 41  tbp_lv_z                     3 non-null      float64\n",
      " 42  attribution                  3 non-null      object \n",
      " 43  copyright_license            3 non-null      object \n",
      "dtypes: float64(33), int64(1), object(10)\n",
      "memory usage: 1.2+ KB\n"
     ]
    }
   ],
   "source": [
    "test_metadata = pd.read_csv(os.path.join(current_dir,'test-metadata.csv'),low_memory=False)\n",
    "test_metadata.info()"
   ]
  },
  {
   "cell_type": "code",
   "execution_count": 10,
   "id": "bf29aebe",
   "metadata": {
    "execution": {
     "iopub.execute_input": "2025-02-20T09:06:38.943987Z",
     "iopub.status.busy": "2025-02-20T09:06:38.943775Z",
     "iopub.status.idle": "2025-02-20T09:06:38.958579Z",
     "shell.execute_reply": "2025-02-20T09:06:38.957917Z"
    },
    "papermill": {
     "duration": 0.026919,
     "end_time": "2025-02-20T09:06:38.959958",
     "exception": false,
     "start_time": "2025-02-20T09:06:38.933039",
     "status": "completed"
    },
    "tags": []
   },
   "outputs": [
    {
     "data": {
      "text/html": [
       "<div>\n",
       "<style scoped>\n",
       "    .dataframe tbody tr th:only-of-type {\n",
       "        vertical-align: middle;\n",
       "    }\n",
       "\n",
       "    .dataframe tbody tr th {\n",
       "        vertical-align: top;\n",
       "    }\n",
       "\n",
       "    .dataframe thead th {\n",
       "        text-align: right;\n",
       "    }\n",
       "</style>\n",
       "<table border=\"1\" class=\"dataframe\">\n",
       "  <thead>\n",
       "    <tr style=\"text-align: right;\">\n",
       "      <th></th>\n",
       "      <th>isic_id</th>\n",
       "      <th>patient_id</th>\n",
       "      <th>age_approx</th>\n",
       "      <th>sex</th>\n",
       "      <th>anatom_site_general</th>\n",
       "      <th>clin_size_long_diam_mm</th>\n",
       "      <th>image_type</th>\n",
       "      <th>tbp_tile_type</th>\n",
       "      <th>tbp_lv_A</th>\n",
       "      <th>tbp_lv_Aext</th>\n",
       "      <th>...</th>\n",
       "      <th>tbp_lv_radial_color_std_max</th>\n",
       "      <th>tbp_lv_stdL</th>\n",
       "      <th>tbp_lv_stdLExt</th>\n",
       "      <th>tbp_lv_symm_2axis</th>\n",
       "      <th>tbp_lv_symm_2axis_angle</th>\n",
       "      <th>tbp_lv_x</th>\n",
       "      <th>tbp_lv_y</th>\n",
       "      <th>tbp_lv_z</th>\n",
       "      <th>attribution</th>\n",
       "      <th>copyright_license</th>\n",
       "    </tr>\n",
       "  </thead>\n",
       "  <tbody>\n",
       "    <tr>\n",
       "      <th>0</th>\n",
       "      <td>ISIC_0015657</td>\n",
       "      <td>IP_6074337</td>\n",
       "      <td>45.0</td>\n",
       "      <td>male</td>\n",
       "      <td>posterior torso</td>\n",
       "      <td>2.70</td>\n",
       "      <td>TBP tile: close-up</td>\n",
       "      <td>3D: XP</td>\n",
       "      <td>22.80433</td>\n",
       "      <td>20.007270</td>\n",
       "      <td>...</td>\n",
       "      <td>0.304827</td>\n",
       "      <td>1.281532</td>\n",
       "      <td>2.299935</td>\n",
       "      <td>0.479339</td>\n",
       "      <td>20</td>\n",
       "      <td>-155.06510</td>\n",
       "      <td>1511.222000</td>\n",
       "      <td>113.980100</td>\n",
       "      <td>Memorial Sloan Kettering Cancer Center</td>\n",
       "      <td>CC-BY</td>\n",
       "    </tr>\n",
       "    <tr>\n",
       "      <th>1</th>\n",
       "      <td>ISIC_0015729</td>\n",
       "      <td>IP_1664139</td>\n",
       "      <td>35.0</td>\n",
       "      <td>female</td>\n",
       "      <td>lower extremity</td>\n",
       "      <td>2.52</td>\n",
       "      <td>TBP tile: close-up</td>\n",
       "      <td>3D: XP</td>\n",
       "      <td>16.64867</td>\n",
       "      <td>9.657964</td>\n",
       "      <td>...</td>\n",
       "      <td>0.000000</td>\n",
       "      <td>1.271940</td>\n",
       "      <td>2.011223</td>\n",
       "      <td>0.426230</td>\n",
       "      <td>25</td>\n",
       "      <td>-112.36924</td>\n",
       "      <td>629.535889</td>\n",
       "      <td>-15.019287</td>\n",
       "      <td>Frazer Institute, The University of Queensland...</td>\n",
       "      <td>CC-BY</td>\n",
       "    </tr>\n",
       "    <tr>\n",
       "      <th>2</th>\n",
       "      <td>ISIC_0015740</td>\n",
       "      <td>IP_7142616</td>\n",
       "      <td>65.0</td>\n",
       "      <td>male</td>\n",
       "      <td>posterior torso</td>\n",
       "      <td>3.16</td>\n",
       "      <td>TBP tile: close-up</td>\n",
       "      <td>3D: XP</td>\n",
       "      <td>24.25384</td>\n",
       "      <td>19.937380</td>\n",
       "      <td>...</td>\n",
       "      <td>0.230742</td>\n",
       "      <td>1.080308</td>\n",
       "      <td>2.705857</td>\n",
       "      <td>0.366071</td>\n",
       "      <td>110</td>\n",
       "      <td>-84.29282</td>\n",
       "      <td>1303.978000</td>\n",
       "      <td>-28.576050</td>\n",
       "      <td>FNQH Cairns</td>\n",
       "      <td>CC-BY</td>\n",
       "    </tr>\n",
       "  </tbody>\n",
       "</table>\n",
       "<p>3 rows × 44 columns</p>\n",
       "</div>"
      ],
      "text/plain": [
       "        isic_id  patient_id  age_approx     sex anatom_site_general  \\\n",
       "0  ISIC_0015657  IP_6074337        45.0    male     posterior torso   \n",
       "1  ISIC_0015729  IP_1664139        35.0  female     lower extremity   \n",
       "2  ISIC_0015740  IP_7142616        65.0    male     posterior torso   \n",
       "\n",
       "   clin_size_long_diam_mm          image_type tbp_tile_type  tbp_lv_A  \\\n",
       "0                    2.70  TBP tile: close-up        3D: XP  22.80433   \n",
       "1                    2.52  TBP tile: close-up        3D: XP  16.64867   \n",
       "2                    3.16  TBP tile: close-up        3D: XP  24.25384   \n",
       "\n",
       "   tbp_lv_Aext  ...  tbp_lv_radial_color_std_max  tbp_lv_stdL  tbp_lv_stdLExt  \\\n",
       "0    20.007270  ...                     0.304827     1.281532        2.299935   \n",
       "1     9.657964  ...                     0.000000     1.271940        2.011223   \n",
       "2    19.937380  ...                     0.230742     1.080308        2.705857   \n",
       "\n",
       "   tbp_lv_symm_2axis  tbp_lv_symm_2axis_angle   tbp_lv_x     tbp_lv_y  \\\n",
       "0           0.479339                       20 -155.06510  1511.222000   \n",
       "1           0.426230                       25 -112.36924   629.535889   \n",
       "2           0.366071                      110  -84.29282  1303.978000   \n",
       "\n",
       "     tbp_lv_z                                        attribution  \\\n",
       "0  113.980100             Memorial Sloan Kettering Cancer Center   \n",
       "1  -15.019287  Frazer Institute, The University of Queensland...   \n",
       "2  -28.576050                                        FNQH Cairns   \n",
       "\n",
       "   copyright_license  \n",
       "0              CC-BY  \n",
       "1              CC-BY  \n",
       "2              CC-BY  \n",
       "\n",
       "[3 rows x 44 columns]"
      ]
     },
     "execution_count": 10,
     "metadata": {},
     "output_type": "execute_result"
    }
   ],
   "source": [
    "test_metadata.head()"
   ]
  },
  {
   "cell_type": "markdown",
   "id": "321170bf",
   "metadata": {
    "papermill": {
     "duration": 0.010652,
     "end_time": "2025-02-20T09:06:38.981041",
     "exception": false,
     "start_time": "2025-02-20T09:06:38.970389",
     "status": "completed"
    },
    "tags": []
   },
   "source": [
    "#### Load Image Byte String\n",
    "\n",
    "In this competition, images are provided as byte strings. The following code snippet demonstrates how to load these images into memory. One might wonder why the provided jpeg images aren't being used in the /train-image folder for training. This is because testing images are not provided as JPEG images; instead, they are provided as byte strings. Why use byte strings? They occupy significantly less memory compared to np.array representations.\n"
   ]
  },
  {
   "cell_type": "code",
   "execution_count": 11,
   "id": "979574f8",
   "metadata": {
    "execution": {
     "iopub.execute_input": "2025-02-20T09:06:39.002629Z",
     "iopub.status.busy": "2025-02-20T09:06:39.002423Z",
     "iopub.status.idle": "2025-02-20T09:06:39.023468Z",
     "shell.execute_reply": "2025-02-20T09:06:39.022881Z"
    },
    "papermill": {
     "duration": 0.033333,
     "end_time": "2025-02-20T09:06:39.024721",
     "exception": false,
     "start_time": "2025-02-20T09:06:38.991388",
     "status": "completed"
    },
    "tags": []
   },
   "outputs": [],
   "source": [
    "# image sample visualization\n",
    "training_validation_hdf5 = h5py.File(f\"{current_dir}/train-image.hdf5\", 'r')\n",
    "testing_hdf5 = h5py.File(f\"{current_dir}/test-image.hdf5\", 'r')"
   ]
  },
  {
   "cell_type": "code",
   "execution_count": 12,
   "id": "e26c76c0",
   "metadata": {
    "execution": {
     "iopub.execute_input": "2025-02-20T09:06:39.046782Z",
     "iopub.status.busy": "2025-02-20T09:06:39.046460Z",
     "iopub.status.idle": "2025-02-20T09:06:39.250401Z",
     "shell.execute_reply": "2025-02-20T09:06:39.249587Z"
    },
    "papermill": {
     "duration": 0.216547,
     "end_time": "2025-02-20T09:06:39.251522",
     "exception": false,
     "start_time": "2025-02-20T09:06:39.034975",
     "status": "completed"
    },
    "tags": []
   },
   "outputs": [
    {
     "name": "stdout",
     "output_type": "stream",
     "text": [
      "Image ISIC_1472148:\n",
      "Shape:(117, 117, 3)\n"
     ]
    },
    {
     "data": {
      "image/jpeg": "[encoded data removed]",
      "image/png": "[encoded data removed]",
      "text/plain": [
       "<PIL.Image.Image image mode=RGB size=117x117>"
      ]
     },
     "metadata": {},
     "output_type": "display_data"
    },
    {
     "name": "stdout",
     "output_type": "stream",
     "text": [
      "Image ISIC_2153690:\n",
      "Shape:(131, 131, 3)\n"
     ]
    },
    {
     "data": {
      "image/jpeg": "[encoded data removed]",
      "image/png": "[encoded data removed]",
      "text/plain": [
       "<PIL.Image.Image image mode=RGB size=131x131>"
      ]
     },
     "metadata": {},
     "output_type": "display_data"
    }
   ],
   "source": [
    "# sample randomly two images from the train dataset\n",
    "img_sample = train_metadata['isic_id'].sample(n=2).to_list()\n",
    "\n",
    "# load the image from byte arrays, \n",
    "byte_str = [training_validation_hdf5[isic_id][()] for isic_id in img_sample]\n",
    "\n",
    "# convert byte str to numpy array\n",
    "img_arr = [np.frombuffer(byte, np.uint8) for byte in byte_str]\n",
    "\n",
    "# convert cv2 image\n",
    "img_cv2 = [cv2.imdecode(nparr, cv2.IMREAD_COLOR) for nparr in img_arr] \n",
    "for ind,val in enumerate(img_cv2):\n",
    "    print(f\"Image {img_sample[ind]}:\")\n",
    "    print(f\"Shape:{val.shape}\")\n",
    "    cv2_imshow(val)"
   ]
  },
  {
   "cell_type": "code",
   "execution_count": 13,
   "id": "881b8665",
   "metadata": {
    "execution": {
     "iopub.execute_input": "2025-02-20T09:06:39.275450Z",
     "iopub.status.busy": "2025-02-20T09:06:39.275230Z",
     "iopub.status.idle": "2025-02-20T09:06:39.296112Z",
     "shell.execute_reply": "2025-02-20T09:06:39.295371Z"
    },
    "papermill": {
     "duration": 0.033974,
     "end_time": "2025-02-20T09:06:39.297376",
     "exception": false,
     "start_time": "2025-02-20T09:06:39.263402",
     "status": "completed"
    },
    "tags": []
   },
   "outputs": [
    {
     "name": "stdout",
     "output_type": "stream",
     "text": [
      "Image ISIC_0015729:\n",
      "Shape:(125, 125, 3)\n"
     ]
    },
    {
     "data": {
      "image/jpeg": "[encoded data removed]",
      "image/png": "[encoded data removed]",
      "text/plain": [
       "<PIL.Image.Image image mode=RGB size=125x125>"
      ]
     },
     "metadata": {},
     "output_type": "display_data"
    },
    {
     "name": "stdout",
     "output_type": "stream",
     "text": [
      "Image ISIC_0015657:\n",
      "Shape:(141, 141, 3)\n"
     ]
    },
    {
     "data": {
      "image/jpeg": "[encoded data removed]",
      "image/png": "[encoded data removed]",
      "text/plain": [
       "<PIL.Image.Image image mode=RGB size=141x141>"
      ]
     },
     "metadata": {},
     "output_type": "display_data"
    },
    {
     "name": "stdout",
     "output_type": "stream",
     "text": [
      "Image ISIC_0015740:\n",
      "Shape:(119, 119, 3)\n"
     ]
    },
    {
     "data": {
      "image/jpeg": "[encoded data removed]",
      "image/png": "[encoded data removed]",
      "text/plain": [
       "<PIL.Image.Image image mode=RGB size=119x119>"
      ]
     },
     "metadata": {},
     "output_type": "display_data"
    }
   ],
   "source": [
    "# sample randomly two images from the train dataset\n",
    "img_sample = test_metadata['isic_id'].sample(n=3).to_list()\n",
    "\n",
    "# load the image from byte arrays, \n",
    "byte_str = [testing_hdf5[isic_id][()] for isic_id in img_sample]\n",
    "\n",
    "# convert byte str to numpy array\n",
    "img_arr = [np.frombuffer(byte, np.uint8) for byte in byte_str]\n",
    "\n",
    "# convert cv2 image\n",
    "img_cv2 = [cv2.imdecode(nparr, cv2.IMREAD_COLOR) for nparr in img_arr] \n",
    "for ind,val in enumerate(img_cv2):\n",
    "    print(f\"Image {img_sample[ind]}:\")\n",
    "    print(f\"Shape:{val.shape}\")\n",
    "    cv2_imshow(val)"
   ]
  },
  {
   "cell_type": "markdown",
   "id": "aea802f2",
   "metadata": {
    "papermill": {
     "duration": 0.013181,
     "end_time": "2025-02-20T09:06:39.324293",
     "exception": false,
     "start_time": "2025-02-20T09:06:39.311112",
     "status": "completed"
    },
    "tags": []
   },
   "source": [
    "## Preprocessing "
   ]
  },
  {
   "cell_type": "code",
   "execution_count": 14,
   "id": "5bc36145",
   "metadata": {
    "execution": {
     "iopub.execute_input": "2025-02-20T09:06:39.352886Z",
     "iopub.status.busy": "2025-02-20T09:06:39.352599Z",
     "iopub.status.idle": "2025-02-20T09:06:39.362515Z",
     "shell.execute_reply": "2025-02-20T09:06:39.361720Z"
    },
    "papermill": {
     "duration": 0.025365,
     "end_time": "2025-02-20T09:06:39.363800",
     "exception": false,
     "start_time": "2025-02-20T09:06:39.338435",
     "status": "completed"
    },
    "tags": []
   },
   "outputs": [],
   "source": [
    "class DataPreprocessor:\n",
    "    def __init__(self):\n",
    "        self.preprocessor = None\n",
    "        self.train_columns = None\n",
    "\n",
    "    def fit_transform(self, df):\n",
    "        \"\"\"Preprocess training data and store transformations.\"\"\"\n",
    "        df = df.copy()\n",
    "        df = self._drop_irrelevant_columns(df)\n",
    "        df = self._drop_train_only_columns(df)\n",
    "        categorical_cols, numerical_cols = self._identify_column_types(df)\n",
    "        \n",
    "        # Define preprocessing pipelines\n",
    "        numerical_pipeline = Pipeline([\n",
    "            (\"imputer\", KNNImputer()),\n",
    "            (\"scaler\", StandardScaler())\n",
    "        ])\n",
    "        \n",
    "        categorical_pipeline = Pipeline([\n",
    "            (\"onehot\", OneHotEncoder(handle_unknown=\"ignore\"))\n",
    "        ])\n",
    "        \n",
    "        self.preprocessor = ColumnTransformer([\n",
    "            (\"num\", numerical_pipeline, numerical_cols),\n",
    "            (\"cat\", categorical_pipeline, categorical_cols)\n",
    "        ])\n",
    "        \n",
    "        transformed_data = self.preprocessor.fit_transform(df)\n",
    "        \n",
    "        cat_feature_names = self.preprocessor.named_transformers_[\"cat\"].named_steps[\"onehot\"].get_feature_names_out(categorical_cols)\n",
    "        all_columns = numerical_cols + list(cat_feature_names)\n",
    "        \n",
    "        df_processed = pd.DataFrame(transformed_data, columns=all_columns)\n",
    "        df_processed[\"isic_id\"] = df[\"isic_id\"].values\n",
    "        df_processed[\"target\"] = df[\"target\"].values\n",
    "        \n",
    "        self.train_columns = df_processed.columns  # Store train columns\n",
    "        return df_processed\n",
    "\n",
    "    def transform(self, df):\n",
    "        \"\"\"Preprocess test data using stored transformations from training.\"\"\"\n",
    "        df = df.copy()\n",
    "        df = self._drop_irrelevant_columns(df)\n",
    "        \n",
    "        transformed_data = self.preprocessor.transform(df)\n",
    "        cat_feature_names = self.preprocessor.named_transformers_[\"cat\"].named_steps[\"onehot\"].get_feature_names_out()\n",
    "        all_columns = self.train_columns[:-2]  # Exclude 'isic_id' and 'target'\n",
    "        \n",
    "        df_processed = pd.DataFrame(transformed_data, columns=all_columns)\n",
    "        df_processed[\"isic_id\"] = df[\"isic_id\"].values\n",
    "        # df_processed[\"target\"] = df[\"target\"].values\n",
    "        \n",
    "        # Align test dataset with train columns\n",
    "        df_processed = self._align_train_test_columns(df_processed)\n",
    "        return df_processed\n",
    "\n",
    "    def _drop_irrelevant_columns(self, df):\n",
    "        \"\"\"Remove unnecessary columns.\"\"\"\n",
    "        return df.drop(columns=['patient_id','image_type', 'tbp_tile_type', 'attribution', 'copyright_license'], errors=\"ignore\")\n",
    "\n",
    "    def _drop_train_only_columns(self,df):\n",
    "        \"\"\"Remove columns that are present only in the train set and not in the test set\"\"\"\n",
    "        drop_train_only_columns = [\n",
    "            'lesion_id', 'iddx_full', 'iddx_1', 'iddx_2', 'iddx_3', 'iddx_4', 'iddx_5',\n",
    "            'mel_mitotic_index', 'mel_thick_mm', 'tbp_lv_dnn_lesion_confidence'\n",
    "            ]\n",
    "        return df.drop(columns=drop_train_only_columns,errors='ignore')\n",
    "        \n",
    "\n",
    "    def _identify_column_types(self, df):\n",
    "        \"\"\"Identify categorical and numerical columns, excluding 'isic_id' and 'target'.\"\"\"\n",
    "        categorical_cols = df.select_dtypes(include=['object']).columns.tolist()\n",
    "        numerical_cols = df.select_dtypes(include=['int64', 'float64']).columns.tolist()\n",
    "        categorical_cols = [col for col in categorical_cols if col != \"isic_id\"]\n",
    "        numerical_cols = [col for col in numerical_cols if col != \"target\"]\n",
    "        return categorical_cols, numerical_cols\n",
    "    \n",
    "    def _align_train_test_columns(self, df):\n",
    "        \"\"\"Ensure test data has the same columns as train data.\"\"\"\n",
    "        train_cols = list(self.train_columns)\n",
    "        train_cols.remove('target')\n",
    "        missing_cols = set(train_cols) - set(df.columns)\n",
    "        for col in missing_cols:\n",
    "            df[col] = 0\n",
    "        return df[train_cols]\n"
   ]
  },
  {
   "cell_type": "code",
   "execution_count": 15,
   "id": "b6721fc2",
   "metadata": {
    "execution": {
     "iopub.execute_input": "2025-02-20T09:06:39.391546Z",
     "iopub.status.busy": "2025-02-20T09:06:39.391342Z",
     "iopub.status.idle": "2025-02-20T09:06:45.383588Z",
     "shell.execute_reply": "2025-02-20T09:06:45.382903Z"
    },
    "papermill": {
     "duration": 6.007921,
     "end_time": "2025-02-20T09:06:45.385196",
     "exception": false,
     "start_time": "2025-02-20T09:06:39.377275",
     "status": "completed"
    },
    "tags": []
   },
   "outputs": [],
   "source": [
    "train_metadata = pd.read_csv(os.path.join(current_dir, 'train-metadata.csv'), low_memory=False)\n",
    "test_metadata = pd.read_csv(os.path.join(current_dir, 'test-metadata.csv'), low_memory=False)"
   ]
  },
  {
   "cell_type": "code",
   "execution_count": 16,
   "id": "9919840d",
   "metadata": {
    "execution": {
     "iopub.execute_input": "2025-02-20T09:06:45.412849Z",
     "iopub.status.busy": "2025-02-20T09:06:45.412577Z",
     "iopub.status.idle": "2025-02-20T09:08:40.121874Z",
     "shell.execute_reply": "2025-02-20T09:08:40.120901Z"
    },
    "papermill": {
     "duration": 114.724743,
     "end_time": "2025-02-20T09:08:40.123720",
     "exception": false,
     "start_time": "2025-02-20T09:06:45.398977",
     "status": "completed"
    },
    "tags": []
   },
   "outputs": [],
   "source": [
    "data_object = DataPreprocessor()\n",
    "train_metadata_processed = data_object.fit_transform(train_metadata)\n",
    "test_metadata_processed = data_object.transform(test_metadata)"
   ]
  },
  {
   "cell_type": "code",
   "execution_count": 17,
   "id": "d6788993",
   "metadata": {
    "execution": {
     "iopub.execute_input": "2025-02-20T09:08:40.151831Z",
     "iopub.status.busy": "2025-02-20T09:08:40.151558Z",
     "iopub.status.idle": "2025-02-20T09:08:40.231077Z",
     "shell.execute_reply": "2025-02-20T09:08:40.230094Z"
    },
    "papermill": {
     "duration": 0.094987,
     "end_time": "2025-02-20T09:08:40.232745",
     "exception": false,
     "start_time": "2025-02-20T09:08:40.137758",
     "status": "completed"
    },
    "tags": []
   },
   "outputs": [],
   "source": [
    "X_train = train_metadata_processed.drop(columns=['target'])\n",
    "y_train = train_metadata_processed['target']\n",
    "X_test = test_metadata_processed.copy()"
   ]
  },
  {
   "cell_type": "code",
   "execution_count": 18,
   "id": "8ff68e00",
   "metadata": {
    "execution": {
     "iopub.execute_input": "2025-02-20T09:08:40.260412Z",
     "iopub.status.busy": "2025-02-20T09:08:40.260180Z",
     "iopub.status.idle": "2025-02-20T09:08:40.463848Z",
     "shell.execute_reply": "2025-02-20T09:08:40.463133Z"
    },
    "papermill": {
     "duration": 0.218943,
     "end_time": "2025-02-20T09:08:40.465413",
     "exception": false,
     "start_time": "2025-02-20T09:08:40.246470",
     "status": "completed"
    },
    "tags": []
   },
   "outputs": [],
   "source": [
    "X_train_final = X_train.copy()\n",
    "y_train_final = y_train.copy()"
   ]
  },
  {
   "cell_type": "code",
   "execution_count": 19,
   "id": "b8b93521",
   "metadata": {
    "execution": {
     "iopub.execute_input": "2025-02-20T09:08:40.492996Z",
     "iopub.status.busy": "2025-02-20T09:08:40.492745Z",
     "iopub.status.idle": "2025-02-20T09:08:40.607345Z",
     "shell.execute_reply": "2025-02-20T09:08:40.606298Z"
    },
    "papermill": {
     "duration": 0.129739,
     "end_time": "2025-02-20T09:08:40.608839",
     "exception": false,
     "start_time": "2025-02-20T09:08:40.479100",
     "status": "completed"
    },
    "tags": []
   },
   "outputs": [
    {
     "name": "stdout",
     "output_type": "stream",
     "text": [
      "<class 'pandas.core.frame.DataFrame'>\n",
      "RangeIndex: 401059 entries, 0 to 401058\n",
      "Data columns (total 73 columns):\n",
      " #   Column                                   Non-Null Count   Dtype  \n",
      "---  ------                                   --------------   -----  \n",
      " 0   age_approx                               401059 non-null  float64\n",
      " 1   clin_size_long_diam_mm                   401059 non-null  float64\n",
      " 2   tbp_lv_A                                 401059 non-null  float64\n",
      " 3   tbp_lv_Aext                              401059 non-null  float64\n",
      " 4   tbp_lv_B                                 401059 non-null  float64\n",
      " 5   tbp_lv_Bext                              401059 non-null  float64\n",
      " 6   tbp_lv_C                                 401059 non-null  float64\n",
      " 7   tbp_lv_Cext                              401059 non-null  float64\n",
      " 8   tbp_lv_H                                 401059 non-null  float64\n",
      " 9   tbp_lv_Hext                              401059 non-null  float64\n",
      " 10  tbp_lv_L                                 401059 non-null  float64\n",
      " 11  tbp_lv_Lext                              401059 non-null  float64\n",
      " 12  tbp_lv_areaMM2                           401059 non-null  float64\n",
      " 13  tbp_lv_area_perim_ratio                  401059 non-null  float64\n",
      " 14  tbp_lv_color_std_mean                    401059 non-null  float64\n",
      " 15  tbp_lv_deltaA                            401059 non-null  float64\n",
      " 16  tbp_lv_deltaB                            401059 non-null  float64\n",
      " 17  tbp_lv_deltaL                            401059 non-null  float64\n",
      " 18  tbp_lv_deltaLB                           401059 non-null  float64\n",
      " 19  tbp_lv_deltaLBnorm                       401059 non-null  float64\n",
      " 20  tbp_lv_eccentricity                      401059 non-null  float64\n",
      " 21  tbp_lv_minorAxisMM                       401059 non-null  float64\n",
      " 22  tbp_lv_nevi_confidence                   401059 non-null  float64\n",
      " 23  tbp_lv_norm_border                       401059 non-null  float64\n",
      " 24  tbp_lv_norm_color                        401059 non-null  float64\n",
      " 25  tbp_lv_perimeterMM                       401059 non-null  float64\n",
      " 26  tbp_lv_radial_color_std_max              401059 non-null  float64\n",
      " 27  tbp_lv_stdL                              401059 non-null  float64\n",
      " 28  tbp_lv_stdLExt                           401059 non-null  float64\n",
      " 29  tbp_lv_symm_2axis                        401059 non-null  float64\n",
      " 30  tbp_lv_symm_2axis_angle                  401059 non-null  float64\n",
      " 31  tbp_lv_x                                 401059 non-null  float64\n",
      " 32  tbp_lv_y                                 401059 non-null  float64\n",
      " 33  tbp_lv_z                                 401059 non-null  float64\n",
      " 34  sex_female                               401059 non-null  float64\n",
      " 35  sex_male                                 401059 non-null  float64\n",
      " 36  sex_nan                                  401059 non-null  float64\n",
      " 37  anatom_site_general_anterior torso       401059 non-null  float64\n",
      " 38  anatom_site_general_head/neck            401059 non-null  float64\n",
      " 39  anatom_site_general_lower extremity      401059 non-null  float64\n",
      " 40  anatom_site_general_posterior torso      401059 non-null  float64\n",
      " 41  anatom_site_general_upper extremity      401059 non-null  float64\n",
      " 42  anatom_site_general_nan                  401059 non-null  float64\n",
      " 43  tbp_lv_location_Head & Neck              401059 non-null  float64\n",
      " 44  tbp_lv_location_Left Arm                 401059 non-null  float64\n",
      " 45  tbp_lv_location_Left Arm - Lower         401059 non-null  float64\n",
      " 46  tbp_lv_location_Left Arm - Upper         401059 non-null  float64\n",
      " 47  tbp_lv_location_Left Leg                 401059 non-null  float64\n",
      " 48  tbp_lv_location_Left Leg - Lower         401059 non-null  float64\n",
      " 49  tbp_lv_location_Left Leg - Upper         401059 non-null  float64\n",
      " 50  tbp_lv_location_Right Arm                401059 non-null  float64\n",
      " 51  tbp_lv_location_Right Arm - Lower        401059 non-null  float64\n",
      " 52  tbp_lv_location_Right Arm - Upper        401059 non-null  float64\n",
      " 53  tbp_lv_location_Right Leg                401059 non-null  float64\n",
      " 54  tbp_lv_location_Right Leg - Lower        401059 non-null  float64\n",
      " 55  tbp_lv_location_Right Leg - Upper        401059 non-null  float64\n",
      " 56  tbp_lv_location_Torso Back               401059 non-null  float64\n",
      " 57  tbp_lv_location_Torso Back Bottom Third  401059 non-null  float64\n",
      " 58  tbp_lv_location_Torso Back Middle Third  401059 non-null  float64\n",
      " 59  tbp_lv_location_Torso Back Top Third     401059 non-null  float64\n",
      " 60  tbp_lv_location_Torso Front              401059 non-null  float64\n",
      " 61  tbp_lv_location_Torso Front Bottom Half  401059 non-null  float64\n",
      " 62  tbp_lv_location_Torso Front Top Half     401059 non-null  float64\n",
      " 63  tbp_lv_location_Unknown                  401059 non-null  float64\n",
      " 64  tbp_lv_location_simple_Head & Neck       401059 non-null  float64\n",
      " 65  tbp_lv_location_simple_Left Arm          401059 non-null  float64\n",
      " 66  tbp_lv_location_simple_Left Leg          401059 non-null  float64\n",
      " 67  tbp_lv_location_simple_Right Arm         401059 non-null  float64\n",
      " 68  tbp_lv_location_simple_Right Leg         401059 non-null  float64\n",
      " 69  tbp_lv_location_simple_Torso Back        401059 non-null  float64\n",
      " 70  tbp_lv_location_simple_Torso Front       401059 non-null  float64\n",
      " 71  tbp_lv_location_simple_Unknown           401059 non-null  float64\n",
      " 72  isic_id                                  401059 non-null  object \n",
      "dtypes: float64(72), object(1)\n",
      "memory usage: 223.4+ MB\n"
     ]
    }
   ],
   "source": [
    "X_train_final.info()"
   ]
  },
  {
   "cell_type": "code",
   "execution_count": 20,
   "id": "a7f312d6",
   "metadata": {
    "execution": {
     "iopub.execute_input": "2025-02-20T09:08:40.636333Z",
     "iopub.status.busy": "2025-02-20T09:08:40.636096Z",
     "iopub.status.idle": "2025-02-20T09:08:40.643982Z",
     "shell.execute_reply": "2025-02-20T09:08:40.643223Z"
    },
    "papermill": {
     "duration": 0.02277,
     "end_time": "2025-02-20T09:08:40.645264",
     "exception": false,
     "start_time": "2025-02-20T09:08:40.622494",
     "status": "completed"
    },
    "tags": []
   },
   "outputs": [
    {
     "name": "stdout",
     "output_type": "stream",
     "text": [
      "<class 'pandas.core.series.Series'>\n",
      "RangeIndex: 401059 entries, 0 to 401058\n",
      "Series name: target\n",
      "Non-Null Count   Dtype\n",
      "--------------   -----\n",
      "401059 non-null  int64\n",
      "dtypes: int64(1)\n",
      "memory usage: 3.1 MB\n"
     ]
    }
   ],
   "source": [
    "y_train_final.info()"
   ]
  },
  {
   "cell_type": "code",
   "execution_count": 21,
   "id": "11812e6f",
   "metadata": {
    "execution": {
     "iopub.execute_input": "2025-02-20T09:08:40.672935Z",
     "iopub.status.busy": "2025-02-20T09:08:40.672717Z",
     "iopub.status.idle": "2025-02-20T09:08:40.682248Z",
     "shell.execute_reply": "2025-02-20T09:08:40.681197Z"
    },
    "papermill": {
     "duration": 0.02476,
     "end_time": "2025-02-20T09:08:40.683531",
     "exception": false,
     "start_time": "2025-02-20T09:08:40.658771",
     "status": "completed"
    },
    "tags": []
   },
   "outputs": [
    {
     "name": "stdout",
     "output_type": "stream",
     "text": [
      "<class 'pandas.core.frame.DataFrame'>\n",
      "RangeIndex: 3 entries, 0 to 2\n",
      "Data columns (total 73 columns):\n",
      " #   Column                                   Non-Null Count  Dtype  \n",
      "---  ------                                   --------------  -----  \n",
      " 0   age_approx                               3 non-null      float64\n",
      " 1   clin_size_long_diam_mm                   3 non-null      float64\n",
      " 2   tbp_lv_A                                 3 non-null      float64\n",
      " 3   tbp_lv_Aext                              3 non-null      float64\n",
      " 4   tbp_lv_B                                 3 non-null      float64\n",
      " 5   tbp_lv_Bext                              3 non-null      float64\n",
      " 6   tbp_lv_C                                 3 non-null      float64\n",
      " 7   tbp_lv_Cext                              3 non-null      float64\n",
      " 8   tbp_lv_H                                 3 non-null      float64\n",
      " 9   tbp_lv_Hext                              3 non-null      float64\n",
      " 10  tbp_lv_L                                 3 non-null      float64\n",
      " 11  tbp_lv_Lext                              3 non-null      float64\n",
      " 12  tbp_lv_areaMM2                           3 non-null      float64\n",
      " 13  tbp_lv_area_perim_ratio                  3 non-null      float64\n",
      " 14  tbp_lv_color_std_mean                    3 non-null      float64\n",
      " 15  tbp_lv_deltaA                            3 non-null      float64\n",
      " 16  tbp_lv_deltaB                            3 non-null      float64\n",
      " 17  tbp_lv_deltaL                            3 non-null      float64\n",
      " 18  tbp_lv_deltaLB                           3 non-null      float64\n",
      " 19  tbp_lv_deltaLBnorm                       3 non-null      float64\n",
      " 20  tbp_lv_eccentricity                      3 non-null      float64\n",
      " 21  tbp_lv_minorAxisMM                       3 non-null      float64\n",
      " 22  tbp_lv_nevi_confidence                   3 non-null      float64\n",
      " 23  tbp_lv_norm_border                       3 non-null      float64\n",
      " 24  tbp_lv_norm_color                        3 non-null      float64\n",
      " 25  tbp_lv_perimeterMM                       3 non-null      float64\n",
      " 26  tbp_lv_radial_color_std_max              3 non-null      float64\n",
      " 27  tbp_lv_stdL                              3 non-null      float64\n",
      " 28  tbp_lv_stdLExt                           3 non-null      float64\n",
      " 29  tbp_lv_symm_2axis                        3 non-null      float64\n",
      " 30  tbp_lv_symm_2axis_angle                  3 non-null      float64\n",
      " 31  tbp_lv_x                                 3 non-null      float64\n",
      " 32  tbp_lv_y                                 3 non-null      float64\n",
      " 33  tbp_lv_z                                 3 non-null      float64\n",
      " 34  sex_female                               3 non-null      float64\n",
      " 35  sex_male                                 3 non-null      float64\n",
      " 36  sex_nan                                  3 non-null      float64\n",
      " 37  anatom_site_general_anterior torso       3 non-null      float64\n",
      " 38  anatom_site_general_head/neck            3 non-null      float64\n",
      " 39  anatom_site_general_lower extremity      3 non-null      float64\n",
      " 40  anatom_site_general_posterior torso      3 non-null      float64\n",
      " 41  anatom_site_general_upper extremity      3 non-null      float64\n",
      " 42  anatom_site_general_nan                  3 non-null      float64\n",
      " 43  tbp_lv_location_Head & Neck              3 non-null      float64\n",
      " 44  tbp_lv_location_Left Arm                 3 non-null      float64\n",
      " 45  tbp_lv_location_Left Arm - Lower         3 non-null      float64\n",
      " 46  tbp_lv_location_Left Arm - Upper         3 non-null      float64\n",
      " 47  tbp_lv_location_Left Leg                 3 non-null      float64\n",
      " 48  tbp_lv_location_Left Leg - Lower         3 non-null      float64\n",
      " 49  tbp_lv_location_Left Leg - Upper         3 non-null      float64\n",
      " 50  tbp_lv_location_Right Arm                3 non-null      float64\n",
      " 51  tbp_lv_location_Right Arm - Lower        3 non-null      float64\n",
      " 52  tbp_lv_location_Right Arm - Upper        3 non-null      float64\n",
      " 53  tbp_lv_location_Right Leg                3 non-null      float64\n",
      " 54  tbp_lv_location_Right Leg - Lower        3 non-null      float64\n",
      " 55  tbp_lv_location_Right Leg - Upper        3 non-null      float64\n",
      " 56  tbp_lv_location_Torso Back               3 non-null      float64\n",
      " 57  tbp_lv_location_Torso Back Bottom Third  3 non-null      float64\n",
      " 58  tbp_lv_location_Torso Back Middle Third  3 non-null      float64\n",
      " 59  tbp_lv_location_Torso Back Top Third     3 non-null      float64\n",
      " 60  tbp_lv_location_Torso Front              3 non-null      float64\n",
      " 61  tbp_lv_location_Torso Front Bottom Half  3 non-null      float64\n",
      " 62  tbp_lv_location_Torso Front Top Half     3 non-null      float64\n",
      " 63  tbp_lv_location_Unknown                  3 non-null      float64\n",
      " 64  tbp_lv_location_simple_Head & Neck       3 non-null      float64\n",
      " 65  tbp_lv_location_simple_Left Arm          3 non-null      float64\n",
      " 66  tbp_lv_location_simple_Left Leg          3 non-null      float64\n",
      " 67  tbp_lv_location_simple_Right Arm         3 non-null      float64\n",
      " 68  tbp_lv_location_simple_Right Leg         3 non-null      float64\n",
      " 69  tbp_lv_location_simple_Torso Back        3 non-null      float64\n",
      " 70  tbp_lv_location_simple_Torso Front       3 non-null      float64\n",
      " 71  tbp_lv_location_simple_Unknown           3 non-null      float64\n",
      " 72  isic_id                                  3 non-null      object \n",
      "dtypes: float64(72), object(1)\n",
      "memory usage: 1.8+ KB\n"
     ]
    }
   ],
   "source": [
    "X_test.info()"
   ]
  },
  {
   "cell_type": "code",
   "execution_count": 22,
   "id": "0f6ee5cf",
   "metadata": {
    "execution": {
     "iopub.execute_input": "2025-02-20T09:08:40.710942Z",
     "iopub.status.busy": "2025-02-20T09:08:40.710718Z",
     "iopub.status.idle": "2025-02-20T09:08:40.727503Z",
     "shell.execute_reply": "2025-02-20T09:08:40.726716Z"
    },
    "papermill": {
     "duration": 0.031753,
     "end_time": "2025-02-20T09:08:40.728636",
     "exception": false,
     "start_time": "2025-02-20T09:08:40.696883",
     "status": "completed"
    },
    "tags": []
   },
   "outputs": [
    {
     "data": {
      "text/html": [
       "<div>\n",
       "<style scoped>\n",
       "    .dataframe tbody tr th:only-of-type {\n",
       "        vertical-align: middle;\n",
       "    }\n",
       "\n",
       "    .dataframe tbody tr th {\n",
       "        vertical-align: top;\n",
       "    }\n",
       "\n",
       "    .dataframe thead th {\n",
       "        text-align: right;\n",
       "    }\n",
       "</style>\n",
       "<table border=\"1\" class=\"dataframe\">\n",
       "  <thead>\n",
       "    <tr style=\"text-align: right;\">\n",
       "      <th></th>\n",
       "      <th>age_approx</th>\n",
       "      <th>clin_size_long_diam_mm</th>\n",
       "      <th>tbp_lv_A</th>\n",
       "      <th>tbp_lv_Aext</th>\n",
       "      <th>tbp_lv_B</th>\n",
       "      <th>tbp_lv_Bext</th>\n",
       "      <th>tbp_lv_C</th>\n",
       "      <th>tbp_lv_Cext</th>\n",
       "      <th>tbp_lv_H</th>\n",
       "      <th>tbp_lv_Hext</th>\n",
       "      <th>...</th>\n",
       "      <th>tbp_lv_location_Unknown</th>\n",
       "      <th>tbp_lv_location_simple_Head &amp; Neck</th>\n",
       "      <th>tbp_lv_location_simple_Left Arm</th>\n",
       "      <th>tbp_lv_location_simple_Left Leg</th>\n",
       "      <th>tbp_lv_location_simple_Right Arm</th>\n",
       "      <th>tbp_lv_location_simple_Right Leg</th>\n",
       "      <th>tbp_lv_location_simple_Torso Back</th>\n",
       "      <th>tbp_lv_location_simple_Torso Front</th>\n",
       "      <th>tbp_lv_location_simple_Unknown</th>\n",
       "      <th>isic_id</th>\n",
       "    </tr>\n",
       "  </thead>\n",
       "  <tbody>\n",
       "    <tr>\n",
       "      <th>0</th>\n",
       "      <td>-0.959062</td>\n",
       "      <td>-0.706128</td>\n",
       "      <td>0.707672</td>\n",
       "      <td>1.441620</td>\n",
       "      <td>0.019401</td>\n",
       "      <td>0.029138</td>\n",
       "      <td>0.284448</td>\n",
       "      <td>0.562959</td>\n",
       "      <td>-0.621776</td>\n",
       "      <td>-1.330179</td>\n",
       "      <td>...</td>\n",
       "      <td>0.0</td>\n",
       "      <td>0.0</td>\n",
       "      <td>0.0</td>\n",
       "      <td>0.0</td>\n",
       "      <td>0.0</td>\n",
       "      <td>0.0</td>\n",
       "      <td>1.0</td>\n",
       "      <td>0.0</td>\n",
       "      <td>0.0</td>\n",
       "      <td>ISIC_0015657</td>\n",
       "    </tr>\n",
       "    <tr>\n",
       "      <th>1</th>\n",
       "      <td>-1.696232</td>\n",
       "      <td>-0.809394</td>\n",
       "      <td>-0.831441</td>\n",
       "      <td>-1.490710</td>\n",
       "      <td>0.575110</td>\n",
       "      <td>0.136361</td>\n",
       "      <td>0.119378</td>\n",
       "      <td>-0.362720</td>\n",
       "      <td>1.331464</td>\n",
       "      <td>1.716605</td>\n",
       "      <td>...</td>\n",
       "      <td>0.0</td>\n",
       "      <td>0.0</td>\n",
       "      <td>0.0</td>\n",
       "      <td>1.0</td>\n",
       "      <td>0.0</td>\n",
       "      <td>0.0</td>\n",
       "      <td>0.0</td>\n",
       "      <td>0.0</td>\n",
       "      <td>0.0</td>\n",
       "      <td>ISIC_0015729</td>\n",
       "    </tr>\n",
       "    <tr>\n",
       "      <th>2</th>\n",
       "      <td>0.515280</td>\n",
       "      <td>-0.442225</td>\n",
       "      <td>1.070096</td>\n",
       "      <td>1.421817</td>\n",
       "      <td>0.413357</td>\n",
       "      <td>0.328180</td>\n",
       "      <td>0.727544</td>\n",
       "      <td>0.779689</td>\n",
       "      <td>-0.575811</td>\n",
       "      <td>-1.079823</td>\n",
       "      <td>...</td>\n",
       "      <td>0.0</td>\n",
       "      <td>0.0</td>\n",
       "      <td>0.0</td>\n",
       "      <td>0.0</td>\n",
       "      <td>0.0</td>\n",
       "      <td>0.0</td>\n",
       "      <td>1.0</td>\n",
       "      <td>0.0</td>\n",
       "      <td>0.0</td>\n",
       "      <td>ISIC_0015740</td>\n",
       "    </tr>\n",
       "  </tbody>\n",
       "</table>\n",
       "<p>3 rows × 73 columns</p>\n",
       "</div>"
      ],
      "text/plain": [
       "   age_approx  clin_size_long_diam_mm  tbp_lv_A  tbp_lv_Aext  tbp_lv_B  \\\n",
       "0   -0.959062               -0.706128  0.707672     1.441620  0.019401   \n",
       "1   -1.696232               -0.809394 -0.831441    -1.490710  0.575110   \n",
       "2    0.515280               -0.442225  1.070096     1.421817  0.413357   \n",
       "\n",
       "   tbp_lv_Bext  tbp_lv_C  tbp_lv_Cext  tbp_lv_H  tbp_lv_Hext  ...  \\\n",
       "0     0.029138  0.284448     0.562959 -0.621776    -1.330179  ...   \n",
       "1     0.136361  0.119378    -0.362720  1.331464     1.716605  ...   \n",
       "2     0.328180  0.727544     0.779689 -0.575811    -1.079823  ...   \n",
       "\n",
       "   tbp_lv_location_Unknown  tbp_lv_location_simple_Head & Neck  \\\n",
       "0                      0.0                                 0.0   \n",
       "1                      0.0                                 0.0   \n",
       "2                      0.0                                 0.0   \n",
       "\n",
       "   tbp_lv_location_simple_Left Arm  tbp_lv_location_simple_Left Leg  \\\n",
       "0                              0.0                              0.0   \n",
       "1                              0.0                              1.0   \n",
       "2                              0.0                              0.0   \n",
       "\n",
       "   tbp_lv_location_simple_Right Arm  tbp_lv_location_simple_Right Leg  \\\n",
       "0                               0.0                               0.0   \n",
       "1                               0.0                               0.0   \n",
       "2                               0.0                               0.0   \n",
       "\n",
       "   tbp_lv_location_simple_Torso Back  tbp_lv_location_simple_Torso Front  \\\n",
       "0                                1.0                                 0.0   \n",
       "1                                0.0                                 0.0   \n",
       "2                                1.0                                 0.0   \n",
       "\n",
       "   tbp_lv_location_simple_Unknown       isic_id  \n",
       "0                             0.0  ISIC_0015657  \n",
       "1                             0.0  ISIC_0015729  \n",
       "2                             0.0  ISIC_0015740  \n",
       "\n",
       "[3 rows x 73 columns]"
      ]
     },
     "execution_count": 22,
     "metadata": {},
     "output_type": "execute_result"
    }
   ],
   "source": [
    "X_test.head()"
   ]
  },
  {
   "cell_type": "markdown",
   "id": "f49c2054",
   "metadata": {
    "papermill": {
     "duration": 0.013244,
     "end_time": "2025-02-20T09:08:40.755536",
     "exception": false,
     "start_time": "2025-02-20T09:08:40.742292",
     "status": "completed"
    },
    "tags": []
   },
   "source": [
    "## Handling class imbalance"
   ]
  },
  {
   "cell_type": "code",
   "execution_count": 23,
   "id": "625c3fa2",
   "metadata": {
    "execution": {
     "iopub.execute_input": "2025-02-20T09:08:40.783453Z",
     "iopub.status.busy": "2025-02-20T09:08:40.783201Z",
     "iopub.status.idle": "2025-02-20T09:08:40.787006Z",
     "shell.execute_reply": "2025-02-20T09:08:40.786340Z"
    },
    "papermill": {
     "duration": 0.019023,
     "end_time": "2025-02-20T09:08:40.788196",
     "exception": false,
     "start_time": "2025-02-20T09:08:40.769173",
     "status": "completed"
    },
    "tags": []
   },
   "outputs": [],
   "source": [
    "def resampler_data(X, Y):\n",
    "    \n",
    "    # Apply undersampling only on numerical data\n",
    "    resampler = RandomUnderSampler(sampling_strategy=0.1,)\n",
    "    X_resampled, Y_resampled = resampler.fit_resample(X,Y)\n",
    "    \n",
    "    # now apply over sampling for the minorit class\n",
    "    resampler = RandomOverSampler(sampling_strategy=0.3)\n",
    "    X_resampled, Y_resampled = resampler.fit_resample(X_resampled, Y_resampled)\n",
    "\n",
    "    print(\"X_final shape;\",X_resampled.shape)\n",
    "    print(\"Y_final shape:\",Y_resampled.shape)\n",
    "    \n",
    "    return X_resampled, Y_resampled"
   ]
  },
  {
   "cell_type": "code",
   "execution_count": 24,
   "id": "b73ff8a1",
   "metadata": {
    "execution": {
     "iopub.execute_input": "2025-02-20T09:08:40.816311Z",
     "iopub.status.busy": "2025-02-20T09:08:40.816081Z",
     "iopub.status.idle": "2025-02-20T09:08:40.991410Z",
     "shell.execute_reply": "2025-02-20T09:08:40.990448Z"
    },
    "papermill": {
     "duration": 0.190917,
     "end_time": "2025-02-20T09:08:40.992868",
     "exception": false,
     "start_time": "2025-02-20T09:08:40.801951",
     "status": "completed"
    },
    "tags": []
   },
   "outputs": [
    {
     "name": "stdout",
     "output_type": "stream",
     "text": [
      "X_final shape; (5109, 73)\n",
      "Y_final shape: (5109,)\n"
     ]
    }
   ],
   "source": [
    "X_train_final, y_train_final = resampler_data(X_train_final, y_train_final)"
   ]
  },
  {
   "cell_type": "code",
   "execution_count": 25,
   "id": "96d8b6af",
   "metadata": {
    "execution": {
     "iopub.execute_input": "2025-02-20T09:08:41.021802Z",
     "iopub.status.busy": "2025-02-20T09:08:41.021513Z",
     "iopub.status.idle": "2025-02-20T09:08:41.032417Z",
     "shell.execute_reply": "2025-02-20T09:08:41.031853Z"
    },
    "papermill": {
     "duration": 0.026368,
     "end_time": "2025-02-20T09:08:41.033545",
     "exception": false,
     "start_time": "2025-02-20T09:08:41.007177",
     "status": "completed"
    },
    "tags": []
   },
   "outputs": [],
   "source": [
    "X_train_final, X_val, y_train_final, y_val = train_test_split(\n",
    "    X_train_final, y_train_final, test_size=0.1, stratify=y_train_final, random_state = 63\n",
    ")"
   ]
  },
  {
   "cell_type": "markdown",
   "id": "a58f1b91",
   "metadata": {
    "papermill": {
     "duration": 0.013462,
     "end_time": "2025-02-20T09:08:41.060762",
     "exception": false,
     "start_time": "2025-02-20T09:08:41.047300",
     "status": "completed"
    },
    "tags": []
   },
   "source": [
    "## Dataset input pipeline"
   ]
  },
  {
   "cell_type": "code",
   "execution_count": 26,
   "id": "7c7f4245",
   "metadata": {
    "execution": {
     "iopub.execute_input": "2025-02-20T09:08:41.088977Z",
     "iopub.status.busy": "2025-02-20T09:08:41.088733Z",
     "iopub.status.idle": "2025-02-20T09:08:41.092003Z",
     "shell.execute_reply": "2025-02-20T09:08:41.091146Z"
    },
    "papermill": {
     "duration": 0.018994,
     "end_time": "2025-02-20T09:08:41.093269",
     "exception": false,
     "start_time": "2025-02-20T09:08:41.074275",
     "status": "completed"
    },
    "tags": []
   },
   "outputs": [],
   "source": [
    "# Path to images\n",
    "image_dir = '/kaggle/input/isic-2024-challenge/train-image/image'\n",
    "# # Separate features and target\n",
    "# tabular_features = tr_v2.drop(columns=['isic_id', 'target'])\n",
    "# targets = tr_v2['target']"
   ]
  },
  {
   "cell_type": "code",
   "execution_count": 27,
   "id": "b244d31d",
   "metadata": {
    "execution": {
     "iopub.execute_input": "2025-02-20T09:08:41.121268Z",
     "iopub.status.busy": "2025-02-20T09:08:41.121065Z",
     "iopub.status.idle": "2025-02-20T09:08:41.124098Z",
     "shell.execute_reply": "2025-02-20T09:08:41.123389Z"
    },
    "papermill": {
     "duration": 0.01836,
     "end_time": "2025-02-20T09:08:41.125291",
     "exception": false,
     "start_time": "2025-02-20T09:08:41.106931",
     "status": "completed"
    },
    "tags": []
   },
   "outputs": [],
   "source": [
    "# # generating the train and val data\n",
    "\n",
    "# def stratified_split(X, y, patient_col='patient_id', test_size=0.2, random_state=42):\n",
    "#     \"\"\"Create stratified split ensuring no patient_id overlap between sets\"\"\"\n",
    "#     patient_targets = pd.DataFrame({\n",
    "#         'patient_id': X[patient_col],\n",
    "#         'target': y\n",
    "#     }).drop_duplicates()\n",
    "    \n",
    "#     train_patients, val_patients = train_test_split(\n",
    "#         patient_targets['patient_id'].unique(),\n",
    "#         test_size=test_size,\n",
    "#         random_state=random_state,\n",
    "#         stratify=patient_targets.groupby('patient_id')['target'].first()\n",
    "#     )\n",
    "    \n",
    "#     train_mask = X[patient_col].isin(train_patients)\n",
    "#     val_mask = X[patient_col].isin(val_patients)\n",
    "    \n",
    "#     return X[train_mask], X[val_mask], y[train_mask], y[val_mask]"
   ]
  },
  {
   "cell_type": "code",
   "execution_count": 28,
   "id": "76c67176",
   "metadata": {
    "execution": {
     "iopub.execute_input": "2025-02-20T09:08:41.153496Z",
     "iopub.status.busy": "2025-02-20T09:08:41.153289Z",
     "iopub.status.idle": "2025-02-20T09:08:41.156067Z",
     "shell.execute_reply": "2025-02-20T09:08:41.155402Z"
    },
    "papermill": {
     "duration": 0.018149,
     "end_time": "2025-02-20T09:08:41.157245",
     "exception": false,
     "start_time": "2025-02-20T09:08:41.139096",
     "status": "completed"
    },
    "tags": []
   },
   "outputs": [],
   "source": [
    "# # Perform the split\n",
    "# X_train_final, X_val, y_train_final, y_val = stratified_split(\n",
    "#     X_train_resampled, Y_train_resampled\n",
    "# )"
   ]
  },
  {
   "cell_type": "code",
   "execution_count": 29,
   "id": "fc7b588d",
   "metadata": {
    "execution": {
     "iopub.execute_input": "2025-02-20T09:08:41.224237Z",
     "iopub.status.busy": "2025-02-20T09:08:41.223989Z",
     "iopub.status.idle": "2025-02-20T09:08:41.238577Z",
     "shell.execute_reply": "2025-02-20T09:08:41.237389Z"
    },
    "papermill": {
     "duration": 0.030471,
     "end_time": "2025-02-20T09:08:41.239880",
     "exception": false,
     "start_time": "2025-02-20T09:08:41.209409",
     "status": "completed"
    },
    "tags": []
   },
   "outputs": [
    {
     "name": "stdout",
     "output_type": "stream",
     "text": [
      "<class 'pandas.core.frame.DataFrame'>\n",
      "Index: 4598 entries, 2901 to 2080\n",
      "Data columns (total 73 columns):\n",
      " #   Column                                   Non-Null Count  Dtype  \n",
      "---  ------                                   --------------  -----  \n",
      " 0   age_approx                               4598 non-null   float64\n",
      " 1   clin_size_long_diam_mm                   4598 non-null   float64\n",
      " 2   tbp_lv_A                                 4598 non-null   float64\n",
      " 3   tbp_lv_Aext                              4598 non-null   float64\n",
      " 4   tbp_lv_B                                 4598 non-null   float64\n",
      " 5   tbp_lv_Bext                              4598 non-null   float64\n",
      " 6   tbp_lv_C                                 4598 non-null   float64\n",
      " 7   tbp_lv_Cext                              4598 non-null   float64\n",
      " 8   tbp_lv_H                                 4598 non-null   float64\n",
      " 9   tbp_lv_Hext                              4598 non-null   float64\n",
      " 10  tbp_lv_L                                 4598 non-null   float64\n",
      " 11  tbp_lv_Lext                              4598 non-null   float64\n",
      " 12  tbp_lv_areaMM2                           4598 non-null   float64\n",
      " 13  tbp_lv_area_perim_ratio                  4598 non-null   float64\n",
      " 14  tbp_lv_color_std_mean                    4598 non-null   float64\n",
      " 15  tbp_lv_deltaA                            4598 non-null   float64\n",
      " 16  tbp_lv_deltaB                            4598 non-null   float64\n",
      " 17  tbp_lv_deltaL                            4598 non-null   float64\n",
      " 18  tbp_lv_deltaLB                           4598 non-null   float64\n",
      " 19  tbp_lv_deltaLBnorm                       4598 non-null   float64\n",
      " 20  tbp_lv_eccentricity                      4598 non-null   float64\n",
      " 21  tbp_lv_minorAxisMM                       4598 non-null   float64\n",
      " 22  tbp_lv_nevi_confidence                   4598 non-null   float64\n",
      " 23  tbp_lv_norm_border                       4598 non-null   float64\n",
      " 24  tbp_lv_norm_color                        4598 non-null   float64\n",
      " 25  tbp_lv_perimeterMM                       4598 non-null   float64\n",
      " 26  tbp_lv_radial_color_std_max              4598 non-null   float64\n",
      " 27  tbp_lv_stdL                              4598 non-null   float64\n",
      " 28  tbp_lv_stdLExt                           4598 non-null   float64\n",
      " 29  tbp_lv_symm_2axis                        4598 non-null   float64\n",
      " 30  tbp_lv_symm_2axis_angle                  4598 non-null   float64\n",
      " 31  tbp_lv_x                                 4598 non-null   float64\n",
      " 32  tbp_lv_y                                 4598 non-null   float64\n",
      " 33  tbp_lv_z                                 4598 non-null   float64\n",
      " 34  sex_female                               4598 non-null   float64\n",
      " 35  sex_male                                 4598 non-null   float64\n",
      " 36  sex_nan                                  4598 non-null   float64\n",
      " 37  anatom_site_general_anterior torso       4598 non-null   float64\n",
      " 38  anatom_site_general_head/neck            4598 non-null   float64\n",
      " 39  anatom_site_general_lower extremity      4598 non-null   float64\n",
      " 40  anatom_site_general_posterior torso      4598 non-null   float64\n",
      " 41  anatom_site_general_upper extremity      4598 non-null   float64\n",
      " 42  anatom_site_general_nan                  4598 non-null   float64\n",
      " 43  tbp_lv_location_Head & Neck              4598 non-null   float64\n",
      " 44  tbp_lv_location_Left Arm                 4598 non-null   float64\n",
      " 45  tbp_lv_location_Left Arm - Lower         4598 non-null   float64\n",
      " 46  tbp_lv_location_Left Arm - Upper         4598 non-null   float64\n",
      " 47  tbp_lv_location_Left Leg                 4598 non-null   float64\n",
      " 48  tbp_lv_location_Left Leg - Lower         4598 non-null   float64\n",
      " 49  tbp_lv_location_Left Leg - Upper         4598 non-null   float64\n",
      " 50  tbp_lv_location_Right Arm                4598 non-null   float64\n",
      " 51  tbp_lv_location_Right Arm - Lower        4598 non-null   float64\n",
      " 52  tbp_lv_location_Right Arm - Upper        4598 non-null   float64\n",
      " 53  tbp_lv_location_Right Leg                4598 non-null   float64\n",
      " 54  tbp_lv_location_Right Leg - Lower        4598 non-null   float64\n",
      " 55  tbp_lv_location_Right Leg - Upper        4598 non-null   float64\n",
      " 56  tbp_lv_location_Torso Back               4598 non-null   float64\n",
      " 57  tbp_lv_location_Torso Back Bottom Third  4598 non-null   float64\n",
      " 58  tbp_lv_location_Torso Back Middle Third  4598 non-null   float64\n",
      " 59  tbp_lv_location_Torso Back Top Third     4598 non-null   float64\n",
      " 60  tbp_lv_location_Torso Front              4598 non-null   float64\n",
      " 61  tbp_lv_location_Torso Front Bottom Half  4598 non-null   float64\n",
      " 62  tbp_lv_location_Torso Front Top Half     4598 non-null   float64\n",
      " 63  tbp_lv_location_Unknown                  4598 non-null   float64\n",
      " 64  tbp_lv_location_simple_Head & Neck       4598 non-null   float64\n",
      " 65  tbp_lv_location_simple_Left Arm          4598 non-null   float64\n",
      " 66  tbp_lv_location_simple_Left Leg          4598 non-null   float64\n",
      " 67  tbp_lv_location_simple_Right Arm         4598 non-null   float64\n",
      " 68  tbp_lv_location_simple_Right Leg         4598 non-null   float64\n",
      " 69  tbp_lv_location_simple_Torso Back        4598 non-null   float64\n",
      " 70  tbp_lv_location_simple_Torso Front       4598 non-null   float64\n",
      " 71  tbp_lv_location_simple_Unknown           4598 non-null   float64\n",
      " 72  isic_id                                  4598 non-null   object \n",
      "dtypes: float64(72), object(1)\n",
      "memory usage: 2.6+ MB\n"
     ]
    }
   ],
   "source": [
    "X_train_final.info()"
   ]
  },
  {
   "cell_type": "code",
   "execution_count": 30,
   "id": "fa618e09",
   "metadata": {
    "execution": {
     "iopub.execute_input": "2025-02-20T09:08:41.268263Z",
     "iopub.status.busy": "2025-02-20T09:08:41.268055Z",
     "iopub.status.idle": "2025-02-20T09:08:41.274475Z",
     "shell.execute_reply": "2025-02-20T09:08:41.273604Z"
    },
    "papermill": {
     "duration": 0.022214,
     "end_time": "2025-02-20T09:08:41.275829",
     "exception": false,
     "start_time": "2025-02-20T09:08:41.253615",
     "status": "completed"
    },
    "tags": []
   },
   "outputs": [
    {
     "data": {
      "text/plain": [
       "target\n",
       "0    3537\n",
       "1    1061\n",
       "Name: count, dtype: int64"
      ]
     },
     "execution_count": 30,
     "metadata": {},
     "output_type": "execute_result"
    }
   ],
   "source": [
    "y_train_final.value_counts()"
   ]
  },
  {
   "cell_type": "code",
   "execution_count": 31,
   "id": "dc77020c",
   "metadata": {
    "execution": {
     "iopub.execute_input": "2025-02-20T09:08:41.304312Z",
     "iopub.status.busy": "2025-02-20T09:08:41.304087Z",
     "iopub.status.idle": "2025-02-20T09:08:41.319991Z",
     "shell.execute_reply": "2025-02-20T09:08:41.319102Z"
    },
    "papermill": {
     "duration": 0.031646,
     "end_time": "2025-02-20T09:08:41.321216",
     "exception": false,
     "start_time": "2025-02-20T09:08:41.289570",
     "status": "completed"
    },
    "tags": []
   },
   "outputs": [
    {
     "name": "stdout",
     "output_type": "stream",
     "text": [
      "<class 'pandas.core.frame.DataFrame'>\n",
      "Index: 511 entries, 3440 to 2205\n",
      "Data columns (total 73 columns):\n",
      " #   Column                                   Non-Null Count  Dtype  \n",
      "---  ------                                   --------------  -----  \n",
      " 0   age_approx                               511 non-null    float64\n",
      " 1   clin_size_long_diam_mm                   511 non-null    float64\n",
      " 2   tbp_lv_A                                 511 non-null    float64\n",
      " 3   tbp_lv_Aext                              511 non-null    float64\n",
      " 4   tbp_lv_B                                 511 non-null    float64\n",
      " 5   tbp_lv_Bext                              511 non-null    float64\n",
      " 6   tbp_lv_C                                 511 non-null    float64\n",
      " 7   tbp_lv_Cext                              511 non-null    float64\n",
      " 8   tbp_lv_H                                 511 non-null    float64\n",
      " 9   tbp_lv_Hext                              511 non-null    float64\n",
      " 10  tbp_lv_L                                 511 non-null    float64\n",
      " 11  tbp_lv_Lext                              511 non-null    float64\n",
      " 12  tbp_lv_areaMM2                           511 non-null    float64\n",
      " 13  tbp_lv_area_perim_ratio                  511 non-null    float64\n",
      " 14  tbp_lv_color_std_mean                    511 non-null    float64\n",
      " 15  tbp_lv_deltaA                            511 non-null    float64\n",
      " 16  tbp_lv_deltaB                            511 non-null    float64\n",
      " 17  tbp_lv_deltaL                            511 non-null    float64\n",
      " 18  tbp_lv_deltaLB                           511 non-null    float64\n",
      " 19  tbp_lv_deltaLBnorm                       511 non-null    float64\n",
      " 20  tbp_lv_eccentricity                      511 non-null    float64\n",
      " 21  tbp_lv_minorAxisMM                       511 non-null    float64\n",
      " 22  tbp_lv_nevi_confidence                   511 non-null    float64\n",
      " 23  tbp_lv_norm_border                       511 non-null    float64\n",
      " 24  tbp_lv_norm_color                        511 non-null    float64\n",
      " 25  tbp_lv_perimeterMM                       511 non-null    float64\n",
      " 26  tbp_lv_radial_color_std_max              511 non-null    float64\n",
      " 27  tbp_lv_stdL                              511 non-null    float64\n",
      " 28  tbp_lv_stdLExt                           511 non-null    float64\n",
      " 29  tbp_lv_symm_2axis                        511 non-null    float64\n",
      " 30  tbp_lv_symm_2axis_angle                  511 non-null    float64\n",
      " 31  tbp_lv_x                                 511 non-null    float64\n",
      " 32  tbp_lv_y                                 511 non-null    float64\n",
      " 33  tbp_lv_z                                 511 non-null    float64\n",
      " 34  sex_female                               511 non-null    float64\n",
      " 35  sex_male                                 511 non-null    float64\n",
      " 36  sex_nan                                  511 non-null    float64\n",
      " 37  anatom_site_general_anterior torso       511 non-null    float64\n",
      " 38  anatom_site_general_head/neck            511 non-null    float64\n",
      " 39  anatom_site_general_lower extremity      511 non-null    float64\n",
      " 40  anatom_site_general_posterior torso      511 non-null    float64\n",
      " 41  anatom_site_general_upper extremity      511 non-null    float64\n",
      " 42  anatom_site_general_nan                  511 non-null    float64\n",
      " 43  tbp_lv_location_Head & Neck              511 non-null    float64\n",
      " 44  tbp_lv_location_Left Arm                 511 non-null    float64\n",
      " 45  tbp_lv_location_Left Arm - Lower         511 non-null    float64\n",
      " 46  tbp_lv_location_Left Arm - Upper         511 non-null    float64\n",
      " 47  tbp_lv_location_Left Leg                 511 non-null    float64\n",
      " 48  tbp_lv_location_Left Leg - Lower         511 non-null    float64\n",
      " 49  tbp_lv_location_Left Leg - Upper         511 non-null    float64\n",
      " 50  tbp_lv_location_Right Arm                511 non-null    float64\n",
      " 51  tbp_lv_location_Right Arm - Lower        511 non-null    float64\n",
      " 52  tbp_lv_location_Right Arm - Upper        511 non-null    float64\n",
      " 53  tbp_lv_location_Right Leg                511 non-null    float64\n",
      " 54  tbp_lv_location_Right Leg - Lower        511 non-null    float64\n",
      " 55  tbp_lv_location_Right Leg - Upper        511 non-null    float64\n",
      " 56  tbp_lv_location_Torso Back               511 non-null    float64\n",
      " 57  tbp_lv_location_Torso Back Bottom Third  511 non-null    float64\n",
      " 58  tbp_lv_location_Torso Back Middle Third  511 non-null    float64\n",
      " 59  tbp_lv_location_Torso Back Top Third     511 non-null    float64\n",
      " 60  tbp_lv_location_Torso Front              511 non-null    float64\n",
      " 61  tbp_lv_location_Torso Front Bottom Half  511 non-null    float64\n",
      " 62  tbp_lv_location_Torso Front Top Half     511 non-null    float64\n",
      " 63  tbp_lv_location_Unknown                  511 non-null    float64\n",
      " 64  tbp_lv_location_simple_Head & Neck       511 non-null    float64\n",
      " 65  tbp_lv_location_simple_Left Arm          511 non-null    float64\n",
      " 66  tbp_lv_location_simple_Left Leg          511 non-null    float64\n",
      " 67  tbp_lv_location_simple_Right Arm         511 non-null    float64\n",
      " 68  tbp_lv_location_simple_Right Leg         511 non-null    float64\n",
      " 69  tbp_lv_location_simple_Torso Back        511 non-null    float64\n",
      " 70  tbp_lv_location_simple_Torso Front       511 non-null    float64\n",
      " 71  tbp_lv_location_simple_Unknown           511 non-null    float64\n",
      " 72  isic_id                                  511 non-null    object \n",
      "dtypes: float64(72), object(1)\n",
      "memory usage: 295.4+ KB\n"
     ]
    }
   ],
   "source": [
    "X_val.info()"
   ]
  },
  {
   "cell_type": "code",
   "execution_count": 32,
   "id": "130c744d",
   "metadata": {
    "execution": {
     "iopub.execute_input": "2025-02-20T09:08:41.349688Z",
     "iopub.status.busy": "2025-02-20T09:08:41.349459Z",
     "iopub.status.idle": "2025-02-20T09:08:41.354276Z",
     "shell.execute_reply": "2025-02-20T09:08:41.353481Z"
    },
    "papermill": {
     "duration": 0.020227,
     "end_time": "2025-02-20T09:08:41.355516",
     "exception": false,
     "start_time": "2025-02-20T09:08:41.335289",
     "status": "completed"
    },
    "tags": []
   },
   "outputs": [
    {
     "data": {
      "text/plain": [
       "target\n",
       "0    393\n",
       "1    118\n",
       "Name: count, dtype: int64"
      ]
     },
     "execution_count": 32,
     "metadata": {},
     "output_type": "execute_result"
    }
   ],
   "source": [
    "y_val.value_counts()"
   ]
  },
  {
   "cell_type": "code",
   "execution_count": 33,
   "id": "5ae7c7f3",
   "metadata": {
    "execution": {
     "iopub.execute_input": "2025-02-20T09:08:41.384788Z",
     "iopub.status.busy": "2025-02-20T09:08:41.384546Z",
     "iopub.status.idle": "2025-02-20T09:08:41.391998Z",
     "shell.execute_reply": "2025-02-20T09:08:41.391206Z"
    },
    "papermill": {
     "duration": 0.023726,
     "end_time": "2025-02-20T09:08:41.393165",
     "exception": false,
     "start_time": "2025-02-20T09:08:41.369439",
     "status": "completed"
    },
    "tags": []
   },
   "outputs": [],
   "source": [
    "# Image preprocessing function\n",
    "def process_image(byte_array):\n",
    "    # image = tf.io.read_file(image_path)\n",
    "    # image = tf.image.decode_jpeg(image, channels=3)\n",
    "    # image = tf.image.resize(image, [IMAGE_HEIGHT,IMAGE_WIDTH])\n",
    "    image = tf.io.decode_jpeg(byte_array, channels=3)\n",
    "    image = tf.image.resize(image, [IMAGE_HEIGHT, IMAGE_WIDTH])\n",
    "    # Image augmentation\n",
    "    image = tf.image.random_flip_left_right(image)\n",
    "    image = tf.image.random_brightness(image, max_delta=0.2)\n",
    "    image = tf.image.random_contrast(image, lower=0.8, upper=1.2)\n",
    "    image = tf.cast(image, tf.float32) / 255.0 # Normalize to [0, 1]\n",
    "    return image\n",
    "\n",
    "# Data preprocessing function\n",
    "def preprocess_data(inp,targets):\n",
    "    # Construct image path\n",
    "    # def read_hdf5(id_tensor):\n",
    "    #     # Convert tensor to string\n",
    "    #     id_str = id_tensor.numpy().decode('utf-8')\n",
    "    #     # Read from HDF5 and return the raw bytes\n",
    "    #     return training_validation_hdf5[id_str][()].tobytes()\n",
    "    \n",
    "    # Wrap the HDF5 reading operation in py_function and specify the output type\n",
    "    # byte_array = tf.py_function(\n",
    "    #     read_hdf5,\n",
    "    #     [isic_id],\n",
    "    #     Tout=tf.string\n",
    "    # )\n",
    "    image = process_image(inp['images'])\n",
    "    inp['images'] = image\n",
    "    return (inp,targets)\n",
    "    # return (image, target)\n",
    "\n",
    "def load_image_bytes(isic_id):\n",
    "    with h5py.File('/kaggle/input/isic-2024-challenge/train-image.hdf5', \"r\") as hdf5_file:\n",
    "        return hdf5_file[isic_id][()].tobytes()\n",
    "\n",
    "\n",
    "# Convert the dataframe into TensorFlow Dataset\n",
    "def create_dataset(X,Y):\n",
    "    # Convert tabular data to float32\n",
    "    tabular_data = X.drop(columns=['isic_id']).values.astype('float32')\n",
    "    \n",
    "    # Ensure targets are in the correct format (assuming binary/categorical)\n",
    "    targets = Y.values.astype('int32').reshape(-1,1)\n",
    "    \n",
    "    # Convert ISIC IDs to strings if they aren't already\n",
    "    isic_ids = X['isic_id'].astype(str).values\n",
    "\n",
    "    # # loading images as bytes from the hdf5 files before passing to dataset to improve efficiency and reduce computation time, \n",
    "    # imgs = [None]*len(isic_ids)\n",
    "    # for i, isic_id in enumerate(tqdm(isic_ids, desc=\"Loading training Images \")):\n",
    "    #     imgs[i] = training_validation_hdf5[isic_id][()].tobytes()\n",
    "\n",
    "     # Use ProcessPoolExecutor for multiprocessing\n",
    "    imgs = [None] * len(isic_ids)\n",
    "    with ProcessPoolExecutor(max_workers=8) as executor:  # Adjust workers based on CPU\n",
    "        future_to_index = {executor.submit(load_image_bytes, isic_id): i for i, isic_id in enumerate(isic_ids)}\n",
    "        for future in tqdm(as_completed(future_to_index), total=len(isic_ids), desc=\"Loading training images\"):\n",
    "            i = future_to_index[future]\n",
    "            imgs[i] = future.result()\n",
    "    \n",
    "    inp = {\"images\": imgs, \"tabular\":tabular_data}\n",
    "    slices = (inp,targets)\n",
    "        \n",
    "    # Create the dataset\n",
    "    dataset = tf.data.Dataset.from_tensor_slices(slices)\n",
    "    dataset = dataset.map(preprocess_data, num_parallel_calls=tf.data.AUTOTUNE)\n",
    "    return dataset\n"
   ]
  },
  {
   "cell_type": "code",
   "execution_count": 34,
   "id": "5956e8ed",
   "metadata": {
    "execution": {
     "iopub.execute_input": "2025-02-20T09:08:41.422046Z",
     "iopub.status.busy": "2025-02-20T09:08:41.421845Z",
     "iopub.status.idle": "2025-02-20T09:08:41.429357Z",
     "shell.execute_reply": "2025-02-20T09:08:41.428480Z"
    },
    "papermill": {
     "duration": 0.023369,
     "end_time": "2025-02-20T09:08:41.430598",
     "exception": false,
     "start_time": "2025-02-20T09:08:41.407229",
     "status": "completed"
    },
    "tags": []
   },
   "outputs": [
    {
     "name": "stdout",
     "output_type": "stream",
     "text": [
      "(4598, 73)\n",
      "(4598,)\n"
     ]
    }
   ],
   "source": [
    "# shuffle the train_dataset before batching\n",
    "X_train_final, y_train_final = shuffle(X_train_final, y_train_final)\n",
    "print(X_train_final.shape)\n",
    "print(y_train_final.shape)"
   ]
  },
  {
   "cell_type": "code",
   "execution_count": 35,
   "id": "c9f8c964",
   "metadata": {
    "execution": {
     "iopub.execute_input": "2025-02-20T09:08:41.459895Z",
     "iopub.status.busy": "2025-02-20T09:08:41.459647Z",
     "iopub.status.idle": "2025-02-20T09:08:47.939821Z",
     "shell.execute_reply": "2025-02-20T09:08:47.938732Z"
    },
    "papermill": {
     "duration": 6.496423,
     "end_time": "2025-02-20T09:08:47.941478",
     "exception": false,
     "start_time": "2025-02-20T09:08:41.445055",
     "status": "completed"
    },
    "tags": []
   },
   "outputs": [
    {
     "data": {
      "application/vnd.jupyter.widget-view+json": {
       "model_id": "2b755d8277f0486b8138addd2c54668e",
       "version_major": 2,
       "version_minor": 0
      },
      "text/plain": [
       "Loading training images:   0%|          | 0/4598 [00:00<?, ?it/s]"
      ]
     },
     "metadata": {},
     "output_type": "display_data"
    },
    {
     "data": {
      "application/vnd.jupyter.widget-view+json": {
       "model_id": "7a5d7e556dff40a8895905ad3bd2c7d3",
       "version_major": 2,
       "version_minor": 0
      },
      "text/plain": [
       "Loading training images:   0%|          | 0/511 [00:00<?, ?it/s]"
      ]
     },
     "metadata": {},
     "output_type": "display_data"
    }
   ],
   "source": [
    "# train_dataset = create_dataset(train_dataframe).shuffle(len(train_dataframe)).batch(BATCH_SIZE).prefetch(buffer_size=tf.data.AUTOTUNE)\n",
    "# val_dataset = create_dataset(validation_dataframe).shuffle(len(validation_dataframe)).batch(BATCH_SIZE).prefetch(buffer_size=tf.data.AUTOTUNE)\n",
    "train_dataset = create_dataset(X_train_final,y_train_final).batch(BATCH_SIZE).prefetch(buffer_size=tf.data.AUTOTUNE)\n",
    "val_dataset = create_dataset(X_val,y_val).batch(BATCH_SIZE).prefetch(buffer_size=tf.data.AUTOTUNE)"
   ]
  },
  {
   "cell_type": "code",
   "execution_count": 36,
   "id": "13b013b4",
   "metadata": {
    "execution": {
     "iopub.execute_input": "2025-02-20T09:08:47.971673Z",
     "iopub.status.busy": "2025-02-20T09:08:47.971373Z",
     "iopub.status.idle": "2025-02-20T09:08:47.978501Z",
     "shell.execute_reply": "2025-02-20T09:08:47.977857Z"
    },
    "papermill": {
     "duration": 0.023391,
     "end_time": "2025-02-20T09:08:47.979785",
     "exception": false,
     "start_time": "2025-02-20T09:08:47.956394",
     "status": "completed"
    },
    "tags": []
   },
   "outputs": [],
   "source": [
    "def process_byte_image(byte_array):\n",
    "    # Ensure we're working with TensorFlow ops\n",
    "    img = tf.io.decode_jpeg(byte_array, channels=3)\n",
    "    img = tf.image.resize(img, [IMAGE_HEIGHT, IMAGE_WIDTH])\n",
    "    img = tf.cast(img, tf.float32) / 255.0\n",
    "    return img\n",
    "\n",
    "def preprocess_test_data(inp):\n",
    "    # def read_hdf5(id_tensor):\n",
    "    #     # Convert tensor to string\n",
    "    #     id_str = id_tensor.numpy().decode('utf-8')\n",
    "    #     # Read from HDF5 and return the raw bytes\n",
    "    #     return testing_hdf5[id_str][()].tobytes()\n",
    "\n",
    "    # Wrap the HDF5 reading operation in py_function and specify the output type\n",
    "    # byte_array = tf.py_function(\n",
    "    #     read_hdf5,\n",
    "    #     [isic_id],\n",
    "    #     Tout=tf.string\n",
    "    # )\n",
    "    \n",
    "    # Process the image using TF operations\n",
    "    image = process_byte_image(inp['images'])\n",
    "    inp['images'] = image\n",
    "    # return ({\"image\": image, \"tabular\": tabular_data})\n",
    "    return (inp)\n",
    "\n",
    "def load_image_bytes(isic_id):\n",
    "    with h5py.File('/kaggle/input/isic-2024-challenge/test-image.hdf5', \"r\") as hdf5_file:\n",
    "        return hdf5_file[isic_id][()].tobytes()\n",
    "    \n",
    "def create_test_dataset(df):\n",
    "    # Ensure tabular data is float32\n",
    "    tabular_data = df.drop(columns=['isic_id']).values.astype('float32')\n",
    "    # Convert ISIC IDs to strings\n",
    "    isic_ids = df['isic_id'].astype(str).values\n",
    "\n",
    "    # imgs = [None]*len(isic_ids)\n",
    "    # for i, isic_id in enumerate(tqdm(isic_ids, desc=\"Loading testing Images \")):\n",
    "    #     imgs[i] = testing_hdf5[isic_id][()].tobytes()\n",
    "     # Use ProcessPoolExecutor for multiprocessing\n",
    "    imgs = [None] * len(isic_ids)\n",
    "    with ProcessPoolExecutor(max_workers=8) as executor:  # Adjust workers based on CPU\n",
    "        future_to_index = {executor.submit(load_image_bytes, isic_id): i for i, isic_id in enumerate(isic_ids)}\n",
    "        for future in tqdm(as_completed(future_to_index), total=len(isic_ids), desc=\"Loading testing images\"):\n",
    "            i = future_to_index[future]\n",
    "            imgs[i] = future.result()\n",
    "\n",
    "    inp = {\"images\": imgs, \"tabular\":tabular_data}\n",
    "    dataset = tf.data.Dataset.from_tensor_slices(inp)\n",
    "    dataset = dataset.map(preprocess_test_data, num_parallel_calls=tf.data.AUTOTUNE)\n",
    "    return dataset\n"
   ]
  },
  {
   "cell_type": "code",
   "execution_count": 37,
   "id": "e194b253",
   "metadata": {
    "execution": {
     "iopub.execute_input": "2025-02-20T09:08:48.009191Z",
     "iopub.status.busy": "2025-02-20T09:08:48.008959Z",
     "iopub.status.idle": "2025-02-20T09:08:48.362406Z",
     "shell.execute_reply": "2025-02-20T09:08:48.361307Z"
    },
    "papermill": {
     "duration": 0.371081,
     "end_time": "2025-02-20T09:08:48.365149",
     "exception": false,
     "start_time": "2025-02-20T09:08:47.994068",
     "status": "completed"
    },
    "tags": []
   },
   "outputs": [
    {
     "data": {
      "application/vnd.jupyter.widget-view+json": {
       "model_id": "cb7bdb51cbb444aa927e146d1ec35ea3",
       "version_major": 2,
       "version_minor": 0
      },
      "text/plain": [
       "Loading testing images:   0%|          | 0/3 [00:00<?, ?it/s]"
      ]
     },
     "metadata": {},
     "output_type": "display_data"
    }
   ],
   "source": [
    "# Create the test dataset\n",
    "test_dataset = create_test_dataset(X_test).batch(BATCH_SIZE).prefetch(buffer_size=tf.data.AUTOTUNE)"
   ]
  },
  {
   "cell_type": "code",
   "execution_count": 38,
   "id": "9cc634b6",
   "metadata": {
    "execution": {
     "iopub.execute_input": "2025-02-20T09:08:48.407434Z",
     "iopub.status.busy": "2025-02-20T09:08:48.407180Z",
     "iopub.status.idle": "2025-02-20T09:08:48.741374Z",
     "shell.execute_reply": "2025-02-20T09:08:48.740211Z"
    },
    "papermill": {
     "duration": 0.357265,
     "end_time": "2025-02-20T09:08:48.742726",
     "exception": false,
     "start_time": "2025-02-20T09:08:48.385461",
     "status": "completed"
    },
    "tags": []
   },
   "outputs": [
    {
     "name": "stdout",
     "output_type": "stream",
     "text": [
      "Image batch shape: (64, 224, 224, 3)\n",
      "Tabular data shape: (64, 72)\n",
      "Labels shape: (64, 1)\n",
      "\n",
      "Data types:\n",
      "Images dtype: <dtype: 'float32'>\n",
      "Tabular dtype: <dtype: 'float32'>\n",
      "Labels dtype: <dtype: 'int32'>\n",
      "\n",
      "Value ranges:\n",
      "Images: (min=-0.10, max=1.08)\n",
      "Tabular: (min=-6.78, max=21.63)\n",
      "Labels: (min=0.00, max=1.00)\n",
      "\n",
      "Dataset specification:\n",
      "({'images': TensorSpec(shape=(None, 224, 224, 3), dtype=tf.float32, name=None), 'tabular': TensorSpec(shape=(None, 72), dtype=tf.float32, name=None)}, TensorSpec(shape=(None, 1), dtype=tf.int32, name=None))\n"
     ]
    }
   ],
   "source": [
    " for batch in train_dataset.take(1):\n",
    "    dict1,labels = batch\n",
    "    images = dict1['images']\n",
    "    tabular = dict1['tabular']\n",
    "    print(f\"Image batch shape: {images.shape}\")\n",
    "    print(f\"Tabular data shape: {tabular.shape}\")\n",
    "    print(f\"Labels shape: {labels.shape}\")\n",
    "    \n",
    "    print(f\"\\nData types:\")\n",
    "    print(f\"Images dtype: {images.dtype}\")\n",
    "    print(f\"Tabular dtype: {tabular.dtype}\")\n",
    "    print(f\"Labels dtype: {labels.dtype}\")\n",
    "    \n",
    "    print(f\"\\nValue ranges:\")\n",
    "    print(f\"Images: (min={tf.reduce_min(images):.2f}, max={tf.reduce_max(images):.2f})\")\n",
    "    print(f\"Tabular: (min={tf.reduce_min(tabular):.2f}, max={tf.reduce_max(tabular):.2f})\")\n",
    "    print(f\"Labels: (min={tf.reduce_min(labels):.2f}, max={tf.reduce_max(labels):.2f})\")\n",
    "print(\"\\nDataset specification:\")\n",
    "print(train_dataset.element_spec)"
   ]
  },
  {
   "cell_type": "code",
   "execution_count": 39,
   "id": "d4344b41",
   "metadata": {
    "execution": {
     "iopub.execute_input": "2025-02-20T09:08:48.773597Z",
     "iopub.status.busy": "2025-02-20T09:08:48.773354Z",
     "iopub.status.idle": "2025-02-20T09:08:48.797985Z",
     "shell.execute_reply": "2025-02-20T09:08:48.797032Z"
    },
    "papermill": {
     "duration": 0.041263,
     "end_time": "2025-02-20T09:08:48.799412",
     "exception": false,
     "start_time": "2025-02-20T09:08:48.758149",
     "status": "completed"
    },
    "tags": []
   },
   "outputs": [
    {
     "name": "stdout",
     "output_type": "stream",
     "text": [
      "Image batch shape: (3, 224, 224, 3)\n",
      "Tabular data shape: (3, 72)\n",
      "\n",
      "Detailed information:\n",
      "Image data type: <dtype: 'float32'>\n",
      "Tabular data type: <dtype: 'float32'>\n",
      "Image value range: (min=0.01, max=0.98)\n",
      "\n",
      "Dataset specification:\n",
      "{'images': TensorSpec(shape=(None, 224, 224, 3), dtype=tf.float32, name=None), 'tabular': TensorSpec(shape=(None, 72), dtype=tf.float32, name=None)}\n"
     ]
    }
   ],
   "source": [
    "for dict1 in test_dataset.take(1):\n",
    "    # dict1 = dict1[0]\n",
    "    images = dict1['images']\n",
    "    tabular = dict1['tabular']\n",
    "    print(\"Image batch shape:\", images.shape)\n",
    "    print(\"Tabular data shape:\", tabular.shape)\n",
    "    \n",
    "    # Print additional details\n",
    "    print(\"\\nDetailed information:\")\n",
    "    print(f\"Image data type: {images.dtype}\")\n",
    "    print(f\"Tabular data type: {tabular.dtype}\")\n",
    "    print(f\"Image value range: (min={tf.reduce_min(images):.2f}, max={tf.reduce_max(images):.2f})\")\n",
    "\n",
    "# You can also check the dataset spec directly\n",
    "print(\"\\nDataset specification:\")\n",
    "print(test_dataset.element_spec)"
   ]
  },
  {
   "cell_type": "markdown",
   "id": "9f24b0fe",
   "metadata": {
    "papermill": {
     "duration": 0.014311,
     "end_time": "2025-02-20T09:08:48.828362",
     "exception": false,
     "start_time": "2025-02-20T09:08:48.814051",
     "status": "completed"
    },
    "tags": []
   },
   "source": [
    "## Basic model \n",
    "\n",
    "Idea of workflow: CNN (EfficientNet or Resnet for feature extraction)   \n",
    "\n",
    "Feature concatenation  \n",
    "\n",
    "Random Forest on the concatenated features   \n"
   ]
  },
  {
   "cell_type": "code",
   "execution_count": 40,
   "id": "e7d2d759",
   "metadata": {
    "execution": {
     "iopub.execute_input": "2025-02-20T09:08:48.858258Z",
     "iopub.status.busy": "2025-02-20T09:08:48.858013Z",
     "iopub.status.idle": "2025-02-20T09:08:48.861510Z",
     "shell.execute_reply": "2025-02-20T09:08:48.860696Z"
    },
    "papermill": {
     "duration": 0.020046,
     "end_time": "2025-02-20T09:08:48.862894",
     "exception": false,
     "start_time": "2025-02-20T09:08:48.842848",
     "status": "completed"
    },
    "tags": []
   },
   "outputs": [],
   "source": [
    "os.environ[\"KERAS_BACKEND\"] = \"tensorflow\""
   ]
  },
  {
   "cell_type": "markdown",
   "id": "6d2b04df",
   "metadata": {
    "papermill": {
     "duration": 0.014041,
     "end_time": "2025-02-20T09:08:48.891235",
     "exception": false,
     "start_time": "2025-02-20T09:08:48.877194",
     "status": "completed"
    },
    "tags": []
   },
   "source": [
    "### FUNCTIONAL API MODEL DEFINITION"
   ]
  },
  {
   "cell_type": "code",
   "execution_count": 41,
   "id": "ec8ab25f",
   "metadata": {
    "execution": {
     "iopub.execute_input": "2025-02-20T09:08:48.921111Z",
     "iopub.status.busy": "2025-02-20T09:08:48.920894Z",
     "iopub.status.idle": "2025-02-20T09:08:48.976727Z",
     "shell.execute_reply": "2025-02-20T09:08:48.975701Z"
    },
    "papermill": {
     "duration": 0.072615,
     "end_time": "2025-02-20T09:08:48.978219",
     "exception": false,
     "start_time": "2025-02-20T09:08:48.905604",
     "status": "completed"
    },
    "tags": []
   },
   "outputs": [
    {
     "name": "stdout",
     "output_type": "stream",
     "text": [
      "72\n"
     ]
    }
   ],
   "source": [
    "for batch in train_dataset.take(1):\n",
    "    dict1,labels = batch\n",
    "    \n",
    "    images = dict1['images']\n",
    "    tabular = dict1['tabular']\n",
    "    \n",
    "    tab_features_len = tabular.shape[1]\n",
    "    print(tab_features_len)"
   ]
  },
  {
   "cell_type": "code",
   "execution_count": 42,
   "id": "12e28ad9",
   "metadata": {
    "execution": {
     "iopub.execute_input": "2025-02-20T09:08:49.009261Z",
     "iopub.status.busy": "2025-02-20T09:08:49.008988Z",
     "iopub.status.idle": "2025-02-20T09:08:49.014799Z",
     "shell.execute_reply": "2025-02-20T09:08:49.014044Z"
    },
    "papermill": {
     "duration": 0.022693,
     "end_time": "2025-02-20T09:08:49.016047",
     "exception": false,
     "start_time": "2025-02-20T09:08:48.993354",
     "status": "completed"
    },
    "tags": []
   },
   "outputs": [],
   "source": [
    "img_input = keras.Input(shape=(IMAGE_HEIGHT, IMAGE_WIDTH, 3),name='images')\n",
    "tab_feat = keras.Input(shape=(tab_features_len,),name='tabular')"
   ]
  },
  {
   "cell_type": "code",
   "execution_count": 43,
   "id": "07363124",
   "metadata": {
    "execution": {
     "iopub.execute_input": "2025-02-20T09:08:49.045521Z",
     "iopub.status.busy": "2025-02-20T09:08:49.045301Z",
     "iopub.status.idle": "2025-02-20T09:08:55.891226Z",
     "shell.execute_reply": "2025-02-20T09:08:55.890469Z"
    },
    "papermill": {
     "duration": 6.86229,
     "end_time": "2025-02-20T09:08:55.892751",
     "exception": false,
     "start_time": "2025-02-20T09:08:49.030461",
     "status": "completed"
    },
    "tags": []
   },
   "outputs": [],
   "source": [
    "# Image processing branch\n",
    "# dense_net = keras_hub.models.Backbone.from_preset(\"resnet_152_imagenet\")\n",
    "backbone_model = keras_hub.models.Backbone.from_preset(\"densenet_169_imagenet\")\n",
    "\n",
    "x = backbone_model(img_input)\n",
    "x = GlobalAveragePooling2D()(x)\n",
    "x = Flatten()(x)\n",
    "# x = Dense(2048,activation='relu')(x)\n",
    "# x = BatchNormalization()(x)\n",
    "# x = Dropout(0.2)(x)\n",
    "# x = Dense(1024,activation='relu')(x)\n",
    "# x = Dropout(0.2)(x)\n",
    "# x = BatchNormalization()(x)\n"
   ]
  },
  {
   "cell_type": "code",
   "execution_count": 44,
   "id": "38cf7814",
   "metadata": {
    "execution": {
     "iopub.execute_input": "2025-02-20T09:08:55.923647Z",
     "iopub.status.busy": "2025-02-20T09:08:55.923410Z",
     "iopub.status.idle": "2025-02-20T09:08:55.961333Z",
     "shell.execute_reply": "2025-02-20T09:08:55.960722Z"
    },
    "papermill": {
     "duration": 0.054085,
     "end_time": "2025-02-20T09:08:55.962424",
     "exception": false,
     "start_time": "2025-02-20T09:08:55.908339",
     "status": "completed"
    },
    "tags": []
   },
   "outputs": [],
   "source": [
    "ACTIVATION_FUNCTION = 'relu'\n",
    "KERNEL_INITIALIZER = keras.initializers.HeNormal()\n",
    "# Tabular data processing branch\n",
    "y = Dense(128, activation=ACTIVATION_FUNCTION,kernel_initializer = KERNEL_INITIALIZER)(tab_feat)\n",
    "# y = BatchNormalization()(y)\n",
    "y = Dropout(0.2)(y)\n",
    "\n",
    "y = Dense(256, activation=ACTIVATION_FUNCTION,kernel_initializer = KERNEL_INITIALIZER)(y)\n",
    "y = Dropout(0.2)(y)\n",
    "y = Dense(512, activation=ACTIVATION_FUNCTION,kernel_initializer = KERNEL_INITIALIZER)(y)\n",
    "y = BatchNormalization()(y)"
   ]
  },
  {
   "cell_type": "code",
   "execution_count": 45,
   "id": "f844e8cc",
   "metadata": {
    "execution": {
     "iopub.execute_input": "2025-02-20T09:08:55.992108Z",
     "iopub.status.busy": "2025-02-20T09:08:55.991872Z",
     "iopub.status.idle": "2025-02-20T09:08:56.021676Z",
     "shell.execute_reply": "2025-02-20T09:08:56.020859Z"
    },
    "papermill": {
     "duration": 0.046059,
     "end_time": "2025-02-20T09:08:56.022906",
     "exception": false,
     "start_time": "2025-02-20T09:08:55.976847",
     "status": "completed"
    },
    "tags": []
   },
   "outputs": [],
   "source": [
    "# Concatenate both branches\n",
    "combined = Concatenate()([x, y])\n",
    "# Fully connected layers after concatenation\n",
    "z = Dense(1024, activation=ACTIVATION_FUNCTION,kernel_initializer = KERNEL_INITIALIZER)(combined)\n",
    "# z = BatchNormalization()(z)\n",
    "# z = Dropout(0.3)(z)\n",
    "z = Dense(512, activation=ACTIVATION_FUNCTION,kernel_initializer = KERNEL_INITIALIZER)(z)\n",
    "# z = BatchNormalization()(z)\n",
    "# z = Dropout(0.3)(z)\n",
    "z = Dense(256, activation=ACTIVATION_FUNCTION,kernel_initializer = KERNEL_INITIALIZER)(z)\n",
    "# z = BatchNormalization()(z)\n",
    "# z = Dense(64, activation=ACTIVATION_FUNCTION,kernel_initializer = KERNEL_INITIALIZER)(z)\n",
    "# z = BatchNormalization()(z)\n",
    "# z = Dropout(0.3)(z)\n",
    "z = Dense(32, activation=ACTIVATION_FUNCTION,kernel_initializer = KERNEL_INITIALIZER)(z)\n",
    "# z = BatchNormalization()(z)\n",
    "# z = Dropout(0.2)(z)\n",
    "# z = Dense(16, activation='selu')(z)\n",
    "# z = Dense(8, activation='selu')(z)\n",
    "# z = Dropout(0.2)(z)\n",
    "# z = Dense(5, activation='selu')(z)"
   ]
  },
  {
   "cell_type": "code",
   "execution_count": 46,
   "id": "b075d304",
   "metadata": {
    "execution": {
     "iopub.execute_input": "2025-02-20T09:08:56.052759Z",
     "iopub.status.busy": "2025-02-20T09:08:56.052504Z",
     "iopub.status.idle": "2025-02-20T09:08:56.063058Z",
     "shell.execute_reply": "2025-02-20T09:08:56.062245Z"
    },
    "papermill": {
     "duration": 0.026798,
     "end_time": "2025-02-20T09:08:56.064261",
     "exception": false,
     "start_time": "2025-02-20T09:08:56.037463",
     "status": "completed"
    },
    "tags": []
   },
   "outputs": [],
   "source": [
    "# Output layer for binary classification\n",
    "output = Dense(1, activation='sigmoid', name='output')(z)"
   ]
  },
  {
   "cell_type": "code",
   "execution_count": 47,
   "id": "6ac1ee2b",
   "metadata": {
    "execution": {
     "iopub.execute_input": "2025-02-20T09:08:56.093806Z",
     "iopub.status.busy": "2025-02-20T09:08:56.093564Z",
     "iopub.status.idle": "2025-02-20T09:08:56.098887Z",
     "shell.execute_reply": "2025-02-20T09:08:56.098251Z"
    },
    "papermill": {
     "duration": 0.021448,
     "end_time": "2025-02-20T09:08:56.100155",
     "exception": false,
     "start_time": "2025-02-20T09:08:56.078707",
     "status": "completed"
    },
    "tags": []
   },
   "outputs": [],
   "source": [
    "model = keras.Model(inputs=[img_input, tab_feat], outputs=output,name='multimodal_densenet')"
   ]
  },
  {
   "cell_type": "code",
   "execution_count": 48,
   "id": "241fdda2",
   "metadata": {
    "execution": {
     "iopub.execute_input": "2025-02-20T09:08:56.129619Z",
     "iopub.status.busy": "2025-02-20T09:08:56.129411Z",
     "iopub.status.idle": "2025-02-20T09:08:56.973511Z",
     "shell.execute_reply": "2025-02-20T09:08:56.972571Z"
    },
    "papermill": {
     "duration": 0.863848,
     "end_time": "2025-02-20T09:08:56.978437",
     "exception": false,
     "start_time": "2025-02-20T09:08:56.114589",
     "status": "completed"
    },
    "tags": []
   },
   "outputs": [
    {
     "data": {
      "image/png": "[encoded data removed]",
      "text/plain": [
       "<IPython.core.display.Image object>"
      ]
     },
     "execution_count": 48,
     "metadata": {},
     "output_type": "execute_result"
    }
   ],
   "source": [
    "keras.utils.plot_model(model, \"densenet169.png\", show_shapes=True)"
   ]
  },
  {
   "cell_type": "code",
   "execution_count": 49,
   "id": "bdfc48f6",
   "metadata": {
    "execution": {
     "iopub.execute_input": "2025-02-20T09:08:57.021326Z",
     "iopub.status.busy": "2025-02-20T09:08:57.021069Z",
     "iopub.status.idle": "2025-02-20T09:08:57.061904Z",
     "shell.execute_reply": "2025-02-20T09:08:57.061047Z"
    },
    "papermill": {
     "duration": 0.063299,
     "end_time": "2025-02-20T09:08:57.063154",
     "exception": false,
     "start_time": "2025-02-20T09:08:56.999855",
     "status": "completed"
    },
    "tags": []
   },
   "outputs": [
    {
     "data": {
      "text/html": [
       "<pre style=\"white-space:pre;overflow-x:auto;line-height:normal;font-family:Menlo,'DejaVu Sans Mono',consolas,'Courier New',monospace\"><span style=\"font-weight: bold\">Model: \"multimodal_densenet\"</span>\n",
       "</pre>\n"
      ],
      "text/plain": [
       "\u001b[1mModel: \"multimodal_densenet\"\u001b[0m\n"
      ]
     },
     "metadata": {},
     "output_type": "display_data"
    },
    {
     "data": {
      "text/html": [
       "<pre style=\"white-space:pre;overflow-x:auto;line-height:normal;font-family:Menlo,'DejaVu Sans Mono',consolas,'Courier New',monospace\">┏━━━━━━━━━━━━━━━━━━━━━━━━━━━┳━━━━━━━━━━━━━━━━━━━━━━━━┳━━━━━━━━━━━━━━━━┳━━━━━━━━━━━━━━━━━━━━━━━━┓\n",
       "┃<span style=\"font-weight: bold\"> Layer (type)              </span>┃<span style=\"font-weight: bold\"> Output Shape           </span>┃<span style=\"font-weight: bold\">        Param # </span>┃<span style=\"font-weight: bold\"> Connected to           </span>┃\n",
       "┡━━━━━━━━━━━━━━━━━━━━━━━━━━━╇━━━━━━━━━━━━━━━━━━━━━━━━╇━━━━━━━━━━━━━━━━╇━━━━━━━━━━━━━━━━━━━━━━━━┩\n",
       "│ tabular (<span style=\"color: #0087ff; text-decoration-color: #0087ff\">InputLayer</span>)      │ (<span style=\"color: #00d7ff; text-decoration-color: #00d7ff\">None</span>, <span style=\"color: #00af00; text-decoration-color: #00af00\">72</span>)             │              <span style=\"color: #00af00; text-decoration-color: #00af00\">0</span> │ -                      │\n",
       "├───────────────────────────┼────────────────────────┼────────────────┼────────────────────────┤\n",
       "│ dense (<span style=\"color: #0087ff; text-decoration-color: #0087ff\">Dense</span>)             │ (<span style=\"color: #00d7ff; text-decoration-color: #00d7ff\">None</span>, <span style=\"color: #00af00; text-decoration-color: #00af00\">128</span>)            │          <span style=\"color: #00af00; text-decoration-color: #00af00\">9,344</span> │ tabular[<span style=\"color: #00af00; text-decoration-color: #00af00\">0</span>][<span style=\"color: #00af00; text-decoration-color: #00af00\">0</span>]          │\n",
       "├───────────────────────────┼────────────────────────┼────────────────┼────────────────────────┤\n",
       "│ dropout (<span style=\"color: #0087ff; text-decoration-color: #0087ff\">Dropout</span>)         │ (<span style=\"color: #00d7ff; text-decoration-color: #00d7ff\">None</span>, <span style=\"color: #00af00; text-decoration-color: #00af00\">128</span>)            │              <span style=\"color: #00af00; text-decoration-color: #00af00\">0</span> │ dense[<span style=\"color: #00af00; text-decoration-color: #00af00\">0</span>][<span style=\"color: #00af00; text-decoration-color: #00af00\">0</span>]            │\n",
       "├───────────────────────────┼────────────────────────┼────────────────┼────────────────────────┤\n",
       "│ images (<span style=\"color: #0087ff; text-decoration-color: #0087ff\">InputLayer</span>)       │ (<span style=\"color: #00d7ff; text-decoration-color: #00d7ff\">None</span>, <span style=\"color: #00af00; text-decoration-color: #00af00\">224</span>, <span style=\"color: #00af00; text-decoration-color: #00af00\">224</span>, <span style=\"color: #00af00; text-decoration-color: #00af00\">3</span>)    │              <span style=\"color: #00af00; text-decoration-color: #00af00\">0</span> │ -                      │\n",
       "├───────────────────────────┼────────────────────────┼────────────────┼────────────────────────┤\n",
       "│ dense_1 (<span style=\"color: #0087ff; text-decoration-color: #0087ff\">Dense</span>)           │ (<span style=\"color: #00d7ff; text-decoration-color: #00d7ff\">None</span>, <span style=\"color: #00af00; text-decoration-color: #00af00\">256</span>)            │         <span style=\"color: #00af00; text-decoration-color: #00af00\">33,024</span> │ dropout[<span style=\"color: #00af00; text-decoration-color: #00af00\">0</span>][<span style=\"color: #00af00; text-decoration-color: #00af00\">0</span>]          │\n",
       "├───────────────────────────┼────────────────────────┼────────────────┼────────────────────────┤\n",
       "│ dense_net_backbone        │ (<span style=\"color: #00d7ff; text-decoration-color: #00d7ff\">None</span>, <span style=\"color: #00af00; text-decoration-color: #00af00\">7</span>, <span style=\"color: #00af00; text-decoration-color: #00af00\">7</span>, <span style=\"color: #00af00; text-decoration-color: #00af00\">1664</span>)     │     <span style=\"color: #00af00; text-decoration-color: #00af00\">12,642,880</span> │ images[<span style=\"color: #00af00; text-decoration-color: #00af00\">0</span>][<span style=\"color: #00af00; text-decoration-color: #00af00\">0</span>]           │\n",
       "│ (<span style=\"color: #0087ff; text-decoration-color: #0087ff\">DenseNetBackbone</span>)        │                        │                │                        │\n",
       "├───────────────────────────┼────────────────────────┼────────────────┼────────────────────────┤\n",
       "│ dropout_1 (<span style=\"color: #0087ff; text-decoration-color: #0087ff\">Dropout</span>)       │ (<span style=\"color: #00d7ff; text-decoration-color: #00d7ff\">None</span>, <span style=\"color: #00af00; text-decoration-color: #00af00\">256</span>)            │              <span style=\"color: #00af00; text-decoration-color: #00af00\">0</span> │ dense_1[<span style=\"color: #00af00; text-decoration-color: #00af00\">0</span>][<span style=\"color: #00af00; text-decoration-color: #00af00\">0</span>]          │\n",
       "├───────────────────────────┼────────────────────────┼────────────────┼────────────────────────┤\n",
       "│ global_average_pooling2d  │ (<span style=\"color: #00d7ff; text-decoration-color: #00d7ff\">None</span>, <span style=\"color: #00af00; text-decoration-color: #00af00\">1664</span>)           │              <span style=\"color: #00af00; text-decoration-color: #00af00\">0</span> │ dense_net_backbone[<span style=\"color: #00af00; text-decoration-color: #00af00\">0</span>]… │\n",
       "│ (<span style=\"color: #0087ff; text-decoration-color: #0087ff\">GlobalAveragePooling2D</span>)  │                        │                │                        │\n",
       "├───────────────────────────┼────────────────────────┼────────────────┼────────────────────────┤\n",
       "│ dense_2 (<span style=\"color: #0087ff; text-decoration-color: #0087ff\">Dense</span>)           │ (<span style=\"color: #00d7ff; text-decoration-color: #00d7ff\">None</span>, <span style=\"color: #00af00; text-decoration-color: #00af00\">512</span>)            │        <span style=\"color: #00af00; text-decoration-color: #00af00\">131,584</span> │ dropout_1[<span style=\"color: #00af00; text-decoration-color: #00af00\">0</span>][<span style=\"color: #00af00; text-decoration-color: #00af00\">0</span>]        │\n",
       "├───────────────────────────┼────────────────────────┼────────────────┼────────────────────────┤\n",
       "│ flatten (<span style=\"color: #0087ff; text-decoration-color: #0087ff\">Flatten</span>)         │ (<span style=\"color: #00d7ff; text-decoration-color: #00d7ff\">None</span>, <span style=\"color: #00af00; text-decoration-color: #00af00\">1664</span>)           │              <span style=\"color: #00af00; text-decoration-color: #00af00\">0</span> │ global_average_poolin… │\n",
       "├───────────────────────────┼────────────────────────┼────────────────┼────────────────────────┤\n",
       "│ batch_normalization       │ (<span style=\"color: #00d7ff; text-decoration-color: #00d7ff\">None</span>, <span style=\"color: #00af00; text-decoration-color: #00af00\">512</span>)            │          <span style=\"color: #00af00; text-decoration-color: #00af00\">2,048</span> │ dense_2[<span style=\"color: #00af00; text-decoration-color: #00af00\">0</span>][<span style=\"color: #00af00; text-decoration-color: #00af00\">0</span>]          │\n",
       "│ (<span style=\"color: #0087ff; text-decoration-color: #0087ff\">BatchNormalization</span>)      │                        │                │                        │\n",
       "├───────────────────────────┼────────────────────────┼────────────────┼────────────────────────┤\n",
       "│ concatenate (<span style=\"color: #0087ff; text-decoration-color: #0087ff\">Concatenate</span>) │ (<span style=\"color: #00d7ff; text-decoration-color: #00d7ff\">None</span>, <span style=\"color: #00af00; text-decoration-color: #00af00\">2176</span>)           │              <span style=\"color: #00af00; text-decoration-color: #00af00\">0</span> │ flatten[<span style=\"color: #00af00; text-decoration-color: #00af00\">0</span>][<span style=\"color: #00af00; text-decoration-color: #00af00\">0</span>],         │\n",
       "│                           │                        │                │ batch_normalization[<span style=\"color: #00af00; text-decoration-color: #00af00\">0</span>… │\n",
       "├───────────────────────────┼────────────────────────┼────────────────┼────────────────────────┤\n",
       "│ dense_3 (<span style=\"color: #0087ff; text-decoration-color: #0087ff\">Dense</span>)           │ (<span style=\"color: #00d7ff; text-decoration-color: #00d7ff\">None</span>, <span style=\"color: #00af00; text-decoration-color: #00af00\">1024</span>)           │      <span style=\"color: #00af00; text-decoration-color: #00af00\">2,229,248</span> │ concatenate[<span style=\"color: #00af00; text-decoration-color: #00af00\">0</span>][<span style=\"color: #00af00; text-decoration-color: #00af00\">0</span>]      │\n",
       "├───────────────────────────┼────────────────────────┼────────────────┼────────────────────────┤\n",
       "│ dense_4 (<span style=\"color: #0087ff; text-decoration-color: #0087ff\">Dense</span>)           │ (<span style=\"color: #00d7ff; text-decoration-color: #00d7ff\">None</span>, <span style=\"color: #00af00; text-decoration-color: #00af00\">512</span>)            │        <span style=\"color: #00af00; text-decoration-color: #00af00\">524,800</span> │ dense_3[<span style=\"color: #00af00; text-decoration-color: #00af00\">0</span>][<span style=\"color: #00af00; text-decoration-color: #00af00\">0</span>]          │\n",
       "├───────────────────────────┼────────────────────────┼────────────────┼────────────────────────┤\n",
       "│ dense_5 (<span style=\"color: #0087ff; text-decoration-color: #0087ff\">Dense</span>)           │ (<span style=\"color: #00d7ff; text-decoration-color: #00d7ff\">None</span>, <span style=\"color: #00af00; text-decoration-color: #00af00\">256</span>)            │        <span style=\"color: #00af00; text-decoration-color: #00af00\">131,328</span> │ dense_4[<span style=\"color: #00af00; text-decoration-color: #00af00\">0</span>][<span style=\"color: #00af00; text-decoration-color: #00af00\">0</span>]          │\n",
       "├───────────────────────────┼────────────────────────┼────────────────┼────────────────────────┤\n",
       "│ dense_6 (<span style=\"color: #0087ff; text-decoration-color: #0087ff\">Dense</span>)           │ (<span style=\"color: #00d7ff; text-decoration-color: #00d7ff\">None</span>, <span style=\"color: #00af00; text-decoration-color: #00af00\">32</span>)             │          <span style=\"color: #00af00; text-decoration-color: #00af00\">8,224</span> │ dense_5[<span style=\"color: #00af00; text-decoration-color: #00af00\">0</span>][<span style=\"color: #00af00; text-decoration-color: #00af00\">0</span>]          │\n",
       "├───────────────────────────┼────────────────────────┼────────────────┼────────────────────────┤\n",
       "│ output (<span style=\"color: #0087ff; text-decoration-color: #0087ff\">Dense</span>)            │ (<span style=\"color: #00d7ff; text-decoration-color: #00d7ff\">None</span>, <span style=\"color: #00af00; text-decoration-color: #00af00\">1</span>)              │             <span style=\"color: #00af00; text-decoration-color: #00af00\">33</span> │ dense_6[<span style=\"color: #00af00; text-decoration-color: #00af00\">0</span>][<span style=\"color: #00af00; text-decoration-color: #00af00\">0</span>]          │\n",
       "└───────────────────────────┴────────────────────────┴────────────────┴────────────────────────┘\n",
       "</pre>\n"
      ],
      "text/plain": [
       "┏━━━━━━━━━━━━━━━━━━━━━━━━━━━┳━━━━━━━━━━━━━━━━━━━━━━━━┳━━━━━━━━━━━━━━━━┳━━━━━━━━━━━━━━━━━━━━━━━━┓\n",
       "┃\u001b[1m \u001b[0m\u001b[1mLayer (type)             \u001b[0m\u001b[1m \u001b[0m┃\u001b[1m \u001b[0m\u001b[1mOutput Shape          \u001b[0m\u001b[1m \u001b[0m┃\u001b[1m \u001b[0m\u001b[1m       Param #\u001b[0m\u001b[1m \u001b[0m┃\u001b[1m \u001b[0m\u001b[1mConnected to          \u001b[0m\u001b[1m \u001b[0m┃\n",
       "┡━━━━━━━━━━━━━━━━━━━━━━━━━━━╇━━━━━━━━━━━━━━━━━━━━━━━━╇━━━━━━━━━━━━━━━━╇━━━━━━━━━━━━━━━━━━━━━━━━┩\n",
       "│ tabular (\u001b[38;5;33mInputLayer\u001b[0m)      │ (\u001b[38;5;45mNone\u001b[0m, \u001b[38;5;34m72\u001b[0m)             │              \u001b[38;5;34m0\u001b[0m │ -                      │\n",
       "├───────────────────────────┼────────────────────────┼────────────────┼────────────────────────┤\n",
       "│ dense (\u001b[38;5;33mDense\u001b[0m)             │ (\u001b[38;5;45mNone\u001b[0m, \u001b[38;5;34m128\u001b[0m)            │          \u001b[38;5;34m9,344\u001b[0m │ tabular[\u001b[38;5;34m0\u001b[0m][\u001b[38;5;34m0\u001b[0m]          │\n",
       "├───────────────────────────┼────────────────────────┼────────────────┼────────────────────────┤\n",
       "│ dropout (\u001b[38;5;33mDropout\u001b[0m)         │ (\u001b[38;5;45mNone\u001b[0m, \u001b[38;5;34m128\u001b[0m)            │              \u001b[38;5;34m0\u001b[0m │ dense[\u001b[38;5;34m0\u001b[0m][\u001b[38;5;34m0\u001b[0m]            │\n",
       "├───────────────────────────┼────────────────────────┼────────────────┼────────────────────────┤\n",
       "│ images (\u001b[38;5;33mInputLayer\u001b[0m)       │ (\u001b[38;5;45mNone\u001b[0m, \u001b[38;5;34m224\u001b[0m, \u001b[38;5;34m224\u001b[0m, \u001b[38;5;34m3\u001b[0m)    │              \u001b[38;5;34m0\u001b[0m │ -                      │\n",
       "├───────────────────────────┼────────────────────────┼────────────────┼────────────────────────┤\n",
       "│ dense_1 (\u001b[38;5;33mDense\u001b[0m)           │ (\u001b[38;5;45mNone\u001b[0m, \u001b[38;5;34m256\u001b[0m)            │         \u001b[38;5;34m33,024\u001b[0m │ dropout[\u001b[38;5;34m0\u001b[0m][\u001b[38;5;34m0\u001b[0m]          │\n",
       "├───────────────────────────┼────────────────────────┼────────────────┼────────────────────────┤\n",
       "│ dense_net_backbone        │ (\u001b[38;5;45mNone\u001b[0m, \u001b[38;5;34m7\u001b[0m, \u001b[38;5;34m7\u001b[0m, \u001b[38;5;34m1664\u001b[0m)     │     \u001b[38;5;34m12,642,880\u001b[0m │ images[\u001b[38;5;34m0\u001b[0m][\u001b[38;5;34m0\u001b[0m]           │\n",
       "│ (\u001b[38;5;33mDenseNetBackbone\u001b[0m)        │                        │                │                        │\n",
       "├───────────────────────────┼────────────────────────┼────────────────┼────────────────────────┤\n",
       "│ dropout_1 (\u001b[38;5;33mDropout\u001b[0m)       │ (\u001b[38;5;45mNone\u001b[0m, \u001b[38;5;34m256\u001b[0m)            │              \u001b[38;5;34m0\u001b[0m │ dense_1[\u001b[38;5;34m0\u001b[0m][\u001b[38;5;34m0\u001b[0m]          │\n",
       "├───────────────────────────┼────────────────────────┼────────────────┼────────────────────────┤\n",
       "│ global_average_pooling2d  │ (\u001b[38;5;45mNone\u001b[0m, \u001b[38;5;34m1664\u001b[0m)           │              \u001b[38;5;34m0\u001b[0m │ dense_net_backbone[\u001b[38;5;34m0\u001b[0m]… │\n",
       "│ (\u001b[38;5;33mGlobalAveragePooling2D\u001b[0m)  │                        │                │                        │\n",
       "├───────────────────────────┼────────────────────────┼────────────────┼────────────────────────┤\n",
       "│ dense_2 (\u001b[38;5;33mDense\u001b[0m)           │ (\u001b[38;5;45mNone\u001b[0m, \u001b[38;5;34m512\u001b[0m)            │        \u001b[38;5;34m131,584\u001b[0m │ dropout_1[\u001b[38;5;34m0\u001b[0m][\u001b[38;5;34m0\u001b[0m]        │\n",
       "├───────────────────────────┼────────────────────────┼────────────────┼────────────────────────┤\n",
       "│ flatten (\u001b[38;5;33mFlatten\u001b[0m)         │ (\u001b[38;5;45mNone\u001b[0m, \u001b[38;5;34m1664\u001b[0m)           │              \u001b[38;5;34m0\u001b[0m │ global_average_poolin… │\n",
       "├───────────────────────────┼────────────────────────┼────────────────┼────────────────────────┤\n",
       "│ batch_normalization       │ (\u001b[38;5;45mNone\u001b[0m, \u001b[38;5;34m512\u001b[0m)            │          \u001b[38;5;34m2,048\u001b[0m │ dense_2[\u001b[38;5;34m0\u001b[0m][\u001b[38;5;34m0\u001b[0m]          │\n",
       "│ (\u001b[38;5;33mBatchNormalization\u001b[0m)      │                        │                │                        │\n",
       "├───────────────────────────┼────────────────────────┼────────────────┼────────────────────────┤\n",
       "│ concatenate (\u001b[38;5;33mConcatenate\u001b[0m) │ (\u001b[38;5;45mNone\u001b[0m, \u001b[38;5;34m2176\u001b[0m)           │              \u001b[38;5;34m0\u001b[0m │ flatten[\u001b[38;5;34m0\u001b[0m][\u001b[38;5;34m0\u001b[0m],         │\n",
       "│                           │                        │                │ batch_normalization[\u001b[38;5;34m0\u001b[0m… │\n",
       "├───────────────────────────┼────────────────────────┼────────────────┼────────────────────────┤\n",
       "│ dense_3 (\u001b[38;5;33mDense\u001b[0m)           │ (\u001b[38;5;45mNone\u001b[0m, \u001b[38;5;34m1024\u001b[0m)           │      \u001b[38;5;34m2,229,248\u001b[0m │ concatenate[\u001b[38;5;34m0\u001b[0m][\u001b[38;5;34m0\u001b[0m]      │\n",
       "├───────────────────────────┼────────────────────────┼────────────────┼────────────────────────┤\n",
       "│ dense_4 (\u001b[38;5;33mDense\u001b[0m)           │ (\u001b[38;5;45mNone\u001b[0m, \u001b[38;5;34m512\u001b[0m)            │        \u001b[38;5;34m524,800\u001b[0m │ dense_3[\u001b[38;5;34m0\u001b[0m][\u001b[38;5;34m0\u001b[0m]          │\n",
       "├───────────────────────────┼────────────────────────┼────────────────┼────────────────────────┤\n",
       "│ dense_5 (\u001b[38;5;33mDense\u001b[0m)           │ (\u001b[38;5;45mNone\u001b[0m, \u001b[38;5;34m256\u001b[0m)            │        \u001b[38;5;34m131,328\u001b[0m │ dense_4[\u001b[38;5;34m0\u001b[0m][\u001b[38;5;34m0\u001b[0m]          │\n",
       "├───────────────────────────┼────────────────────────┼────────────────┼────────────────────────┤\n",
       "│ dense_6 (\u001b[38;5;33mDense\u001b[0m)           │ (\u001b[38;5;45mNone\u001b[0m, \u001b[38;5;34m32\u001b[0m)             │          \u001b[38;5;34m8,224\u001b[0m │ dense_5[\u001b[38;5;34m0\u001b[0m][\u001b[38;5;34m0\u001b[0m]          │\n",
       "├───────────────────────────┼────────────────────────┼────────────────┼────────────────────────┤\n",
       "│ output (\u001b[38;5;33mDense\u001b[0m)            │ (\u001b[38;5;45mNone\u001b[0m, \u001b[38;5;34m1\u001b[0m)              │             \u001b[38;5;34m33\u001b[0m │ dense_6[\u001b[38;5;34m0\u001b[0m][\u001b[38;5;34m0\u001b[0m]          │\n",
       "└───────────────────────────┴────────────────────────┴────────────────┴────────────────────────┘\n"
      ]
     },
     "metadata": {},
     "output_type": "display_data"
    },
    {
     "data": {
      "text/html": [
       "<pre style=\"white-space:pre;overflow-x:auto;line-height:normal;font-family:Menlo,'DejaVu Sans Mono',consolas,'Courier New',monospace\"><span style=\"font-weight: bold\"> Total params: </span><span style=\"color: #00af00; text-decoration-color: #00af00\">15,712,513</span> (59.94 MB)\n",
       "</pre>\n"
      ],
      "text/plain": [
       "\u001b[1m Total params: \u001b[0m\u001b[38;5;34m15,712,513\u001b[0m (59.94 MB)\n"
      ]
     },
     "metadata": {},
     "output_type": "display_data"
    },
    {
     "data": {
      "text/html": [
       "<pre style=\"white-space:pre;overflow-x:auto;line-height:normal;font-family:Menlo,'DejaVu Sans Mono',consolas,'Courier New',monospace\"><span style=\"font-weight: bold\"> Trainable params: </span><span style=\"color: #00af00; text-decoration-color: #00af00\">15,553,089</span> (59.33 MB)\n",
       "</pre>\n"
      ],
      "text/plain": [
       "\u001b[1m Trainable params: \u001b[0m\u001b[38;5;34m15,553,089\u001b[0m (59.33 MB)\n"
      ]
     },
     "metadata": {},
     "output_type": "display_data"
    },
    {
     "data": {
      "text/html": [
       "<pre style=\"white-space:pre;overflow-x:auto;line-height:normal;font-family:Menlo,'DejaVu Sans Mono',consolas,'Courier New',monospace\"><span style=\"font-weight: bold\"> Non-trainable params: </span><span style=\"color: #00af00; text-decoration-color: #00af00\">159,424</span> (622.75 KB)\n",
       "</pre>\n"
      ],
      "text/plain": [
       "\u001b[1m Non-trainable params: \u001b[0m\u001b[38;5;34m159,424\u001b[0m (622.75 KB)\n"
      ]
     },
     "metadata": {},
     "output_type": "display_data"
    }
   ],
   "source": [
    "model.summary()"
   ]
  },
  {
   "cell_type": "code",
   "execution_count": 50,
   "id": "513a628e",
   "metadata": {
    "execution": {
     "iopub.execute_input": "2025-02-20T09:08:57.107984Z",
     "iopub.status.busy": "2025-02-20T09:08:57.107747Z",
     "iopub.status.idle": "2025-02-20T09:08:57.130585Z",
     "shell.execute_reply": "2025-02-20T09:08:57.129981Z"
    },
    "papermill": {
     "duration": 0.046121,
     "end_time": "2025-02-20T09:08:57.131797",
     "exception": false,
     "start_time": "2025-02-20T09:08:57.085676",
     "status": "completed"
    },
    "tags": []
   },
   "outputs": [],
   "source": [
    "# lr_schedule = keras.optimizers.schedules.ExponentialDecay(\n",
    "#     initial_learning_rate=1e-2,\n",
    "#     decay_steps=5000,\n",
    "#     decay_rate=0.9)\n",
    "boundaries = [400,1500]\n",
    "values = [1e-3,1e-4,1e-5]\n",
    "lr_schedule = keras.optimizers.schedules.PiecewiseConstantDecay(\n",
    "    boundaries, values, name=\"PiecewiseConstant\"\n",
    ")\n",
    "model.compile(\n",
    "    optimizer=keras.optimizers.Adam(learning_rate=lr_schedule),\n",
    "    # optimizer = keras.optimizers.RMSprop(learning_rate=0.001,rho=0.98,momentum=0.1),\n",
    "    # optimizer = keras.optimizers.Nadam(learning_rate=0.001,weight_decay=0.01),\n",
    "    # loss=FocalLoss(gamma=2., alpha=0.25),\n",
    "    # loss = keras.losses.BinaryFocalCrossentropy(apply_class_balancing=True,reduction='sum',gamma=3.0),\n",
    "    loss = keras.losses.BinaryCrossentropy(),\n",
    "    metrics=[keras.metrics.AUC(curve='PR', name='PR_pAUC'),keras.metrics.AUC(curve='ROC', name='ROC_pAUC')]\n",
    ")"
   ]
  },
  {
   "cell_type": "code",
   "execution_count": 51,
   "id": "841ca770",
   "metadata": {
    "execution": {
     "iopub.execute_input": "2025-02-20T09:08:57.175232Z",
     "iopub.status.busy": "2025-02-20T09:08:57.175020Z",
     "iopub.status.idle": "2025-02-20T09:08:57.178586Z",
     "shell.execute_reply": "2025-02-20T09:08:57.177957Z"
    },
    "papermill": {
     "duration": 0.026393,
     "end_time": "2025-02-20T09:08:57.179677",
     "exception": false,
     "start_time": "2025-02-20T09:08:57.153284",
     "status": "completed"
    },
    "tags": []
   },
   "outputs": [],
   "source": [
    "# Define callbacks\n",
    "early_stopping = EarlyStopping(\n",
    "    monitor='val_loss',\n",
    "    mode='min',\n",
    "    patience=4, \n",
    "    restore_best_weights=True,\n",
    "    start_from_epoch = 3\n",
    ")\n",
    "\n",
    "# reduce_lr = ReduceLROnPlateau(\n",
    "#     monitor='loss', \n",
    "#     factor=0.2, \n",
    "#     patience=3, \n",
    "#     min_lr=1e-6,\n",
    "#     start_from_epoch = 2 \n",
    "# )\n",
    "\n",
    "checkpoint = ModelCheckpoint(\n",
    "    filepath='best_model.keras', \n",
    "    monitor='val_loss', \n",
    "    save_best_only=True\n",
    ")\n"
   ]
  },
  {
   "cell_type": "code",
   "execution_count": 52,
   "id": "b374e950",
   "metadata": {
    "execution": {
     "iopub.execute_input": "2025-02-20T09:08:57.223052Z",
     "iopub.status.busy": "2025-02-20T09:08:57.222843Z",
     "iopub.status.idle": "2025-02-20T09:08:57.229100Z",
     "shell.execute_reply": "2025-02-20T09:08:57.228336Z"
    },
    "papermill": {
     "duration": 0.029438,
     "end_time": "2025-02-20T09:08:57.230302",
     "exception": false,
     "start_time": "2025-02-20T09:08:57.200864",
     "status": "completed"
    },
    "tags": []
   },
   "outputs": [
    {
     "name": "stdout",
     "output_type": "stream",
     "text": [
      "Class Weights: {0: 0.8, 1: 2.5}\n"
     ]
    }
   ],
   "source": [
    "class_weights = compute_class_weight('balanced', classes=np.unique(y_train_final), y=y_train_final)\n",
    "class_weights = dict(enumerate(class_weights))\n",
    "class_weights = {0:0.8,1:2.5}\n",
    "print(\"Class Weights:\", class_weights)"
   ]
  },
  {
   "cell_type": "code",
   "execution_count": 53,
   "id": "245b2951",
   "metadata": {
    "execution": {
     "iopub.execute_input": "2025-02-20T09:08:57.273250Z",
     "iopub.status.busy": "2025-02-20T09:08:57.273041Z",
     "iopub.status.idle": "2025-02-20T09:31:57.298755Z",
     "shell.execute_reply": "2025-02-20T09:31:57.297704Z"
    },
    "papermill": {
     "duration": 1380.049064,
     "end_time": "2025-02-20T09:31:57.300433",
     "exception": false,
     "start_time": "2025-02-20T09:08:57.251369",
     "status": "completed"
    },
    "tags": []
   },
   "outputs": [
    {
     "name": "stdout",
     "output_type": "stream",
     "text": [
      "Epoch 1/75\n",
      "\u001b[1m72/72\u001b[0m \u001b[32m━━━━━━━━━━━━━━━━━━━━\u001b[0m\u001b[37m\u001b[0m \u001b[1m542s\u001b[0m 4s/step - PR_pAUC: 0.4902 - ROC_pAUC: 0.7847 - loss: 0.8052 - val_PR_pAUC: 0.7287 - val_ROC_pAUC: 0.8253 - val_loss: 1.2406\n",
      "Epoch 2/75\n",
      "\u001b[1m72/72\u001b[0m \u001b[32m━━━━━━━━━━━━━━━━━━━━\u001b[0m\u001b[37m\u001b[0m \u001b[1m30s\u001b[0m 418ms/step - PR_pAUC: 0.7561 - ROC_pAUC: 0.9152 - loss: 0.4620 - val_PR_pAUC: 0.3702 - val_ROC_pAUC: 0.5683 - val_loss: 12.9279\n",
      "Epoch 3/75\n",
      "\u001b[1m72/72\u001b[0m \u001b[32m━━━━━━━━━━━━━━━━━━━━\u001b[0m\u001b[37m\u001b[0m \u001b[1m32s\u001b[0m 446ms/step - PR_pAUC: 0.8259 - ROC_pAUC: 0.9417 - loss: 0.3738 - val_PR_pAUC: 0.8691 - val_ROC_pAUC: 0.9479 - val_loss: 0.2402\n",
      "Epoch 4/75\n",
      "\u001b[1m72/72\u001b[0m \u001b[32m━━━━━━━━━━━━━━━━━━━━\u001b[0m\u001b[37m\u001b[0m \u001b[1m31s\u001b[0m 423ms/step - PR_pAUC: 0.8224 - ROC_pAUC: 0.9413 - loss: 0.3716 - val_PR_pAUC: 0.7673 - val_ROC_pAUC: 0.9343 - val_loss: 0.3100\n",
      "Epoch 5/75\n",
      "\u001b[1m72/72\u001b[0m \u001b[32m━━━━━━━━━━━━━━━━━━━━\u001b[0m\u001b[37m\u001b[0m \u001b[1m30s\u001b[0m 416ms/step - PR_pAUC: 0.8473 - ROC_pAUC: 0.9541 - loss: 0.3229 - val_PR_pAUC: 0.8130 - val_ROC_pAUC: 0.9590 - val_loss: 0.7165\n",
      "Epoch 6/75\n",
      "\u001b[1m72/72\u001b[0m \u001b[32m━━━━━━━━━━━━━━━━━━━━\u001b[0m\u001b[37m\u001b[0m \u001b[1m32s\u001b[0m 449ms/step - PR_pAUC: 0.8563 - ROC_pAUC: 0.9584 - loss: 0.3066 - val_PR_pAUC: 0.8945 - val_ROC_pAUC: 0.9721 - val_loss: 0.1838\n",
      "Epoch 7/75\n",
      "\u001b[1m72/72\u001b[0m \u001b[32m━━━━━━━━━━━━━━━━━━━━\u001b[0m\u001b[37m\u001b[0m \u001b[1m32s\u001b[0m 449ms/step - PR_pAUC: 0.8935 - ROC_pAUC: 0.9695 - loss: 0.2648 - val_PR_pAUC: 0.9075 - val_ROC_pAUC: 0.9763 - val_loss: 0.1671\n",
      "Epoch 8/75\n",
      "\u001b[1m72/72\u001b[0m \u001b[32m━━━━━━━━━━━━━━━━━━━━\u001b[0m\u001b[37m\u001b[0m \u001b[1m30s\u001b[0m 417ms/step - PR_pAUC: 0.9127 - ROC_pAUC: 0.9760 - loss: 0.2283 - val_PR_pAUC: 0.8878 - val_ROC_pAUC: 0.9734 - val_loss: 0.1822\n",
      "Epoch 9/75\n",
      "\u001b[1m72/72\u001b[0m \u001b[32m━━━━━━━━━━━━━━━━━━━━\u001b[0m\u001b[37m\u001b[0m \u001b[1m30s\u001b[0m 418ms/step - PR_pAUC: 0.9079 - ROC_pAUC: 0.9761 - loss: 0.2256 - val_PR_pAUC: 0.8640 - val_ROC_pAUC: 0.9746 - val_loss: 0.1876\n",
      "Epoch 10/75\n",
      "\u001b[1m72/72\u001b[0m \u001b[32m━━━━━━━━━━━━━━━━━━━━\u001b[0m\u001b[37m\u001b[0m \u001b[1m30s\u001b[0m 417ms/step - PR_pAUC: 0.9158 - ROC_pAUC: 0.9791 - loss: 0.2116 - val_PR_pAUC: 0.8815 - val_ROC_pAUC: 0.9760 - val_loss: 0.1712\n",
      "Epoch 11/75\n",
      "\u001b[1m72/72\u001b[0m \u001b[32m━━━━━━━━━━━━━━━━━━━━\u001b[0m\u001b[37m\u001b[0m \u001b[1m32s\u001b[0m 449ms/step - PR_pAUC: 0.9111 - ROC_pAUC: 0.9764 - loss: 0.2232 - val_PR_pAUC: 0.9302 - val_ROC_pAUC: 0.9835 - val_loss: 0.1406\n",
      "Epoch 12/75\n",
      "\u001b[1m72/72\u001b[0m \u001b[32m━━━━━━━━━━━━━━━━━━━━\u001b[0m\u001b[37m\u001b[0m \u001b[1m30s\u001b[0m 417ms/step - PR_pAUC: 0.9204 - ROC_pAUC: 0.9801 - loss: 0.2084 - val_PR_pAUC: 0.9242 - val_ROC_pAUC: 0.9820 - val_loss: 0.1484\n",
      "Epoch 13/75\n",
      "\u001b[1m72/72\u001b[0m \u001b[32m━━━━━━━━━━━━━━━━━━━━\u001b[0m\u001b[37m\u001b[0m \u001b[1m30s\u001b[0m 417ms/step - PR_pAUC: 0.9248 - ROC_pAUC: 0.9808 - loss: 0.1998 - val_PR_pAUC: 0.9239 - val_ROC_pAUC: 0.9814 - val_loss: 0.1499\n",
      "Epoch 14/75\n",
      "\u001b[1m72/72\u001b[0m \u001b[32m━━━━━━━━━━━━━━━━━━━━\u001b[0m\u001b[37m\u001b[0m \u001b[1m32s\u001b[0m 449ms/step - PR_pAUC: 0.9339 - ROC_pAUC: 0.9837 - loss: 0.1855 - val_PR_pAUC: 0.9187 - val_ROC_pAUC: 0.9836 - val_loss: 0.1363\n",
      "Epoch 15/75\n",
      "\u001b[1m72/72\u001b[0m \u001b[32m━━━━━━━━━━━━━━━━━━━━\u001b[0m\u001b[37m\u001b[0m \u001b[1m30s\u001b[0m 417ms/step - PR_pAUC: 0.9480 - ROC_pAUC: 0.9861 - loss: 0.1721 - val_PR_pAUC: 0.9197 - val_ROC_pAUC: 0.9836 - val_loss: 0.1465\n",
      "Epoch 16/75\n",
      "\u001b[1m72/72\u001b[0m \u001b[32m━━━━━━━━━━━━━━━━━━━━\u001b[0m\u001b[37m\u001b[0m \u001b[1m32s\u001b[0m 448ms/step - PR_pAUC: 0.9409 - ROC_pAUC: 0.9862 - loss: 0.1659 - val_PR_pAUC: 0.9389 - val_ROC_pAUC: 0.9859 - val_loss: 0.1274\n",
      "Epoch 17/75\n",
      "\u001b[1m72/72\u001b[0m \u001b[32m━━━━━━━━━━━━━━━━━━━━\u001b[0m\u001b[37m\u001b[0m \u001b[1m30s\u001b[0m 417ms/step - PR_pAUC: 0.9467 - ROC_pAUC: 0.9874 - loss: 0.1580 - val_PR_pAUC: 0.9215 - val_ROC_pAUC: 0.9835 - val_loss: 0.1418\n",
      "Epoch 18/75\n",
      "\u001b[1m72/72\u001b[0m \u001b[32m━━━━━━━━━━━━━━━━━━━━\u001b[0m\u001b[37m\u001b[0m \u001b[1m30s\u001b[0m 417ms/step - PR_pAUC: 0.9569 - ROC_pAUC: 0.9888 - loss: 0.1538 - val_PR_pAUC: 0.9048 - val_ROC_pAUC: 0.9797 - val_loss: 0.1648\n",
      "Epoch 19/75\n",
      "\u001b[1m72/72\u001b[0m \u001b[32m━━━━━━━━━━━━━━━━━━━━\u001b[0m\u001b[37m\u001b[0m \u001b[1m32s\u001b[0m 449ms/step - PR_pAUC: 0.9571 - ROC_pAUC: 0.9893 - loss: 0.1460 - val_PR_pAUC: 0.9530 - val_ROC_pAUC: 0.9878 - val_loss: 0.1196\n",
      "Epoch 20/75\n",
      "\u001b[1m72/72\u001b[0m \u001b[32m━━━━━━━━━━━━━━━━━━━━\u001b[0m\u001b[37m\u001b[0m \u001b[1m32s\u001b[0m 450ms/step - PR_pAUC: 0.9574 - ROC_pAUC: 0.9892 - loss: 0.1501 - val_PR_pAUC: 0.9458 - val_ROC_pAUC: 0.9886 - val_loss: 0.1170\n",
      "Epoch 21/75\n",
      "\u001b[1m72/72\u001b[0m \u001b[32m━━━━━━━━━━━━━━━━━━━━\u001b[0m\u001b[37m\u001b[0m \u001b[1m30s\u001b[0m 417ms/step - PR_pAUC: 0.9679 - ROC_pAUC: 0.9913 - loss: 0.1346 - val_PR_pAUC: 0.9333 - val_ROC_pAUC: 0.9858 - val_loss: 0.1340\n",
      "Epoch 22/75\n",
      "\u001b[1m72/72\u001b[0m \u001b[32m━━━━━━━━━━━━━━━━━━━━\u001b[0m\u001b[37m\u001b[0m \u001b[1m32s\u001b[0m 448ms/step - PR_pAUC: 0.9711 - ROC_pAUC: 0.9927 - loss: 0.1268 - val_PR_pAUC: 0.9524 - val_ROC_pAUC: 0.9904 - val_loss: 0.1033\n",
      "Epoch 23/75\n",
      "\u001b[1m72/72\u001b[0m \u001b[32m━━━━━━━━━━━━━━━━━━━━\u001b[0m\u001b[37m\u001b[0m \u001b[1m32s\u001b[0m 448ms/step - PR_pAUC: 0.9721 - ROC_pAUC: 0.9939 - loss: 0.1100 - val_PR_pAUC: 0.9518 - val_ROC_pAUC: 0.9905 - val_loss: 0.1032\n",
      "Epoch 24/75\n",
      "\u001b[1m72/72\u001b[0m \u001b[32m━━━━━━━━━━━━━━━━━━━━\u001b[0m\u001b[37m\u001b[0m \u001b[1m32s\u001b[0m 450ms/step - PR_pAUC: 0.9824 - ROC_pAUC: 0.9956 - loss: 0.0964 - val_PR_pAUC: 0.9571 - val_ROC_pAUC: 0.9913 - val_loss: 0.0996\n",
      "Epoch 25/75\n",
      "\u001b[1m72/72\u001b[0m \u001b[32m━━━━━━━━━━━━━━━━━━━━\u001b[0m\u001b[37m\u001b[0m \u001b[1m30s\u001b[0m 416ms/step - PR_pAUC: 0.9840 - ROC_pAUC: 0.9955 - loss: 0.0977 - val_PR_pAUC: 0.9546 - val_ROC_pAUC: 0.9906 - val_loss: 0.1037\n",
      "Epoch 26/75\n",
      "\u001b[1m72/72\u001b[0m \u001b[32m━━━━━━━━━━━━━━━━━━━━\u001b[0m\u001b[37m\u001b[0m \u001b[1m30s\u001b[0m 417ms/step - PR_pAUC: 0.9861 - ROC_pAUC: 0.9961 - loss: 0.0920 - val_PR_pAUC: 0.9437 - val_ROC_pAUC: 0.9897 - val_loss: 0.1098\n",
      "Epoch 27/75\n",
      "\u001b[1m72/72\u001b[0m \u001b[32m━━━━━━━━━━━━━━━━━━━━\u001b[0m\u001b[37m\u001b[0m \u001b[1m30s\u001b[0m 417ms/step - PR_pAUC: 0.9809 - ROC_pAUC: 0.9960 - loss: 0.0814 - val_PR_pAUC: 0.9504 - val_ROC_pAUC: 0.9891 - val_loss: 0.1142\n",
      "Epoch 28/75\n",
      "\u001b[1m72/72\u001b[0m \u001b[32m━━━━━━━━━━━━━━━━━━━━\u001b[0m\u001b[37m\u001b[0m \u001b[1m30s\u001b[0m 417ms/step - PR_pAUC: 0.9786 - ROC_pAUC: 0.9947 - loss: 0.1051 - val_PR_pAUC: 0.9543 - val_ROC_pAUC: 0.9903 - val_loss: 0.1083\n"
     ]
    }
   ],
   "source": [
    "history = model.fit(\n",
    "        train_dataset,\n",
    "        validation_data=val_dataset,\n",
    "        epochs=75,\n",
    "        callbacks=[early_stopping, checkpoint],\n",
    "        verbose=1,\n",
    "        class_weight=class_weights\n",
    "    )"
   ]
  },
  {
   "cell_type": "code",
   "execution_count": 54,
   "id": "de9ec59a",
   "metadata": {
    "execution": {
     "iopub.execute_input": "2025-02-20T09:31:57.538869Z",
     "iopub.status.busy": "2025-02-20T09:31:57.538504Z",
     "iopub.status.idle": "2025-02-20T09:31:57.988736Z",
     "shell.execute_reply": "2025-02-20T09:31:57.987917Z"
    },
    "papermill": {
     "duration": 0.569265,
     "end_time": "2025-02-20T09:31:57.990159",
     "exception": false,
     "start_time": "2025-02-20T09:31:57.420894",
     "status": "completed"
    },
    "tags": []
   },
   "outputs": [
    {
     "data": {
      "image/png": "[encoded data removed]",
      "text/plain": [
       "<Figure size 1200x800 with 2 Axes>"
      ]
     },
     "metadata": {},
     "output_type": "display_data"
    }
   ],
   "source": [
    "plt.figure(figsize=(12, 8))\n",
    "\n",
    "# Plot training and validation loss\n",
    "plt.subplot(2, 1, 1)\n",
    "plt.plot(history.history['loss'], label='Training Loss')\n",
    "plt.plot(history.history['val_loss'], label='Validation Loss')\n",
    "plt.title('Loss')\n",
    "plt.xlabel('Epochs')\n",
    "plt.ylabel('Loss')\n",
    "plt.legend()\n",
    "\n",
    "# Plot training and validation AUC\n",
    "plt.subplot(2, 1, 2)\n",
    "plt.plot(history.history['PR_pAUC'], label='Training PR_AUC')\n",
    "plt.plot(history.history['val_PR_pAUC'], label='Validation PR_AUC')\n",
    "plt.plot(history.history['ROC_pAUC'], label='Training ROC_AUC')\n",
    "plt.plot(history.history['val_ROC_pAUC'], label='Validation ROC_AUC')\n",
    "plt.title('AUC')\n",
    "plt.xlabel('Epochs')\n",
    "plt.ylabel('AUC')\n",
    "plt.legend()\n",
    "\n",
    "plt.tight_layout()\n",
    "plt.show()\n"
   ]
  },
  {
   "cell_type": "markdown",
   "id": "4d1783e8",
   "metadata": {
    "papermill": {
     "duration": 0.120879,
     "end_time": "2025-02-20T09:31:58.231217",
     "exception": false,
     "start_time": "2025-02-20T09:31:58.110338",
     "status": "completed"
    },
    "tags": []
   },
   "source": [
    "## Prediction for test data"
   ]
  },
  {
   "cell_type": "code",
   "execution_count": 55,
   "id": "7072d5d7",
   "metadata": {
    "execution": {
     "iopub.execute_input": "2025-02-20T09:31:58.496552Z",
     "iopub.status.busy": "2025-02-20T09:31:58.496129Z",
     "iopub.status.idle": "2025-02-20T09:32:03.329154Z",
     "shell.execute_reply": "2025-02-20T09:32:03.328126Z"
    },
    "papermill": {
     "duration": 4.96225,
     "end_time": "2025-02-20T09:32:03.331117",
     "exception": false,
     "start_time": "2025-02-20T09:31:58.368867",
     "status": "completed"
    },
    "tags": []
   },
   "outputs": [],
   "source": [
    "# now load the best model\n",
    "\n",
    "model = keras.models.load_model('best_model.keras')"
   ]
  },
  {
   "cell_type": "code",
   "execution_count": 56,
   "id": "5e5bba26",
   "metadata": {
    "execution": {
     "iopub.execute_input": "2025-02-20T09:32:03.564967Z",
     "iopub.status.busy": "2025-02-20T09:32:03.564629Z",
     "iopub.status.idle": "2025-02-20T09:32:18.227060Z",
     "shell.execute_reply": "2025-02-20T09:32:18.226351Z"
    },
    "papermill": {
     "duration": 14.779984,
     "end_time": "2025-02-20T09:32:18.228232",
     "exception": false,
     "start_time": "2025-02-20T09:32:03.448248",
     "status": "completed"
    },
    "tags": []
   },
   "outputs": [
    {
     "name": "stdout",
     "output_type": "stream",
     "text": [
      "\u001b[1m1/1\u001b[0m \u001b[32m━━━━━━━━━━━━━━━━━━━━\u001b[0m\u001b[37m\u001b[0m \u001b[1m15s\u001b[0m 15s/step\n"
     ]
    }
   ],
   "source": [
    "predictions = model.predict(test_dataset, verbose=1)\n",
    "predictions_series = pd.Series(predictions.flatten(), name='Predictions')\n",
    "# predictions_series = predictions_series.clip(lower=1e-6, upper=0.999999)"
   ]
  },
  {
   "cell_type": "code",
   "execution_count": 57,
   "id": "541f45ed",
   "metadata": {
    "execution": {
     "iopub.execute_input": "2025-02-20T09:32:18.487811Z",
     "iopub.status.busy": "2025-02-20T09:32:18.487467Z",
     "iopub.status.idle": "2025-02-20T09:32:18.496793Z",
     "shell.execute_reply": "2025-02-20T09:32:18.495950Z"
    },
    "papermill": {
     "duration": 0.136316,
     "end_time": "2025-02-20T09:32:18.498148",
     "exception": false,
     "start_time": "2025-02-20T09:32:18.361832",
     "status": "completed"
    },
    "tags": []
   },
   "outputs": [
    {
     "data": {
      "text/html": [
       "<div>\n",
       "<style scoped>\n",
       "    .dataframe tbody tr th:only-of-type {\n",
       "        vertical-align: middle;\n",
       "    }\n",
       "\n",
       "    .dataframe tbody tr th {\n",
       "        vertical-align: top;\n",
       "    }\n",
       "\n",
       "    .dataframe thead th {\n",
       "        text-align: right;\n",
       "    }\n",
       "</style>\n",
       "<table border=\"1\" class=\"dataframe\">\n",
       "  <thead>\n",
       "    <tr style=\"text-align: right;\">\n",
       "      <th></th>\n",
       "      <th>isic_id</th>\n",
       "      <th>target</th>\n",
       "    </tr>\n",
       "  </thead>\n",
       "  <tbody>\n",
       "    <tr>\n",
       "      <th>0</th>\n",
       "      <td>ISIC_0015657</td>\n",
       "      <td>0.000335</td>\n",
       "    </tr>\n",
       "    <tr>\n",
       "      <th>1</th>\n",
       "      <td>ISIC_0015729</td>\n",
       "      <td>0.000197</td>\n",
       "    </tr>\n",
       "    <tr>\n",
       "      <th>2</th>\n",
       "      <td>ISIC_0015740</td>\n",
       "      <td>0.000562</td>\n",
       "    </tr>\n",
       "  </tbody>\n",
       "</table>\n",
       "</div>"
      ],
      "text/plain": [
       "        isic_id    target\n",
       "0  ISIC_0015657  0.000335\n",
       "1  ISIC_0015729  0.000197\n",
       "2  ISIC_0015740  0.000562"
      ]
     },
     "execution_count": 57,
     "metadata": {},
     "output_type": "execute_result"
    }
   ],
   "source": [
    "sub_df = pd.concat([X_test['isic_id'],predictions_series],axis=1)\n",
    "sub_df.columns = ['isic_id','target']\n",
    "sub_df.head()"
   ]
  },
  {
   "cell_type": "code",
   "execution_count": 58,
   "id": "4f49473f",
   "metadata": {
    "execution": {
     "iopub.execute_input": "2025-02-20T09:32:18.729125Z",
     "iopub.status.busy": "2025-02-20T09:32:18.728698Z",
     "iopub.status.idle": "2025-02-20T09:32:18.736746Z",
     "shell.execute_reply": "2025-02-20T09:32:18.736096Z"
    },
    "papermill": {
     "duration": 0.12433,
     "end_time": "2025-02-20T09:32:18.738079",
     "exception": false,
     "start_time": "2025-02-20T09:32:18.613749",
     "status": "completed"
    },
    "tags": []
   },
   "outputs": [],
   "source": [
    " sub_df.to_csv('submission.csv', index=False)"
   ]
  },
  {
   "cell_type": "code",
   "execution_count": null,
   "id": "e61886a1",
   "metadata": {
    "papermill": {
     "duration": 0.114384,
     "end_time": "2025-02-20T09:32:18.966953",
     "exception": false,
     "start_time": "2025-02-20T09:32:18.852569",
     "status": "completed"
    },
    "tags": []
   },
   "outputs": [],
   "source": []
  }
 ],
 "metadata": {
  "kaggle": {
   "accelerator": "gpu",
   "dataSources": [
    {
     "databundleVersionId": 9094797,
     "sourceId": 63056,
     "sourceType": "competition"
    },
    {
     "modelId": 2800,
     "modelInstanceId": 115418,
     "sourceId": 138984,
     "sourceType": "modelInstanceVersion"
    },
    {
     "modelId": 2800,
     "modelInstanceId": 115416,
     "sourceId": 138986,
     "sourceType": "modelInstanceVersion"
    },
    {
     "modelId": 2800,
     "modelInstanceId": 115417,
     "sourceId": 138987,
     "sourceType": "modelInstanceVersion"
    },
    {
     "modelId": 2801,
     "modelInstanceId": 115420,
     "sourceId": 138991,
     "sourceType": "modelInstanceVersion"
    },
    {
     "modelId": 151069,
     "modelInstanceId": 128157,
     "sourceId": 206145,
     "sourceType": "modelInstanceVersion"
    },
    {
     "modelId": 2796,
     "modelInstanceId": 115426,
     "sourceId": 138994,
     "sourceType": "modelInstanceVersion"
    }
   ],
   "isGpuEnabled": true,
   "isInternetEnabled": false,
   "language": "python",
   "sourceType": "notebook"
  },
  "kernelspec": {
   "display_name": "Python 3",
   "language": "python",
   "name": "python3"
  },
  "language_info": {
   "codemirror_mode": {
    "name": "ipython",
    "version": 3
   },
   "file_extension": ".py",
   "mimetype": "text/x-python",
   "name": "python",
   "nbconvert_exporter": "python",
   "pygments_lexer": "ipython3",
   "version": "3.10.12"
  },
  "papermill": {
   "default_parameters": {},
   "duration": 1572.525296,
   "end_time": "2025-02-20T09:32:23.148082",
   "environment_variables": {},
   "exception": null,
   "input_path": "__notebook__.ipynb",
   "output_path": "__notebook__.ipynb",
   "parameters": {},
   "start_time": "2025-02-20T09:06:10.622786",
   "version": "2.6.0"
  },
  "widgets": {
   "application/vnd.jupyter.widget-state+json": {
    "state": {
     "0a279b1b7ddc48dbb771421dd28e475f": {
      "model_module": "@jupyter-widgets/base",
      "model_module_version": "2.0.0",
      "model_name": "LayoutModel",
      "state": {
       "_model_module": "@jupyter-widgets/base",
       "_model_module_version": "2.0.0",
       "_model_name": "LayoutModel",
       "_view_count": null,
       "_view_module": "@jupyter-widgets/base",
       "_view_module_version": "2.0.0",
       "_view_name": "LayoutView",
       "align_content": null,
       "align_items": null,
       "align_self": null,
       "border_bottom": null,
       "border_left": null,
       "border_right": null,
       "border_top": null,
       "bottom": null,
       "display": null,
       "flex": null,
       "flex_flow": null,
       "grid_area": null,
       "grid_auto_columns": null,
       "grid_auto_flow": null,
       "grid_auto_rows": null,
       "grid_column": null,
       "grid_gap": null,
       "grid_row": null,
       "grid_template_areas": null,
       "grid_template_columns": null,
       "grid_template_rows": null,
       "height": null,
       "justify_content": null,
       "justify_items": null,
       "left": null,
       "margin": null,
       "max_height": null,
       "max_width": null,
       "min_height": null,
       "min_width": null,
       "object_fit": null,
       "object_position": null,
       "order": null,
       "overflow": null,
       "padding": null,
       "right": null,
       "top": null,
       "visibility": null,
       "width": null
      }
     },
     "121d75fdb51b4e2cb43eb91e93608c44": {
      "model_module": "@jupyter-widgets/controls",
      "model_module_version": "2.0.0",
      "model_name": "HTMLModel",
      "state": {
       "_dom_classes": [],
       "_model_module": "@jupyter-widgets/controls",
       "_model_module_version": "2.0.0",
       "_model_name": "HTMLModel",
       "_view_count": null,
       "_view_module": "@jupyter-widgets/controls",
       "_view_module_version": "2.0.0",
       "_view_name": "HTMLView",
       "description": "",
       "description_allow_html": false,
       "layout": "IPY_MODEL_45034993a9a040ef8a658cd5fd841e62",
       "placeholder": "​",
       "style": "IPY_MODEL_3acaab5a98024d9abb3b5f27a93a4275",
       "tabbable": null,
       "tooltip": null,
       "value": "Loading testing images: 100%"
      }
     },
     "169b12706bca47ddb8fa47b040d2068a": {
      "model_module": "@jupyter-widgets/controls",
      "model_module_version": "2.0.0",
      "model_name": "HTMLStyleModel",
      "state": {
       "_model_module": "@jupyter-widgets/controls",
       "_model_module_version": "2.0.0",
       "_model_name": "HTMLStyleModel",
       "_view_count": null,
       "_view_module": "@jupyter-widgets/base",
       "_view_module_version": "2.0.0",
       "_view_name": "StyleView",
       "background": null,
       "description_width": "",
       "font_size": null,
       "text_color": null
      }
     },
     "2441b84f11ca4b65aca25057ffd6cb3a": {
      "model_module": "@jupyter-widgets/controls",
      "model_module_version": "2.0.0",
      "model_name": "ProgressStyleModel",
      "state": {
       "_model_module": "@jupyter-widgets/controls",
       "_model_module_version": "2.0.0",
       "_model_name": "ProgressStyleModel",
       "_view_count": null,
       "_view_module": "@jupyter-widgets/base",
       "_view_module_version": "2.0.0",
       "_view_name": "StyleView",
       "bar_color": null,
       "description_width": ""
      }
     },
     "2b755d8277f0486b8138addd2c54668e": {
      "model_module": "@jupyter-widgets/controls",
      "model_module_version": "2.0.0",
      "model_name": "HBoxModel",
      "state": {
       "_dom_classes": [],
       "_model_module": "@jupyter-widgets/controls",
       "_model_module_version": "2.0.0",
       "_model_name": "HBoxModel",
       "_view_count": null,
       "_view_module": "@jupyter-widgets/controls",
       "_view_module_version": "2.0.0",
       "_view_name": "HBoxView",
       "box_style": "",
       "children": [
        "IPY_MODEL_4d380f83cbb34928b45e2a0d2f4a4ba0",
        "IPY_MODEL_8c57674a55474e8196944117b2ec539d",
        "IPY_MODEL_e2bee6fff2e147e590a3e98ed140e0f8"
       ],
       "layout": "IPY_MODEL_566b72427eb0424381d51faf99d27fd7",
       "tabbable": null,
       "tooltip": null
      }
     },
     "3acaab5a98024d9abb3b5f27a93a4275": {
      "model_module": "@jupyter-widgets/controls",
      "model_module_version": "2.0.0",
      "model_name": "HTMLStyleModel",
      "state": {
       "_model_module": "@jupyter-widgets/controls",
       "_model_module_version": "2.0.0",
       "_model_name": "HTMLStyleModel",
       "_view_count": null,
       "_view_module": "@jupyter-widgets/base",
       "_view_module_version": "2.0.0",
       "_view_name": "StyleView",
       "background": null,
       "description_width": "",
       "font_size": null,
       "text_color": null
      }
     },
     "45034993a9a040ef8a658cd5fd841e62": {
      "model_module": "@jupyter-widgets/base",
      "model_module_version": "2.0.0",
      "model_name": "LayoutModel",
      "state": {
       "_model_module": "@jupyter-widgets/base",
       "_model_module_version": "2.0.0",
       "_model_name": "LayoutModel",
       "_view_count": null,
       "_view_module": "@jupyter-widgets/base",
       "_view_module_version": "2.0.0",
       "_view_name": "LayoutView",
       "align_content": null,
       "align_items": null,
       "align_self": null,
       "border_bottom": null,
       "border_left": null,
       "border_right": null,
       "border_top": null,
       "bottom": null,
       "display": null,
       "flex": null,
       "flex_flow": null,
       "grid_area": null,
       "grid_auto_columns": null,
       "grid_auto_flow": null,
       "grid_auto_rows": null,
       "grid_column": null,
       "grid_gap": null,
       "grid_row": null,
       "grid_template_areas": null,
       "grid_template_columns": null,
       "grid_template_rows": null,
       "height": null,
       "justify_content": null,
       "justify_items": null,
       "left": null,
       "margin": null,
       "max_height": null,
       "max_width": null,
       "min_height": null,
       "min_width": null,
       "object_fit": null,
       "object_position": null,
       "order": null,
       "overflow": null,
       "padding": null,
       "right": null,
       "top": null,
       "visibility": null,
       "width": null
      }
     },
     "4d380f83cbb34928b45e2a0d2f4a4ba0": {
      "model_module": "@jupyter-widgets/controls",
      "model_module_version": "2.0.0",
      "model_name": "HTMLModel",
      "state": {
       "_dom_classes": [],
       "_model_module": "@jupyter-widgets/controls",
       "_model_module_version": "2.0.0",
       "_model_name": "HTMLModel",
       "_view_count": null,
       "_view_module": "@jupyter-widgets/controls",
       "_view_module_version": "2.0.0",
       "_view_name": "HTMLView",
       "description": "",
       "description_allow_html": false,
       "layout": "IPY_MODEL_fd1ecd8c12a64f6fa7c65808b0adec40",
       "placeholder": "​",
       "style": "IPY_MODEL_a448bb7126c548428ab7fb5f62faf5b9",
       "tabbable": null,
       "tooltip": null,
       "value": "Loading training images: 100%"
      }
     },
     "4e5e6a6bb99a432eb34532f66abb315f": {
      "model_module": "@jupyter-widgets/controls",
      "model_module_version": "2.0.0",
      "model_name": "HTMLStyleModel",
      "state": {
       "_model_module": "@jupyter-widgets/controls",
       "_model_module_version": "2.0.0",
       "_model_name": "HTMLStyleModel",
       "_view_count": null,
       "_view_module": "@jupyter-widgets/base",
       "_view_module_version": "2.0.0",
       "_view_name": "StyleView",
       "background": null,
       "description_width": "",
       "font_size": null,
       "text_color": null
      }
     },
     "5069753f12354e18b630f7dcaf966f2f": {
      "model_module": "@jupyter-widgets/base",
      "model_module_version": "2.0.0",
      "model_name": "LayoutModel",
      "state": {
       "_model_module": "@jupyter-widgets/base",
       "_model_module_version": "2.0.0",
       "_model_name": "LayoutModel",
       "_view_count": null,
       "_view_module": "@jupyter-widgets/base",
       "_view_module_version": "2.0.0",
       "_view_name": "LayoutView",
       "align_content": null,
       "align_items": null,
       "align_self": null,
       "border_bottom": null,
       "border_left": null,
       "border_right": null,
       "border_top": null,
       "bottom": null,
       "display": null,
       "flex": null,
       "flex_flow": null,
       "grid_area": null,
       "grid_auto_columns": null,
       "grid_auto_flow": null,
       "grid_auto_rows": null,
       "grid_column": null,
       "grid_gap": null,
       "grid_row": null,
       "grid_template_areas": null,
       "grid_template_columns": null,
       "grid_template_rows": null,
       "height": null,
       "justify_content": null,
       "justify_items": null,
       "left": null,
       "margin": null,
       "max_height": null,
       "max_width": null,
       "min_height": null,
       "min_width": null,
       "object_fit": null,
       "object_position": null,
       "order": null,
       "overflow": null,
       "padding": null,
       "right": null,
       "top": null,
       "visibility": null,
       "width": null
      }
     },
     "566b72427eb0424381d51faf99d27fd7": {
      "model_module": "@jupyter-widgets/base",
      "model_module_version": "2.0.0",
      "model_name": "LayoutModel",
      "state": {
       "_model_module": "@jupyter-widgets/base",
       "_model_module_version": "2.0.0",
       "_model_name": "LayoutModel",
       "_view_count": null,
       "_view_module": "@jupyter-widgets/base",
       "_view_module_version": "2.0.0",
       "_view_name": "LayoutView",
       "align_content": null,
       "align_items": null,
       "align_self": null,
       "border_bottom": null,
       "border_left": null,
       "border_right": null,
       "border_top": null,
       "bottom": null,
       "display": null,
       "flex": null,
       "flex_flow": null,
       "grid_area": null,
       "grid_auto_columns": null,
       "grid_auto_flow": null,
       "grid_auto_rows": null,
       "grid_column": null,
       "grid_gap": null,
       "grid_row": null,
       "grid_template_areas": null,
       "grid_template_columns": null,
       "grid_template_rows": null,
       "height": null,
       "justify_content": null,
       "justify_items": null,
       "left": null,
       "margin": null,
       "max_height": null,
       "max_width": null,
       "min_height": null,
       "min_width": null,
       "object_fit": null,
       "object_position": null,
       "order": null,
       "overflow": null,
       "padding": null,
       "right": null,
       "top": null,
       "visibility": null,
       "width": null
      }
     },
     "59a54dbb35e945a59c7812aaf0540b74": {
      "model_module": "@jupyter-widgets/base",
      "model_module_version": "2.0.0",
      "model_name": "LayoutModel",
      "state": {
       "_model_module": "@jupyter-widgets/base",
       "_model_module_version": "2.0.0",
       "_model_name": "LayoutModel",
       "_view_count": null,
       "_view_module": "@jupyter-widgets/base",
       "_view_module_version": "2.0.0",
       "_view_name": "LayoutView",
       "align_content": null,
       "align_items": null,
       "align_self": null,
       "border_bottom": null,
       "border_left": null,
       "border_right": null,
       "border_top": null,
       "bottom": null,
       "display": null,
       "flex": null,
       "flex_flow": null,
       "grid_area": null,
       "grid_auto_columns": null,
       "grid_auto_flow": null,
       "grid_auto_rows": null,
       "grid_column": null,
       "grid_gap": null,
       "grid_row": null,
       "grid_template_areas": null,
       "grid_template_columns": null,
       "grid_template_rows": null,
       "height": null,
       "justify_content": null,
       "justify_items": null,
       "left": null,
       "margin": null,
       "max_height": null,
       "max_width": null,
       "min_height": null,
       "min_width": null,
       "object_fit": null,
       "object_position": null,
       "order": null,
       "overflow": null,
       "padding": null,
       "right": null,
       "top": null,
       "visibility": null,
       "width": null
      }
     },
     "6d55db6666f8412da46a9dadc8b8cf61": {
      "model_module": "@jupyter-widgets/base",
      "model_module_version": "2.0.0",
      "model_name": "LayoutModel",
      "state": {
       "_model_module": "@jupyter-widgets/base",
       "_model_module_version": "2.0.0",
       "_model_name": "LayoutModel",
       "_view_count": null,
       "_view_module": "@jupyter-widgets/base",
       "_view_module_version": "2.0.0",
       "_view_name": "LayoutView",
       "align_content": null,
       "align_items": null,
       "align_self": null,
       "border_bottom": null,
       "border_left": null,
       "border_right": null,
       "border_top": null,
       "bottom": null,
       "display": null,
       "flex": null,
       "flex_flow": null,
       "grid_area": null,
       "grid_auto_columns": null,
       "grid_auto_flow": null,
       "grid_auto_rows": null,
       "grid_column": null,
       "grid_gap": null,
       "grid_row": null,
       "grid_template_areas": null,
       "grid_template_columns": null,
       "grid_template_rows": null,
       "height": null,
       "justify_content": null,
       "justify_items": null,
       "left": null,
       "margin": null,
       "max_height": null,
       "max_width": null,
       "min_height": null,
       "min_width": null,
       "object_fit": null,
       "object_position": null,
       "order": null,
       "overflow": null,
       "padding": null,
       "right": null,
       "top": null,
       "visibility": null,
       "width": null
      }
     },
     "73927f7f02864e34a2ccb1a6b8315dba": {
      "model_module": "@jupyter-widgets/controls",
      "model_module_version": "2.0.0",
      "model_name": "FloatProgressModel",
      "state": {
       "_dom_classes": [],
       "_model_module": "@jupyter-widgets/controls",
       "_model_module_version": "2.0.0",
       "_model_name": "FloatProgressModel",
       "_view_count": null,
       "_view_module": "@jupyter-widgets/controls",
       "_view_module_version": "2.0.0",
       "_view_name": "ProgressView",
       "bar_style": "success",
       "description": "",
       "description_allow_html": false,
       "layout": "IPY_MODEL_0a279b1b7ddc48dbb771421dd28e475f",
       "max": 511.0,
       "min": 0.0,
       "orientation": "horizontal",
       "style": "IPY_MODEL_ead86b74991e4632aed43bea56b9d5c4",
       "tabbable": null,
       "tooltip": null,
       "value": 511.0
      }
     },
     "7a5d7e556dff40a8895905ad3bd2c7d3": {
      "model_module": "@jupyter-widgets/controls",
      "model_module_version": "2.0.0",
      "model_name": "HBoxModel",
      "state": {
       "_dom_classes": [],
       "_model_module": "@jupyter-widgets/controls",
       "_model_module_version": "2.0.0",
       "_model_name": "HBoxModel",
       "_view_count": null,
       "_view_module": "@jupyter-widgets/controls",
       "_view_module_version": "2.0.0",
       "_view_name": "HBoxView",
       "box_style": "",
       "children": [
        "IPY_MODEL_8b3323f581cf4600bea72e5b9f246d25",
        "IPY_MODEL_73927f7f02864e34a2ccb1a6b8315dba",
        "IPY_MODEL_83ecd98d3bd44a60abc2cf212d5ee00b"
       ],
       "layout": "IPY_MODEL_5069753f12354e18b630f7dcaf966f2f",
       "tabbable": null,
       "tooltip": null
      }
     },
     "82ec5b04a26f4ce6aae04aa5541a9ab2": {
      "model_module": "@jupyter-widgets/base",
      "model_module_version": "2.0.0",
      "model_name": "LayoutModel",
      "state": {
       "_model_module": "@jupyter-widgets/base",
       "_model_module_version": "2.0.0",
       "_model_name": "LayoutModel",
       "_view_count": null,
       "_view_module": "@jupyter-widgets/base",
       "_view_module_version": "2.0.0",
       "_view_name": "LayoutView",
       "align_content": null,
       "align_items": null,
       "align_self": null,
       "border_bottom": null,
       "border_left": null,
       "border_right": null,
       "border_top": null,
       "bottom": null,
       "display": null,
       "flex": null,
       "flex_flow": null,
       "grid_area": null,
       "grid_auto_columns": null,
       "grid_auto_flow": null,
       "grid_auto_rows": null,
       "grid_column": null,
       "grid_gap": null,
       "grid_row": null,
       "grid_template_areas": null,
       "grid_template_columns": null,
       "grid_template_rows": null,
       "height": null,
       "justify_content": null,
       "justify_items": null,
       "left": null,
       "margin": null,
       "max_height": null,
       "max_width": null,
       "min_height": null,
       "min_width": null,
       "object_fit": null,
       "object_position": null,
       "order": null,
       "overflow": null,
       "padding": null,
       "right": null,
       "top": null,
       "visibility": null,
       "width": null
      }
     },
     "83ecd98d3bd44a60abc2cf212d5ee00b": {
      "model_module": "@jupyter-widgets/controls",
      "model_module_version": "2.0.0",
      "model_name": "HTMLModel",
      "state": {
       "_dom_classes": [],
       "_model_module": "@jupyter-widgets/controls",
       "_model_module_version": "2.0.0",
       "_model_name": "HTMLModel",
       "_view_count": null,
       "_view_module": "@jupyter-widgets/controls",
       "_view_module_version": "2.0.0",
       "_view_name": "HTMLView",
       "description": "",
       "description_allow_html": false,
       "layout": "IPY_MODEL_82ec5b04a26f4ce6aae04aa5541a9ab2",
       "placeholder": "​",
       "style": "IPY_MODEL_a543c28ba5dc499aa2df46e43fb79a23",
       "tabbable": null,
       "tooltip": null,
       "value": " 511/511 [00:00&lt;00:00, 1361.86it/s]"
      }
     },
     "8a0e94aa05f84c56bcbd30175072d89e": {
      "model_module": "@jupyter-widgets/base",
      "model_module_version": "2.0.0",
      "model_name": "LayoutModel",
      "state": {
       "_model_module": "@jupyter-widgets/base",
       "_model_module_version": "2.0.0",
       "_model_name": "LayoutModel",
       "_view_count": null,
       "_view_module": "@jupyter-widgets/base",
       "_view_module_version": "2.0.0",
       "_view_name": "LayoutView",
       "align_content": null,
       "align_items": null,
       "align_self": null,
       "border_bottom": null,
       "border_left": null,
       "border_right": null,
       "border_top": null,
       "bottom": null,
       "display": null,
       "flex": null,
       "flex_flow": null,
       "grid_area": null,
       "grid_auto_columns": null,
       "grid_auto_flow": null,
       "grid_auto_rows": null,
       "grid_column": null,
       "grid_gap": null,
       "grid_row": null,
       "grid_template_areas": null,
       "grid_template_columns": null,
       "grid_template_rows": null,
       "height": null,
       "justify_content": null,
       "justify_items": null,
       "left": null,
       "margin": null,
       "max_height": null,
       "max_width": null,
       "min_height": null,
       "min_width": null,
       "object_fit": null,
       "object_position": null,
       "order": null,
       "overflow": null,
       "padding": null,
       "right": null,
       "top": null,
       "visibility": null,
       "width": null
      }
     },
     "8a132ba69282442c91330d359df87910": {
      "model_module": "@jupyter-widgets/base",
      "model_module_version": "2.0.0",
      "model_name": "LayoutModel",
      "state": {
       "_model_module": "@jupyter-widgets/base",
       "_model_module_version": "2.0.0",
       "_model_name": "LayoutModel",
       "_view_count": null,
       "_view_module": "@jupyter-widgets/base",
       "_view_module_version": "2.0.0",
       "_view_name": "LayoutView",
       "align_content": null,
       "align_items": null,
       "align_self": null,
       "border_bottom": null,
       "border_left": null,
       "border_right": null,
       "border_top": null,
       "bottom": null,
       "display": null,
       "flex": null,
       "flex_flow": null,
       "grid_area": null,
       "grid_auto_columns": null,
       "grid_auto_flow": null,
       "grid_auto_rows": null,
       "grid_column": null,
       "grid_gap": null,
       "grid_row": null,
       "grid_template_areas": null,
       "grid_template_columns": null,
       "grid_template_rows": null,
       "height": null,
       "justify_content": null,
       "justify_items": null,
       "left": null,
       "margin": null,
       "max_height": null,
       "max_width": null,
       "min_height": null,
       "min_width": null,
       "object_fit": null,
       "object_position": null,
       "order": null,
       "overflow": null,
       "padding": null,
       "right": null,
       "top": null,
       "visibility": null,
       "width": null
      }
     },
     "8b3323f581cf4600bea72e5b9f246d25": {
      "model_module": "@jupyter-widgets/controls",
      "model_module_version": "2.0.0",
      "model_name": "HTMLModel",
      "state": {
       "_dom_classes": [],
       "_model_module": "@jupyter-widgets/controls",
       "_model_module_version": "2.0.0",
       "_model_name": "HTMLModel",
       "_view_count": null,
       "_view_module": "@jupyter-widgets/controls",
       "_view_module_version": "2.0.0",
       "_view_name": "HTMLView",
       "description": "",
       "description_allow_html": false,
       "layout": "IPY_MODEL_8a0e94aa05f84c56bcbd30175072d89e",
       "placeholder": "​",
       "style": "IPY_MODEL_f909240ee70e42bc97eada14caccf35f",
       "tabbable": null,
       "tooltip": null,
       "value": "Loading training images: 100%"
      }
     },
     "8c57674a55474e8196944117b2ec539d": {
      "model_module": "@jupyter-widgets/controls",
      "model_module_version": "2.0.0",
      "model_name": "FloatProgressModel",
      "state": {
       "_dom_classes": [],
       "_model_module": "@jupyter-widgets/controls",
       "_model_module_version": "2.0.0",
       "_model_name": "FloatProgressModel",
       "_view_count": null,
       "_view_module": "@jupyter-widgets/controls",
       "_view_module_version": "2.0.0",
       "_view_name": "ProgressView",
       "bar_style": "success",
       "description": "",
       "description_allow_html": false,
       "layout": "IPY_MODEL_59a54dbb35e945a59c7812aaf0540b74",
       "max": 4598.0,
       "min": 0.0,
       "orientation": "horizontal",
       "style": "IPY_MODEL_2441b84f11ca4b65aca25057ffd6cb3a",
       "tabbable": null,
       "tooltip": null,
       "value": 4598.0
      }
     },
     "a448bb7126c548428ab7fb5f62faf5b9": {
      "model_module": "@jupyter-widgets/controls",
      "model_module_version": "2.0.0",
      "model_name": "HTMLStyleModel",
      "state": {
       "_model_module": "@jupyter-widgets/controls",
       "_model_module_version": "2.0.0",
       "_model_name": "HTMLStyleModel",
       "_view_count": null,
       "_view_module": "@jupyter-widgets/base",
       "_view_module_version": "2.0.0",
       "_view_name": "StyleView",
       "background": null,
       "description_width": "",
       "font_size": null,
       "text_color": null
      }
     },
     "a543c28ba5dc499aa2df46e43fb79a23": {
      "model_module": "@jupyter-widgets/controls",
      "model_module_version": "2.0.0",
      "model_name": "HTMLStyleModel",
      "state": {
       "_model_module": "@jupyter-widgets/controls",
       "_model_module_version": "2.0.0",
       "_model_name": "HTMLStyleModel",
       "_view_count": null,
       "_view_module": "@jupyter-widgets/base",
       "_view_module_version": "2.0.0",
       "_view_name": "StyleView",
       "background": null,
       "description_width": "",
       "font_size": null,
       "text_color": null
      }
     },
     "a634646e27bb40ecb25572aeca41ff46": {
      "model_module": "@jupyter-widgets/base",
      "model_module_version": "2.0.0",
      "model_name": "LayoutModel",
      "state": {
       "_model_module": "@jupyter-widgets/base",
       "_model_module_version": "2.0.0",
       "_model_name": "LayoutModel",
       "_view_count": null,
       "_view_module": "@jupyter-widgets/base",
       "_view_module_version": "2.0.0",
       "_view_name": "LayoutView",
       "align_content": null,
       "align_items": null,
       "align_self": null,
       "border_bottom": null,
       "border_left": null,
       "border_right": null,
       "border_top": null,
       "bottom": null,
       "display": null,
       "flex": null,
       "flex_flow": null,
       "grid_area": null,
       "grid_auto_columns": null,
       "grid_auto_flow": null,
       "grid_auto_rows": null,
       "grid_column": null,
       "grid_gap": null,
       "grid_row": null,
       "grid_template_areas": null,
       "grid_template_columns": null,
       "grid_template_rows": null,
       "height": null,
       "justify_content": null,
       "justify_items": null,
       "left": null,
       "margin": null,
       "max_height": null,
       "max_width": null,
       "min_height": null,
       "min_width": null,
       "object_fit": null,
       "object_position": null,
       "order": null,
       "overflow": null,
       "padding": null,
       "right": null,
       "top": null,
       "visibility": null,
       "width": null
      }
     },
     "b316bffc086d4236b43260717cbbda14": {
      "model_module": "@jupyter-widgets/base",
      "model_module_version": "2.0.0",
      "model_name": "LayoutModel",
      "state": {
       "_model_module": "@jupyter-widgets/base",
       "_model_module_version": "2.0.0",
       "_model_name": "LayoutModel",
       "_view_count": null,
       "_view_module": "@jupyter-widgets/base",
       "_view_module_version": "2.0.0",
       "_view_name": "LayoutView",
       "align_content": null,
       "align_items": null,
       "align_self": null,
       "border_bottom": null,
       "border_left": null,
       "border_right": null,
       "border_top": null,
       "bottom": null,
       "display": null,
       "flex": null,
       "flex_flow": null,
       "grid_area": null,
       "grid_auto_columns": null,
       "grid_auto_flow": null,
       "grid_auto_rows": null,
       "grid_column": null,
       "grid_gap": null,
       "grid_row": null,
       "grid_template_areas": null,
       "grid_template_columns": null,
       "grid_template_rows": null,
       "height": null,
       "justify_content": null,
       "justify_items": null,
       "left": null,
       "margin": null,
       "max_height": null,
       "max_width": null,
       "min_height": null,
       "min_width": null,
       "object_fit": null,
       "object_position": null,
       "order": null,
       "overflow": null,
       "padding": null,
       "right": null,
       "top": null,
       "visibility": null,
       "width": null
      }
     },
     "b3d10a40da5c4866bcc14bd6d8c13303": {
      "model_module": "@jupyter-widgets/controls",
      "model_module_version": "2.0.0",
      "model_name": "HTMLModel",
      "state": {
       "_dom_classes": [],
       "_model_module": "@jupyter-widgets/controls",
       "_model_module_version": "2.0.0",
       "_model_name": "HTMLModel",
       "_view_count": null,
       "_view_module": "@jupyter-widgets/controls",
       "_view_module_version": "2.0.0",
       "_view_name": "HTMLView",
       "description": "",
       "description_allow_html": false,
       "layout": "IPY_MODEL_6d55db6666f8412da46a9dadc8b8cf61",
       "placeholder": "​",
       "style": "IPY_MODEL_169b12706bca47ddb8fa47b040d2068a",
       "tabbable": null,
       "tooltip": null,
       "value": " 3/3 [00:00&lt;00:00, 108.01it/s]"
      }
     },
     "cb7bdb51cbb444aa927e146d1ec35ea3": {
      "model_module": "@jupyter-widgets/controls",
      "model_module_version": "2.0.0",
      "model_name": "HBoxModel",
      "state": {
       "_dom_classes": [],
       "_model_module": "@jupyter-widgets/controls",
       "_model_module_version": "2.0.0",
       "_model_name": "HBoxModel",
       "_view_count": null,
       "_view_module": "@jupyter-widgets/controls",
       "_view_module_version": "2.0.0",
       "_view_name": "HBoxView",
       "box_style": "",
       "children": [
        "IPY_MODEL_121d75fdb51b4e2cb43eb91e93608c44",
        "IPY_MODEL_e75ddd4caa2c423981d4a9032565c684",
        "IPY_MODEL_b3d10a40da5c4866bcc14bd6d8c13303"
       ],
       "layout": "IPY_MODEL_8a132ba69282442c91330d359df87910",
       "tabbable": null,
       "tooltip": null
      }
     },
     "e2bee6fff2e147e590a3e98ed140e0f8": {
      "model_module": "@jupyter-widgets/controls",
      "model_module_version": "2.0.0",
      "model_name": "HTMLModel",
      "state": {
       "_dom_classes": [],
       "_model_module": "@jupyter-widgets/controls",
       "_model_module_version": "2.0.0",
       "_model_name": "HTMLModel",
       "_view_count": null,
       "_view_module": "@jupyter-widgets/controls",
       "_view_module_version": "2.0.0",
       "_view_name": "HTMLView",
       "description": "",
       "description_allow_html": false,
       "layout": "IPY_MODEL_a634646e27bb40ecb25572aeca41ff46",
       "placeholder": "​",
       "style": "IPY_MODEL_4e5e6a6bb99a432eb34532f66abb315f",
       "tabbable": null,
       "tooltip": null,
       "value": " 4598/4598 [00:04&lt;00:00, 1338.43it/s]"
      }
     },
     "e553031c16a0401b90112b747b9865d8": {
      "model_module": "@jupyter-widgets/controls",
      "model_module_version": "2.0.0",
      "model_name": "ProgressStyleModel",
      "state": {
       "_model_module": "@jupyter-widgets/controls",
       "_model_module_version": "2.0.0",
       "_model_name": "ProgressStyleModel",
       "_view_count": null,
       "_view_module": "@jupyter-widgets/base",
       "_view_module_version": "2.0.0",
       "_view_name": "StyleView",
       "bar_color": null,
       "description_width": ""
      }
     },
     "e75ddd4caa2c423981d4a9032565c684": {
      "model_module": "@jupyter-widgets/controls",
      "model_module_version": "2.0.0",
      "model_name": "FloatProgressModel",
      "state": {
       "_dom_classes": [],
       "_model_module": "@jupyter-widgets/controls",
       "_model_module_version": "2.0.0",
       "_model_name": "FloatProgressModel",
       "_view_count": null,
       "_view_module": "@jupyter-widgets/controls",
       "_view_module_version": "2.0.0",
       "_view_name": "ProgressView",
       "bar_style": "success",
       "description": "",
       "description_allow_html": false,
       "layout": "IPY_MODEL_b316bffc086d4236b43260717cbbda14",
       "max": 3.0,
       "min": 0.0,
       "orientation": "horizontal",
       "style": "IPY_MODEL_e553031c16a0401b90112b747b9865d8",
       "tabbable": null,
       "tooltip": null,
       "value": 3.0
      }
     },
     "ead86b74991e4632aed43bea56b9d5c4": {
      "model_module": "@jupyter-widgets/controls",
      "model_module_version": "2.0.0",
      "model_name": "ProgressStyleModel",
      "state": {
       "_model_module": "@jupyter-widgets/controls",
       "_model_module_version": "2.0.0",
       "_model_name": "ProgressStyleModel",
       "_view_count": null,
       "_view_module": "@jupyter-widgets/base",
       "_view_module_version": "2.0.0",
       "_view_name": "StyleView",
       "bar_color": null,
       "description_width": ""
      }
     },
     "f909240ee70e42bc97eada14caccf35f": {
      "model_module": "@jupyter-widgets/controls",
      "model_module_version": "2.0.0",
      "model_name": "HTMLStyleModel",
      "state": {
       "_model_module": "@jupyter-widgets/controls",
       "_model_module_version": "2.0.0",
       "_model_name": "HTMLStyleModel",
       "_view_count": null,
       "_view_module": "@jupyter-widgets/base",
       "_view_module_version": "2.0.0",
       "_view_name": "StyleView",
       "background": null,
       "description_width": "",
       "font_size": null,
       "text_color": null
      }
     },
     "fd1ecd8c12a64f6fa7c65808b0adec40": {
      "model_module": "@jupyter-widgets/base",
      "model_module_version": "2.0.0",
      "model_name": "LayoutModel",
      "state": {
       "_model_module": "@jupyter-widgets/base",
       "_model_module_version": "2.0.0",
       "_model_name": "LayoutModel",
       "_view_count": null,
       "_view_module": "@jupyter-widgets/base",
       "_view_module_version": "2.0.0",
       "_view_name": "LayoutView",
       "align_content": null,
       "align_items": null,
       "align_self": null,
       "border_bottom": null,
       "border_left": null,
       "border_right": null,
       "border_top": null,
       "bottom": null,
       "display": null,
       "flex": null,
       "flex_flow": null,
       "grid_area": null,
       "grid_auto_columns": null,
       "grid_auto_flow": null,
       "grid_auto_rows": null,
       "grid_column": null,
       "grid_gap": null,
       "grid_row": null,
       "grid_template_areas": null,
       "grid_template_columns": null,
       "grid_template_rows": null,
       "height": null,
       "justify_content": null,
       "justify_items": null,
       "left": null,
       "margin": null,
       "max_height": null,
       "max_width": null,
       "min_height": null,
       "min_width": null,
       "object_fit": null,
       "object_position": null,
       "order": null,
       "overflow": null,
       "padding": null,
       "right": null,
       "top": null,
       "visibility": null,
       "width": null
      }
     }
    },
    "version_major": 2,
    "version_minor": 0
   }
  }
 },
 "nbformat": 4,
 "nbformat_minor": 5
}

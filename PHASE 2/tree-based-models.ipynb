{
 "cells": [
  {
   "cell_type": "code",
   "execution_count": 1,
   "id": "eac55f89",
   "metadata": {
    "_cell_guid": "b1076dfc-b9ad-4769-8c92-a6c4dae69d19",
    "_uuid": "8f2839f25d086af736a60e9eeb907d3b93b6e0e5",
    "execution": {
     "iopub.execute_input": "2025-03-26T08:28:57.600756Z",
     "iopub.status.busy": "2025-03-26T08:28:57.600421Z",
     "iopub.status.idle": "2025-03-26T08:28:58.535924Z",
     "shell.execute_reply": "2025-03-26T08:28:58.534757Z"
    },
    "papermill": {
     "duration": 0.948407,
     "end_time": "2025-03-26T08:28:58.537598",
     "exception": false,
     "start_time": "2025-03-26T08:28:57.589191",
     "status": "completed"
    },
    "tags": []
   },
   "outputs": [
    {
     "name": "stdout",
     "output_type": "stream",
     "text": [
      "sample_submission.csv\n",
      "train-metadata.csv\n",
      "test-metadata.csv\n",
      "test-image.hdf5\n",
      "train-image\n",
      "train-image.hdf5\n"
     ]
    }
   ],
   "source": [
    "# This Python 3 environment comes with many helpful analytics libraries installed\n",
    "# It is defined by the kaggle/python Docker image: https://github.com/kaggle/docker-python\n",
    "# For example, here's several helpful packages to load\n",
    "\n",
    "import numpy as np # linear algebra\n",
    "import pandas as pd # data processing, CSV file I/O (e.g. pd.read_csv)\n",
    "\n",
    "# Input data files are available in the read-only \"../input/\" directory\n",
    "# For example, running this (by clicking run or pressing Shift+Enter) will list all files under the input directory\n",
    "\n",
    "import os\n",
    "current_dir = \"/kaggle/input/isic-2024-challenge\"\n",
    "\n",
    "# List all files in the current directory (excluding subdirectories)\n",
    "files_in_dir = [f for f in os.listdir(current_dir)]\n",
    "for file in files_in_dir:\n",
    "    print(file)\n",
    "\n",
    "    \n",
    "# You can write up to 20GB to the current directory (/kaggle/working/) that gets preserved as output when you create a version using \"Save & Run All\" \n",
    "# You can also write temporary files to /kaggle/temp/, but they won't be saved outside of the current session"
   ]
  },
  {
   "cell_type": "markdown",
   "id": "55be21a3",
   "metadata": {
    "papermill": {
     "duration": 0.008851,
     "end_time": "2025-03-26T08:28:58.555888",
     "exception": false,
     "start_time": "2025-03-26T08:28:58.547037",
     "status": "completed"
    },
    "tags": []
   },
   "source": [
    "## Libraries and dependencies"
   ]
  },
  {
   "cell_type": "code",
   "execution_count": 2,
   "id": "15bdefab",
   "metadata": {
    "execution": {
     "iopub.execute_input": "2025-03-26T08:28:58.575347Z",
     "iopub.status.busy": "2025-03-26T08:28:58.574840Z",
     "iopub.status.idle": "2025-03-26T08:29:05.135261Z",
     "shell.execute_reply": "2025-03-26T08:29:05.133925Z"
    },
    "papermill": {
     "duration": 6.572431,
     "end_time": "2025-03-26T08:29:05.137292",
     "exception": false,
     "start_time": "2025-03-26T08:28:58.564861",
     "status": "completed"
    },
    "tags": []
   },
   "outputs": [],
   "source": [
    "import numpy as np \n",
    "import pandas as pd \n",
    "import os \n",
    "import h5py\n",
    "import cv2\n",
    "import matplotlib.pyplot as plt\n",
    "from google.colab.patches import cv2_imshow\n",
    "from IPython.display import display, Javascript\n",
    "import plotly.express as px\n",
    "from sklearn.model_selection import train_test_split,cross_val_score\n",
    "from sklearn.compose import ColumnTransformer\n",
    "from sklearn.pipeline import Pipeline\n",
    "from sklearn.experimental import enable_iterative_imputer\n",
    "from sklearn.impute import IterativeImputer,KNNImputer\n",
    "from sklearn.preprocessing import MinMaxScaler, OneHotEncoder, FunctionTransformer\n",
    "from sklearn.feature_extraction import FeatureHasher\n",
    "from sklearn.ensemble import RandomForestClassifier, RandomForestRegressor\n",
    "from sklearn.metrics import accuracy_score, mean_squared_error\n",
    "from sklearn.metrics import roc_curve, auc\n",
    "from sklearn.preprocessing import LabelEncoder,MinMaxScaler\n",
    "from sklearn.linear_model import LogisticRegression, LinearRegression,SGDClassifier,BayesianRidge\n",
    "from sklearn.utils import resample\n",
    "from sklearn.impute import SimpleImputer\n",
    "from sklearn.preprocessing import OneHotEncoder, StandardScaler\n",
    "from sklearn.compose import ColumnTransformer\n",
    "from sklearn.pipeline import Pipeline\n",
    "from imblearn.combine import *\n",
    "from imblearn.under_sampling import *\n",
    "from imblearn.over_sampling import *\n",
    "from imblearn.pipeline import Pipeline\n",
    "import plotly.graph_objects as go\n",
    "from plotly.subplots import make_subplots\n",
    "import xgboost as xgb\n",
    "from sklearn.model_selection import cross_val_score\n",
    "from sklearn.metrics import roc_auc_score\n",
    "import lightgbm as lgb\n",
    "import catboost as cb\n",
    "from sklearn.ensemble import VotingClassifier,StackingClassifier"
   ]
  },
  {
   "cell_type": "code",
   "execution_count": 3,
   "id": "855e8339",
   "metadata": {
    "execution": {
     "iopub.execute_input": "2025-03-26T08:29:05.157452Z",
     "iopub.status.busy": "2025-03-26T08:29:05.156708Z",
     "iopub.status.idle": "2025-03-26T08:29:15.066849Z",
     "shell.execute_reply": "2025-03-26T08:29:15.065599Z"
    },
    "papermill": {
     "duration": 9.921944,
     "end_time": "2025-03-26T08:29:15.068687",
     "exception": false,
     "start_time": "2025-03-26T08:29:05.146743",
     "status": "completed"
    },
    "tags": []
   },
   "outputs": [
    {
     "name": "stdout",
     "output_type": "stream",
     "text": [
      "3.4.1\n"
     ]
    }
   ],
   "source": [
    "# Deep learning keras libraries\n",
    "import keras\n",
    "print(keras.__version__)\n",
    "import tensorflow as tf"
   ]
  },
  {
   "cell_type": "markdown",
   "id": "b08545f3",
   "metadata": {
    "execution": {
     "iopub.execute_input": "2025-01-05T09:46:53.328913Z",
     "iopub.status.busy": "2025-01-05T09:46:53.328514Z",
     "iopub.status.idle": "2025-01-05T09:46:53.343640Z",
     "shell.execute_reply": "2025-01-05T09:46:53.341650Z",
     "shell.execute_reply.started": "2025-01-05T09:46:53.328878Z"
    },
    "papermill": {
     "duration": 0.009026,
     "end_time": "2025-03-26T08:29:15.087273",
     "exception": false,
     "start_time": "2025-03-26T08:29:15.078247",
     "status": "completed"
    },
    "tags": []
   },
   "source": [
    "## Data loading\n"
   ]
  },
  {
   "cell_type": "code",
   "execution_count": 4,
   "id": "92cc69f9",
   "metadata": {
    "execution": {
     "iopub.execute_input": "2025-03-26T08:29:15.107796Z",
     "iopub.status.busy": "2025-03-26T08:29:15.107048Z",
     "iopub.status.idle": "2025-03-26T08:29:15.152347Z",
     "shell.execute_reply": "2025-03-26T08:29:15.151348Z"
    },
    "papermill": {
     "duration": 0.057248,
     "end_time": "2025-03-26T08:29:15.154187",
     "exception": false,
     "start_time": "2025-03-26T08:29:15.096939",
     "status": "completed"
    },
    "tags": []
   },
   "outputs": [
    {
     "name": "stdout",
     "output_type": "stream",
     "text": [
      "<class 'pandas.core.frame.DataFrame'>\n",
      "RangeIndex: 3 entries, 0 to 2\n",
      "Data columns (total 2 columns):\n",
      " #   Column   Non-Null Count  Dtype  \n",
      "---  ------   --------------  -----  \n",
      " 0   isic_id  3 non-null      object \n",
      " 1   target   3 non-null      float64\n",
      "dtypes: float64(1), object(1)\n",
      "memory usage: 176.0+ bytes\n"
     ]
    }
   ],
   "source": [
    "current_dir = \"/kaggle/input/isic-2024-challenge\"\n",
    "sample_submission = pd.read_csv(os.path.join(current_dir,'sample_submission.csv'))\n",
    "sample_submission.info()"
   ]
  },
  {
   "cell_type": "code",
   "execution_count": 5,
   "id": "a75fcaad",
   "metadata": {
    "execution": {
     "iopub.execute_input": "2025-03-26T08:29:15.174423Z",
     "iopub.status.busy": "2025-03-26T08:29:15.174049Z",
     "iopub.status.idle": "2025-03-26T08:29:15.188934Z",
     "shell.execute_reply": "2025-03-26T08:29:15.187905Z"
    },
    "papermill": {
     "duration": 0.026943,
     "end_time": "2025-03-26T08:29:15.190659",
     "exception": false,
     "start_time": "2025-03-26T08:29:15.163716",
     "status": "completed"
    },
    "tags": []
   },
   "outputs": [
    {
     "data": {
      "text/html": [
       "<div>\n",
       "<style scoped>\n",
       "    .dataframe tbody tr th:only-of-type {\n",
       "        vertical-align: middle;\n",
       "    }\n",
       "\n",
       "    .dataframe tbody tr th {\n",
       "        vertical-align: top;\n",
       "    }\n",
       "\n",
       "    .dataframe thead th {\n",
       "        text-align: right;\n",
       "    }\n",
       "</style>\n",
       "<table border=\"1\" class=\"dataframe\">\n",
       "  <thead>\n",
       "    <tr style=\"text-align: right;\">\n",
       "      <th></th>\n",
       "      <th>isic_id</th>\n",
       "      <th>target</th>\n",
       "    </tr>\n",
       "  </thead>\n",
       "  <tbody>\n",
       "    <tr>\n",
       "      <th>0</th>\n",
       "      <td>ISIC_0015657</td>\n",
       "      <td>0.3</td>\n",
       "    </tr>\n",
       "    <tr>\n",
       "      <th>1</th>\n",
       "      <td>ISIC_0015729</td>\n",
       "      <td>0.3</td>\n",
       "    </tr>\n",
       "    <tr>\n",
       "      <th>2</th>\n",
       "      <td>ISIC_0015740</td>\n",
       "      <td>0.3</td>\n",
       "    </tr>\n",
       "  </tbody>\n",
       "</table>\n",
       "</div>"
      ],
      "text/plain": [
       "        isic_id  target\n",
       "0  ISIC_0015657     0.3\n",
       "1  ISIC_0015729     0.3\n",
       "2  ISIC_0015740     0.3"
      ]
     },
     "execution_count": 5,
     "metadata": {},
     "output_type": "execute_result"
    }
   ],
   "source": [
    "sample_submission.head()"
   ]
  },
  {
   "cell_type": "code",
   "execution_count": 6,
   "id": "9391e2ee",
   "metadata": {
    "execution": {
     "iopub.execute_input": "2025-03-26T08:29:15.211267Z",
     "iopub.status.busy": "2025-03-26T08:29:15.210878Z",
     "iopub.status.idle": "2025-03-26T08:29:23.957205Z",
     "shell.execute_reply": "2025-03-26T08:29:23.956132Z"
    },
    "papermill": {
     "duration": 8.759201,
     "end_time": "2025-03-26T08:29:23.959673",
     "exception": false,
     "start_time": "2025-03-26T08:29:15.200472",
     "status": "completed"
    },
    "tags": []
   },
   "outputs": [
    {
     "name": "stdout",
     "output_type": "stream",
     "text": [
      "<class 'pandas.core.frame.DataFrame'>\n",
      "RangeIndex: 401059 entries, 0 to 401058\n",
      "Data columns (total 55 columns):\n",
      " #   Column                        Non-Null Count   Dtype  \n",
      "---  ------                        --------------   -----  \n",
      " 0   isic_id                       401059 non-null  object \n",
      " 1   target                        401059 non-null  int64  \n",
      " 2   patient_id                    401059 non-null  object \n",
      " 3   age_approx                    398261 non-null  float64\n",
      " 4   sex                           389542 non-null  object \n",
      " 5   anatom_site_general           395303 non-null  object \n",
      " 6   clin_size_long_diam_mm        401059 non-null  float64\n",
      " 7   image_type                    401059 non-null  object \n",
      " 8   tbp_tile_type                 401059 non-null  object \n",
      " 9   tbp_lv_A                      401059 non-null  float64\n",
      " 10  tbp_lv_Aext                   401059 non-null  float64\n",
      " 11  tbp_lv_B                      401059 non-null  float64\n",
      " 12  tbp_lv_Bext                   401059 non-null  float64\n",
      " 13  tbp_lv_C                      401059 non-null  float64\n",
      " 14  tbp_lv_Cext                   401059 non-null  float64\n",
      " 15  tbp_lv_H                      401059 non-null  float64\n",
      " 16  tbp_lv_Hext                   401059 non-null  float64\n",
      " 17  tbp_lv_L                      401059 non-null  float64\n",
      " 18  tbp_lv_Lext                   401059 non-null  float64\n",
      " 19  tbp_lv_areaMM2                401059 non-null  float64\n",
      " 20  tbp_lv_area_perim_ratio       401059 non-null  float64\n",
      " 21  tbp_lv_color_std_mean         401059 non-null  float64\n",
      " 22  tbp_lv_deltaA                 401059 non-null  float64\n",
      " 23  tbp_lv_deltaB                 401059 non-null  float64\n",
      " 24  tbp_lv_deltaL                 401059 non-null  float64\n",
      " 25  tbp_lv_deltaLB                401059 non-null  float64\n",
      " 26  tbp_lv_deltaLBnorm            401059 non-null  float64\n",
      " 27  tbp_lv_eccentricity           401059 non-null  float64\n",
      " 28  tbp_lv_location               401059 non-null  object \n",
      " 29  tbp_lv_location_simple        401059 non-null  object \n",
      " 30  tbp_lv_minorAxisMM            401059 non-null  float64\n",
      " 31  tbp_lv_nevi_confidence        401059 non-null  float64\n",
      " 32  tbp_lv_norm_border            401059 non-null  float64\n",
      " 33  tbp_lv_norm_color             401059 non-null  float64\n",
      " 34  tbp_lv_perimeterMM            401059 non-null  float64\n",
      " 35  tbp_lv_radial_color_std_max   401059 non-null  float64\n",
      " 36  tbp_lv_stdL                   401059 non-null  float64\n",
      " 37  tbp_lv_stdLExt                401059 non-null  float64\n",
      " 38  tbp_lv_symm_2axis             401059 non-null  float64\n",
      " 39  tbp_lv_symm_2axis_angle       401059 non-null  int64  \n",
      " 40  tbp_lv_x                      401059 non-null  float64\n",
      " 41  tbp_lv_y                      401059 non-null  float64\n",
      " 42  tbp_lv_z                      401059 non-null  float64\n",
      " 43  attribution                   401059 non-null  object \n",
      " 44  copyright_license             401059 non-null  object \n",
      " 45  lesion_id                     22058 non-null   object \n",
      " 46  iddx_full                     401059 non-null  object \n",
      " 47  iddx_1                        401059 non-null  object \n",
      " 48  iddx_2                        1068 non-null    object \n",
      " 49  iddx_3                        1065 non-null    object \n",
      " 50  iddx_4                        551 non-null     object \n",
      " 51  iddx_5                        1 non-null       object \n",
      " 52  mel_mitotic_index             53 non-null      object \n",
      " 53  mel_thick_mm                  63 non-null      float64\n",
      " 54  tbp_lv_dnn_lesion_confidence  401059 non-null  float64\n",
      "dtypes: float64(35), int64(2), object(18)\n",
      "memory usage: 168.3+ MB\n"
     ]
    }
   ],
   "source": [
    "train_metadata = pd.read_csv(os.path.join(current_dir,'train-metadata.csv'),low_memory=False)\n",
    "train_metadata.info()"
   ]
  },
  {
   "cell_type": "code",
   "execution_count": 7,
   "id": "70033d3d",
   "metadata": {
    "execution": {
     "iopub.execute_input": "2025-03-26T08:29:23.990921Z",
     "iopub.status.busy": "2025-03-26T08:29:23.990476Z",
     "iopub.status.idle": "2025-03-26T08:29:24.015651Z",
     "shell.execute_reply": "2025-03-26T08:29:24.014465Z"
    },
    "papermill": {
     "duration": 0.038186,
     "end_time": "2025-03-26T08:29:24.017449",
     "exception": false,
     "start_time": "2025-03-26T08:29:23.979263",
     "status": "completed"
    },
    "tags": []
   },
   "outputs": [
    {
     "data": {
      "text/html": [
       "<div>\n",
       "<style scoped>\n",
       "    .dataframe tbody tr th:only-of-type {\n",
       "        vertical-align: middle;\n",
       "    }\n",
       "\n",
       "    .dataframe tbody tr th {\n",
       "        vertical-align: top;\n",
       "    }\n",
       "\n",
       "    .dataframe thead th {\n",
       "        text-align: right;\n",
       "    }\n",
       "</style>\n",
       "<table border=\"1\" class=\"dataframe\">\n",
       "  <thead>\n",
       "    <tr style=\"text-align: right;\">\n",
       "      <th></th>\n",
       "      <th>isic_id</th>\n",
       "      <th>target</th>\n",
       "      <th>patient_id</th>\n",
       "      <th>age_approx</th>\n",
       "      <th>sex</th>\n",
       "      <th>anatom_site_general</th>\n",
       "      <th>clin_size_long_diam_mm</th>\n",
       "      <th>image_type</th>\n",
       "      <th>tbp_tile_type</th>\n",
       "      <th>tbp_lv_A</th>\n",
       "      <th>...</th>\n",
       "      <th>lesion_id</th>\n",
       "      <th>iddx_full</th>\n",
       "      <th>iddx_1</th>\n",
       "      <th>iddx_2</th>\n",
       "      <th>iddx_3</th>\n",
       "      <th>iddx_4</th>\n",
       "      <th>iddx_5</th>\n",
       "      <th>mel_mitotic_index</th>\n",
       "      <th>mel_thick_mm</th>\n",
       "      <th>tbp_lv_dnn_lesion_confidence</th>\n",
       "    </tr>\n",
       "  </thead>\n",
       "  <tbody>\n",
       "    <tr>\n",
       "      <th>0</th>\n",
       "      <td>ISIC_0015670</td>\n",
       "      <td>0</td>\n",
       "      <td>IP_1235828</td>\n",
       "      <td>60.0</td>\n",
       "      <td>male</td>\n",
       "      <td>lower extremity</td>\n",
       "      <td>3.04</td>\n",
       "      <td>TBP tile: close-up</td>\n",
       "      <td>3D: white</td>\n",
       "      <td>20.244422</td>\n",
       "      <td>...</td>\n",
       "      <td>NaN</td>\n",
       "      <td>Benign</td>\n",
       "      <td>Benign</td>\n",
       "      <td>NaN</td>\n",
       "      <td>NaN</td>\n",
       "      <td>NaN</td>\n",
       "      <td>NaN</td>\n",
       "      <td>NaN</td>\n",
       "      <td>NaN</td>\n",
       "      <td>97.517282</td>\n",
       "    </tr>\n",
       "    <tr>\n",
       "      <th>1</th>\n",
       "      <td>ISIC_0015845</td>\n",
       "      <td>0</td>\n",
       "      <td>IP_8170065</td>\n",
       "      <td>60.0</td>\n",
       "      <td>male</td>\n",
       "      <td>head/neck</td>\n",
       "      <td>1.10</td>\n",
       "      <td>TBP tile: close-up</td>\n",
       "      <td>3D: white</td>\n",
       "      <td>31.712570</td>\n",
       "      <td>...</td>\n",
       "      <td>IL_6727506</td>\n",
       "      <td>Benign</td>\n",
       "      <td>Benign</td>\n",
       "      <td>NaN</td>\n",
       "      <td>NaN</td>\n",
       "      <td>NaN</td>\n",
       "      <td>NaN</td>\n",
       "      <td>NaN</td>\n",
       "      <td>NaN</td>\n",
       "      <td>3.141455</td>\n",
       "    </tr>\n",
       "    <tr>\n",
       "      <th>2</th>\n",
       "      <td>ISIC_0015864</td>\n",
       "      <td>0</td>\n",
       "      <td>IP_6724798</td>\n",
       "      <td>60.0</td>\n",
       "      <td>male</td>\n",
       "      <td>posterior torso</td>\n",
       "      <td>3.40</td>\n",
       "      <td>TBP tile: close-up</td>\n",
       "      <td>3D: XP</td>\n",
       "      <td>22.575830</td>\n",
       "      <td>...</td>\n",
       "      <td>NaN</td>\n",
       "      <td>Benign</td>\n",
       "      <td>Benign</td>\n",
       "      <td>NaN</td>\n",
       "      <td>NaN</td>\n",
       "      <td>NaN</td>\n",
       "      <td>NaN</td>\n",
       "      <td>NaN</td>\n",
       "      <td>NaN</td>\n",
       "      <td>99.804040</td>\n",
       "    </tr>\n",
       "    <tr>\n",
       "      <th>3</th>\n",
       "      <td>ISIC_0015902</td>\n",
       "      <td>0</td>\n",
       "      <td>IP_4111386</td>\n",
       "      <td>65.0</td>\n",
       "      <td>male</td>\n",
       "      <td>anterior torso</td>\n",
       "      <td>3.22</td>\n",
       "      <td>TBP tile: close-up</td>\n",
       "      <td>3D: XP</td>\n",
       "      <td>14.242329</td>\n",
       "      <td>...</td>\n",
       "      <td>NaN</td>\n",
       "      <td>Benign</td>\n",
       "      <td>Benign</td>\n",
       "      <td>NaN</td>\n",
       "      <td>NaN</td>\n",
       "      <td>NaN</td>\n",
       "      <td>NaN</td>\n",
       "      <td>NaN</td>\n",
       "      <td>NaN</td>\n",
       "      <td>99.989998</td>\n",
       "    </tr>\n",
       "    <tr>\n",
       "      <th>4</th>\n",
       "      <td>ISIC_0024200</td>\n",
       "      <td>0</td>\n",
       "      <td>IP_8313778</td>\n",
       "      <td>55.0</td>\n",
       "      <td>male</td>\n",
       "      <td>anterior torso</td>\n",
       "      <td>2.73</td>\n",
       "      <td>TBP tile: close-up</td>\n",
       "      <td>3D: white</td>\n",
       "      <td>24.725520</td>\n",
       "      <td>...</td>\n",
       "      <td>NaN</td>\n",
       "      <td>Benign</td>\n",
       "      <td>Benign</td>\n",
       "      <td>NaN</td>\n",
       "      <td>NaN</td>\n",
       "      <td>NaN</td>\n",
       "      <td>NaN</td>\n",
       "      <td>NaN</td>\n",
       "      <td>NaN</td>\n",
       "      <td>70.442510</td>\n",
       "    </tr>\n",
       "  </tbody>\n",
       "</table>\n",
       "<p>5 rows × 55 columns</p>\n",
       "</div>"
      ],
      "text/plain": [
       "        isic_id  target  patient_id  age_approx   sex anatom_site_general  \\\n",
       "0  ISIC_0015670       0  IP_1235828        60.0  male     lower extremity   \n",
       "1  ISIC_0015845       0  IP_8170065        60.0  male           head/neck   \n",
       "2  ISIC_0015864       0  IP_6724798        60.0  male     posterior torso   \n",
       "3  ISIC_0015902       0  IP_4111386        65.0  male      anterior torso   \n",
       "4  ISIC_0024200       0  IP_8313778        55.0  male      anterior torso   \n",
       "\n",
       "   clin_size_long_diam_mm          image_type tbp_tile_type   tbp_lv_A  ...  \\\n",
       "0                    3.04  TBP tile: close-up     3D: white  20.244422  ...   \n",
       "1                    1.10  TBP tile: close-up     3D: white  31.712570  ...   \n",
       "2                    3.40  TBP tile: close-up        3D: XP  22.575830  ...   \n",
       "3                    3.22  TBP tile: close-up        3D: XP  14.242329  ...   \n",
       "4                    2.73  TBP tile: close-up     3D: white  24.725520  ...   \n",
       "\n",
       "    lesion_id  iddx_full  iddx_1  iddx_2  iddx_3  iddx_4  iddx_5  \\\n",
       "0         NaN     Benign  Benign     NaN     NaN     NaN     NaN   \n",
       "1  IL_6727506     Benign  Benign     NaN     NaN     NaN     NaN   \n",
       "2         NaN     Benign  Benign     NaN     NaN     NaN     NaN   \n",
       "3         NaN     Benign  Benign     NaN     NaN     NaN     NaN   \n",
       "4         NaN     Benign  Benign     NaN     NaN     NaN     NaN   \n",
       "\n",
       "   mel_mitotic_index  mel_thick_mm  tbp_lv_dnn_lesion_confidence  \n",
       "0                NaN           NaN                     97.517282  \n",
       "1                NaN           NaN                      3.141455  \n",
       "2                NaN           NaN                     99.804040  \n",
       "3                NaN           NaN                     99.989998  \n",
       "4                NaN           NaN                     70.442510  \n",
       "\n",
       "[5 rows x 55 columns]"
      ]
     },
     "execution_count": 7,
     "metadata": {},
     "output_type": "execute_result"
    }
   ],
   "source": [
    "train_metadata.head()"
   ]
  },
  {
   "cell_type": "code",
   "execution_count": 8,
   "id": "fafcbac1",
   "metadata": {
    "execution": {
     "iopub.execute_input": "2025-03-26T08:29:24.039146Z",
     "iopub.status.busy": "2025-03-26T08:29:24.038643Z",
     "iopub.status.idle": "2025-03-26T08:29:24.057136Z",
     "shell.execute_reply": "2025-03-26T08:29:24.055577Z"
    },
    "papermill": {
     "duration": 0.031605,
     "end_time": "2025-03-26T08:29:24.059172",
     "exception": false,
     "start_time": "2025-03-26T08:29:24.027567",
     "status": "completed"
    },
    "tags": []
   },
   "outputs": [
    {
     "name": "stdout",
     "output_type": "stream",
     "text": [
      "<class 'pandas.core.frame.DataFrame'>\n",
      "RangeIndex: 3 entries, 0 to 2\n",
      "Data columns (total 44 columns):\n",
      " #   Column                       Non-Null Count  Dtype  \n",
      "---  ------                       --------------  -----  \n",
      " 0   isic_id                      3 non-null      object \n",
      " 1   patient_id                   3 non-null      object \n",
      " 2   age_approx                   3 non-null      float64\n",
      " 3   sex                          3 non-null      object \n",
      " 4   anatom_site_general          3 non-null      object \n",
      " 5   clin_size_long_diam_mm       3 non-null      float64\n",
      " 6   image_type                   3 non-null      object \n",
      " 7   tbp_tile_type                3 non-null      object \n",
      " 8   tbp_lv_A                     3 non-null      float64\n",
      " 9   tbp_lv_Aext                  3 non-null      float64\n",
      " 10  tbp_lv_B                     3 non-null      float64\n",
      " 11  tbp_lv_Bext                  3 non-null      float64\n",
      " 12  tbp_lv_C                     3 non-null      float64\n",
      " 13  tbp_lv_Cext                  3 non-null      float64\n",
      " 14  tbp_lv_H                     3 non-null      float64\n",
      " 15  tbp_lv_Hext                  3 non-null      float64\n",
      " 16  tbp_lv_L                     3 non-null      float64\n",
      " 17  tbp_lv_Lext                  3 non-null      float64\n",
      " 18  tbp_lv_areaMM2               3 non-null      float64\n",
      " 19  tbp_lv_area_perim_ratio      3 non-null      float64\n",
      " 20  tbp_lv_color_std_mean        3 non-null      float64\n",
      " 21  tbp_lv_deltaA                3 non-null      float64\n",
      " 22  tbp_lv_deltaB                3 non-null      float64\n",
      " 23  tbp_lv_deltaL                3 non-null      float64\n",
      " 24  tbp_lv_deltaLB               3 non-null      float64\n",
      " 25  tbp_lv_deltaLBnorm           3 non-null      float64\n",
      " 26  tbp_lv_eccentricity          3 non-null      float64\n",
      " 27  tbp_lv_location              3 non-null      object \n",
      " 28  tbp_lv_location_simple       3 non-null      object \n",
      " 29  tbp_lv_minorAxisMM           3 non-null      float64\n",
      " 30  tbp_lv_nevi_confidence       3 non-null      float64\n",
      " 31  tbp_lv_norm_border           3 non-null      float64\n",
      " 32  tbp_lv_norm_color            3 non-null      float64\n",
      " 33  tbp_lv_perimeterMM           3 non-null      float64\n",
      " 34  tbp_lv_radial_color_std_max  3 non-null      float64\n",
      " 35  tbp_lv_stdL                  3 non-null      float64\n",
      " 36  tbp_lv_stdLExt               3 non-null      float64\n",
      " 37  tbp_lv_symm_2axis            3 non-null      float64\n",
      " 38  tbp_lv_symm_2axis_angle      3 non-null      int64  \n",
      " 39  tbp_lv_x                     3 non-null      float64\n",
      " 40  tbp_lv_y                     3 non-null      float64\n",
      " 41  tbp_lv_z                     3 non-null      float64\n",
      " 42  attribution                  3 non-null      object \n",
      " 43  copyright_license            3 non-null      object \n",
      "dtypes: float64(33), int64(1), object(10)\n",
      "memory usage: 1.2+ KB\n"
     ]
    }
   ],
   "source": [
    "test_metadata = pd.read_csv(os.path.join(current_dir,'test-metadata.csv'),low_memory=False)\n",
    "test_metadata.info()"
   ]
  },
  {
   "cell_type": "code",
   "execution_count": 9,
   "id": "4296ae71",
   "metadata": {
    "execution": {
     "iopub.execute_input": "2025-03-26T08:29:24.080870Z",
     "iopub.status.busy": "2025-03-26T08:29:24.080471Z",
     "iopub.status.idle": "2025-03-26T08:29:24.100879Z",
     "shell.execute_reply": "2025-03-26T08:29:24.099782Z"
    },
    "papermill": {
     "duration": 0.033656,
     "end_time": "2025-03-26T08:29:24.102993",
     "exception": false,
     "start_time": "2025-03-26T08:29:24.069337",
     "status": "completed"
    },
    "tags": []
   },
   "outputs": [
    {
     "data": {
      "text/html": [
       "<div>\n",
       "<style scoped>\n",
       "    .dataframe tbody tr th:only-of-type {\n",
       "        vertical-align: middle;\n",
       "    }\n",
       "\n",
       "    .dataframe tbody tr th {\n",
       "        vertical-align: top;\n",
       "    }\n",
       "\n",
       "    .dataframe thead th {\n",
       "        text-align: right;\n",
       "    }\n",
       "</style>\n",
       "<table border=\"1\" class=\"dataframe\">\n",
       "  <thead>\n",
       "    <tr style=\"text-align: right;\">\n",
       "      <th></th>\n",
       "      <th>isic_id</th>\n",
       "      <th>patient_id</th>\n",
       "      <th>age_approx</th>\n",
       "      <th>sex</th>\n",
       "      <th>anatom_site_general</th>\n",
       "      <th>clin_size_long_diam_mm</th>\n",
       "      <th>image_type</th>\n",
       "      <th>tbp_tile_type</th>\n",
       "      <th>tbp_lv_A</th>\n",
       "      <th>tbp_lv_Aext</th>\n",
       "      <th>...</th>\n",
       "      <th>tbp_lv_radial_color_std_max</th>\n",
       "      <th>tbp_lv_stdL</th>\n",
       "      <th>tbp_lv_stdLExt</th>\n",
       "      <th>tbp_lv_symm_2axis</th>\n",
       "      <th>tbp_lv_symm_2axis_angle</th>\n",
       "      <th>tbp_lv_x</th>\n",
       "      <th>tbp_lv_y</th>\n",
       "      <th>tbp_lv_z</th>\n",
       "      <th>attribution</th>\n",
       "      <th>copyright_license</th>\n",
       "    </tr>\n",
       "  </thead>\n",
       "  <tbody>\n",
       "    <tr>\n",
       "      <th>0</th>\n",
       "      <td>ISIC_0015657</td>\n",
       "      <td>IP_6074337</td>\n",
       "      <td>45.0</td>\n",
       "      <td>male</td>\n",
       "      <td>posterior torso</td>\n",
       "      <td>2.70</td>\n",
       "      <td>TBP tile: close-up</td>\n",
       "      <td>3D: XP</td>\n",
       "      <td>22.80433</td>\n",
       "      <td>20.007270</td>\n",
       "      <td>...</td>\n",
       "      <td>0.304827</td>\n",
       "      <td>1.281532</td>\n",
       "      <td>2.299935</td>\n",
       "      <td>0.479339</td>\n",
       "      <td>20</td>\n",
       "      <td>-155.06510</td>\n",
       "      <td>1511.222000</td>\n",
       "      <td>113.980100</td>\n",
       "      <td>Memorial Sloan Kettering Cancer Center</td>\n",
       "      <td>CC-BY</td>\n",
       "    </tr>\n",
       "    <tr>\n",
       "      <th>1</th>\n",
       "      <td>ISIC_0015729</td>\n",
       "      <td>IP_1664139</td>\n",
       "      <td>35.0</td>\n",
       "      <td>female</td>\n",
       "      <td>lower extremity</td>\n",
       "      <td>2.52</td>\n",
       "      <td>TBP tile: close-up</td>\n",
       "      <td>3D: XP</td>\n",
       "      <td>16.64867</td>\n",
       "      <td>9.657964</td>\n",
       "      <td>...</td>\n",
       "      <td>0.000000</td>\n",
       "      <td>1.271940</td>\n",
       "      <td>2.011223</td>\n",
       "      <td>0.426230</td>\n",
       "      <td>25</td>\n",
       "      <td>-112.36924</td>\n",
       "      <td>629.535889</td>\n",
       "      <td>-15.019287</td>\n",
       "      <td>Frazer Institute, The University of Queensland...</td>\n",
       "      <td>CC-BY</td>\n",
       "    </tr>\n",
       "    <tr>\n",
       "      <th>2</th>\n",
       "      <td>ISIC_0015740</td>\n",
       "      <td>IP_7142616</td>\n",
       "      <td>65.0</td>\n",
       "      <td>male</td>\n",
       "      <td>posterior torso</td>\n",
       "      <td>3.16</td>\n",
       "      <td>TBP tile: close-up</td>\n",
       "      <td>3D: XP</td>\n",
       "      <td>24.25384</td>\n",
       "      <td>19.937380</td>\n",
       "      <td>...</td>\n",
       "      <td>0.230742</td>\n",
       "      <td>1.080308</td>\n",
       "      <td>2.705857</td>\n",
       "      <td>0.366071</td>\n",
       "      <td>110</td>\n",
       "      <td>-84.29282</td>\n",
       "      <td>1303.978000</td>\n",
       "      <td>-28.576050</td>\n",
       "      <td>FNQH Cairns</td>\n",
       "      <td>CC-BY</td>\n",
       "    </tr>\n",
       "  </tbody>\n",
       "</table>\n",
       "<p>3 rows × 44 columns</p>\n",
       "</div>"
      ],
      "text/plain": [
       "        isic_id  patient_id  age_approx     sex anatom_site_general  \\\n",
       "0  ISIC_0015657  IP_6074337        45.0    male     posterior torso   \n",
       "1  ISIC_0015729  IP_1664139        35.0  female     lower extremity   \n",
       "2  ISIC_0015740  IP_7142616        65.0    male     posterior torso   \n",
       "\n",
       "   clin_size_long_diam_mm          image_type tbp_tile_type  tbp_lv_A  \\\n",
       "0                    2.70  TBP tile: close-up        3D: XP  22.80433   \n",
       "1                    2.52  TBP tile: close-up        3D: XP  16.64867   \n",
       "2                    3.16  TBP tile: close-up        3D: XP  24.25384   \n",
       "\n",
       "   tbp_lv_Aext  ...  tbp_lv_radial_color_std_max  tbp_lv_stdL  tbp_lv_stdLExt  \\\n",
       "0    20.007270  ...                     0.304827     1.281532        2.299935   \n",
       "1     9.657964  ...                     0.000000     1.271940        2.011223   \n",
       "2    19.937380  ...                     0.230742     1.080308        2.705857   \n",
       "\n",
       "   tbp_lv_symm_2axis  tbp_lv_symm_2axis_angle   tbp_lv_x     tbp_lv_y  \\\n",
       "0           0.479339                       20 -155.06510  1511.222000   \n",
       "1           0.426230                       25 -112.36924   629.535889   \n",
       "2           0.366071                      110  -84.29282  1303.978000   \n",
       "\n",
       "     tbp_lv_z                                        attribution  \\\n",
       "0  113.980100             Memorial Sloan Kettering Cancer Center   \n",
       "1  -15.019287  Frazer Institute, The University of Queensland...   \n",
       "2  -28.576050                                        FNQH Cairns   \n",
       "\n",
       "   copyright_license  \n",
       "0              CC-BY  \n",
       "1              CC-BY  \n",
       "2              CC-BY  \n",
       "\n",
       "[3 rows x 44 columns]"
      ]
     },
     "execution_count": 9,
     "metadata": {},
     "output_type": "execute_result"
    }
   ],
   "source": [
    "test_metadata.head()"
   ]
  },
  {
   "cell_type": "markdown",
   "id": "d209d3aa",
   "metadata": {
    "papermill": {
     "duration": 0.010223,
     "end_time": "2025-03-26T08:29:24.132440",
     "exception": false,
     "start_time": "2025-03-26T08:29:24.122217",
     "status": "completed"
    },
    "tags": []
   },
   "source": [
    "#### Load Image Byte String\n",
    "\n",
    "In this competition, images are provided as byte strings. The following code snippet demonstrates how to load these images into memory. One might wonder why the provided jpeg images aren't being used in the /train-image folder for training. This is because testing images are not provided as JPEG images; instead, they are provided as byte strings. Why use byte strings? They occupy significantly less memory compared to np.array representations.\n"
   ]
  },
  {
   "cell_type": "code",
   "execution_count": 10,
   "id": "b0efb216",
   "metadata": {
    "execution": {
     "iopub.execute_input": "2025-03-26T08:29:24.156447Z",
     "iopub.status.busy": "2025-03-26T08:29:24.156090Z",
     "iopub.status.idle": "2025-03-26T08:29:24.171370Z",
     "shell.execute_reply": "2025-03-26T08:29:24.170188Z"
    },
    "papermill": {
     "duration": 0.029224,
     "end_time": "2025-03-26T08:29:24.173359",
     "exception": false,
     "start_time": "2025-03-26T08:29:24.144135",
     "status": "completed"
    },
    "tags": []
   },
   "outputs": [],
   "source": [
    "# image sample visualization\n",
    "training_validation_hdf5 = h5py.File(f\"{current_dir}/train-image.hdf5\", 'r')\n",
    "testing_hdf5 = h5py.File(f\"{current_dir}/test-image.hdf5\", 'r')"
   ]
  },
  {
   "cell_type": "code",
   "execution_count": 11,
   "id": "98025d33",
   "metadata": {
    "execution": {
     "iopub.execute_input": "2025-03-26T08:29:24.203285Z",
     "iopub.status.busy": "2025-03-26T08:29:24.202917Z",
     "iopub.status.idle": "2025-03-26T08:29:24.351242Z",
     "shell.execute_reply": "2025-03-26T08:29:24.350212Z"
    },
    "papermill": {
     "duration": 0.161838,
     "end_time": "2025-03-26T08:29:24.353321",
     "exception": false,
     "start_time": "2025-03-26T08:29:24.191483",
     "status": "completed"
    },
    "tags": []
   },
   "outputs": [
    {
     "name": "stdout",
     "output_type": "stream",
     "text": [
      "Image ISIC_1295998:\n",
      "Shape:(129, 129, 3)\n"
     ]
    },
    {
     "data": {
      "image/jpeg": "[encoded data removed]",
      "image/png": "[encoded data removed]",
      "text/plain": [
       "<PIL.Image.Image image mode=RGB size=129x129>"
      ]
     },
     "metadata": {},
     "output_type": "display_data"
    },
    {
     "name": "stdout",
     "output_type": "stream",
     "text": [
      "Image ISIC_7126364:\n",
      "Shape:(123, 123, 3)\n"
     ]
    },
    {
     "data": {
      "image/jpeg": "[encoded data removed]",
      "image/png": "[encoded data removed]",
      "text/plain": [
       "<PIL.Image.Image image mode=RGB size=123x123>"
      ]
     },
     "metadata": {},
     "output_type": "display_data"
    }
   ],
   "source": [
    "# sample randomly two images from the train dataset\n",
    "img_sample = train_metadata['isic_id'].sample(n=2).to_list()\n",
    "\n",
    "# load the image from byte arrays, \n",
    "byte_str = [training_validation_hdf5[isic_id][()] for isic_id in img_sample]\n",
    "\n",
    "# convert byte str to numpy array\n",
    "img_arr = [np.frombuffer(byte, np.uint8) for byte in byte_str]\n",
    "\n",
    "# convert cv2 image\n",
    "img_cv2 = [cv2.imdecode(nparr, cv2.IMREAD_COLOR) for nparr in img_arr] \n",
    "for ind,val in enumerate(img_cv2):\n",
    "    print(f\"Image {img_sample[ind]}:\")\n",
    "    print(f\"Shape:{val.shape}\")\n",
    "    cv2_imshow(val)"
   ]
  },
  {
   "cell_type": "code",
   "execution_count": 12,
   "id": "95b3258d",
   "metadata": {
    "execution": {
     "iopub.execute_input": "2025-03-26T08:29:24.386749Z",
     "iopub.status.busy": "2025-03-26T08:29:24.386409Z",
     "iopub.status.idle": "2025-03-26T08:29:24.415898Z",
     "shell.execute_reply": "2025-03-26T08:29:24.414883Z"
    },
    "papermill": {
     "duration": 0.044499,
     "end_time": "2025-03-26T08:29:24.417898",
     "exception": false,
     "start_time": "2025-03-26T08:29:24.373399",
     "status": "completed"
    },
    "tags": []
   },
   "outputs": [
    {
     "name": "stdout",
     "output_type": "stream",
     "text": [
      "Image ISIC_0015657:\n",
      "Shape:(141, 141, 3)\n"
     ]
    },
    {
     "data": {
      "image/jpeg": "[encoded data removed]",
      "image/png": "[encoded data removed]",
      "text/plain": [
       "<PIL.Image.Image image mode=RGB size=141x141>"
      ]
     },
     "metadata": {},
     "output_type": "display_data"
    },
    {
     "name": "stdout",
     "output_type": "stream",
     "text": [
      "Image ISIC_0015740:\n",
      "Shape:(119, 119, 3)\n"
     ]
    },
    {
     "data": {
      "image/jpeg": "[encoded data removed]",
      "image/png": "[encoded data removed]",
      "text/plain": [
       "<PIL.Image.Image image mode=RGB size=119x119>"
      ]
     },
     "metadata": {},
     "output_type": "display_data"
    },
    {
     "name": "stdout",
     "output_type": "stream",
     "text": [
      "Image ISIC_0015729:\n",
      "Shape:(125, 125, 3)\n"
     ]
    },
    {
     "data": {
      "image/jpeg": "[encoded data removed]",
      "image/png": "[encoded data removed]",
      "text/plain": [
       "<PIL.Image.Image image mode=RGB size=125x125>"
      ]
     },
     "metadata": {},
     "output_type": "display_data"
    }
   ],
   "source": [
    "# sample randomly two images from the train dataset\n",
    "img_sample = test_metadata['isic_id'].sample(n=3).to_list()\n",
    "\n",
    "# load the image from byte arrays, \n",
    "byte_str = [testing_hdf5[isic_id][()] for isic_id in img_sample]\n",
    "\n",
    "# convert byte str to numpy array\n",
    "img_arr = [np.frombuffer(byte, np.uint8) for byte in byte_str]\n",
    "\n",
    "# convert cv2 image\n",
    "img_cv2 = [cv2.imdecode(nparr, cv2.IMREAD_COLOR) for nparr in img_arr] \n",
    "for ind,val in enumerate(img_cv2):\n",
    "    print(f\"Image {img_sample[ind]}:\")\n",
    "    print(f\"Shape:{val.shape}\")\n",
    "    cv2_imshow(val)"
   ]
  },
  {
   "cell_type": "markdown",
   "id": "ba3f5f4e",
   "metadata": {
    "papermill": {
     "duration": 0.014096,
     "end_time": "2025-03-26T08:29:24.453028",
     "exception": false,
     "start_time": "2025-03-26T08:29:24.438932",
     "status": "completed"
    },
    "tags": []
   },
   "source": [
    "## Preprocessing"
   ]
  },
  {
   "cell_type": "code",
   "execution_count": 13,
   "id": "b95bbcdf",
   "metadata": {
    "execution": {
     "iopub.execute_input": "2025-03-26T08:29:24.483395Z",
     "iopub.status.busy": "2025-03-26T08:29:24.483006Z",
     "iopub.status.idle": "2025-03-26T08:29:24.497107Z",
     "shell.execute_reply": "2025-03-26T08:29:24.495857Z"
    },
    "papermill": {
     "duration": 0.031937,
     "end_time": "2025-03-26T08:29:24.499290",
     "exception": false,
     "start_time": "2025-03-26T08:29:24.467353",
     "status": "completed"
    },
    "tags": []
   },
   "outputs": [],
   "source": [
    "class DataPreprocessor:\n",
    "    def __init__(self):\n",
    "        self.preprocessor = None\n",
    "        self.train_columns = None\n",
    "\n",
    "    def fit_transform(self, df):\n",
    "        \"\"\"Preprocess training data and store transformations.\"\"\"\n",
    "        df = df.copy()\n",
    "        df = self._drop_irrelevant_columns(df)\n",
    "        df = self._drop_train_only_columns(df)\n",
    "        categorical_cols, numerical_cols = self._identify_column_types(df)\n",
    "        \n",
    "        # Define preprocessing pipelines\n",
    "        numerical_pipeline = Pipeline([\n",
    "            # (\"imputer\", SimpleImputer(strategy=\"median\")),\n",
    "            (\"imputer\", KNNImputer()),\n",
    "            (\"scaler\", StandardScaler())\n",
    "        ])\n",
    "        \n",
    "        categorical_pipeline = Pipeline([\n",
    "            (\"onehot\", OneHotEncoder(handle_unknown=\"ignore\"))\n",
    "        ])\n",
    "        \n",
    "        self.preprocessor = ColumnTransformer([\n",
    "            (\"num\", numerical_pipeline, numerical_cols),\n",
    "            (\"cat\", categorical_pipeline, categorical_cols)\n",
    "        ])\n",
    "        \n",
    "        transformed_data = self.preprocessor.fit_transform(df)\n",
    "        \n",
    "        cat_feature_names = self.preprocessor.named_transformers_[\"cat\"].named_steps[\"onehot\"].get_feature_names_out(categorical_cols)\n",
    "        all_columns = numerical_cols + list(cat_feature_names)\n",
    "        \n",
    "        df_processed = pd.DataFrame(transformed_data, columns=all_columns)\n",
    "        df_processed[\"isic_id\"] = df[\"isic_id\"].values\n",
    "        df_processed[\"target\"] = df[\"target\"].values\n",
    "        \n",
    "        self.train_columns = df_processed.columns  # Store train columns\n",
    "        return df_processed\n",
    "\n",
    "    def transform(self, df):\n",
    "        \"\"\"Preprocess test data using stored transformations from training.\"\"\"\n",
    "        df = df.copy()\n",
    "        df = self._drop_irrelevant_columns(df)\n",
    "        \n",
    "        transformed_data = self.preprocessor.transform(df)\n",
    "        cat_feature_names = self.preprocessor.named_transformers_[\"cat\"].named_steps[\"onehot\"].get_feature_names_out()\n",
    "        all_columns = self.train_columns[:-2]  # Exclude 'isic_id' and 'target'\n",
    "        \n",
    "        df_processed = pd.DataFrame(transformed_data, columns=all_columns)\n",
    "        df_processed[\"isic_id\"] = df[\"isic_id\"].values\n",
    "        # df_processed[\"target\"] = df[\"target\"].values\n",
    "        \n",
    "        # Align test dataset with train columns\n",
    "        df_processed = self._align_train_test_columns(df_processed)\n",
    "        return df_processed\n",
    "\n",
    "    def _drop_irrelevant_columns(self, df):\n",
    "        \"\"\"Remove unnecessary columns.\"\"\"\n",
    "        return df.drop(columns=['patient_id','image_type', 'tbp_tile_type', 'attribution', 'copyright_license'], errors=\"ignore\")\n",
    "\n",
    "    def _drop_train_only_columns(self,df):\n",
    "        \"\"\"Remove columns that are present only in the train set and not in the test set\"\"\"\n",
    "        drop_train_only_columns = [\n",
    "            'lesion_id', 'iddx_full', 'iddx_1', 'iddx_2', 'iddx_3', 'iddx_4', 'iddx_5',\n",
    "            'mel_mitotic_index', 'mel_thick_mm', 'tbp_lv_dnn_lesion_confidence'\n",
    "            ]\n",
    "        return df.drop(columns=drop_train_only_columns,errors='ignore')\n",
    "        \n",
    "\n",
    "    def _identify_column_types(self, df):\n",
    "        \"\"\"Identify categorical and numerical columns, excluding 'isic_id' and 'target'.\"\"\"\n",
    "        categorical_cols = df.select_dtypes(include=['object']).columns.tolist()\n",
    "        numerical_cols = df.select_dtypes(include=['int64', 'float64']).columns.tolist()\n",
    "        categorical_cols = [col for col in categorical_cols if col != \"isic_id\"]\n",
    "        numerical_cols = [col for col in numerical_cols if col != \"target\"]\n",
    "        return categorical_cols, numerical_cols\n",
    "    \n",
    "    def _align_train_test_columns(self, df):\n",
    "        \"\"\"Ensure test data has the same columns as train data.\"\"\"\n",
    "        train_cols = list(self.train_columns)\n",
    "        train_cols.remove('target')\n",
    "        missing_cols = set(train_cols) - set(df.columns)\n",
    "        for col in missing_cols:\n",
    "            df[col] = 0\n",
    "        return df[train_cols]\n"
   ]
  },
  {
   "cell_type": "code",
   "execution_count": 14,
   "id": "1d667e90",
   "metadata": {
    "execution": {
     "iopub.execute_input": "2025-03-26T08:29:24.536833Z",
     "iopub.status.busy": "2025-03-26T08:29:24.536405Z",
     "iopub.status.idle": "2025-03-26T08:29:30.212261Z",
     "shell.execute_reply": "2025-03-26T08:29:30.211175Z"
    },
    "papermill": {
     "duration": 5.6947,
     "end_time": "2025-03-26T08:29:30.214698",
     "exception": false,
     "start_time": "2025-03-26T08:29:24.519998",
     "status": "completed"
    },
    "tags": []
   },
   "outputs": [],
   "source": [
    "train_metadata = pd.read_csv(os.path.join(current_dir, 'train-metadata.csv'), low_memory=False)\n",
    "test_metadata = pd.read_csv(os.path.join(current_dir, 'test-metadata.csv'), low_memory=False)"
   ]
  },
  {
   "cell_type": "code",
   "execution_count": 15,
   "id": "db5aa42e",
   "metadata": {
    "execution": {
     "iopub.execute_input": "2025-03-26T08:29:30.255360Z",
     "iopub.status.busy": "2025-03-26T08:29:30.254897Z",
     "iopub.status.idle": "2025-03-26T08:31:24.125464Z",
     "shell.execute_reply": "2025-03-26T08:31:24.124261Z"
    },
    "papermill": {
     "duration": 113.889589,
     "end_time": "2025-03-26T08:31:24.127244",
     "exception": false,
     "start_time": "2025-03-26T08:29:30.237655",
     "status": "completed"
    },
    "tags": []
   },
   "outputs": [],
   "source": [
    "data_object = DataPreprocessor()\n",
    "train_metadata_processed = data_object.fit_transform(train_metadata)\n",
    "test_metadata_processed = data_object.transform(test_metadata)"
   ]
  },
  {
   "cell_type": "code",
   "execution_count": 16,
   "id": "e1d974dc",
   "metadata": {
    "execution": {
     "iopub.execute_input": "2025-03-26T08:31:24.157523Z",
     "iopub.status.busy": "2025-03-26T08:31:24.157210Z",
     "iopub.status.idle": "2025-03-26T08:31:24.239417Z",
     "shell.execute_reply": "2025-03-26T08:31:24.238545Z"
    },
    "papermill": {
     "duration": 0.09932,
     "end_time": "2025-03-26T08:31:24.241288",
     "exception": false,
     "start_time": "2025-03-26T08:31:24.141968",
     "status": "completed"
    },
    "tags": []
   },
   "outputs": [],
   "source": [
    "X_train = train_metadata_processed.drop(columns=['target'])\n",
    "y_train = train_metadata_processed['target']\n",
    "X_test = test_metadata_processed.copy()\n"
   ]
  },
  {
   "cell_type": "markdown",
   "id": "49d2d402",
   "metadata": {
    "papermill": {
     "duration": 0.014243,
     "end_time": "2025-03-26T08:31:24.270725",
     "exception": false,
     "start_time": "2025-03-26T08:31:24.256482",
     "status": "completed"
    },
    "tags": []
   },
   "source": [
    "## handling class imbalance"
   ]
  },
  {
   "cell_type": "code",
   "execution_count": 17,
   "id": "fb11c4ec",
   "metadata": {
    "execution": {
     "iopub.execute_input": "2025-03-26T08:31:24.301418Z",
     "iopub.status.busy": "2025-03-26T08:31:24.301038Z",
     "iopub.status.idle": "2025-03-26T08:31:24.306243Z",
     "shell.execute_reply": "2025-03-26T08:31:24.305186Z"
    },
    "papermill": {
     "duration": 0.022352,
     "end_time": "2025-03-26T08:31:24.307967",
     "exception": false,
     "start_time": "2025-03-26T08:31:24.285615",
     "status": "completed"
    },
    "tags": []
   },
   "outputs": [],
   "source": [
    "def resampler_data(X, Y):\n",
    "    \n",
    "    # Apply undersampling only on numerical data\n",
    "    resampler = RandomUnderSampler(sampling_strategy=0.01,)\n",
    "    X_resampled, Y_resampled = resampler.fit_resample(X,Y)\n",
    "    \n",
    "    # now apply over sampling for the minorit class\n",
    "    resampler = RandomOverSampler(sampling_strategy=0.3)\n",
    "    X_resampled, Y_resampled = resampler.fit_resample(X_resampled, Y_resampled)\n",
    "\n",
    "    print(\"X_final shape;\",X_resampled.shape)\n",
    "    print(\"Y_final shape:\",Y_resampled.shape)\n",
    "    \n",
    "    return X_resampled, Y_resampled"
   ]
  },
  {
   "cell_type": "code",
   "execution_count": 18,
   "id": "cda6da0c",
   "metadata": {
    "execution": {
     "iopub.execute_input": "2025-03-26T08:31:24.338334Z",
     "iopub.status.busy": "2025-03-26T08:31:24.337958Z",
     "iopub.status.idle": "2025-03-26T08:31:24.851330Z",
     "shell.execute_reply": "2025-03-26T08:31:24.850304Z"
    },
    "papermill": {
     "duration": 0.530232,
     "end_time": "2025-03-26T08:31:24.853058",
     "exception": false,
     "start_time": "2025-03-26T08:31:24.322826",
     "status": "completed"
    },
    "tags": []
   },
   "outputs": [
    {
     "name": "stdout",
     "output_type": "stream",
     "text": [
      "X_final shape; (51090, 73)\n",
      "Y_final shape: (51090,)\n"
     ]
    }
   ],
   "source": [
    "X_train_final, y_train_final = resampler_data(X_train, y_train)"
   ]
  },
  {
   "cell_type": "markdown",
   "id": "656670be",
   "metadata": {
    "papermill": {
     "duration": 0.014015,
     "end_time": "2025-03-26T08:31:24.881744",
     "exception": false,
     "start_time": "2025-03-26T08:31:24.867729",
     "status": "completed"
    },
    "tags": []
   },
   "source": [
    "## metadata only model for submission checking"
   ]
  },
  {
   "cell_type": "code",
   "execution_count": 19,
   "id": "5e86e817",
   "metadata": {
    "execution": {
     "iopub.execute_input": "2025-03-26T08:31:24.911507Z",
     "iopub.status.busy": "2025-03-26T08:31:24.911168Z",
     "iopub.status.idle": "2025-03-26T08:31:24.919831Z",
     "shell.execute_reply": "2025-03-26T08:31:24.918733Z"
    },
    "papermill": {
     "duration": 0.025337,
     "end_time": "2025-03-26T08:31:24.921444",
     "exception": false,
     "start_time": "2025-03-26T08:31:24.896107",
     "status": "completed"
    },
    "tags": []
   },
   "outputs": [
    {
     "name": "stdout",
     "output_type": "stream",
     "text": [
      "{0: 1.2999999999999998, 1: 4.333333333333333}\n"
     ]
    }
   ],
   "source": [
    "# Compute class weights\n",
    "class_weights = y_train_final.value_counts(normalize=True).to_dict()\n",
    "class_weights = {k: 1/v for k, v in class_weights.items()}\n",
    "print(class_weights)"
   ]
  },
  {
   "cell_type": "code",
   "execution_count": 20,
   "id": "464651cb",
   "metadata": {
    "execution": {
     "iopub.execute_input": "2025-03-26T08:31:24.951602Z",
     "iopub.status.busy": "2025-03-26T08:31:24.951241Z",
     "iopub.status.idle": "2025-03-26T08:31:25.068647Z",
     "shell.execute_reply": "2025-03-26T08:31:25.067749Z"
    },
    "papermill": {
     "duration": 0.134859,
     "end_time": "2025-03-26T08:31:25.070857",
     "exception": false,
     "start_time": "2025-03-26T08:31:24.935998",
     "status": "completed"
    },
    "tags": []
   },
   "outputs": [],
   "source": [
    "# Convert data to DMatrix for XGBoost\n",
    "dtrain = xgb.DMatrix(X_train_final.drop(columns=['isic_id'],axis=1), label=y_train_final, weight=[class_weights[y] for y in y_train_final])\n",
    "# dval = xgb.DMatrix(X_val.drop(columns=['isic_id'],axis=1), label=y_val)"
   ]
  },
  {
   "cell_type": "code",
   "execution_count": 21,
   "id": "75a3f801",
   "metadata": {
    "execution": {
     "iopub.execute_input": "2025-03-26T08:31:25.102061Z",
     "iopub.status.busy": "2025-03-26T08:31:25.101685Z",
     "iopub.status.idle": "2025-03-26T08:31:25.106453Z",
     "shell.execute_reply": "2025-03-26T08:31:25.105530Z"
    },
    "papermill": {
     "duration": 0.021945,
     "end_time": "2025-03-26T08:31:25.107981",
     "exception": false,
     "start_time": "2025-03-26T08:31:25.086036",
     "status": "completed"
    },
    "tags": []
   },
   "outputs": [],
   "source": [
    "# Define XGBoost parameters\n",
    "params = {\n",
    "    'objective': 'binary:logistic',\n",
    "    'eval_metric': 'logloss',\n",
    "    'scale_pos_weight': class_weights[1] / class_weights[0],\n",
    "    'max_depth': 10,\n",
    "    'eta': 0.01,\n",
    "    'subsample': 0.9,\n",
    "    'colsample_bytree': 0.9,\n",
    "    'random_state': 63\n",
    "}\n",
    "\n",
    "# # Train the XGBoost classifier with cross-validation\n",
    "# cv_results = xgb.cv(\n",
    "#     params,\n",
    "#     dtrain,\n",
    "#     num_boost_round=10000,\n",
    "#     nfold=5,\n",
    "#     early_stopping_rounds=10,\n",
    "#     metrics='logloss',\n",
    "#     as_pandas=True,\n",
    "#     seed=42\n",
    "# )"
   ]
  },
  {
   "cell_type": "code",
   "execution_count": 22,
   "id": "b6461cd9",
   "metadata": {
    "execution": {
     "iopub.execute_input": "2025-03-26T08:31:25.138345Z",
     "iopub.status.busy": "2025-03-26T08:31:25.138008Z",
     "iopub.status.idle": "2025-03-26T08:31:25.141734Z",
     "shell.execute_reply": "2025-03-26T08:31:25.140852Z"
    },
    "papermill": {
     "duration": 0.020624,
     "end_time": "2025-03-26T08:31:25.143274",
     "exception": false,
     "start_time": "2025-03-26T08:31:25.122650",
     "status": "completed"
    },
    "tags": []
   },
   "outputs": [],
   "source": [
    "# # View the train set results\n",
    "# print(\"Cross-validation results:\")\n",
    "# print(cv_results)"
   ]
  },
  {
   "cell_type": "code",
   "execution_count": 23,
   "id": "fd801cc0",
   "metadata": {
    "execution": {
     "iopub.execute_input": "2025-03-26T08:31:25.174704Z",
     "iopub.status.busy": "2025-03-26T08:31:25.174359Z",
     "iopub.status.idle": "2025-03-26T08:31:25.178056Z",
     "shell.execute_reply": "2025-03-26T08:31:25.177045Z"
    },
    "papermill": {
     "duration": 0.02116,
     "end_time": "2025-03-26T08:31:25.179744",
     "exception": false,
     "start_time": "2025-03-26T08:31:25.158584",
     "status": "completed"
    },
    "tags": []
   },
   "outputs": [],
   "source": [
    "# num_boost_rounds = cv_results['test-logloss-mean'].idxmin()\n",
    "# xgb_model = xgb.train(params, dtrain, num_boost_round=num_boost_rounds)\n",
    "# print(num_boost_rounds)"
   ]
  },
  {
   "cell_type": "code",
   "execution_count": 24,
   "id": "158a95dd",
   "metadata": {
    "execution": {
     "iopub.execute_input": "2025-03-26T08:31:25.209921Z",
     "iopub.status.busy": "2025-03-26T08:31:25.209526Z",
     "iopub.status.idle": "2025-03-26T08:31:25.234995Z",
     "shell.execute_reply": "2025-03-26T08:31:25.234051Z"
    },
    "papermill": {
     "duration": 0.042368,
     "end_time": "2025-03-26T08:31:25.236721",
     "exception": false,
     "start_time": "2025-03-26T08:31:25.194353",
     "status": "completed"
    },
    "tags": []
   },
   "outputs": [],
   "source": [
    "# light gbm model\n",
    "lgb_matrix = lgb.Dataset(X_train_final.drop(columns=['isic_id'],axis=1), label=y_train_final, weight=[class_weights[y] for y in y_train_final])\n",
    "\n",
    "lgb_params = {\n",
    "    'objective': 'binary',\n",
    "    'metric': 'binary_logloss',\n",
    "    'eta': 0.01,\n",
    "    'num_iterations':10000,\n",
    "    'num_leaves':63,\n",
    "    'random_state': 42,\n",
    "    'verbose':-1\n",
    "}"
   ]
  },
  {
   "cell_type": "code",
   "execution_count": 25,
   "id": "60321ddd",
   "metadata": {
    "execution": {
     "iopub.execute_input": "2025-03-26T08:31:25.267308Z",
     "iopub.status.busy": "2025-03-26T08:31:25.266917Z",
     "iopub.status.idle": "2025-03-26T08:31:25.270834Z",
     "shell.execute_reply": "2025-03-26T08:31:25.269920Z"
    },
    "papermill": {
     "duration": 0.020922,
     "end_time": "2025-03-26T08:31:25.272419",
     "exception": false,
     "start_time": "2025-03-26T08:31:25.251497",
     "status": "completed"
    },
    "tags": []
   },
   "outputs": [],
   "source": [
    "# lgb_model = lgb.train(lgb_params, lgb_matrix, num_boost_round=1000)"
   ]
  },
  {
   "cell_type": "code",
   "execution_count": 26,
   "id": "f1f726b5",
   "metadata": {
    "execution": {
     "iopub.execute_input": "2025-03-26T08:31:25.302547Z",
     "iopub.status.busy": "2025-03-26T08:31:25.302217Z",
     "iopub.status.idle": "2025-03-26T08:31:25.305995Z",
     "shell.execute_reply": "2025-03-26T08:31:25.305121Z"
    },
    "papermill": {
     "duration": 0.020426,
     "end_time": "2025-03-26T08:31:25.307483",
     "exception": false,
     "start_time": "2025-03-26T08:31:25.287057",
     "status": "completed"
    },
    "tags": []
   },
   "outputs": [],
   "source": [
    "# # CatBoost model\n",
    "# cb_model = cb.CatBoostClassifier(iterations=10000, depth=6, learning_rate=0.01, loss_function='Logloss', random_seed=42)\n",
    "# cb_model.fit(X_train_final.drop(columns=['isic_id'],axis=1), y_train_final, sample_weight=[class_weights[y] for y in y_train_final], verbose=0)\n"
   ]
  },
  {
   "cell_type": "code",
   "execution_count": 27,
   "id": "2ed311e5",
   "metadata": {
    "execution": {
     "iopub.execute_input": "2025-03-26T08:31:25.338182Z",
     "iopub.status.busy": "2025-03-26T08:31:25.337840Z",
     "iopub.status.idle": "2025-03-26T08:31:25.351689Z",
     "shell.execute_reply": "2025-03-26T08:31:25.350879Z"
    },
    "papermill": {
     "duration": 0.03124,
     "end_time": "2025-03-26T08:31:25.353255",
     "exception": false,
     "start_time": "2025-03-26T08:31:25.322015",
     "status": "completed"
    },
    "tags": []
   },
   "outputs": [],
   "source": [
    "# Predict class probabilities on the test data\n",
    "dtest = xgb.DMatrix(X_test.drop(columns=['isic_id'],axis=1))\n",
    "# y_test_pred_proba = model.predict(dtest)\n",
    "# # Output the predicted probabilities\n",
    "# print(y_test_pred_proba)"
   ]
  },
  {
   "cell_type": "code",
   "execution_count": 28,
   "id": "7f4aee67",
   "metadata": {
    "execution": {
     "iopub.execute_input": "2025-03-26T08:31:25.384486Z",
     "iopub.status.busy": "2025-03-26T08:31:25.384153Z",
     "iopub.status.idle": "2025-03-26T08:31:25.389100Z",
     "shell.execute_reply": "2025-03-26T08:31:25.388053Z"
    },
    "papermill": {
     "duration": 0.021861,
     "end_time": "2025-03-26T08:31:25.390768",
     "exception": false,
     "start_time": "2025-03-26T08:31:25.368907",
     "status": "completed"
    },
    "tags": []
   },
   "outputs": [],
   "source": [
    "xgb_pred = lambda X: xgb_model.predict(dtest)\n",
    "lgb_pred = lambda X: lgb_model.predict(X_test.drop(columns=['isic_id'],axis=1))\n",
    "cb_pred = lambda X: cb_model.predict_proba(X_test.drop(columns=['isic_id'],axis=1))[:, 1]"
   ]
  },
  {
   "cell_type": "code",
   "execution_count": 29,
   "id": "311791e1",
   "metadata": {
    "execution": {
     "iopub.execute_input": "2025-03-26T08:31:25.421517Z",
     "iopub.status.busy": "2025-03-26T08:31:25.421181Z",
     "iopub.status.idle": "2025-03-26T08:31:25.425159Z",
     "shell.execute_reply": "2025-03-26T08:31:25.423948Z"
    },
    "papermill": {
     "duration": 0.021076,
     "end_time": "2025-03-26T08:31:25.426942",
     "exception": false,
     "start_time": "2025-03-26T08:31:25.405866",
     "status": "completed"
    },
    "tags": []
   },
   "outputs": [],
   "source": [
    "# xgb_pred(dtest)"
   ]
  },
  {
   "cell_type": "code",
   "execution_count": 30,
   "id": "572f0e83",
   "metadata": {
    "execution": {
     "iopub.execute_input": "2025-03-26T08:31:25.459324Z",
     "iopub.status.busy": "2025-03-26T08:31:25.458975Z",
     "iopub.status.idle": "2025-03-26T08:31:25.462730Z",
     "shell.execute_reply": "2025-03-26T08:31:25.461734Z"
    },
    "papermill": {
     "duration": 0.021904,
     "end_time": "2025-03-26T08:31:25.464749",
     "exception": false,
     "start_time": "2025-03-26T08:31:25.442845",
     "status": "completed"
    },
    "tags": []
   },
   "outputs": [],
   "source": [
    "# lgb_pred(X_test)"
   ]
  },
  {
   "cell_type": "code",
   "execution_count": 31,
   "id": "cef9a480",
   "metadata": {
    "execution": {
     "iopub.execute_input": "2025-03-26T08:31:25.497084Z",
     "iopub.status.busy": "2025-03-26T08:31:25.496694Z",
     "iopub.status.idle": "2025-03-26T08:31:25.500532Z",
     "shell.execute_reply": "2025-03-26T08:31:25.499600Z"
    },
    "papermill": {
     "duration": 0.021344,
     "end_time": "2025-03-26T08:31:25.502348",
     "exception": false,
     "start_time": "2025-03-26T08:31:25.481004",
     "status": "completed"
    },
    "tags": []
   },
   "outputs": [],
   "source": [
    "# cb_pred(X_test)"
   ]
  },
  {
   "cell_type": "code",
   "execution_count": 32,
   "id": "c160664b",
   "metadata": {
    "execution": {
     "iopub.execute_input": "2025-03-26T08:31:25.533328Z",
     "iopub.status.busy": "2025-03-26T08:31:25.532967Z",
     "iopub.status.idle": "2025-03-26T08:31:25.536729Z",
     "shell.execute_reply": "2025-03-26T08:31:25.535879Z"
    },
    "papermill": {
     "duration": 0.021106,
     "end_time": "2025-03-26T08:31:25.538217",
     "exception": false,
     "start_time": "2025-03-26T08:31:25.517111",
     "status": "completed"
    },
    "tags": []
   },
   "outputs": [],
   "source": [
    "# final_pred = np.mean([xgb_pred(dtest),lgb_pred(X_test),cb_pred(X_test)],axis=0)\n",
    "# final_pred"
   ]
  },
  {
   "cell_type": "code",
   "execution_count": 33,
   "id": "d7b21200",
   "metadata": {
    "execution": {
     "iopub.execute_input": "2025-03-26T08:31:25.568627Z",
     "iopub.status.busy": "2025-03-26T08:31:25.568274Z",
     "iopub.status.idle": "2025-03-26T08:31:25.576396Z",
     "shell.execute_reply": "2025-03-26T08:31:25.575383Z"
    },
    "papermill": {
     "duration": 0.025142,
     "end_time": "2025-03-26T08:31:25.578032",
     "exception": false,
     "start_time": "2025-03-26T08:31:25.552890",
     "status": "completed"
    },
    "tags": []
   },
   "outputs": [],
   "source": [
    "# Create Stacking Model\n",
    "stacking_model = StackingClassifier(\n",
    "    estimators=[\n",
    "        ('xgb', xgb.XGBClassifier(**params)),\n",
    "        ('lgb', lgb.LGBMClassifier(**lgb_params)),\n",
    "        ('cb', cb.CatBoostClassifier(iterations=10000,depth=10, learning_rate=0.01, loss_function='Logloss', random_seed=42))\n",
    "    ],\n",
    "    final_estimator=LogisticRegression(),\n",
    "    stack_method='predict_proba',\n",
    "    verbose=2,\n",
    "    n_jobs=-1\n",
    ")"
   ]
  },
  {
   "cell_type": "code",
   "execution_count": 34,
   "id": "d855c3db",
   "metadata": {
    "execution": {
     "iopub.execute_input": "2025-03-26T08:31:25.608266Z",
     "iopub.status.busy": "2025-03-26T08:31:25.607936Z",
     "iopub.status.idle": "2025-03-26T09:46:56.426059Z",
     "shell.execute_reply": "2025-03-26T09:46:56.424058Z"
    },
    "papermill": {
     "duration": 4530.836669,
     "end_time": "2025-03-26T09:46:56.429280",
     "exception": false,
     "start_time": "2025-03-26T08:31:25.592611",
     "status": "completed"
    },
    "tags": []
   },
   "outputs": [
    {
     "name": "stderr",
     "output_type": "stream",
     "text": [
      "/usr/local/lib/python3.10/dist-packages/joblib/externals/loky/backend/fork_exec.py:38: RuntimeWarning: os.fork() was called. os.fork() is incompatible with multithreaded code, and JAX is multithreaded, so this will likely lead to a deadlock.\n",
      "  pid = os.fork()\n",
      "/usr/local/lib/python3.10/dist-packages/joblib/externals/loky/backend/fork_exec.py:38: RuntimeWarning: os.fork() was called. os.fork() is incompatible with multithreaded code, and JAX is multithreaded, so this will likely lead to a deadlock.\n",
      "  pid = os.fork()\n"
     ]
    }
   ],
   "source": [
    "stacking_model.fit(X_train_final.drop(columns=['isic_id'],axis=1), y_train_final)\n",
    "final_pred = stacking_model.predict_proba(X_test.drop(columns=['isic_id'],axis=1))"
   ]
  },
  {
   "cell_type": "code",
   "execution_count": 35,
   "id": "d1394382",
   "metadata": {
    "execution": {
     "iopub.execute_input": "2025-03-26T09:46:56.472028Z",
     "iopub.status.busy": "2025-03-26T09:46:56.471588Z",
     "iopub.status.idle": "2025-03-26T09:47:13.325109Z",
     "shell.execute_reply": "2025-03-26T09:47:13.324046Z"
    },
    "papermill": {
     "duration": 16.873088,
     "end_time": "2025-03-26T09:47:13.327713",
     "exception": false,
     "start_time": "2025-03-26T09:46:56.454625",
     "status": "completed"
    },
    "tags": []
   },
   "outputs": [],
   "source": [
    "train_pred = stacking_model.predict_proba(X_train_final.drop(columns=['isic_id'],axis=1))"
   ]
  },
  {
   "cell_type": "code",
   "execution_count": 36,
   "id": "f2376cd0",
   "metadata": {
    "execution": {
     "iopub.execute_input": "2025-03-26T09:47:13.374552Z",
     "iopub.status.busy": "2025-03-26T09:47:13.374112Z",
     "iopub.status.idle": "2025-03-26T09:47:13.708447Z",
     "shell.execute_reply": "2025-03-26T09:47:13.707408Z"
    },
    "papermill": {
     "duration": 0.360017,
     "end_time": "2025-03-26T09:47:13.710406",
     "exception": false,
     "start_time": "2025-03-26T09:47:13.350389",
     "status": "completed"
    },
    "tags": []
   },
   "outputs": [
    {
     "data": {
      "image/png": "[encoded data removed]",
      "text/plain": [
       "<Figure size 800x600 with 1 Axes>"
      ]
     },
     "metadata": {},
     "output_type": "display_data"
    }
   ],
   "source": [
    "fpr, tpr, _ = roc_curve(y_train_final, train_pred[:,1])\n",
    "roc_auc = auc(fpr, tpr)\n",
    "# Plot the ROC curve\n",
    "plt.figure(figsize=(8, 6))\n",
    "plt.plot(fpr, tpr, color='blue', label=f'AUC = {roc_auc:.2f}')\n",
    "plt.plot([0, 1], [0, 1], color='gray', linestyle='--')  # Random model line\n",
    "plt.xlabel('False Positive Rate')\n",
    "plt.ylabel('True Positive Rate')\n",
    "plt.title('ROC Curve')\n",
    "plt.legend(loc='lower right')\n",
    "plt.show()"
   ]
  },
  {
   "cell_type": "code",
   "execution_count": 37,
   "id": "563d9baf",
   "metadata": {
    "execution": {
     "iopub.execute_input": "2025-03-26T09:47:13.743835Z",
     "iopub.status.busy": "2025-03-26T09:47:13.743447Z",
     "iopub.status.idle": "2025-03-26T09:47:13.748065Z",
     "shell.execute_reply": "2025-03-26T09:47:13.747001Z"
    },
    "papermill": {
     "duration": 0.023237,
     "end_time": "2025-03-26T09:47:13.749780",
     "exception": false,
     "start_time": "2025-03-26T09:47:13.726543",
     "status": "completed"
    },
    "tags": []
   },
   "outputs": [
    {
     "name": "stdout",
     "output_type": "stream",
     "text": [
      "1.0\n"
     ]
    }
   ],
   "source": [
    "print(roc_auc)"
   ]
  },
  {
   "cell_type": "code",
   "execution_count": 38,
   "id": "f26197f1",
   "metadata": {
    "execution": {
     "iopub.execute_input": "2025-03-26T09:47:13.782773Z",
     "iopub.status.busy": "2025-03-26T09:47:13.782394Z",
     "iopub.status.idle": "2025-03-26T09:47:13.789126Z",
     "shell.execute_reply": "2025-03-26T09:47:13.788110Z"
    },
    "papermill": {
     "duration": 0.025163,
     "end_time": "2025-03-26T09:47:13.790865",
     "exception": false,
     "start_time": "2025-03-26T09:47:13.765702",
     "status": "completed"
    },
    "tags": []
   },
   "outputs": [
    {
     "data": {
      "text/plain": [
       "array([1.02281468e-05, 1.00112889e-05, 1.02180441e-05])"
      ]
     },
     "execution_count": 38,
     "metadata": {},
     "output_type": "execute_result"
    }
   ],
   "source": [
    "final_pred = final_pred[:,1]\n",
    "final_pred"
   ]
  },
  {
   "cell_type": "code",
   "execution_count": 39,
   "id": "80f98abf",
   "metadata": {
    "execution": {
     "iopub.execute_input": "2025-03-26T09:47:13.824233Z",
     "iopub.status.busy": "2025-03-26T09:47:13.823871Z",
     "iopub.status.idle": "2025-03-26T09:47:13.836463Z",
     "shell.execute_reply": "2025-03-26T09:47:13.835556Z"
    },
    "papermill": {
     "duration": 0.031213,
     "end_time": "2025-03-26T09:47:13.838149",
     "exception": false,
     "start_time": "2025-03-26T09:47:13.806936",
     "status": "completed"
    },
    "tags": []
   },
   "outputs": [
    {
     "data": {
      "text/html": [
       "<div>\n",
       "<style scoped>\n",
       "    .dataframe tbody tr th:only-of-type {\n",
       "        vertical-align: middle;\n",
       "    }\n",
       "\n",
       "    .dataframe tbody tr th {\n",
       "        vertical-align: top;\n",
       "    }\n",
       "\n",
       "    .dataframe thead th {\n",
       "        text-align: right;\n",
       "    }\n",
       "</style>\n",
       "<table border=\"1\" class=\"dataframe\">\n",
       "  <thead>\n",
       "    <tr style=\"text-align: right;\">\n",
       "      <th></th>\n",
       "      <th>isic_id</th>\n",
       "      <th>0</th>\n",
       "    </tr>\n",
       "  </thead>\n",
       "  <tbody>\n",
       "    <tr>\n",
       "      <th>0</th>\n",
       "      <td>ISIC_0015657</td>\n",
       "      <td>0.00001</td>\n",
       "    </tr>\n",
       "    <tr>\n",
       "      <th>1</th>\n",
       "      <td>ISIC_0015729</td>\n",
       "      <td>0.00001</td>\n",
       "    </tr>\n",
       "    <tr>\n",
       "      <th>2</th>\n",
       "      <td>ISIC_0015740</td>\n",
       "      <td>0.00001</td>\n",
       "    </tr>\n",
       "  </tbody>\n",
       "</table>\n",
       "</div>"
      ],
      "text/plain": [
       "        isic_id        0\n",
       "0  ISIC_0015657  0.00001\n",
       "1  ISIC_0015729  0.00001\n",
       "2  ISIC_0015740  0.00001"
      ]
     },
     "execution_count": 39,
     "metadata": {},
     "output_type": "execute_result"
    }
   ],
   "source": [
    "sub_df = pd.concat([X_test['isic_id'],pd.Series(final_pred)],axis=1)\n",
    "sub_df.head()"
   ]
  },
  {
   "cell_type": "code",
   "execution_count": 40,
   "id": "f569a3b2",
   "metadata": {
    "execution": {
     "iopub.execute_input": "2025-03-26T09:47:13.871478Z",
     "iopub.status.busy": "2025-03-26T09:47:13.871109Z",
     "iopub.status.idle": "2025-03-26T09:47:13.885907Z",
     "shell.execute_reply": "2025-03-26T09:47:13.884992Z"
    },
    "papermill": {
     "duration": 0.033653,
     "end_time": "2025-03-26T09:47:13.887905",
     "exception": false,
     "start_time": "2025-03-26T09:47:13.854252",
     "status": "completed"
    },
    "tags": []
   },
   "outputs": [],
   "source": [
    "sub_df.to_csv('submission.csv', index=False)"
   ]
  },
  {
   "cell_type": "code",
   "execution_count": null,
   "id": "cc012162",
   "metadata": {
    "papermill": {
     "duration": 0.015789,
     "end_time": "2025-03-26T09:47:13.920294",
     "exception": false,
     "start_time": "2025-03-26T09:47:13.904505",
     "status": "completed"
    },
    "tags": []
   },
   "outputs": [],
   "source": []
  }
 ],
 "metadata": {
  "kaggle": {
   "accelerator": "none",
   "dataSources": [
    {
     "databundleVersionId": 9094797,
     "sourceId": 63056,
     "sourceType": "competition"
    }
   ],
   "dockerImageVersionId": 30822,
   "isGpuEnabled": false,
   "isInternetEnabled": false,
   "language": "python",
   "sourceType": "notebook"
  },
  "kernelspec": {
   "display_name": "Python 3",
   "language": "python",
   "name": "python3"
  },
  "language_info": {
   "codemirror_mode": {
    "name": "ipython",
    "version": 3
   },
   "file_extension": ".py",
   "mimetype": "text/x-python",
   "name": "python",
   "nbconvert_exporter": "python",
   "pygments_lexer": "ipython3",
   "version": "3.10.12"
  },
  "papermill": {
   "default_parameters": {},
   "duration": 4702.216882,
   "end_time": "2025-03-26T09:47:16.905290",
   "environment_variables": {},
   "exception": null,
   "input_path": "__notebook__.ipynb",
   "output_path": "__notebook__.ipynb",
   "parameters": {},
   "start_time": "2025-03-26T08:28:54.688408",
   "version": "2.6.0"
  }
 },
 "nbformat": 4,
 "nbformat_minor": 5
}
